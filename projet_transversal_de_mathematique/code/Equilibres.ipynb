{
 "cells": [
  {
   "cell_type": "code",
   "execution_count": null,
   "metadata": {},
   "outputs": [],
   "source": [
    "# Import de modules neccessaires\n",
    "from numpy import ndarray , array ,\n",
    "from scipy.optimize import fsolve"
   ]
  },
  {
   "cell_type": "code",
   "execution_count": null,
   "metadata": {},
   "outputs": [],
   "source": [
    "def eq(x:ndarray[float],E:float,Rg:float,Rw:float)->ndarray[float]:\n",
    "    \"\"\"Equation qui représente le système d'équations à résoudre pour trouver l\n",
    "    'équilibre entre les deux phases\n",
    "\n",
    "    Args:\n",
    "        x (ndarray[float]): _description_\n",
    "        E (float): _description_\n",
    "        Rg (float): _description_\n",
    "        Rw (float): _description_\n",
    "\n",
    "    Returns:\n",
    "        ndarray[float]: _description_\n",
    "    \"\"\"\n",
    "    alpha = (E+x[0])/(0.31*E + x[0])\n",
    "\n",
    "    return array([Rg*x[0](1-x[0] - 0.6*x[1]*alpha),\n",
    "\n",
    "                     Rw*x[1](1 - x[1] - 1.07*x[0]/alpha)])"
   ]
  },
  {
   "cell_type": "code",
   "execution_count": null,
   "metadata": {},
   "outputs": [],
   "source": [
    "def equilibre(f:callable ,E:float, Rg:float , Rw:float)->list[ndarray[float]]:\n",
    "    \"\"\" Determine les équilibres du système\n",
    "\n",
    "    Args:\n",
    "        F (callable): Fontion qui représente le système d'équations\n",
    "        E , Rg , Rw (float): paramètres du système\n",
    "\n",
    "    Returns:\n",
    "        _ (list[ndarray[float]]): tableau des equilibres\n",
    "    \"\"\"\n",
    "    x0 = array([0.5,0.5])\n",
    "    x = fsolve(f,x0,args=(E,Rg,Rw))\n",
    "    return x"
   ]
  },
  {
   "cell_type": "code",
   "execution_count": null,
   "metadata": {},
   "outputs": [],
   "source": [
    "Rg , Rw = 0.27 , 0.4\n",
    "\n",
    "E = [0 , 0.1 , 0.3 ,0.4]\n",
    "\n",
    "Equi = [equilibre(eq,Ei,Rg,Rw) for Ei in E]\n",
    "\n",
    "header =f\"|{E}:^10|g||\""
   ]
  }
 ],
 "metadata": {
  "kernelspec": {
   "display_name": "Python 3",
   "language": "python",
   "name": "python3"
  },
  "language_info": {
   "codemirror_mode": {
    "name": "ipython",
    "version": 3
   },
   "file_extension": ".py",
   "mimetype": "text/x-python",
   "name": "python",
   "nbconvert_exporter": "python",
   "pygments_lexer": "ipython3",
   "version": "3.13.2"
  }
 },
 "nbformat": 4,
 "nbformat_minor": 2
}
