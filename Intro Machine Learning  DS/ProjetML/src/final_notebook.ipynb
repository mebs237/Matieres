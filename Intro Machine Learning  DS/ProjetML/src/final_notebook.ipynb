{
  "cells": [
    {
      "cell_type": "markdown",
      "metadata": {
        "id": "x4DUj3n8UG8K"
      },
      "source": [
        "# Projet de Machine Learning  UMONS 2024-2025\n",
        "\n",
        "### Thème : Prédiction du score de Macron aux 2nd Tour des éléctions 2022\n",
        "\n",
        "----"
      ]
    },
    {
      "cell_type": "markdown",
      "metadata": {
        "id": "74V_oeHHUG8N"
      },
      "source": [
        "# Configuration et Installation des Dépendances\n",
        "\n",
        "----"
      ]
    },
    {
      "cell_type": "markdown",
      "metadata": {},
      "source": [
        "## a. importation des bibliothèques et dépendance"
      ]
    },
    {
      "cell_type": "code",
      "execution_count": null,
      "metadata": {
        "colab": {
          "base_uri": "https://localhost:8080/"
        },
        "id": "PEWYuyMOzQNP",
        "outputId": "bcb12dcf-ad95-4139-978b-cbeca95035a4"
      },
      "outputs": [],
      "source": [
        "# @title manipulation des vecteurs\n",
        "import pandas as pd\n",
        "import numpy as np\n",
        "\n",
        "# @title création des graphiques\n",
        "import matplotlib.pyplot as plt\n",
        "import seaborn as sns\n",
        "import matplotlib.ticker as mtick\n",
        "from tqdm import tqdm\n",
        "\n",
        "# @title prétraitement des données en masse\n",
        "from sklearn.preprocessing import OneHotEncoder, RobustScaler , FunctionTransformer\n",
        "from sklearn.compose import ColumnTransformer , make_column_transformer\n",
        "from sklearn.pipeline import Pipeline\n",
        "from sklearn.impute import SimpleImputer\n",
        "\n",
        "# @title selection des features\n",
        "from collections import defaultdict\n",
        "from sklearn.feature_selection import SelectFromModel\n",
        "from functools import lru_cache\n",
        "from sklearn.ensemble import RandomForestRegressor\n",
        "from sklearn.linear_model import LassoCV\n"
      ]
    },
    {
      "cell_type": "code",
      "execution_count": null,
      "metadata": {},
      "outputs": [],
      "source": [
        "\n",
        "# @title sélection du meilleur modèle\n",
        "from sklearn.model_selection import train_test_split, KFold, cross_val_score , RepeatedKFold\n",
        "from typing import Dict, Tuple , List\n",
        "from sklearn.base import clone\n"
      ]
    },
    {
      "cell_type": "code",
      "execution_count": 307,
      "metadata": {},
      "outputs": [],
      "source": [
        "from sklearn.model_selection import GridSearchCV , RandomizedSearchCV\n"
      ]
    },
    {
      "cell_type": "code",
      "execution_count": null,
      "metadata": {},
      "outputs": [],
      "source": [
        "\n",
        "\n",
        "# @title fonction de score et evaluation\n",
        "from scipy import stats\n",
        "from sklearn.metrics import root_mean_squared_error, r2_score ,mean_absolute_error\n",
        "\n",
        "\n",
        "\n",
        "# @title initialisation des modèles\n",
        "from sklearn.linear_model import ElasticNet , Lasso\n",
        "from xgboost import XGBRegressor\n",
        "\n",
        "# @title options sytèmes\n",
        "import os\n",
        "import sys\n",
        "import joblib\n",
        "import json\n",
        "import warnings\n",
        "import glob\n",
        "import re\n",
        "from IPython.display import Markdown, display\n",
        "from os.path import join\n"
      ]
    },
    {
      "cell_type": "markdown",
      "metadata": {
        "cellView": "form",
        "id": "l86laxxtXd-J",
        "outputId": "dcd4e186-9dbc-4dbc-d534-96322e33c6ea"
      },
      "source": [
        "## b. Configuration\n"
      ]
    },
    {
      "cell_type": "code",
      "execution_count": 13,
      "metadata": {
        "colab": {
          "base_uri": "https://localhost:8080/"
        },
        "id": "HR0LDcONneTl",
        "outputId": "4c1c9706-d16d-409f-9b74-2229f8f7c8cb"
      },
      "outputs": [
        {
          "name": "stdout",
          "output_type": "stream",
          "text": [
            "chargement des bibliothèques terminé\n"
          ]
        }
      ],
      "source": [
        "#Pour ignorer les warnings\n",
        "warnings.filterwarnings('ignore')\n",
        "\n",
        "# configuration des graphiques\n",
        "plt.style.use('seaborn-v0_8-whitegrid')\n",
        "plt.rcParams['figure.figsize'] = (12, 8)\n",
        "sns.set_palette('Set2')\n",
        "\n",
        "# Pour une meilleure lisibilité dans le notebook\n",
        "pd.set_option('display.max_columns', None)\n",
        "pd.set_option('display.max_rows', None)\n",
        "pd.set_option('display.float_format', '{:.3f}'.format)\n",
        "\n",
        "print(\"chargement des bibliothèques terminé\")"
      ]
    },
    {
      "cell_type": "markdown",
      "metadata": {
        "id": "0VJxyPKWSya9"
      },
      "source": [
        "## c. Constantes"
      ]
    },
    {
      "cell_type": "code",
      "execution_count": 14,
      "metadata": {
        "id": "oFKQKuWfSya9"
      },
      "outputs": [],
      "source": [
        "# @title Paramètres globaux\n",
        "MISSINGTHRESHOLD = 60 # @param {\"type\":\"integer\"}\n",
        "RANDOM_STATE = 42 # @param {\"type\":\"integer\"}\n",
        "IDs= [] # @param {type:\"raw\"}"
      ]
    },
    {
      "cell_type": "markdown",
      "metadata": {
        "id": "f7CvwbxZSya9"
      },
      "source": [
        "## d. Fonctions utilitaires"
      ]
    },
    {
      "cell_type": "code",
      "execution_count": null,
      "metadata": {
        "cellView": "form",
        "id": "1eqgTCBloy3C"
      },
      "outputs": [],
      "source": [
        "# @title Utilitaires\n",
        "\n",
        "def sep(lg=90):\n",
        "    \"\"\"Affiche une ligne de séparation\"\"\"\n",
        "    print(\"\\n\" + \"-\"*lg + \"\\n\")\n",
        "\n",
        "def sub(l1,l2):\n",
        "  \"\"\"Retourne la liste des éléments de l1 qui ne sont pas dans l2\"\"\"\n",
        "  return [x for x in l1 if x not in l2]\n",
        "\n",
        "def get_columns_above_missing_threshold(df, threshold:int=MISSINGTHRESHOLD):\n",
        "    \"\"\"\n",
        "    Identifie les colonnes ayant un pourcentage de valeurs manquantes supérieur au seuil spécifié.\n",
        "\n",
        "    Args:\n",
        "        df (pandas.DataFrame): Le DataFrame à analyser\n",
        "        threshold (float): Le seuil en pourcentage (entre 0 et 100) au-delà duquel une colonne est considérée\n",
        "                          comme ayant trop de valeurs manquantes. Par défaut : 50\n",
        "\n",
        "    Returns:\n",
        "        list: Liste des noms de colonnes dont le pourcentage de valeurs manquantes dépasse le seuil,\n",
        "              triée par pourcentage décroissant\n",
        "    \"\"\"\n",
        "    # Vérification que le seuil est valide\n",
        "    if not 0 <= threshold <= 100:\n",
        "        raise ValueError(\"Le seuil doit être compris entre 0 et 100\")\n",
        "\n",
        "    # Calcul du pourcentage de valeurs manquantes par colonne\n",
        "    missing_percentages = (df.isnull().sum() / len(df)) * 100\n",
        "\n",
        "    # Sélection des colonnes dépassant le seuil\n",
        "    columns_above_threshold = missing_percentages[missing_percentages > threshold]\n",
        "\n",
        "    # Tri par pourcentage décroissant\n",
        "    columns_above_threshold = columns_above_threshold.sort_values(ascending=False)\n",
        "\n",
        "    # Création d'un DataFrame avec les colonnes et leurs pourcentages\n",
        "    \"\"\"result_df = pd.DataFrame({\n",
        "        'Colonne': columns_above_threshold.index,\n",
        "        'Pourcentage de valeurs manquantes': columns_above_threshold.values\n",
        "    })\"\"\"\n",
        "\n",
        "    return  columns_above_threshold.index.to_list() , pd.DataFrame(columns_above_threshold)\n",
        "\n",
        "def visualise(df):\n",
        "  print(f\"forme : {df.shape}\")\n",
        "\n",
        "def all_columns(df, res=True):\n",
        "  all_col = df.columns.tolist()\n",
        "  print(f\"les colonnes sont : \\n{df.columns}\")\n",
        "  print(f\" il y'a {len(all_col)} colonnes dans le dataframe\")\n",
        "  sep()\n",
        "  if res:\n",
        "    return all_col\n",
        "  else:\n",
        "    return None\n",
        "\n",
        "def get_analyse(data , id , col_to_drop , res =True):\n",
        "\n",
        "    df= data.copy()\n",
        "    all_col = df.columns.tolist()\n",
        "    col_to_keep = sub(all_col,col_to_drop)\n",
        "    to_holes,_ = get_columns_above_missing_threshold(df[col_to_keep])\n",
        "    col_to_keep2 = sub(col_to_keep,to_holes)\n",
        "    IDs.append(id)\n",
        "    if res:\n",
        "      return col_to_keep2 , to_holes\n",
        "    else:\n",
        "      return None\n",
        "\n",
        "def write_markdown_conclusion(id_colonne, colonnes_manquantes, colonnes_supprimer, colonnes_conserver):\n",
        "    \"\"\"\n",
        "    Génère une section Markdown pour la conclusion de l'analyse d'un DataFrame.\n",
        "\n",
        "    Args:\n",
        "        id_colonne (str): Nom de la colonne d'identification.\n",
        "        colonnes_manquantes (list): Liste des colonnes avec un fort taux de valeurs manquantes.\n",
        "        colonnes_supprimer (list): Liste des colonnes à supprimer.\n",
        "        colonnes_conserver (list): Liste des colonnes à conserver.\n",
        "    \"\"\"\n",
        "\n",
        "    markdown_text = f\"\"\"\n",
        "#### Conclusion\n",
        "\n",
        "* _Identifiant_ : ``'{id_colonne}'``\n",
        "\n",
        "* _Colonnes avec plus de {MISSINGTHRESHOLD}% de valeurs manquantes_ : ``{colonnes_manquantes}``\n",
        "\n",
        "* _Colonnes à supprimer_ : ``{colonnes_supprimer}``\n",
        "\n",
        "* _Colonnes à conserver_ : ``{colonnes_conserver}``\n",
        "\n",
        "----\n",
        "\"\"\"\n",
        "    display(Markdown(markdown_text))\n",
        "\n",
        "def display_correlation_matrix(df, save=False, name=None, table=False, target=None, threshold=0.5):\n",
        "    \"\"\"\n",
        "    Affiche la matrice de corrélation entre les colonnes numériques du DataFrame.\n",
        "    \"\"\"\n",
        "    t_in = (target in df.columns)\n",
        "    num_cols = df.select_dtypes(include=[np.number]).columns\n",
        "\n",
        "    if len(num_cols) == 0:\n",
        "        raise ValueError(\"Aucune colonne numérique trouvée dans le DataFrame.\")\n",
        "\n",
        "    if (target is not None) and t_in:\n",
        "        num_cols = [target] + [col for col in num_cols if col != target]\n",
        "\n",
        "    corr_matrix = df[num_cols].corr()\n",
        "\n",
        "    # Correction de la création du masque triangulaire\n",
        "    upper = corr_matrix.where(np.triu(np.ones(corr_matrix.shape), k=1).astype(bool))\n",
        "\n",
        "    # Correction de la ligne problématique\n",
        "    filtered_corr = upper[\n",
        "        (upper.abs() > threshold) &\n",
        "        (upper != 1.0)\n",
        "    ].dropna(how='all', axis=0).dropna(axis=1, how='all')\n",
        "\n",
        "    if table:\n",
        "        display(filtered_corr)\n",
        "    else:\n",
        "        plt.figure(figsize=(12, 10))\n",
        "        sns.heatmap(upper, annot=True, cmap=\"RdBu\")\n",
        "        plt.show()\n",
        "\n",
        "\n"
      ]
    },
    {
      "cell_type": "markdown",
      "metadata": {
        "id": "jCiAJj37UG8P"
      },
      "source": [
        "# 1. EXPLORATION DES DONNEES\n",
        "\n",
        "----"
      ]
    },
    {
      "cell_type": "markdown",
      "metadata": {
        "id": "1YN4dXiS-mkI"
      },
      "source": [
        "\n",
        "Le but ici c'est d'essayer de comprendre  les données , c'est pouvoir repondre aux questions :\n",
        "* Quelles sont les données visiblement non-pertinentes ?\n",
        "* Detecter les outliers ?\n",
        "* Vérifier le taux de valeurs manquantes\n",
        "* regrouper les informations en indices synthétiques\n",
        "\n",
        "----"
      ]
    },
    {
      "cell_type": "markdown",
      "metadata": {
        "id": "VxY6oi4VUG8P"
      },
      "source": [
        "## 1.1 Chargement des données"
      ]
    },
    {
      "cell_type": "code",
      "execution_count": 99,
      "metadata": {
        "colab": {
          "base_uri": "https://localhost:8080/"
        },
        "id": "_4-a9liSSya_",
        "outputId": "622b9bdc-69c9-41eb-dea9-68ad32267008"
      },
      "outputs": [
        {
          "name": "stdout",
          "output_type": "stream",
          "text": [
            "debut du chargement des données ... .. ... ..\n",
            "WARNING *** OLE2 inconsistency: SSCS size is 0 but SSAT size is non-zero\n",
            "chargement des données terminé !! \n"
          ]
        }
      ],
      "source": [
        "data_path = \"datasets\"\n",
        "print(\"debut du chargement des données ... .. ... ..\")\n",
        "\n",
        "# Chargement des données de d'entrainement et de test\n",
        "result_train = pd.read_csv( os.path.join(data_path,\"results_train.csv\") , sep = ',',encoding='utf-8')\n",
        "result_test = pd.read_csv( os.path.join(data_path,\"results_test.csv\") , sep = ',',encoding='utf-8')\n",
        "\n",
        "res_train_df = result_train.copy()\n",
        "res_test_df = result_test.copy()\n",
        "\n",
        "#  Niveau de vie\n",
        "niveau_vie = pd.read_excel(os.path.join(data_path, \"Niveau_de_vie_2013_a_la_commune.xlsx\"))\n",
        "niveau_vie_df = niveau_vie.copy()\n",
        "\n",
        "#  Communes de France\n",
        "communes_france = pd.read_csv(os.path.join(data_path, \"communes-france-2022.csv\"), sep=',', encoding='utf-8')\n",
        "communes_df = communes_france.copy()\n",
        "\n",
        "#  Données d'âge\n",
        "age_insee = pd.read_excel(os.path.join(data_path, \"age-insee-2020.xlsx\"))\n",
        "age_df = age_insee.copy()\n",
        "\n",
        "# Données diverses INSEE\n",
        "insee_divers = pd.read_excel(os.path.join(data_path, \"MDB-INSEE-V2.xls\"))\n",
        "insee_divers_df = insee_divers.copy()\n",
        "\n",
        "print(\"chargement des données terminé !! \")"
      ]
    },
    {
      "cell_type": "markdown",
      "metadata": {
        "id": "PGWVcP42UG8Q"
      },
      "source": [
        "## 1.2 Pré-Analyse  et Pré-Selection des Features"
      ]
    },
    {
      "cell_type": "code",
      "execution_count": 117,
      "metadata": {
        "cellView": "form",
        "id": "dpzBSJElb34y"
      },
      "outputs": [],
      "source": [
        "# @title colonne cible\n",
        "target = '% Voix/Ins' # @param {type:\"string\"}"
      ]
    },
    {
      "cell_type": "markdown",
      "metadata": {},
      "source": [
        "## fonctions d'analyse"
      ]
    },
    {
      "cell_type": "code",
      "execution_count": null,
      "metadata": {},
      "outputs": [],
      "source": [
        "def display_correlation_matrix(df, save=False, name=None, table=False, target=None, threshold=0.5):\n",
        "    \"\"\"\n",
        "    Affiche la matrice de corrélation entre les colonnes numériques du DataFrame.\n",
        "    \"\"\"\n",
        "    t_in = (target in df.columns)\n",
        "    num_cols = df.select_dtypes(include=[np.number]).columns\n",
        "\n",
        "    if len(num_cols) == 0:\n",
        "        raise ValueError(\"Aucune colonne numérique trouvée dans le DataFrame.\")\n",
        "\n",
        "    if (target is not None) and t_in:\n",
        "        num_cols = [target] + [col for col in num_cols if col != target]\n",
        "\n",
        "    corr_matrix = df[num_cols].corr()\n",
        "\n",
        "    # Correction de la création du masque triangulaire\n",
        "    upper = corr_matrix.where(np.triu(np.ones(corr_matrix.shape), k=1).astype(bool))\n",
        "\n",
        "    # Correction de la ligne problématique\n",
        "    filtered_corr = upper[\n",
        "        (upper.abs() > threshold) &\n",
        "        (upper != 1.0)\n",
        "    ].dropna(how='all', axis=0).dropna(axis=1, how='all')\n",
        "\n",
        "    if table:\n",
        "        display(filtered_corr)\n",
        "    else:\n",
        "        plt.figure(figsize=(12, 10))\n",
        "        sns.heatmap(upper, annot=True, cmap=\"RdBu\")\n",
        "        plt.show()\n",
        "\n",
        "\n",
        "def plot_highly_correlated_groups(df, target=None, threshold=0.9):\n",
        "    features = df.drop(columns=[target]) if target in df.columns else df.copy()\n",
        "    corr_matrix = features.corr().abs()\n",
        "\n",
        "    grouped = set()\n",
        "    groups = []\n",
        "\n",
        "    # Construction des groupes\n",
        "    for col in corr_matrix.columns:\n",
        "        if col in grouped:\n",
        "            continue\n",
        "        correlated = set(corr_matrix.index[corr_matrix[col] > threshold])\n",
        "        correlated.add(col)\n",
        "        grouped.update(correlated)\n",
        "\n",
        "        # Déterminer le représentant\n",
        "        if target and target in df.columns:\n",
        "            rep = max(correlated, key=lambda x: abs(df[x].corr(df[target])))\n",
        "        else:\n",
        "            if not groups:\n",
        "                rep = col\n",
        "            else:\n",
        "                rep_scores = {}\n",
        "                for var in correlated:\n",
        "                    corr_with_others = [\n",
        "                        abs(df[var].corr(df[other]))\n",
        "                        for g in groups for other in g['members']\n",
        "                        if abs(df[var].corr(df[other])) > threshold\n",
        "                    ]\n",
        "                    rep_scores[var] = np.mean(corr_with_others) if corr_with_others else 0\n",
        "                rep = min(rep_scores, key=rep_scores.get)\n",
        "\n",
        "        groups.append({'representative': rep, 'members': correlated})\n",
        "\n",
        "    # Visualisation avec networkx\n",
        "    G = nx.Graph()\n",
        "\n",
        "    color_map = []\n",
        "    node_labels = {}\n",
        "    color_palette = plt.cm.get_cmap('tab10', len(groups))\n",
        "\n",
        "    for idx, group in enumerate(groups):\n",
        "        color = color_palette(idx)\n",
        "        for col in group['members']:\n",
        "            G.add_node(col)\n",
        "            color_map.append(color)\n",
        "            node_labels[col] = f\"**{col}**\" if col == group['representative'] else col\n",
        "        for col1 in group['members']:\n",
        "            for col2 in group['members']:\n",
        "                if col1 != col2:\n",
        "                    G.add_edge(col1, col2)\n",
        "\n",
        "    pos = nx.spring_layout(G, seed=42)\n",
        "    plt.figure(figsize=(12, 8))\n",
        "    nx.draw(G, pos, node_color=color_map, with_labels=True, font_weight='bold', node_size=1000)\n",
        "    plt.title(\"Groupes de variables fortement corrélées (> {:.2f})\".format(threshold))\n",
        "    plt.show()\n",
        "\n",
        "    return [g['representative'] for g in groups]\n"
      ]
    },
    {
      "cell_type": "markdown",
      "metadata": {
        "id": "2OdTiFiNneTn"
      },
      "source": [
        "### results_train"
      ]
    },
    {
      "cell_type": "code",
      "execution_count": 118,
      "metadata": {
        "cellView": "form",
        "collapsed": true,
        "id": "sauBteSqoi6T"
      },
      "outputs": [
        {
          "name": "stdout",
          "output_type": "stream",
          "text": [
            "forme : (20892, 32)\n"
          ]
        },
        {
          "data": {
            "application/vnd.microsoft.datawrangler.viewer.v0+json": {
              "columns": [
                {
                  "name": "index",
                  "rawType": "int64",
                  "type": "integer"
                },
                {
                  "name": "CodeINSEE",
                  "rawType": "object",
                  "type": "string"
                },
                {
                  "name": "Libellé du département",
                  "rawType": "object",
                  "type": "string"
                },
                {
                  "name": "Libellé de la commune",
                  "rawType": "object",
                  "type": "string"
                },
                {
                  "name": "Etat saisie",
                  "rawType": "object",
                  "type": "string"
                },
                {
                  "name": "Inscrits",
                  "rawType": "int64",
                  "type": "integer"
                },
                {
                  "name": "Abstentions",
                  "rawType": "int64",
                  "type": "integer"
                },
                {
                  "name": "% Abs/Ins",
                  "rawType": "float64",
                  "type": "float"
                },
                {
                  "name": "Votants",
                  "rawType": "int64",
                  "type": "integer"
                },
                {
                  "name": "% Vot/Ins",
                  "rawType": "float64",
                  "type": "float"
                },
                {
                  "name": "Blancs",
                  "rawType": "int64",
                  "type": "integer"
                },
                {
                  "name": "% Blancs/Ins",
                  "rawType": "float64",
                  "type": "float"
                },
                {
                  "name": "% Blancs/Vot",
                  "rawType": "float64",
                  "type": "float"
                },
                {
                  "name": "Nuls",
                  "rawType": "int64",
                  "type": "integer"
                },
                {
                  "name": "% Nuls/Ins",
                  "rawType": "float64",
                  "type": "float"
                },
                {
                  "name": "% Nuls/Vot",
                  "rawType": "float64",
                  "type": "float"
                },
                {
                  "name": "Exprimés",
                  "rawType": "int64",
                  "type": "integer"
                },
                {
                  "name": "% Exp/Ins",
                  "rawType": "float64",
                  "type": "float"
                },
                {
                  "name": "% Exp/Vot",
                  "rawType": "float64",
                  "type": "float"
                },
                {
                  "name": "N°Panneau",
                  "rawType": "int64",
                  "type": "integer"
                },
                {
                  "name": "Sexe",
                  "rawType": "object",
                  "type": "string"
                },
                {
                  "name": "Nom",
                  "rawType": "object",
                  "type": "string"
                },
                {
                  "name": "Prénom",
                  "rawType": "object",
                  "type": "string"
                },
                {
                  "name": "Voix",
                  "rawType": "int64",
                  "type": "integer"
                },
                {
                  "name": "% Voix/Ins",
                  "rawType": "float64",
                  "type": "float"
                },
                {
                  "name": "% Voix/Exp",
                  "rawType": "float64",
                  "type": "float"
                },
                {
                  "name": "Unnamed: 26",
                  "rawType": "int64",
                  "type": "integer"
                },
                {
                  "name": "Unnamed: 27",
                  "rawType": "object",
                  "type": "string"
                },
                {
                  "name": "Unnamed: 28",
                  "rawType": "object",
                  "type": "string"
                },
                {
                  "name": "Unnamed: 29",
                  "rawType": "object",
                  "type": "string"
                },
                {
                  "name": "Unnamed: 30",
                  "rawType": "int64",
                  "type": "integer"
                },
                {
                  "name": "Unnamed: 31",
                  "rawType": "float64",
                  "type": "float"
                },
                {
                  "name": "Unnamed: 32",
                  "rawType": "float64",
                  "type": "float"
                }
              ],
              "conversionMethod": "pd.DataFrame",
              "ref": "7261dd0a-e25c-4f0d-9f59-41c29ed04f0e",
              "rows": [
                [
                  "0",
                  "01006",
                  "Ain",
                  "Ambléon",
                  "Complet",
                  "103",
                  "19",
                  "18.45",
                  "84",
                  "81.55",
                  "12",
                  "11.65",
                  "14.29",
                  "0",
                  "0.0",
                  "0.0",
                  "72",
                  "69.9",
                  "85.71",
                  "1",
                  "M",
                  "MACRON",
                  "Emmanuel",
                  "45",
                  "43.69",
                  "62.5",
                  "2",
                  "F",
                  "LE PEN",
                  "Marine",
                  "27",
                  "26.21",
                  "37.5"
                ],
                [
                  "1",
                  "01009",
                  "Ain",
                  "Andert-et-Condon",
                  "Complet",
                  "280",
                  "73",
                  "26.07",
                  "207",
                  "73.93",
                  "22",
                  "7.86",
                  "10.63",
                  "3",
                  "1.07",
                  "1.45",
                  "182",
                  "65.0",
                  "87.92",
                  "1",
                  "M",
                  "MACRON",
                  "Emmanuel",
                  "102",
                  "36.43",
                  "56.04",
                  "2",
                  "F",
                  "LE PEN",
                  "Marine",
                  "80",
                  "28.57",
                  "43.96"
                ],
                [
                  "2",
                  "01010",
                  "Ain",
                  "Anglefort",
                  "Complet",
                  "792",
                  "185",
                  "23.36",
                  "607",
                  "76.64",
                  "31",
                  "3.91",
                  "5.11",
                  "8",
                  "1.01",
                  "1.32",
                  "568",
                  "71.72",
                  "93.57",
                  "1",
                  "M",
                  "MACRON",
                  "Emmanuel",
                  "227",
                  "28.66",
                  "39.96",
                  "2",
                  "F",
                  "LE PEN",
                  "Marine",
                  "341",
                  "43.06",
                  "60.04"
                ]
              ],
              "shape": {
                "columns": 32,
                "rows": 3
              }
            },
            "text/html": [
              "<div>\n",
              "<style scoped>\n",
              "    .dataframe tbody tr th:only-of-type {\n",
              "        vertical-align: middle;\n",
              "    }\n",
              "\n",
              "    .dataframe tbody tr th {\n",
              "        vertical-align: top;\n",
              "    }\n",
              "\n",
              "    .dataframe thead th {\n",
              "        text-align: right;\n",
              "    }\n",
              "</style>\n",
              "<table border=\"1\" class=\"dataframe\">\n",
              "  <thead>\n",
              "    <tr style=\"text-align: right;\">\n",
              "      <th></th>\n",
              "      <th>CodeINSEE</th>\n",
              "      <th>Libellé du département</th>\n",
              "      <th>Libellé de la commune</th>\n",
              "      <th>Etat saisie</th>\n",
              "      <th>Inscrits</th>\n",
              "      <th>Abstentions</th>\n",
              "      <th>% Abs/Ins</th>\n",
              "      <th>Votants</th>\n",
              "      <th>% Vot/Ins</th>\n",
              "      <th>Blancs</th>\n",
              "      <th>% Blancs/Ins</th>\n",
              "      <th>% Blancs/Vot</th>\n",
              "      <th>Nuls</th>\n",
              "      <th>% Nuls/Ins</th>\n",
              "      <th>% Nuls/Vot</th>\n",
              "      <th>Exprimés</th>\n",
              "      <th>% Exp/Ins</th>\n",
              "      <th>% Exp/Vot</th>\n",
              "      <th>N°Panneau</th>\n",
              "      <th>Sexe</th>\n",
              "      <th>Nom</th>\n",
              "      <th>Prénom</th>\n",
              "      <th>Voix</th>\n",
              "      <th>% Voix/Ins</th>\n",
              "      <th>% Voix/Exp</th>\n",
              "      <th>Unnamed: 26</th>\n",
              "      <th>Unnamed: 27</th>\n",
              "      <th>Unnamed: 28</th>\n",
              "      <th>Unnamed: 29</th>\n",
              "      <th>Unnamed: 30</th>\n",
              "      <th>Unnamed: 31</th>\n",
              "      <th>Unnamed: 32</th>\n",
              "    </tr>\n",
              "  </thead>\n",
              "  <tbody>\n",
              "    <tr>\n",
              "      <th>0</th>\n",
              "      <td>01006</td>\n",
              "      <td>Ain</td>\n",
              "      <td>Ambléon</td>\n",
              "      <td>Complet</td>\n",
              "      <td>103</td>\n",
              "      <td>19</td>\n",
              "      <td>18.450</td>\n",
              "      <td>84</td>\n",
              "      <td>81.550</td>\n",
              "      <td>12</td>\n",
              "      <td>11.650</td>\n",
              "      <td>14.290</td>\n",
              "      <td>0</td>\n",
              "      <td>0.000</td>\n",
              "      <td>0.000</td>\n",
              "      <td>72</td>\n",
              "      <td>69.900</td>\n",
              "      <td>85.710</td>\n",
              "      <td>1</td>\n",
              "      <td>M</td>\n",
              "      <td>MACRON</td>\n",
              "      <td>Emmanuel</td>\n",
              "      <td>45</td>\n",
              "      <td>43.690</td>\n",
              "      <td>62.500</td>\n",
              "      <td>2</td>\n",
              "      <td>F</td>\n",
              "      <td>LE PEN</td>\n",
              "      <td>Marine</td>\n",
              "      <td>27</td>\n",
              "      <td>26.210</td>\n",
              "      <td>37.500</td>\n",
              "    </tr>\n",
              "    <tr>\n",
              "      <th>1</th>\n",
              "      <td>01009</td>\n",
              "      <td>Ain</td>\n",
              "      <td>Andert-et-Condon</td>\n",
              "      <td>Complet</td>\n",
              "      <td>280</td>\n",
              "      <td>73</td>\n",
              "      <td>26.070</td>\n",
              "      <td>207</td>\n",
              "      <td>73.930</td>\n",
              "      <td>22</td>\n",
              "      <td>7.860</td>\n",
              "      <td>10.630</td>\n",
              "      <td>3</td>\n",
              "      <td>1.070</td>\n",
              "      <td>1.450</td>\n",
              "      <td>182</td>\n",
              "      <td>65.000</td>\n",
              "      <td>87.920</td>\n",
              "      <td>1</td>\n",
              "      <td>M</td>\n",
              "      <td>MACRON</td>\n",
              "      <td>Emmanuel</td>\n",
              "      <td>102</td>\n",
              "      <td>36.430</td>\n",
              "      <td>56.040</td>\n",
              "      <td>2</td>\n",
              "      <td>F</td>\n",
              "      <td>LE PEN</td>\n",
              "      <td>Marine</td>\n",
              "      <td>80</td>\n",
              "      <td>28.570</td>\n",
              "      <td>43.960</td>\n",
              "    </tr>\n",
              "    <tr>\n",
              "      <th>2</th>\n",
              "      <td>01010</td>\n",
              "      <td>Ain</td>\n",
              "      <td>Anglefort</td>\n",
              "      <td>Complet</td>\n",
              "      <td>792</td>\n",
              "      <td>185</td>\n",
              "      <td>23.360</td>\n",
              "      <td>607</td>\n",
              "      <td>76.640</td>\n",
              "      <td>31</td>\n",
              "      <td>3.910</td>\n",
              "      <td>5.110</td>\n",
              "      <td>8</td>\n",
              "      <td>1.010</td>\n",
              "      <td>1.320</td>\n",
              "      <td>568</td>\n",
              "      <td>71.720</td>\n",
              "      <td>93.570</td>\n",
              "      <td>1</td>\n",
              "      <td>M</td>\n",
              "      <td>MACRON</td>\n",
              "      <td>Emmanuel</td>\n",
              "      <td>227</td>\n",
              "      <td>28.660</td>\n",
              "      <td>39.960</td>\n",
              "      <td>2</td>\n",
              "      <td>F</td>\n",
              "      <td>LE PEN</td>\n",
              "      <td>Marine</td>\n",
              "      <td>341</td>\n",
              "      <td>43.060</td>\n",
              "      <td>60.040</td>\n",
              "    </tr>\n",
              "  </tbody>\n",
              "</table>\n",
              "</div>"
            ],
            "text/plain": [
              "  CodeINSEE Libellé du département Libellé de la commune Etat saisie  \\\n",
              "0     01006                    Ain               Ambléon     Complet   \n",
              "1     01009                    Ain      Andert-et-Condon     Complet   \n",
              "2     01010                    Ain             Anglefort     Complet   \n",
              "\n",
              "   Inscrits  Abstentions  % Abs/Ins  Votants  % Vot/Ins  Blancs  % Blancs/Ins  \\\n",
              "0       103           19     18.450       84     81.550      12        11.650   \n",
              "1       280           73     26.070      207     73.930      22         7.860   \n",
              "2       792          185     23.360      607     76.640      31         3.910   \n",
              "\n",
              "   % Blancs/Vot  Nuls  % Nuls/Ins  % Nuls/Vot  Exprimés  % Exp/Ins  % Exp/Vot  \\\n",
              "0        14.290     0       0.000       0.000        72     69.900     85.710   \n",
              "1        10.630     3       1.070       1.450       182     65.000     87.920   \n",
              "2         5.110     8       1.010       1.320       568     71.720     93.570   \n",
              "\n",
              "   N°Panneau Sexe     Nom    Prénom  Voix  % Voix/Ins  % Voix/Exp  \\\n",
              "0          1    M  MACRON  Emmanuel    45      43.690      62.500   \n",
              "1          1    M  MACRON  Emmanuel   102      36.430      56.040   \n",
              "2          1    M  MACRON  Emmanuel   227      28.660      39.960   \n",
              "\n",
              "   Unnamed: 26 Unnamed: 27 Unnamed: 28 Unnamed: 29  Unnamed: 30  Unnamed: 31  \\\n",
              "0            2           F      LE PEN      Marine           27       26.210   \n",
              "1            2           F      LE PEN      Marine           80       28.570   \n",
              "2            2           F      LE PEN      Marine          341       43.060   \n",
              "\n",
              "   Unnamed: 32  \n",
              "0       37.500  \n",
              "1       43.960  \n",
              "2       60.040  "
            ]
          },
          "execution_count": 118,
          "metadata": {},
          "output_type": "execute_result"
        }
      ],
      "source": [
        "# @title visualisation\n",
        "visualise(res_train_df)\n",
        "\n",
        "res_train_df.head(3)"
      ]
    },
    {
      "cell_type": "code",
      "execution_count": 119,
      "metadata": {
        "cellView": "form",
        "collapsed": true,
        "id": "mg0k3FwRneTo"
      },
      "outputs": [
        {
          "name": "stdout",
          "output_type": "stream",
          "text": [
            "les colonnes sont : \n",
            "Index(['CodeINSEE', 'Libellé du département', 'Libellé de la commune',\n",
            "       'Etat saisie', 'Inscrits', 'Abstentions', '% Abs/Ins', 'Votants',\n",
            "       '% Vot/Ins', 'Blancs', '% Blancs/Ins', '% Blancs/Vot', 'Nuls',\n",
            "       '% Nuls/Ins', '% Nuls/Vot', 'Exprimés', '% Exp/Ins', '% Exp/Vot',\n",
            "       'N°Panneau', 'Sexe', 'Nom', 'Prénom', 'Voix', '% Voix/Ins',\n",
            "       '% Voix/Exp', 'Unnamed: 26', 'Unnamed: 27', 'Unnamed: 28',\n",
            "       'Unnamed: 29', 'Unnamed: 30', 'Unnamed: 31', 'Unnamed: 32'],\n",
            "      dtype='object')\n",
            " il y'a 32 colonnes dans le dataframe\n",
            "\n",
            "------------------------------------------------------------------------------------------\n",
            "\n"
          ]
        }
      ],
      "source": [
        "# @title affichage des colonnes\n",
        "all_col_train = all_columns(res_train_df)"
      ]
    },
    {
      "cell_type": "code",
      "execution_count": 120,
      "metadata": {
        "collapsed": true,
        "id": "k4cdKi25pmJw"
      },
      "outputs": [],
      "source": [
        "# présélection\n",
        "# colonnes clairement non informatives à supprimer\n",
        "col_to_drop_train = ['Unnamed: 27' ,'Unnamed: 26' , 'Unnamed: 28' ,\n",
        "                'Unnamed: 29' , 'Unnamed: 30','Unnamed: 31' ,\n",
        "                'Unnamed: 32' ,'Prénom','Sexe','Nom','N°Panneau','Libellé de la commune']\n",
        "\n",
        "id_train = 'CodeINSEE'\n",
        "\n",
        "col_to_keep1 , to_holes_train = get_analyse(res_train_df,id_train,col_to_drop_train)"
      ]
    },
    {
      "cell_type": "code",
      "execution_count": 121,
      "metadata": {},
      "outputs": [
        {
          "data": {
            "image/png": "[encoded data removed]",
            "text/plain": [
              "<Figure size 1200x1000 with 2 Axes>"
            ]
          },
          "metadata": {},
          "output_type": "display_data"
        }
      ],
      "source": [
        "\n",
        "display_correlation_matrix((res_train_df.copy()).drop(columns=col_to_drop_train+[id_train] , axis=1 , errors='ignore') , target=target,threshold=0.8)"
      ]
    },
    {
      "cell_type": "markdown",
      "metadata": {},
      "source": [
        "des variables restantes , on en remarque plusieurs très fortement corrélés entre eux , on détecte les groupes:\n",
        "* ``Inscrits , Exprimés , Votants`` sont linéairement  les même ``(coef_corr = 1)`` \n",
        "* "
      ]
    },
    {
      "cell_type": "code",
      "execution_count": 122,
      "metadata": {
        "collapsed": true,
        "id": "5HXsbklr4-Do"
      },
      "outputs": [
        {
          "data": {
            "text/markdown": [
              "\n",
              "#### Conclusion\n",
              "\n",
              "* _Identifiant_ : ``'CodeINSEE'``\n",
              "\n",
              "* _Colonnes avec plus de 60% de valeurs manquantes_ : ``[]``\n",
              "\n",
              "* _Colonnes à supprimer_ : ``['Unnamed: 27', 'Unnamed: 26', 'Unnamed: 28', 'Unnamed: 29', 'Unnamed: 30', 'Unnamed: 31', 'Unnamed: 32', 'Prénom', 'Sexe', 'Nom', 'N°Panneau', 'Libellé de la commune']``\n",
              "\n",
              "* _Colonnes à conserver_ : ``['CodeINSEE', 'Libellé du département', 'Etat saisie', 'Inscrits', 'Abstentions', '% Abs/Ins', 'Votants', '% Vot/Ins', 'Blancs', '% Blancs/Ins', '% Blancs/Vot', 'Nuls', '% Nuls/Ins', '% Nuls/Vot', 'Exprimés', '% Exp/Ins', '% Exp/Vot', 'Voix', '% Voix/Ins', '% Voix/Exp']``\n",
              "\n",
              "----\n"
            ],
            "text/plain": [
              "<IPython.core.display.Markdown object>"
            ]
          },
          "metadata": {},
          "output_type": "display_data"
        }
      ],
      "source": [
        "col_to_drop_train += []\n",
        "\n",
        "# @title conclusion\n",
        "write_markdown_conclusion(id_train, to_holes_train, col_to_drop_train, col_to_keep1)"
      ]
    },
    {
      "cell_type": "markdown",
      "metadata": {
        "id": "ww_frSK5neTo"
      },
      "source": [
        "### niveau de vie"
      ]
    },
    {
      "cell_type": "code",
      "execution_count": 123,
      "metadata": {
        "cellView": "form",
        "collapsed": true,
        "id": "WdpNVxKZ2WzD"
      },
      "outputs": [
        {
          "name": "stdout",
          "output_type": "stream",
          "text": [
            "forme : (36572, 4)\n"
          ]
        },
        {
          "data": {
            "application/vnd.microsoft.datawrangler.viewer.v0+json": {
              "columns": [
                {
                  "name": "index",
                  "rawType": "int64",
                  "type": "integer"
                },
                {
                  "name": "Code Commune",
                  "rawType": "object",
                  "type": "string"
                },
                {
                  "name": "Nom Commune",
                  "rawType": "object",
                  "type": "string"
                },
                {
                  "name": "Niveau de vie Commune",
                  "rawType": "float64",
                  "type": "float"
                },
                {
                  "name": "Niveau de vie Département",
                  "rawType": "float64",
                  "type": "float"
                }
              ],
              "conversionMethod": "pd.DataFrame",
              "ref": "ea5d877f-a841-40de-af60-95748179cd8b",
              "rows": [
                [
                  "0",
                  "05047",
                  "Éourres",
                  "10021.25",
                  "19202.51648"
                ],
                [
                  "1",
                  "26142",
                  "Glandage",
                  "10215.0",
                  "19300.504181"
                ],
                [
                  "2",
                  "11317",
                  "Rodome",
                  "10908.5",
                  "17599.733068"
                ]
              ],
              "shape": {
                "columns": 4,
                "rows": 3
              }
            },
            "text/html": [
              "<div>\n",
              "<style scoped>\n",
              "    .dataframe tbody tr th:only-of-type {\n",
              "        vertical-align: middle;\n",
              "    }\n",
              "\n",
              "    .dataframe tbody tr th {\n",
              "        vertical-align: top;\n",
              "    }\n",
              "\n",
              "    .dataframe thead th {\n",
              "        text-align: right;\n",
              "    }\n",
              "</style>\n",
              "<table border=\"1\" class=\"dataframe\">\n",
              "  <thead>\n",
              "    <tr style=\"text-align: right;\">\n",
              "      <th></th>\n",
              "      <th>Code Commune</th>\n",
              "      <th>Nom Commune</th>\n",
              "      <th>Niveau de vie Commune</th>\n",
              "      <th>Niveau de vie Département</th>\n",
              "    </tr>\n",
              "  </thead>\n",
              "  <tbody>\n",
              "    <tr>\n",
              "      <th>0</th>\n",
              "      <td>05047</td>\n",
              "      <td>Éourres</td>\n",
              "      <td>10021.250</td>\n",
              "      <td>19202.516</td>\n",
              "    </tr>\n",
              "    <tr>\n",
              "      <th>1</th>\n",
              "      <td>26142</td>\n",
              "      <td>Glandage</td>\n",
              "      <td>10215.000</td>\n",
              "      <td>19300.504</td>\n",
              "    </tr>\n",
              "    <tr>\n",
              "      <th>2</th>\n",
              "      <td>11317</td>\n",
              "      <td>Rodome</td>\n",
              "      <td>10908.500</td>\n",
              "      <td>17599.733</td>\n",
              "    </tr>\n",
              "  </tbody>\n",
              "</table>\n",
              "</div>"
            ],
            "text/plain": [
              "  Code Commune Nom Commune  Niveau de vie Commune  Niveau de vie Département\n",
              "0        05047     Éourres              10021.250                  19202.516\n",
              "1        26142    Glandage              10215.000                  19300.504\n",
              "2        11317      Rodome              10908.500                  17599.733"
            ]
          },
          "execution_count": 123,
          "metadata": {},
          "output_type": "execute_result"
        }
      ],
      "source": [
        "# @title visualisation\n",
        "visualise(niveau_vie_df)\n",
        "\n",
        "niveau_vie_df.head(3)"
      ]
    },
    {
      "cell_type": "code",
      "execution_count": 124,
      "metadata": {
        "collapsed": true,
        "id": "bHwUpeZQskkr"
      },
      "outputs": [
        {
          "name": "stdout",
          "output_type": "stream",
          "text": [
            "les colonnes sont : \n",
            "Index(['Code Commune', 'Nom Commune', 'Niveau de vie Commune',\n",
            "       'Niveau de vie Département'],\n",
            "      dtype='object')\n",
            " il y'a 4 colonnes dans le dataframe\n",
            "\n",
            "------------------------------------------------------------------------------------------\n",
            "\n"
          ]
        }
      ],
      "source": [
        "all_col_niveau_vie = all_columns(niveau_vie_df)\n"
      ]
    },
    {
      "cell_type": "code",
      "execution_count": 125,
      "metadata": {
        "cellView": "form",
        "collapsed": true,
        "id": "rvA-sahvjfSh"
      },
      "outputs": [],
      "source": [
        "# @title présélection\n",
        "# colonnes clairement non informatives à supprimer\n",
        "col_to_drop_niveau = []\n",
        "id_niveau = 'Code Commune'\n",
        "\n",
        "col_to_keep2 , to_holes_niveau = get_analyse(niveau_vie_df,id_niveau,col_to_drop_niveau)"
      ]
    },
    {
      "cell_type": "code",
      "execution_count": 126,
      "metadata": {},
      "outputs": [
        {
          "data": {
            "image/png": "[encoded data removed]",
            "text/plain": [
              "<Figure size 1200x1000 with 2 Axes>"
            ]
          },
          "metadata": {},
          "output_type": "display_data"
        }
      ],
      "source": [
        "display_correlation_matrix((niveau_vie_df.copy()).drop(columns=col_to_drop_niveau , axis=1 , errors = 'ignore'))"
      ]
    },
    {
      "cell_type": "markdown",
      "metadata": {},
      "source": [
        "rien à dire de particulier sur les variables , elle ne sont pas fortement corrélées"
      ]
    },
    {
      "cell_type": "code",
      "execution_count": 127,
      "metadata": {
        "cellView": "form",
        "collapsed": true,
        "id": "rk3ZUZHip3yq"
      },
      "outputs": [
        {
          "data": {
            "text/markdown": [
              "\n",
              "#### Conclusion\n",
              "\n",
              "* _Identifiant_ : ``'Code Commune'``\n",
              "\n",
              "* _Colonnes avec plus de 60% de valeurs manquantes_ : ``[]``\n",
              "\n",
              "* _Colonnes à supprimer_ : ``[]``\n",
              "\n",
              "* _Colonnes à conserver_ : ``['Code Commune', 'Nom Commune', 'Niveau de vie Commune', 'Niveau de vie Département']``\n",
              "\n",
              "----\n"
            ],
            "text/plain": [
              "<IPython.core.display.Markdown object>"
            ]
          },
          "metadata": {},
          "output_type": "display_data"
        }
      ],
      "source": [
        "# @title conclusion\n",
        "write_markdown_conclusion(id_niveau, to_holes_niveau, col_to_drop_niveau, col_to_keep2)"
      ]
    },
    {
      "cell_type": "markdown",
      "metadata": {
        "id": "0zhRxcQNuUvM"
      },
      "source": [
        "### communes de frances"
      ]
    },
    {
      "cell_type": "code",
      "execution_count": 128,
      "metadata": {
        "cellView": "form",
        "collapsed": true,
        "id": "gElHK_hC6vhG"
      },
      "outputs": [
        {
          "name": "stdout",
          "output_type": "stream",
          "text": [
            "forme : (35010, 39)\n"
          ]
        },
        {
          "data": {
            "application/vnd.microsoft.datawrangler.viewer.v0+json": {
              "columns": [
                {
                  "name": "index",
                  "rawType": "int64",
                  "type": "integer"
                },
                {
                  "name": "Unnamed: 0",
                  "rawType": "int64",
                  "type": "integer"
                },
                {
                  "name": "code_insee",
                  "rawType": "object",
                  "type": "string"
                },
                {
                  "name": "nom_standard",
                  "rawType": "object",
                  "type": "string"
                },
                {
                  "name": "nom_sans_pronom",
                  "rawType": "object",
                  "type": "string"
                },
                {
                  "name": "nom_a",
                  "rawType": "object",
                  "type": "string"
                },
                {
                  "name": "nom_de",
                  "rawType": "object",
                  "type": "string"
                },
                {
                  "name": "nom_sans_accent",
                  "rawType": "object",
                  "type": "string"
                },
                {
                  "name": "nom_standard_majuscule",
                  "rawType": "object",
                  "type": "string"
                },
                {
                  "name": "typecom",
                  "rawType": "object",
                  "type": "string"
                },
                {
                  "name": "typecom_texte",
                  "rawType": "object",
                  "type": "string"
                },
                {
                  "name": "reg_code",
                  "rawType": "int64",
                  "type": "integer"
                },
                {
                  "name": "reg_nom",
                  "rawType": "object",
                  "type": "string"
                },
                {
                  "name": "dep_code",
                  "rawType": "object",
                  "type": "string"
                },
                {
                  "name": "dep_nom",
                  "rawType": "object",
                  "type": "string"
                },
                {
                  "name": "canton_code",
                  "rawType": "object",
                  "type": "string"
                },
                {
                  "name": "canton_nom",
                  "rawType": "object",
                  "type": "string"
                },
                {
                  "name": "epci_code",
                  "rawType": "object",
                  "type": "string"
                },
                {
                  "name": "epci_nom",
                  "rawType": "object",
                  "type": "string"
                },
                {
                  "name": "academie_code",
                  "rawType": "int64",
                  "type": "integer"
                },
                {
                  "name": "academie_nom",
                  "rawType": "object",
                  "type": "string"
                },
                {
                  "name": "code_postal",
                  "rawType": "int64",
                  "type": "integer"
                },
                {
                  "name": "codes_postaux",
                  "rawType": "object",
                  "type": "string"
                },
                {
                  "name": "zone_emploi",
                  "rawType": "float64",
                  "type": "float"
                },
                {
                  "name": "code_insee_centre_zone_emploi",
                  "rawType": "object",
                  "type": "string"
                },
                {
                  "name": "population",
                  "rawType": "int64",
                  "type": "integer"
                },
                {
                  "name": "superficie_hectare",
                  "rawType": "int64",
                  "type": "integer"
                },
                {
                  "name": "superficie_km2",
                  "rawType": "int64",
                  "type": "integer"
                },
                {
                  "name": "densite",
                  "rawType": "float64",
                  "type": "float"
                },
                {
                  "name": "altitude_moyenne",
                  "rawType": "int64",
                  "type": "integer"
                },
                {
                  "name": "altitude_minimale",
                  "rawType": "float64",
                  "type": "float"
                },
                {
                  "name": "altitude_maximale",
                  "rawType": "float64",
                  "type": "float"
                },
                {
                  "name": "latitude_mairie",
                  "rawType": "float64",
                  "type": "float"
                },
                {
                  "name": "longitude_mairie",
                  "rawType": "float64",
                  "type": "float"
                },
                {
                  "name": "latitude_centre",
                  "rawType": "float64",
                  "type": "float"
                },
                {
                  "name": "longitude_centre",
                  "rawType": "float64",
                  "type": "float"
                },
                {
                  "name": "grille_densite",
                  "rawType": "object",
                  "type": "string"
                },
                {
                  "name": "gentile",
                  "rawType": "object",
                  "type": "unknown"
                },
                {
                  "name": "url_wikipedia",
                  "rawType": "object",
                  "type": "string"
                },
                {
                  "name": "url_villedereve",
                  "rawType": "object",
                  "type": "string"
                }
              ],
              "conversionMethod": "pd.DataFrame",
              "ref": "f69324b2-5902-410b-ba9a-73d6e2ab6b87",
              "rows": [
                [
                  "0",
                  "0",
                  "01001",
                  "L'Abergement-Clémenciat",
                  "Abergement-Clémenciat",
                  "à Abergement-Clémenciat",
                  "de l'Abergement-Clémenciat",
                  "l-abergement-clemenciat",
                  "L'ABERGEMENT-CLÉMENCIAT",
                  "COM",
                  "commune",
                  "84",
                  "Auvergne-Rhône-Alpes",
                  "01",
                  "Ain",
                  "0108",
                  "Châtillon-sur-Chalaronne",
                  "200069193",
                  "CC de la Dombes",
                  "10",
                  "Lyon",
                  "1400",
                  "01400",
                  "8405.0",
                  "01053",
                  "779",
                  "1565",
                  "16",
                  "48.7",
                  "242",
                  "206.0",
                  "272.0",
                  "46.153",
                  "4.926",
                  "46.153",
                  "4.926",
                  "Rural à habitat dispersé",
                  null,
                  "https://fr.wikipedia.org/wiki/fr:L'Abergement-Clémenciat",
                  "https://villedereve.fr/ville/01001-l-abergement-clemenciat"
                ],
                [
                  "1",
                  "1",
                  "01002",
                  "L'Abergement-de-Varey",
                  "Abergement-de-Varey",
                  "à Abergement-de-Varey",
                  "de l'Abergement-de-Varey",
                  "l-abergement-de-varey",
                  "L'ABERGEMENT-DE-VAREY",
                  "COM",
                  "commune",
                  "84",
                  "Auvergne-Rhône-Alpes",
                  "01",
                  "Ain",
                  "0101",
                  "Ambérieu-en-Bugey",
                  "240100883",
                  "CC de la Plaine de l'Ain",
                  "10",
                  "Lyon",
                  "1640",
                  "01640",
                  "8405.0",
                  "01053",
                  "256",
                  "912",
                  "9",
                  "27.1",
                  "483",
                  "290.0",
                  "748.0",
                  "46.009",
                  "5.428",
                  "46.009",
                  "5.428",
                  "Rural à habitat dispersé",
                  "Abergementais, Abergementaises",
                  "https://fr.wikipedia.org/wiki/fr:L'Abergement-de-Varey",
                  "https://villedereve.fr/ville/01002-l-abergement-de-varey"
                ],
                [
                  "2",
                  "2",
                  "01004",
                  "Ambérieu-en-Bugey",
                  "Ambérieu-en-Bugey",
                  "à Ambérieu-en-Bugey",
                  "d'Ambérieu-en-Bugey",
                  "amberieu-en-bugey",
                  "AMBÉRIEU-EN-BUGEY",
                  "COM",
                  "commune",
                  "84",
                  "Auvergne-Rhône-Alpes",
                  "01",
                  "Ain",
                  "0101",
                  "Ambérieu-en-Bugey",
                  "240100883",
                  "CC de la Plaine de l'Ain",
                  "10",
                  "Lyon",
                  "1500",
                  "01500, 01501, 01504, 01503, 01502, 01505, 01506",
                  "8405.0",
                  "01053",
                  "14134",
                  "2448",
                  "24",
                  "570.5",
                  "379",
                  "237.0",
                  "753.0",
                  "45.961",
                  "5.373",
                  "45.961",
                  "5.373",
                  "Centres urbains intermédiaires",
                  "Ambarrois, Ambarroises",
                  "https://fr.wikipedia.org/wiki/fr:Ambérieu-en-Bugey",
                  "https://villedereve.fr/ville/01004-amberieu-en-bugey"
                ]
              ],
              "shape": {
                "columns": 39,
                "rows": 3
              }
            },
            "text/html": [
              "<div>\n",
              "<style scoped>\n",
              "    .dataframe tbody tr th:only-of-type {\n",
              "        vertical-align: middle;\n",
              "    }\n",
              "\n",
              "    .dataframe tbody tr th {\n",
              "        vertical-align: top;\n",
              "    }\n",
              "\n",
              "    .dataframe thead th {\n",
              "        text-align: right;\n",
              "    }\n",
              "</style>\n",
              "<table border=\"1\" class=\"dataframe\">\n",
              "  <thead>\n",
              "    <tr style=\"text-align: right;\">\n",
              "      <th></th>\n",
              "      <th>Unnamed: 0</th>\n",
              "      <th>code_insee</th>\n",
              "      <th>nom_standard</th>\n",
              "      <th>nom_sans_pronom</th>\n",
              "      <th>nom_a</th>\n",
              "      <th>nom_de</th>\n",
              "      <th>nom_sans_accent</th>\n",
              "      <th>nom_standard_majuscule</th>\n",
              "      <th>typecom</th>\n",
              "      <th>typecom_texte</th>\n",
              "      <th>reg_code</th>\n",
              "      <th>reg_nom</th>\n",
              "      <th>dep_code</th>\n",
              "      <th>dep_nom</th>\n",
              "      <th>canton_code</th>\n",
              "      <th>canton_nom</th>\n",
              "      <th>epci_code</th>\n",
              "      <th>epci_nom</th>\n",
              "      <th>academie_code</th>\n",
              "      <th>academie_nom</th>\n",
              "      <th>code_postal</th>\n",
              "      <th>codes_postaux</th>\n",
              "      <th>zone_emploi</th>\n",
              "      <th>code_insee_centre_zone_emploi</th>\n",
              "      <th>population</th>\n",
              "      <th>superficie_hectare</th>\n",
              "      <th>superficie_km2</th>\n",
              "      <th>densite</th>\n",
              "      <th>altitude_moyenne</th>\n",
              "      <th>altitude_minimale</th>\n",
              "      <th>altitude_maximale</th>\n",
              "      <th>latitude_mairie</th>\n",
              "      <th>longitude_mairie</th>\n",
              "      <th>latitude_centre</th>\n",
              "      <th>longitude_centre</th>\n",
              "      <th>grille_densite</th>\n",
              "      <th>gentile</th>\n",
              "      <th>url_wikipedia</th>\n",
              "      <th>url_villedereve</th>\n",
              "    </tr>\n",
              "  </thead>\n",
              "  <tbody>\n",
              "    <tr>\n",
              "      <th>0</th>\n",
              "      <td>0</td>\n",
              "      <td>01001</td>\n",
              "      <td>L'Abergement-Clémenciat</td>\n",
              "      <td>Abergement-Clémenciat</td>\n",
              "      <td>à Abergement-Clémenciat</td>\n",
              "      <td>de l'Abergement-Clémenciat</td>\n",
              "      <td>l-abergement-clemenciat</td>\n",
              "      <td>L'ABERGEMENT-CLÉMENCIAT</td>\n",
              "      <td>COM</td>\n",
              "      <td>commune</td>\n",
              "      <td>84</td>\n",
              "      <td>Auvergne-Rhône-Alpes</td>\n",
              "      <td>01</td>\n",
              "      <td>Ain</td>\n",
              "      <td>0108</td>\n",
              "      <td>Châtillon-sur-Chalaronne</td>\n",
              "      <td>200069193</td>\n",
              "      <td>CC de la Dombes</td>\n",
              "      <td>10</td>\n",
              "      <td>Lyon</td>\n",
              "      <td>1400</td>\n",
              "      <td>01400</td>\n",
              "      <td>8405.000</td>\n",
              "      <td>01053</td>\n",
              "      <td>779</td>\n",
              "      <td>1565</td>\n",
              "      <td>16</td>\n",
              "      <td>48.700</td>\n",
              "      <td>242</td>\n",
              "      <td>206.000</td>\n",
              "      <td>272.000</td>\n",
              "      <td>46.153</td>\n",
              "      <td>4.926</td>\n",
              "      <td>46.153</td>\n",
              "      <td>4.926</td>\n",
              "      <td>Rural à habitat dispersé</td>\n",
              "      <td>NaN</td>\n",
              "      <td>https://fr.wikipedia.org/wiki/fr:L'Abergement-...</td>\n",
              "      <td>https://villedereve.fr/ville/01001-l-abergemen...</td>\n",
              "    </tr>\n",
              "    <tr>\n",
              "      <th>1</th>\n",
              "      <td>1</td>\n",
              "      <td>01002</td>\n",
              "      <td>L'Abergement-de-Varey</td>\n",
              "      <td>Abergement-de-Varey</td>\n",
              "      <td>à Abergement-de-Varey</td>\n",
              "      <td>de l'Abergement-de-Varey</td>\n",
              "      <td>l-abergement-de-varey</td>\n",
              "      <td>L'ABERGEMENT-DE-VAREY</td>\n",
              "      <td>COM</td>\n",
              "      <td>commune</td>\n",
              "      <td>84</td>\n",
              "      <td>Auvergne-Rhône-Alpes</td>\n",
              "      <td>01</td>\n",
              "      <td>Ain</td>\n",
              "      <td>0101</td>\n",
              "      <td>Ambérieu-en-Bugey</td>\n",
              "      <td>240100883</td>\n",
              "      <td>CC de la Plaine de l'Ain</td>\n",
              "      <td>10</td>\n",
              "      <td>Lyon</td>\n",
              "      <td>1640</td>\n",
              "      <td>01640</td>\n",
              "      <td>8405.000</td>\n",
              "      <td>01053</td>\n",
              "      <td>256</td>\n",
              "      <td>912</td>\n",
              "      <td>9</td>\n",
              "      <td>27.100</td>\n",
              "      <td>483</td>\n",
              "      <td>290.000</td>\n",
              "      <td>748.000</td>\n",
              "      <td>46.009</td>\n",
              "      <td>5.428</td>\n",
              "      <td>46.009</td>\n",
              "      <td>5.428</td>\n",
              "      <td>Rural à habitat dispersé</td>\n",
              "      <td>Abergementais, Abergementaises</td>\n",
              "      <td>https://fr.wikipedia.org/wiki/fr:L'Abergement-...</td>\n",
              "      <td>https://villedereve.fr/ville/01002-l-abergemen...</td>\n",
              "    </tr>\n",
              "    <tr>\n",
              "      <th>2</th>\n",
              "      <td>2</td>\n",
              "      <td>01004</td>\n",
              "      <td>Ambérieu-en-Bugey</td>\n",
              "      <td>Ambérieu-en-Bugey</td>\n",
              "      <td>à Ambérieu-en-Bugey</td>\n",
              "      <td>d'Ambérieu-en-Bugey</td>\n",
              "      <td>amberieu-en-bugey</td>\n",
              "      <td>AMBÉRIEU-EN-BUGEY</td>\n",
              "      <td>COM</td>\n",
              "      <td>commune</td>\n",
              "      <td>84</td>\n",
              "      <td>Auvergne-Rhône-Alpes</td>\n",
              "      <td>01</td>\n",
              "      <td>Ain</td>\n",
              "      <td>0101</td>\n",
              "      <td>Ambérieu-en-Bugey</td>\n",
              "      <td>240100883</td>\n",
              "      <td>CC de la Plaine de l'Ain</td>\n",
              "      <td>10</td>\n",
              "      <td>Lyon</td>\n",
              "      <td>1500</td>\n",
              "      <td>01500, 01501, 01504, 01503, 01502, 01505, 01506</td>\n",
              "      <td>8405.000</td>\n",
              "      <td>01053</td>\n",
              "      <td>14134</td>\n",
              "      <td>2448</td>\n",
              "      <td>24</td>\n",
              "      <td>570.500</td>\n",
              "      <td>379</td>\n",
              "      <td>237.000</td>\n",
              "      <td>753.000</td>\n",
              "      <td>45.961</td>\n",
              "      <td>5.373</td>\n",
              "      <td>45.961</td>\n",
              "      <td>5.373</td>\n",
              "      <td>Centres urbains intermédiaires</td>\n",
              "      <td>Ambarrois, Ambarroises</td>\n",
              "      <td>https://fr.wikipedia.org/wiki/fr:Ambérieu-en-B...</td>\n",
              "      <td>https://villedereve.fr/ville/01004-amberieu-en...</td>\n",
              "    </tr>\n",
              "  </tbody>\n",
              "</table>\n",
              "</div>"
            ],
            "text/plain": [
              "   Unnamed: 0 code_insee             nom_standard        nom_sans_pronom  \\\n",
              "0           0      01001  L'Abergement-Clémenciat  Abergement-Clémenciat   \n",
              "1           1      01002    L'Abergement-de-Varey    Abergement-de-Varey   \n",
              "2           2      01004        Ambérieu-en-Bugey      Ambérieu-en-Bugey   \n",
              "\n",
              "                     nom_a                      nom_de  \\\n",
              "0  à Abergement-Clémenciat  de l'Abergement-Clémenciat   \n",
              "1    à Abergement-de-Varey    de l'Abergement-de-Varey   \n",
              "2      à Ambérieu-en-Bugey         d'Ambérieu-en-Bugey   \n",
              "\n",
              "           nom_sans_accent   nom_standard_majuscule typecom typecom_texte  \\\n",
              "0  l-abergement-clemenciat  L'ABERGEMENT-CLÉMENCIAT     COM       commune   \n",
              "1    l-abergement-de-varey    L'ABERGEMENT-DE-VAREY     COM       commune   \n",
              "2        amberieu-en-bugey        AMBÉRIEU-EN-BUGEY     COM       commune   \n",
              "\n",
              "   reg_code               reg_nom dep_code dep_nom canton_code  \\\n",
              "0        84  Auvergne-Rhône-Alpes       01     Ain        0108   \n",
              "1        84  Auvergne-Rhône-Alpes       01     Ain        0101   \n",
              "2        84  Auvergne-Rhône-Alpes       01     Ain        0101   \n",
              "\n",
              "                 canton_nom  epci_code                  epci_nom  \\\n",
              "0  Châtillon-sur-Chalaronne  200069193           CC de la Dombes   \n",
              "1         Ambérieu-en-Bugey  240100883  CC de la Plaine de l'Ain   \n",
              "2         Ambérieu-en-Bugey  240100883  CC de la Plaine de l'Ain   \n",
              "\n",
              "   academie_code academie_nom  code_postal  \\\n",
              "0             10         Lyon         1400   \n",
              "1             10         Lyon         1640   \n",
              "2             10         Lyon         1500   \n",
              "\n",
              "                                     codes_postaux  zone_emploi  \\\n",
              "0                                            01400     8405.000   \n",
              "1                                            01640     8405.000   \n",
              "2  01500, 01501, 01504, 01503, 01502, 01505, 01506     8405.000   \n",
              "\n",
              "  code_insee_centre_zone_emploi  population  superficie_hectare  \\\n",
              "0                         01053         779                1565   \n",
              "1                         01053         256                 912   \n",
              "2                         01053       14134                2448   \n",
              "\n",
              "   superficie_km2  densite  altitude_moyenne  altitude_minimale  \\\n",
              "0              16   48.700               242            206.000   \n",
              "1               9   27.100               483            290.000   \n",
              "2              24  570.500               379            237.000   \n",
              "\n",
              "   altitude_maximale  latitude_mairie  longitude_mairie  latitude_centre  \\\n",
              "0            272.000           46.153             4.926           46.153   \n",
              "1            748.000           46.009             5.428           46.009   \n",
              "2            753.000           45.961             5.373           45.961   \n",
              "\n",
              "   longitude_centre                  grille_densite  \\\n",
              "0             4.926        Rural à habitat dispersé   \n",
              "1             5.428        Rural à habitat dispersé   \n",
              "2             5.373  Centres urbains intermédiaires   \n",
              "\n",
              "                          gentile  \\\n",
              "0                             NaN   \n",
              "1  Abergementais, Abergementaises   \n",
              "2          Ambarrois, Ambarroises   \n",
              "\n",
              "                                       url_wikipedia  \\\n",
              "0  https://fr.wikipedia.org/wiki/fr:L'Abergement-...   \n",
              "1  https://fr.wikipedia.org/wiki/fr:L'Abergement-...   \n",
              "2  https://fr.wikipedia.org/wiki/fr:Ambérieu-en-B...   \n",
              "\n",
              "                                     url_villedereve  \n",
              "0  https://villedereve.fr/ville/01001-l-abergemen...  \n",
              "1  https://villedereve.fr/ville/01002-l-abergemen...  \n",
              "2  https://villedereve.fr/ville/01004-amberieu-en...  "
            ]
          },
          "execution_count": 128,
          "metadata": {},
          "output_type": "execute_result"
        }
      ],
      "source": [
        "# @title visualisation\n",
        "visualise(communes_df)\n",
        "\n",
        "communes_df.head(3)"
      ]
    },
    {
      "cell_type": "code",
      "execution_count": 129,
      "metadata": {
        "cellView": "form",
        "collapsed": true,
        "id": "64-M4DMxufK5"
      },
      "outputs": [
        {
          "name": "stdout",
          "output_type": "stream",
          "text": [
            "les colonnes sont : \n",
            "Index(['Unnamed: 0', 'code_insee', 'nom_standard', 'nom_sans_pronom', 'nom_a',\n",
            "       'nom_de', 'nom_sans_accent', 'nom_standard_majuscule', 'typecom',\n",
            "       'typecom_texte', 'reg_code', 'reg_nom', 'dep_code', 'dep_nom',\n",
            "       'canton_code', 'canton_nom', 'epci_code', 'epci_nom', 'academie_code',\n",
            "       'academie_nom', 'code_postal', 'codes_postaux', 'zone_emploi',\n",
            "       'code_insee_centre_zone_emploi', 'population', 'superficie_hectare',\n",
            "       'superficie_km2', 'densite', 'altitude_moyenne', 'altitude_minimale',\n",
            "       'altitude_maximale', 'latitude_mairie', 'longitude_mairie',\n",
            "       'latitude_centre', 'longitude_centre', 'grille_densite', 'gentile',\n",
            "       'url_wikipedia', 'url_villedereve'],\n",
            "      dtype='object')\n",
            " il y'a 39 colonnes dans le dataframe\n",
            "\n",
            "------------------------------------------------------------------------------------------\n",
            "\n"
          ]
        }
      ],
      "source": [
        "# @title all colonnes\n",
        "all_col_commune = all_columns(communes_df)"
      ]
    },
    {
      "cell_type": "markdown",
      "metadata": {
        "id": "e66ZazhT7YDk"
      },
      "source": [
        "A première vu , on n'a pas besoin des\n",
        "* url vers les sites internet des communes  c'est à dire ``url_wikipedia`` , ``url_ville``\n",
        "* ``typecom`` et ``typecom_texte`` sont des colonnes constantes : on est toujours censé avoir à faire à des communes\n",
        "* pas besoin de tous les type de noms de la communes , un seul suffira `nom_standard` , mais il est aussi renseigné dans `Niveau de vie`\n",
        "* unamed ici represente un index donc inutile aussi\n",
        "* on peut regrouper ` 'altitude_moyenne'`, `'altitude_minimale'`,\n",
        "       `'altitude_maximale'` en  un ou deux indices d'altitude , idem pour les ``latitude...`` et ``longitute...``\n",
        "* supprimer les infos d'identification (x_code , x_nom) sur les départements et régions , leurs codes sont déjà fourni dans ``MDB-insee-divers`` ce dernier ayant plus d'échantillons"
      ]
    },
    {
      "cell_type": "code",
      "execution_count": 130,
      "metadata": {
        "collapsed": true,
        "id": "G2eJw4BX7sCX"
      },
      "outputs": [],
      "source": [
        "# @title présélection\n",
        "# colonnes jugées non informatives à supprimer\n",
        "\n",
        "col_to_drop_commune = ['url_wikipedia','url_villedereve',\n",
        "                       'typecom','typecom_texte',\n",
        "                       'nom_standard','nom_a','nom_de',\n",
        "                       'nom_sans_pronom','gentile',\n",
        "                       'nom_sans_accent','nom_standard_majuscule',\n",
        "                       'superficie_hectare','Unnamed: 0',\n",
        "                       'academie_nom','codes postaux',\n",
        "                       'longitude_centre','latitude_centre',\n",
        "                       'reg_nom','dep_nom','canton_nom','epci_nom']\n",
        "id_commune = 'code_insee'\n",
        "\n",
        "col_to_keep3 , to_holes_commune = get_analyse(communes_df,id_commune,col_to_drop_commune)"
      ]
    },
    {
      "cell_type": "code",
      "execution_count": 131,
      "metadata": {
        "cellView": "form",
        "collapsed": true,
        "id": "PTLPZL5u-k3W"
      },
      "outputs": [
        {
          "data": {
            "text/markdown": [
              "\n",
              "#### Conclusion\n",
              "\n",
              "* _Identifiant_ : ``'code_insee'``\n",
              "\n",
              "* _Colonnes avec plus de 60% de valeurs manquantes_ : ``[]``\n",
              "\n",
              "* _Colonnes à supprimer_ : ``['url_wikipedia', 'url_villedereve', 'typecom', 'typecom_texte', 'nom_standard', 'nom_a', 'nom_de', 'nom_sans_pronom', 'gentile', 'nom_sans_accent', 'nom_standard_majuscule', 'superficie_hectare', 'Unnamed: 0', 'academie_nom', 'codes postaux', 'longitude_centre', 'latitude_centre', 'reg_nom', 'dep_nom', 'canton_nom', 'epci_nom']``\n",
              "\n",
              "* _Colonnes à conserver_ : ``['code_insee', 'reg_code', 'dep_code', 'canton_code', 'epci_code', 'academie_code', 'code_postal', 'codes_postaux', 'zone_emploi', 'code_insee_centre_zone_emploi', 'population', 'superficie_km2', 'densite', 'altitude_moyenne', 'altitude_minimale', 'altitude_maximale', 'latitude_mairie', 'longitude_mairie', 'grille_densite']``\n",
              "\n",
              "----\n"
            ],
            "text/plain": [
              "<IPython.core.display.Markdown object>"
            ]
          },
          "metadata": {},
          "output_type": "display_data"
        }
      ],
      "source": [
        "# @title conclusion\n",
        "write_markdown_conclusion(id_commune, to_holes_commune, col_to_drop_commune, col_to_keep3)"
      ]
    },
    {
      "cell_type": "markdown",
      "metadata": {
        "id": "ExVYdARYuZTa"
      },
      "source": [
        "### age-insee"
      ]
    },
    {
      "cell_type": "markdown",
      "metadata": {
        "id": "wljv5s_WSybQ"
      },
      "source": [
        "#### première analyse visuelle"
      ]
    },
    {
      "cell_type": "code",
      "execution_count": 132,
      "metadata": {
        "collapsed": true,
        "id": "eTedhaBj_5mn"
      },
      "outputs": [
        {
          "name": "stdout",
          "output_type": "stream",
          "text": [
            "forme : (34980, 26)\n"
          ]
        },
        {
          "data": {
            "application/vnd.microsoft.datawrangler.viewer.v0+json": {
              "columns": [
                {
                  "name": "index",
                  "rawType": "int64",
                  "type": "integer"
                },
                {
                  "name": "INSEE",
                  "rawType": "object",
                  "type": "unknown"
                },
                {
                  "name": "NOM",
                  "rawType": "object",
                  "type": "string"
                },
                {
                  "name": "EPCI",
                  "rawType": "object",
                  "type": "unknown"
                },
                {
                  "name": "DEP",
                  "rawType": "object",
                  "type": "string"
                },
                {
                  "name": "REG",
                  "rawType": "object",
                  "type": "string"
                },
                {
                  "name": "F0-2",
                  "rawType": "float64",
                  "type": "float"
                },
                {
                  "name": "F3-5",
                  "rawType": "float64",
                  "type": "float"
                },
                {
                  "name": "F6-10",
                  "rawType": "float64",
                  "type": "float"
                },
                {
                  "name": "F11-17",
                  "rawType": "float64",
                  "type": "float"
                },
                {
                  "name": "F18-24",
                  "rawType": "float64",
                  "type": "float"
                },
                {
                  "name": "F25-39",
                  "rawType": "float64",
                  "type": "float"
                },
                {
                  "name": "F40-54",
                  "rawType": "float64",
                  "type": "float"
                },
                {
                  "name": "F55-64",
                  "rawType": "float64",
                  "type": "float"
                },
                {
                  "name": "F65-79",
                  "rawType": "float64",
                  "type": "float"
                },
                {
                  "name": "F80+",
                  "rawType": "float64",
                  "type": "float"
                },
                {
                  "name": "Unnamed: 15",
                  "rawType": "float64",
                  "type": "float"
                },
                {
                  "name": "H0-2",
                  "rawType": "float64",
                  "type": "float"
                },
                {
                  "name": "H3-5",
                  "rawType": "float64",
                  "type": "float"
                },
                {
                  "name": "H6-10",
                  "rawType": "float64",
                  "type": "float"
                },
                {
                  "name": "H11-17",
                  "rawType": "float64",
                  "type": "float"
                },
                {
                  "name": "H18-24",
                  "rawType": "float64",
                  "type": "float"
                },
                {
                  "name": "H25-39",
                  "rawType": "float64",
                  "type": "float"
                },
                {
                  "name": "H40-54",
                  "rawType": "float64",
                  "type": "float"
                },
                {
                  "name": "H55-64",
                  "rawType": "float64",
                  "type": "float"
                },
                {
                  "name": "H65-79",
                  "rawType": "float64",
                  "type": "float"
                },
                {
                  "name": "H80+",
                  "rawType": "float64",
                  "type": "float"
                }
              ],
              "conversionMethod": "pd.DataFrame",
              "ref": "9c3c3767-047e-4e8a-8ac5-3a1ef02c1c32",
              "rows": [
                [
                  "0",
                  "1001",
                  "L'Abergement-Clémenciat",
                  "200069193",
                  "D1",
                  "R84",
                  "13.4142799402018",
                  "12.5092269179791",
                  "19.2144856911972",
                  "37.1815058479617",
                  "14.062216365556",
                  "70.1189125712045",
                  "84.5116008055846",
                  "60.0322109506564",
                  "64.3112320216643",
                  "20.1641139667605",
                  null,
                  "18.0700330553501",
                  "14.4025195162611",
                  "34.5397039317186",
                  "40.2573287128366",
                  "14.2314646565969",
                  "72.4979157245251",
                  "81.8491076968987",
                  "61.039015784272",
                  "55.2402747751719",
                  "18.3528510676029"
                ],
                [
                  "1",
                  "1002",
                  "L'Abergement-de-Varey",
                  "240100883",
                  "D1",
                  "R84",
                  "2.99421849395476",
                  "6.05026190973638",
                  "12.2321629950489",
                  "11.8687179143305",
                  "5.20159501697039",
                  "20.4984870963439",
                  "33.9746232733601",
                  "12.3647764872115",
                  "12.4193246856239",
                  "7.02662356525477",
                  null,
                  "2.99421849395476",
                  "6.11608149752445",
                  "6.95304009575912",
                  "22.3494358305907",
                  "6.39381489968514",
                  "19.5404813659131",
                  "37.4792090695712",
                  "10.977018929981",
                  "15.6871695753952",
                  "8.87873880379031"
                ],
                [
                  "2",
                  "1004",
                  "Ambérieu-en-Bugey",
                  "240100883",
                  "D1",
                  "R84",
                  "294.667754899811",
                  "245.153009235092",
                  "382.800636213197",
                  "599.105268641172",
                  "680.830755111795",
                  "1451.11078155233",
                  "1268.50235333509",
                  "903.06198141889",
                  "1064.9922401503",
                  "517.132984278569",
                  null,
                  "256.303605572618",
                  "289.985106797421",
                  "485.793198969148",
                  "613.181777316202",
                  "669.385043623463",
                  "1542.69909175048",
                  "1238.11987048589",
                  "782.771067717195",
                  "750.039922678049",
                  "252.363550253291"
                ]
              ],
              "shape": {
                "columns": 26,
                "rows": 3
              }
            },
            "text/html": [
              "<div>\n",
              "<style scoped>\n",
              "    .dataframe tbody tr th:only-of-type {\n",
              "        vertical-align: middle;\n",
              "    }\n",
              "\n",
              "    .dataframe tbody tr th {\n",
              "        vertical-align: top;\n",
              "    }\n",
              "\n",
              "    .dataframe thead th {\n",
              "        text-align: right;\n",
              "    }\n",
              "</style>\n",
              "<table border=\"1\" class=\"dataframe\">\n",
              "  <thead>\n",
              "    <tr style=\"text-align: right;\">\n",
              "      <th></th>\n",
              "      <th>INSEE</th>\n",
              "      <th>NOM</th>\n",
              "      <th>EPCI</th>\n",
              "      <th>DEP</th>\n",
              "      <th>REG</th>\n",
              "      <th>F0-2</th>\n",
              "      <th>F3-5</th>\n",
              "      <th>F6-10</th>\n",
              "      <th>F11-17</th>\n",
              "      <th>F18-24</th>\n",
              "      <th>F25-39</th>\n",
              "      <th>F40-54</th>\n",
              "      <th>F55-64</th>\n",
              "      <th>F65-79</th>\n",
              "      <th>F80+</th>\n",
              "      <th>Unnamed: 15</th>\n",
              "      <th>H0-2</th>\n",
              "      <th>H3-5</th>\n",
              "      <th>H6-10</th>\n",
              "      <th>H11-17</th>\n",
              "      <th>H18-24</th>\n",
              "      <th>H25-39</th>\n",
              "      <th>H40-54</th>\n",
              "      <th>H55-64</th>\n",
              "      <th>H65-79</th>\n",
              "      <th>H80+</th>\n",
              "    </tr>\n",
              "  </thead>\n",
              "  <tbody>\n",
              "    <tr>\n",
              "      <th>0</th>\n",
              "      <td>1001</td>\n",
              "      <td>L'Abergement-Clémenciat</td>\n",
              "      <td>200069193</td>\n",
              "      <td>D1</td>\n",
              "      <td>R84</td>\n",
              "      <td>13.414</td>\n",
              "      <td>12.509</td>\n",
              "      <td>19.214</td>\n",
              "      <td>37.182</td>\n",
              "      <td>14.062</td>\n",
              "      <td>70.119</td>\n",
              "      <td>84.512</td>\n",
              "      <td>60.032</td>\n",
              "      <td>64.311</td>\n",
              "      <td>20.164</td>\n",
              "      <td>NaN</td>\n",
              "      <td>18.070</td>\n",
              "      <td>14.403</td>\n",
              "      <td>34.540</td>\n",
              "      <td>40.257</td>\n",
              "      <td>14.231</td>\n",
              "      <td>72.498</td>\n",
              "      <td>81.849</td>\n",
              "      <td>61.039</td>\n",
              "      <td>55.240</td>\n",
              "      <td>18.353</td>\n",
              "    </tr>\n",
              "    <tr>\n",
              "      <th>1</th>\n",
              "      <td>1002</td>\n",
              "      <td>L'Abergement-de-Varey</td>\n",
              "      <td>240100883</td>\n",
              "      <td>D1</td>\n",
              "      <td>R84</td>\n",
              "      <td>2.994</td>\n",
              "      <td>6.050</td>\n",
              "      <td>12.232</td>\n",
              "      <td>11.869</td>\n",
              "      <td>5.202</td>\n",
              "      <td>20.498</td>\n",
              "      <td>33.975</td>\n",
              "      <td>12.365</td>\n",
              "      <td>12.419</td>\n",
              "      <td>7.027</td>\n",
              "      <td>NaN</td>\n",
              "      <td>2.994</td>\n",
              "      <td>6.116</td>\n",
              "      <td>6.953</td>\n",
              "      <td>22.349</td>\n",
              "      <td>6.394</td>\n",
              "      <td>19.540</td>\n",
              "      <td>37.479</td>\n",
              "      <td>10.977</td>\n",
              "      <td>15.687</td>\n",
              "      <td>8.879</td>\n",
              "    </tr>\n",
              "    <tr>\n",
              "      <th>2</th>\n",
              "      <td>1004</td>\n",
              "      <td>Ambérieu-en-Bugey</td>\n",
              "      <td>240100883</td>\n",
              "      <td>D1</td>\n",
              "      <td>R84</td>\n",
              "      <td>294.668</td>\n",
              "      <td>245.153</td>\n",
              "      <td>382.801</td>\n",
              "      <td>599.105</td>\n",
              "      <td>680.831</td>\n",
              "      <td>1451.111</td>\n",
              "      <td>1268.502</td>\n",
              "      <td>903.062</td>\n",
              "      <td>1064.992</td>\n",
              "      <td>517.133</td>\n",
              "      <td>NaN</td>\n",
              "      <td>256.304</td>\n",
              "      <td>289.985</td>\n",
              "      <td>485.793</td>\n",
              "      <td>613.182</td>\n",
              "      <td>669.385</td>\n",
              "      <td>1542.699</td>\n",
              "      <td>1238.120</td>\n",
              "      <td>782.771</td>\n",
              "      <td>750.040</td>\n",
              "      <td>252.364</td>\n",
              "    </tr>\n",
              "  </tbody>\n",
              "</table>\n",
              "</div>"
            ],
            "text/plain": [
              "  INSEE                      NOM       EPCI DEP  REG    F0-2    F3-5   F6-10  \\\n",
              "0  1001  L'Abergement-Clémenciat  200069193  D1  R84  13.414  12.509  19.214   \n",
              "1  1002    L'Abergement-de-Varey  240100883  D1  R84   2.994   6.050  12.232   \n",
              "2  1004        Ambérieu-en-Bugey  240100883  D1  R84 294.668 245.153 382.801   \n",
              "\n",
              "   F11-17  F18-24   F25-39   F40-54  F55-64   F65-79    F80+  Unnamed: 15  \\\n",
              "0  37.182  14.062   70.119   84.512  60.032   64.311  20.164          NaN   \n",
              "1  11.869   5.202   20.498   33.975  12.365   12.419   7.027          NaN   \n",
              "2 599.105 680.831 1451.111 1268.502 903.062 1064.992 517.133          NaN   \n",
              "\n",
              "     H0-2    H3-5   H6-10  H11-17  H18-24   H25-39   H40-54  H55-64  H65-79  \\\n",
              "0  18.070  14.403  34.540  40.257  14.231   72.498   81.849  61.039  55.240   \n",
              "1   2.994   6.116   6.953  22.349   6.394   19.540   37.479  10.977  15.687   \n",
              "2 256.304 289.985 485.793 613.182 669.385 1542.699 1238.120 782.771 750.040   \n",
              "\n",
              "     H80+  \n",
              "0  18.353  \n",
              "1   8.879  \n",
              "2 252.364  "
            ]
          },
          "execution_count": 132,
          "metadata": {},
          "output_type": "execute_result"
        }
      ],
      "source": [
        "# @title visualisation\n",
        "visualise(age_df)\n",
        "\n",
        "age_df.head(3)"
      ]
    },
    {
      "cell_type": "code",
      "execution_count": 133,
      "metadata": {},
      "outputs": [
        {
          "data": {
            "text/plain": [
              "INSEE         0.000\n",
              "NOM           0.000\n",
              "EPCI          0.000\n",
              "DEP           0.000\n",
              "REG           0.000\n",
              "F0-2          0.000\n",
              "F3-5          0.000\n",
              "F6-10         0.000\n",
              "F11-17        0.000\n",
              "F18-24        0.000\n",
              "F25-39        0.000\n",
              "F40-54        0.000\n",
              "F55-64        0.000\n",
              "F65-79        0.000\n",
              "F80+          0.000\n",
              "Unnamed: 15   1.000\n",
              "H0-2          0.000\n",
              "H3-5          0.000\n",
              "H6-10         0.000\n",
              "H11-17        0.000\n",
              "H18-24        0.000\n",
              "H25-39        0.000\n",
              "H40-54        0.000\n",
              "H55-64        0.000\n",
              "H65-79        0.000\n",
              "H80+          0.000\n",
              "dtype: float64"
            ]
          },
          "execution_count": 133,
          "metadata": {},
          "output_type": "execute_result"
        }
      ],
      "source": [
        "age_df.isnull().sum()/age_df.shape[0]"
      ]
    },
    {
      "cell_type": "code",
      "execution_count": 134,
      "metadata": {
        "cellView": "form",
        "collapsed": true,
        "id": "t7w804f5Biks"
      },
      "outputs": [],
      "source": [
        "# @title Présélection\n",
        "# visuellement\n",
        "col_to_drop_age = []\n",
        "id_age = 'INSEE'\n",
        "all_col_age = age_df.columns.tolist()\n",
        "col_to_keep4 , to_holes_age = get_analyse(age_df,id_age,col_to_drop_age)\n"
      ]
    },
    {
      "cell_type": "code",
      "execution_count": 135,
      "metadata": {
        "id": "dY9updnnSybR"
      },
      "outputs": [
        {
          "name": "stdout",
          "output_type": "stream",
          "text": [
            "['Unnamed: 15']\n"
          ]
        }
      ],
      "source": [
        "col_to_drop_age += to_holes_age\n",
        "print(col_to_drop_age)\n"
      ]
    },
    {
      "cell_type": "markdown",
      "metadata": {
        "id": "3OrmGPTjSybR"
      },
      "source": [
        "A defaut d'avoir toutes les tranches d'âge pour chaque sexe , on regroupe les nombres d'hommes et femmes de chaque tranche pour avoir moins de variables:\n",
        "* Sur le plan social  :\n",
        "    * `% Mineurs` hommes et femmes de (0 - 17) ans,\n",
        "    * `% Adultes` hommes et femmes de (18-54) ans ,\n",
        "    * `% Seniors` hommes et femmes de (55-79) ans ,\n",
        "    * `% Tres_seniors` hommes et femmes de (80+) ans\n",
        "* sur le plan économique :\n",
        "    *`% Travailleurs` ceux qui ont l'age de potentiellement travailler\n",
        "    * `% Retraites`  ceux qu'on a jugés ne plus pouvoir travailler car ont plus de `64` ans"
      ]
    },
    {
      "cell_type": "markdown",
      "metadata": {
        "id": "n0fed0mFSybR"
      },
      "source": [
        "#### Regroupement des âges"
      ]
    },
    {
      "cell_type": "code",
      "execution_count": 136,
      "metadata": {
        "id": "tclIXu5cSybS"
      },
      "outputs": [],
      "source": [
        "age_groups = age_df[age_df.columns[:5]]\n",
        "\n",
        "# population total\n",
        "col_genre = sub(sub(all_col_age,col_to_drop_age),age_df.columns[:5].tolist())\n",
        "col_hom = col_genre[10:]\n",
        "age_groups['Population'] = age_df[col_genre].sum(axis=1)\n"
      ]
    },
    {
      "cell_type": "code",
      "execution_count": 137,
      "metadata": {
        "id": "EExcLRi4SybS"
      },
      "outputs": [
        {
          "data": {
            "application/vnd.microsoft.datawrangler.viewer.v0+json": {
              "columns": [
                {
                  "name": "index",
                  "rawType": "int64",
                  "type": "integer"
                },
                {
                  "name": "INSEE",
                  "rawType": "object",
                  "type": "unknown"
                },
                {
                  "name": "NOM",
                  "rawType": "object",
                  "type": "string"
                },
                {
                  "name": "EPCI",
                  "rawType": "object",
                  "type": "unknown"
                },
                {
                  "name": "DEP",
                  "rawType": "object",
                  "type": "string"
                },
                {
                  "name": "REG",
                  "rawType": "object",
                  "type": "string"
                },
                {
                  "name": "Population",
                  "rawType": "float64",
                  "type": "float"
                },
                {
                  "name": "% Mineurs",
                  "rawType": "float64",
                  "type": "float"
                },
                {
                  "name": "% Adultes",
                  "rawType": "float64",
                  "type": "float"
                },
                {
                  "name": "% Seniors",
                  "rawType": "float64",
                  "type": "float"
                },
                {
                  "name": "% Tres_Seniors",
                  "rawType": "float64",
                  "type": "float"
                },
                {
                  "name": "% Retraites",
                  "rawType": "float64",
                  "type": "float"
                },
                {
                  "name": "% Travailleurs",
                  "rawType": "float64",
                  "type": "float"
                },
                {
                  "name": "rH/F",
                  "rawType": "float64",
                  "type": "float"
                }
              ],
              "conversionMethod": "pd.DataFrame",
              "ref": "64576743-3ebc-4e70-bb7a-65daa38ca214",
              "rows": [
                [
                  "0",
                  "1001",
                  "L'Abergement-Clémenciat",
                  "200069193",
                  "D1",
                  "R84",
                  "806.0",
                  "25.38254265558082",
                  "41.84506424570295",
                  "29.85393716274995",
                  "4.778779780938387",
                  "19.61147293191062",
                  "7.055373232938049",
                  "1.0378247319270981"
                ],
                [
                  "1",
                  "1002",
                  "L'Abergement-de-Varey",
                  "240100883",
                  "D1",
                  "R84",
                  "262.00000000000006",
                  "24.454823591066457",
                  "46.98023309994038",
                  "19.63675178557694",
                  "6.070748995818731",
                  "16.798418561093197",
                  "21.331799740550707",
                  "1.1022092291749883"
                ],
                [
                  "2",
                  "1004",
                  "Ambérieu-en-Bugey",
                  "240100883",
                  "D1",
                  "R84",
                  "14288.000000000002",
                  "23.860704469080684",
                  "47.94686377280968",
                  "24.502136141968318",
                  "5.385614043476063",
                  "18.08880667245387",
                  "0.41815374640117714",
                  "0.928892926952593"
                ]
              ],
              "shape": {
                "columns": 13,
                "rows": 3
              }
            },
            "text/html": [
              "<div>\n",
              "<style scoped>\n",
              "    .dataframe tbody tr th:only-of-type {\n",
              "        vertical-align: middle;\n",
              "    }\n",
              "\n",
              "    .dataframe tbody tr th {\n",
              "        vertical-align: top;\n",
              "    }\n",
              "\n",
              "    .dataframe thead th {\n",
              "        text-align: right;\n",
              "    }\n",
              "</style>\n",
              "<table border=\"1\" class=\"dataframe\">\n",
              "  <thead>\n",
              "    <tr style=\"text-align: right;\">\n",
              "      <th></th>\n",
              "      <th>INSEE</th>\n",
              "      <th>NOM</th>\n",
              "      <th>EPCI</th>\n",
              "      <th>DEP</th>\n",
              "      <th>REG</th>\n",
              "      <th>Population</th>\n",
              "      <th>% Mineurs</th>\n",
              "      <th>% Adultes</th>\n",
              "      <th>% Seniors</th>\n",
              "      <th>% Tres_Seniors</th>\n",
              "      <th>% Retraites</th>\n",
              "      <th>% Travailleurs</th>\n",
              "      <th>rH/F</th>\n",
              "    </tr>\n",
              "  </thead>\n",
              "  <tbody>\n",
              "    <tr>\n",
              "      <th>0</th>\n",
              "      <td>1001</td>\n",
              "      <td>L'Abergement-Clémenciat</td>\n",
              "      <td>200069193</td>\n",
              "      <td>D1</td>\n",
              "      <td>R84</td>\n",
              "      <td>806.000</td>\n",
              "      <td>25.383</td>\n",
              "      <td>41.845</td>\n",
              "      <td>29.854</td>\n",
              "      <td>4.779</td>\n",
              "      <td>19.611</td>\n",
              "      <td>7.055</td>\n",
              "      <td>1.038</td>\n",
              "    </tr>\n",
              "    <tr>\n",
              "      <th>1</th>\n",
              "      <td>1002</td>\n",
              "      <td>L'Abergement-de-Varey</td>\n",
              "      <td>240100883</td>\n",
              "      <td>D1</td>\n",
              "      <td>R84</td>\n",
              "      <td>262.000</td>\n",
              "      <td>24.455</td>\n",
              "      <td>46.980</td>\n",
              "      <td>19.637</td>\n",
              "      <td>6.071</td>\n",
              "      <td>16.798</td>\n",
              "      <td>21.332</td>\n",
              "      <td>1.102</td>\n",
              "    </tr>\n",
              "    <tr>\n",
              "      <th>2</th>\n",
              "      <td>1004</td>\n",
              "      <td>Ambérieu-en-Bugey</td>\n",
              "      <td>240100883</td>\n",
              "      <td>D1</td>\n",
              "      <td>R84</td>\n",
              "      <td>14288.000</td>\n",
              "      <td>23.861</td>\n",
              "      <td>47.947</td>\n",
              "      <td>24.502</td>\n",
              "      <td>5.386</td>\n",
              "      <td>18.089</td>\n",
              "      <td>0.418</td>\n",
              "      <td>0.929</td>\n",
              "    </tr>\n",
              "  </tbody>\n",
              "</table>\n",
              "</div>"
            ],
            "text/plain": [
              "  INSEE                      NOM       EPCI DEP  REG  Population  % Mineurs  \\\n",
              "0  1001  L'Abergement-Clémenciat  200069193  D1  R84     806.000     25.383   \n",
              "1  1002    L'Abergement-de-Varey  240100883  D1  R84     262.000     24.455   \n",
              "2  1004        Ambérieu-en-Bugey  240100883  D1  R84   14288.000     23.861   \n",
              "\n",
              "   % Adultes  % Seniors  % Tres_Seniors  % Retraites  % Travailleurs  rH/F  \n",
              "0     41.845     29.854           4.779       19.611           7.055 1.038  \n",
              "1     46.980     19.637           6.071       16.798          21.332 1.102  \n",
              "2     47.947     24.502           5.386       18.089           0.418 0.929  "
            ]
          },
          "execution_count": 137,
          "metadata": {},
          "output_type": "execute_result"
        }
      ],
      "source": [
        "#--------------------------------\n",
        "# Regroupement par cycle de vie\n",
        "#-------------------------------\n",
        "\n",
        "# les mineurs\n",
        "age_groups['% Mineurs'] = (age_df['F0-2'] + age_df['F3-5'] +age_df['F6-10']+age_df['F11-17'] + age_df['H0-2'] + age_df['H3-5'] + age_df['H0-2']+age_df['H6-10']+age_df['F11-17'] ) / age_groups['Population'] * 100\n",
        "\n",
        "# les adultes\n",
        "age_groups['% Adultes'] = (age_df['F18-24'] + age_df['F25-39'] + age_df['F40-54']+age_df['H18-24']+age_df['H25-39'] + age_df['H40-54']) / age_groups['Population'] * 100\n",
        "\n",
        "\n",
        "# les agés\n",
        "age_groups['% Seniors'] = (age_df['F55-64'] + age_df['F65-79'] + age_df['H55-64'] + age_df['H65-79']) / age_groups['Population'] * 100\n",
        "\n",
        "\n",
        "# les très agés\n",
        "age_groups['% Tres_Seniors'] = (age_df['F80+'] + age_df['H80+']) / age_groups['Population'] * 100\n",
        "\n",
        "# les retraités\n",
        "age_groups['% Retraites'] = (age_df['F65-79'] + age_df['H65-79'] + age_df['F80+'] + age_df['H80+']) / age_groups['Population'] * 100\n",
        "\n",
        "# travailleurs potentiels\n",
        "age_groups['% Travailleurs'] = (age_groups['% Adultes'] + age_groups['% Seniors'] + age_groups['% Tres_Seniors'] - age_groups['% Retraites']) / age_groups['Population'] * 100\n",
        "\n",
        "# ratio hommes/femmes\n",
        "age_groups['rH/F'] = ( age_df[col_hom].sum(axis=1)  / age_df[col_genre[:10]].sum(axis=1) )\n",
        "\n",
        "age_groups.to_csv(\"age_groups.csv\",index=False)\n",
        "age_groups.head(3)\n"
      ]
    },
    {
      "cell_type": "markdown",
      "metadata": {
        "id": "MTVbAj7fSybS"
      },
      "source": [
        "#### mise à jour et conclusion"
      ]
    },
    {
      "cell_type": "code",
      "execution_count": 138,
      "metadata": {
        "id": "TCVhAFdtSybS"
      },
      "outputs": [],
      "source": [
        "col_to_drop_age = []\n",
        "colt_to_keep4 = sub(all_col_age,col_to_drop_age)\n"
      ]
    },
    {
      "cell_type": "markdown",
      "metadata": {
        "id": "ruSXcXDEibgU"
      },
      "source": [
        "### MDB-INSEE-Divers"
      ]
    },
    {
      "cell_type": "markdown",
      "metadata": {
        "id": "Rn8zV1bxSybT"
      },
      "source": [
        "#### première analyse visuelle"
      ]
    },
    {
      "cell_type": "code",
      "execution_count": 139,
      "metadata": {
        "cellView": "form",
        "collapsed": true,
        "id": "vgg4eqWziuGG"
      },
      "outputs": [
        {
          "name": "stdout",
          "output_type": "stream",
          "text": [
            "forme : (36677, 101)\n"
          ]
        },
        {
          "data": {
            "application/vnd.microsoft.datawrangler.viewer.v0+json": {
              "columns": [
                {
                  "name": "index",
                  "rawType": "int64",
                  "type": "integer"
                },
                {
                  "name": "CODGEO",
                  "rawType": "object",
                  "type": "string"
                },
                {
                  "name": "Nb Pharmacies et parfumerie",
                  "rawType": "float64",
                  "type": "float"
                },
                {
                  "name": "Dynamique Entrepreneuriale",
                  "rawType": "float64",
                  "type": "float"
                },
                {
                  "name": "Dynamique Entrepreneuriale Service et Commerce",
                  "rawType": "float64",
                  "type": "float"
                },
                {
                  "name": "Synergie Médicale COMMUNE",
                  "rawType": "int64",
                  "type": "integer"
                },
                {
                  "name": "Orientation Economique",
                  "rawType": "object",
                  "type": "string"
                },
                {
                  "name": "Indice Fiscal Partiel",
                  "rawType": "float64",
                  "type": "float"
                },
                {
                  "name": "Score Fiscal",
                  "rawType": "float64",
                  "type": "float"
                },
                {
                  "name": "Indice Evasion Client",
                  "rawType": "float64",
                  "type": "float"
                },
                {
                  "name": "Score Evasion Client",
                  "rawType": "float64",
                  "type": "float"
                },
                {
                  "name": "Indice Synergie Médicale",
                  "rawType": "float64",
                  "type": "float"
                },
                {
                  "name": "Score Synergie Médicale",
                  "rawType": "float64",
                  "type": "float"
                },
                {
                  "name": "SEG Croissance POP",
                  "rawType": "object",
                  "type": "string"
                },
                {
                  "name": "LIBGEO",
                  "rawType": "object",
                  "type": "string"
                },
                {
                  "name": "REG",
                  "rawType": "int64",
                  "type": "integer"
                },
                {
                  "name": "DEP",
                  "rawType": "object",
                  "type": "string"
                },
                {
                  "name": "Nb Omnipraticiens BV",
                  "rawType": "int64",
                  "type": "integer"
                },
                {
                  "name": "Nb Infirmiers Libéraux BV",
                  "rawType": "int64",
                  "type": "integer"
                },
                {
                  "name": "Nb dentistes Libéraux BV",
                  "rawType": "int64",
                  "type": "integer"
                },
                {
                  "name": "Nb pharmaciens Libéraux BV",
                  "rawType": "int64",
                  "type": "integer"
                },
                {
                  "name": "Densité Médicale BV",
                  "rawType": "float64",
                  "type": "float"
                },
                {
                  "name": "Score équipement de santé BV",
                  "rawType": "int64",
                  "type": "integer"
                },
                {
                  "name": "Indice Démographique",
                  "rawType": "float64",
                  "type": "float"
                },
                {
                  "name": "Score Démographique",
                  "rawType": "float64",
                  "type": "float"
                },
                {
                  "name": "Indice Ménages",
                  "rawType": "float64",
                  "type": "float"
                },
                {
                  "name": "Score Ménages",
                  "rawType": "float64",
                  "type": "float"
                },
                {
                  "name": "Population",
                  "rawType": "int64",
                  "type": "integer"
                },
                {
                  "name": "Evolution Population",
                  "rawType": "int64",
                  "type": "integer"
                },
                {
                  "name": "Evolution Pop %",
                  "rawType": "int64",
                  "type": "integer"
                },
                {
                  "name": "Nb Ménages",
                  "rawType": "int64",
                  "type": "integer"
                },
                {
                  "name": "Nb Résidences Principales",
                  "rawType": "int64",
                  "type": "integer"
                },
                {
                  "name": "Nb propriétaire",
                  "rawType": "int64",
                  "type": "integer"
                },
                {
                  "name": "Nb Logement",
                  "rawType": "int64",
                  "type": "integer"
                },
                {
                  "name": "Nb Résidences Secondaires",
                  "rawType": "int64",
                  "type": "integer"
                },
                {
                  "name": "Nb Log Vacants",
                  "rawType": "int64",
                  "type": "integer"
                },
                {
                  "name": "Nb Occupants Résidence Principale",
                  "rawType": "int64",
                  "type": "integer"
                },
                {
                  "name": "Nb Femme",
                  "rawType": "int64",
                  "type": "integer"
                },
                {
                  "name": "Nb Homme",
                  "rawType": "int64",
                  "type": "integer"
                },
                {
                  "name": "Nb Mineurs",
                  "rawType": "int64",
                  "type": "integer"
                },
                {
                  "name": "Nb Majeurs",
                  "rawType": "int64",
                  "type": "integer"
                },
                {
                  "name": "Nb Etudiants",
                  "rawType": "int64",
                  "type": "integer"
                },
                {
                  "name": "Nb Entreprises Secteur Services",
                  "rawType": "float64",
                  "type": "float"
                },
                {
                  "name": "Nb Entreprises Secteur Commerce",
                  "rawType": "float64",
                  "type": "float"
                },
                {
                  "name": "Nb Entreprises Secteur Construction",
                  "rawType": "float64",
                  "type": "float"
                },
                {
                  "name": "Nb Entreprises Secteur Industrie",
                  "rawType": "float64",
                  "type": "float"
                },
                {
                  "name": "Nb Création Enteprises",
                  "rawType": "float64",
                  "type": "float"
                },
                {
                  "name": "Nb Création Industrielles",
                  "rawType": "float64",
                  "type": "float"
                },
                {
                  "name": "Nb Création Construction",
                  "rawType": "float64",
                  "type": "float"
                },
                {
                  "name": "Nb Création Commerces",
                  "rawType": "float64",
                  "type": "float"
                },
                {
                  "name": "Nb Création Services",
                  "rawType": "float64",
                  "type": "float"
                },
                {
                  "name": "Moyenne Revenus Fiscaux Départementaux",
                  "rawType": "int64",
                  "type": "integer"
                },
                {
                  "name": "Moyenne Revenus Fiscaux Régionaux",
                  "rawType": "int64",
                  "type": "integer"
                },
                {
                  "name": "Dep Moyenne Salaires Horaires",
                  "rawType": "float64",
                  "type": "float"
                },
                {
                  "name": "Dep Moyenne Salaires Cadre Horaires",
                  "rawType": "float64",
                  "type": "float"
                },
                {
                  "name": "Dep Moyenne Salaires Prof Intermédiaire Horaires",
                  "rawType": "float64",
                  "type": "float"
                },
                {
                  "name": "Dep Moyenne Salaires Employé Horaires",
                  "rawType": "float64",
                  "type": "float"
                },
                {
                  "name": "Dep Moyenne Salaires Ouvrié Horaires",
                  "rawType": "float64",
                  "type": "float"
                },
                {
                  "name": "Reg Moyenne Salaires Horaires",
                  "rawType": "float64",
                  "type": "float"
                },
                {
                  "name": "Reg Moyenne Salaires Cadre Horaires",
                  "rawType": "float64",
                  "type": "float"
                },
                {
                  "name": "Reg Moyenne Salaires Prof Intermédiaire Horaires",
                  "rawType": "float64",
                  "type": "float"
                },
                {
                  "name": "Reg Moyenne Salaires Employé Horaires",
                  "rawType": "float64",
                  "type": "float"
                },
                {
                  "name": "Reg Moyenne Salaires Ouvrié Horaires",
                  "rawType": "float64",
                  "type": "float"
                },
                {
                  "name": "Valeur ajoutée régionale",
                  "rawType": "float64",
                  "type": "float"
                },
                {
                  "name": "Urbanité Ruralité",
                  "rawType": "object",
                  "type": "string"
                },
                {
                  "name": "Score Urbanité",
                  "rawType": "float64",
                  "type": "float"
                },
                {
                  "name": "Nb Atifs",
                  "rawType": "float64",
                  "type": "float"
                },
                {
                  "name": "Nb Actifs Salariés",
                  "rawType": "float64",
                  "type": "float"
                },
                {
                  "name": "Nb Actifs Non Salariés",
                  "rawType": "float64",
                  "type": "float"
                },
                {
                  "name": "Nb Logement Secondaire et Occasionnel",
                  "rawType": "float64",
                  "type": "float"
                },
                {
                  "name": "Nb Hotel",
                  "rawType": "float64",
                  "type": "float"
                },
                {
                  "name": "Capacité Hotel",
                  "rawType": "float64",
                  "type": "float"
                },
                {
                  "name": "Nb Camping",
                  "rawType": "float64",
                  "type": "float"
                },
                {
                  "name": "Capacité Camping",
                  "rawType": "float64",
                  "type": "float"
                },
                {
                  "name": "Dynamique Démographique BV",
                  "rawType": "object",
                  "type": "string"
                },
                {
                  "name": "Taux étudiants",
                  "rawType": "int64",
                  "type": "integer"
                },
                {
                  "name": "Taux Propriété",
                  "rawType": "int64",
                  "type": "integer"
                },
                {
                  "name": "Dynamique Démographique INSEE",
                  "rawType": "int64",
                  "type": "integer"
                },
                {
                  "name": "Capacité Fisc",
                  "rawType": "int64",
                  "type": "integer"
                },
                {
                  "name": "Capacité Fiscale",
                  "rawType": "int64",
                  "type": "integer"
                },
                {
                  "name": "Moyenne Revnus fiscaux",
                  "rawType": "float64",
                  "type": "float"
                },
                {
                  "name": "Taux Evasion Client",
                  "rawType": "int64",
                  "type": "integer"
                },
                {
                  "name": "Nb Education, santé, action sociale",
                  "rawType": "float64",
                  "type": "float"
                },
                {
                  "name": "Nb Services personnels et domestiques",
                  "rawType": "float64",
                  "type": "float"
                },
                {
                  "name": "Nb Santé, action sociale",
                  "rawType": "float64",
                  "type": "float"
                },
                {
                  "name": "Nb Industries des biens intermédiaires",
                  "rawType": "int64",
                  "type": "integer"
                },
                {
                  "name": "Nb de Commerce",
                  "rawType": "int64",
                  "type": "integer"
                },
                {
                  "name": "Nb de Services aux particuliers",
                  "rawType": "int64",
                  "type": "integer"
                },
                {
                  "name": "Nb institution de Education, santé, action sociale, administration",
                  "rawType": "int64",
                  "type": "integer"
                },
                {
                  "name": "PIB Régionnal",
                  "rawType": "int64",
                  "type": "integer"
                },
                {
                  "name": "SEG Environnement Démographique Obsolète",
                  "rawType": "object",
                  "type": "string"
                },
                {
                  "name": "Score Croissance Population",
                  "rawType": "float64",
                  "type": "float"
                },
                {
                  "name": "Score Croissance Entrepreneuriale",
                  "rawType": "float64",
                  "type": "float"
                },
                {
                  "name": "Score VA Région",
                  "rawType": "float64",
                  "type": "float"
                },
                {
                  "name": "Score PIB",
                  "rawType": "float64",
                  "type": "float"
                },
                {
                  "name": "Environnement Démographique",
                  "rawType": "object",
                  "type": "string"
                },
                {
                  "name": "Fidélité",
                  "rawType": "object",
                  "type": "string"
                },
                {
                  "name": "SYN MEDICAL",
                  "rawType": "object",
                  "type": "string"
                },
                {
                  "name": "Seg Cap Fiscale",
                  "rawType": "object",
                  "type": "string"
                },
                {
                  "name": "Seg Dyn Entre",
                  "rawType": "object",
                  "type": "string"
                },
                {
                  "name": "DYN SetC",
                  "rawType": "object",
                  "type": "string"
                },
                {
                  "name": "CP",
                  "rawType": "object",
                  "type": "string"
                }
              ],
              "conversionMethod": "pd.DataFrame",
              "ref": "ea827530-8114-499c-993f-c6a5b9c6fbdf",
              "rows": [
                [
                  "0",
                  "01001",
                  "0.0",
                  "57.0",
                  "23.0",
                  "114",
                  "Bassin Industriel",
                  "101.93878",
                  "59.04139",
                  "0.0",
                  "0.0",
                  "114.56713",
                  "0.13481",
                  "en croissance démographique",
                  "L' Abergement-Clémenciat",
                  "82",
                  "01",
                  "9",
                  "14",
                  "7",
                  "7",
                  "0.09285953737847805",
                  "4",
                  "44.19769",
                  "0.0341",
                  "37.22029",
                  "0.02223",
                  "725",
                  "16",
                  "2",
                  "247",
                  "248",
                  "196",
                  "289",
                  "32",
                  "9",
                  "728",
                  "694",
                  "714",
                  "909",
                  "499",
                  "51",
                  "7.0",
                  "11.0",
                  "2.0",
                  "2.0",
                  "4.0",
                  "0.0",
                  "2.0",
                  "1.0",
                  "1.0",
                  "12509",
                  "10458",
                  "11.410344827586206",
                  "21.963793103448275",
                  "12.558620689655172",
                  "8.743103448275862",
                  "9.268965517241378",
                  "11.873022312373227",
                  "21.787829614604476",
                  "12.704056795131846",
                  "8.78316430020284",
                  "9.301419878296146",
                  "86957.458359",
                  "Com rurale < 2 000 m habts",
                  "0.0",
                  "295.0",
                  "254.0",
                  "41.0",
                  "32.0",
                  "0.0",
                  "0.0",
                  "0.0",
                  "0.0",
                  "1.Accroissement par excédent naturel et migratoire",
                  "0",
                  "67",
                  "-1",
                  "117",
                  "117",
                  "11483.5",
                  "0",
                  "3.0",
                  "1.0",
                  "0.0",
                  "9364",
                  "9350",
                  "3372",
                  "15105",
                  "173681",
                  "Zone rurale en croissance démographique",
                  "72.13115",
                  "0.01585",
                  "32.42578",
                  "33.83811",
                  "Bassin Industriel en croissance démographique",
                  "Pop Sédentaire",
                  "Synergie Médicale",
                  "Fiscalité moyenne",
                  "Faible dynamique",
                  "Faible Dynamique Serv et Com",
                  "01"
                ],
                [
                  "1",
                  "01002",
                  "0.0",
                  "45.0",
                  "4.0",
                  "143",
                  "Bassin Résidentiel",
                  "101.93878",
                  "59.04139",
                  "0.0",
                  "0.0",
                  "143.71141",
                  "0.17351",
                  "en croissance démographique",
                  "L' Abergement-de-Varey",
                  "82",
                  "01",
                  "31",
                  "36",
                  "18",
                  "18",
                  "0.0992289641300704",
                  "4",
                  "10.18071",
                  "0.00786",
                  "10.09619",
                  "0.00603",
                  "167",
                  "4",
                  "2",
                  "67",
                  "67",
                  "61",
                  "142",
                  "71",
                  "4",
                  "168",
                  "162",
                  "164",
                  "202",
                  "124",
                  "5",
                  "4.0",
                  "0.0",
                  "1.0",
                  "0.0",
                  "1.0",
                  "0.0",
                  "0.0",
                  "0.0",
                  "1.0",
                  "12509",
                  "10458",
                  "11.410344827586206",
                  "21.963793103448275",
                  "12.558620689655172",
                  "8.743103448275862",
                  "9.268965517241378",
                  "11.873022312373227",
                  "21.787829614604476",
                  "12.704056795131846",
                  "8.78316430020284",
                  "9.301419878296146",
                  "86957.458359",
                  "Com rurale < 2 000 m habts",
                  "0.0",
                  "57.0",
                  "49.0",
                  "8.0",
                  "71.0",
                  "0.0",
                  "0.0",
                  "0.0",
                  "0.0",
                  "1.Accroissement par excédent naturel et migratoire",
                  "0",
                  "42",
                  "0",
                  "110",
                  "110",
                  "11483.5",
                  "0",
                  "0.0",
                  "0.0",
                  "0.0",
                  "9364",
                  "9350",
                  "3372",
                  "15105",
                  "173681",
                  "Zone rurale en croissance démographique",
                  "72.13115",
                  "0.00173",
                  "32.42578",
                  "33.83811",
                  "Bassin Résidentiel en croissance démographique",
                  "Pop Sédentaire",
                  "Forte Synergie Médicale",
                  "Fiscalité moyenne",
                  "Faible dynamique",
                  "Faible Dynamique Serv et Com",
                  "01"
                ],
                [
                  "2",
                  "01004",
                  "0.0",
                  "634.0",
                  "828.0",
                  "366",
                  "Bassin Résidentiel",
                  "101.93878",
                  "59.04139",
                  "248.45549",
                  "0.10621",
                  "367.8208",
                  "0.47115",
                  "en croissance démographique",
                  "Ambérieu-en-Bugey",
                  "82",
                  "01",
                  "31",
                  "36",
                  "18",
                  "18",
                  "0.0992289641300704",
                  "4",
                  "696.92134",
                  "0.53776",
                  "699.19896",
                  "0.41767",
                  "11432",
                  "512",
                  "4",
                  "4640",
                  "4635",
                  "1968",
                  "5184",
                  "135",
                  "414",
                  "11015",
                  "11350",
                  "10878",
                  "13624",
                  "8604",
                  "904",
                  "342.0",
                  "301.0",
                  "58.0",
                  "108.0",
                  "83.0",
                  "4.0",
                  "14.0",
                  "27.0",
                  "38.0",
                  "12509",
                  "10458",
                  "11.410344827586206",
                  "21.963793103448275",
                  "12.558620689655172",
                  "8.743103448275862",
                  "9.268965517241378",
                  "11.873022312373227",
                  "21.787829614604476",
                  "12.704056795131846",
                  "8.78316430020284",
                  "9.301419878296146",
                  "86957.458359",
                  "Com < 50 m habts",
                  "37.5",
                  "4556.0",
                  "4203.0",
                  "353.0",
                  "135.0",
                  "2.0",
                  "52.0",
                  "0.0",
                  "0.0",
                  "1.Accroissement par excédent naturel et migratoire",
                  "0",
                  "37",
                  "-55",
                  "250",
                  "250",
                  "11483.5",
                  "2",
                  "113.0",
                  "41.0",
                  "118.0",
                  "9364",
                  "9350",
                  "3372",
                  "15105",
                  "173681",
                  "Zone rurale en croissance démographique",
                  "72.95082",
                  "0.38471",
                  "32.42578",
                  "33.83811",
                  "Bassin Résidentiel en croissance démographique",
                  "Pop Mobile",
                  "Forte Synergie Médicale",
                  "Fiscalité moyenne",
                  "Dynamique Economique",
                  "Bonne Dynamique Entreprise Serv et Com",
                  "01"
                ]
              ],
              "shape": {
                "columns": 101,
                "rows": 3
              }
            },
            "text/html": [
              "<div>\n",
              "<style scoped>\n",
              "    .dataframe tbody tr th:only-of-type {\n",
              "        vertical-align: middle;\n",
              "    }\n",
              "\n",
              "    .dataframe tbody tr th {\n",
              "        vertical-align: top;\n",
              "    }\n",
              "\n",
              "    .dataframe thead th {\n",
              "        text-align: right;\n",
              "    }\n",
              "</style>\n",
              "<table border=\"1\" class=\"dataframe\">\n",
              "  <thead>\n",
              "    <tr style=\"text-align: right;\">\n",
              "      <th></th>\n",
              "      <th>CODGEO</th>\n",
              "      <th>Nb Pharmacies et parfumerie</th>\n",
              "      <th>Dynamique Entrepreneuriale</th>\n",
              "      <th>Dynamique Entrepreneuriale Service et Commerce</th>\n",
              "      <th>Synergie Médicale COMMUNE</th>\n",
              "      <th>Orientation Economique</th>\n",
              "      <th>Indice Fiscal Partiel</th>\n",
              "      <th>Score Fiscal</th>\n",
              "      <th>Indice Evasion Client</th>\n",
              "      <th>Score Evasion Client</th>\n",
              "      <th>Indice Synergie Médicale</th>\n",
              "      <th>Score Synergie Médicale</th>\n",
              "      <th>SEG Croissance POP</th>\n",
              "      <th>LIBGEO</th>\n",
              "      <th>REG</th>\n",
              "      <th>DEP</th>\n",
              "      <th>Nb Omnipraticiens BV</th>\n",
              "      <th>Nb Infirmiers Libéraux BV</th>\n",
              "      <th>Nb dentistes Libéraux BV</th>\n",
              "      <th>Nb pharmaciens Libéraux BV</th>\n",
              "      <th>Densité Médicale BV</th>\n",
              "      <th>Score équipement de santé BV</th>\n",
              "      <th>Indice Démographique</th>\n",
              "      <th>Score Démographique</th>\n",
              "      <th>Indice Ménages</th>\n",
              "      <th>Score Ménages</th>\n",
              "      <th>Population</th>\n",
              "      <th>Evolution Population</th>\n",
              "      <th>Evolution Pop %</th>\n",
              "      <th>Nb Ménages</th>\n",
              "      <th>Nb Résidences Principales</th>\n",
              "      <th>Nb propriétaire</th>\n",
              "      <th>Nb Logement</th>\n",
              "      <th>Nb Résidences Secondaires</th>\n",
              "      <th>Nb Log Vacants</th>\n",
              "      <th>Nb Occupants Résidence Principale</th>\n",
              "      <th>Nb Femme</th>\n",
              "      <th>Nb Homme</th>\n",
              "      <th>Nb Mineurs</th>\n",
              "      <th>Nb Majeurs</th>\n",
              "      <th>Nb Etudiants</th>\n",
              "      <th>Nb Entreprises Secteur Services</th>\n",
              "      <th>Nb Entreprises Secteur Commerce</th>\n",
              "      <th>Nb Entreprises Secteur Construction</th>\n",
              "      <th>Nb Entreprises Secteur Industrie</th>\n",
              "      <th>Nb Création Enteprises</th>\n",
              "      <th>Nb Création Industrielles</th>\n",
              "      <th>Nb Création Construction</th>\n",
              "      <th>Nb Création Commerces</th>\n",
              "      <th>Nb Création Services</th>\n",
              "      <th>Moyenne Revenus Fiscaux Départementaux</th>\n",
              "      <th>Moyenne Revenus Fiscaux Régionaux</th>\n",
              "      <th>Dep Moyenne Salaires Horaires</th>\n",
              "      <th>Dep Moyenne Salaires Cadre Horaires</th>\n",
              "      <th>Dep Moyenne Salaires Prof Intermédiaire Horaires</th>\n",
              "      <th>Dep Moyenne Salaires Employé Horaires</th>\n",
              "      <th>Dep Moyenne Salaires Ouvrié Horaires</th>\n",
              "      <th>Reg Moyenne Salaires Horaires</th>\n",
              "      <th>Reg Moyenne Salaires Cadre Horaires</th>\n",
              "      <th>Reg Moyenne Salaires Prof Intermédiaire Horaires</th>\n",
              "      <th>Reg Moyenne Salaires Employé Horaires</th>\n",
              "      <th>Reg Moyenne Salaires Ouvrié Horaires</th>\n",
              "      <th>Valeur ajoutée régionale</th>\n",
              "      <th>Urbanité Ruralité</th>\n",
              "      <th>Score Urbanité</th>\n",
              "      <th>Nb Atifs</th>\n",
              "      <th>Nb Actifs Salariés</th>\n",
              "      <th>Nb Actifs Non Salariés</th>\n",
              "      <th>Nb Logement Secondaire et Occasionnel</th>\n",
              "      <th>Nb Hotel</th>\n",
              "      <th>Capacité Hotel</th>\n",
              "      <th>Nb Camping</th>\n",
              "      <th>Capacité Camping</th>\n",
              "      <th>Dynamique Démographique BV</th>\n",
              "      <th>Taux étudiants</th>\n",
              "      <th>Taux Propriété</th>\n",
              "      <th>Dynamique Démographique INSEE</th>\n",
              "      <th>Capacité Fisc</th>\n",
              "      <th>Capacité Fiscale</th>\n",
              "      <th>Moyenne Revnus fiscaux</th>\n",
              "      <th>Taux Evasion Client</th>\n",
              "      <th>Nb Education, santé, action sociale</th>\n",
              "      <th>Nb Services personnels et domestiques</th>\n",
              "      <th>Nb Santé, action sociale</th>\n",
              "      <th>Nb Industries des biens intermédiaires</th>\n",
              "      <th>Nb de Commerce</th>\n",
              "      <th>Nb de Services aux particuliers</th>\n",
              "      <th>Nb institution de Education, santé, action sociale, administration</th>\n",
              "      <th>PIB Régionnal</th>\n",
              "      <th>SEG Environnement Démographique Obsolète</th>\n",
              "      <th>Score Croissance Population</th>\n",
              "      <th>Score Croissance Entrepreneuriale</th>\n",
              "      <th>Score VA Région</th>\n",
              "      <th>Score PIB</th>\n",
              "      <th>Environnement Démographique</th>\n",
              "      <th>Fidélité</th>\n",
              "      <th>SYN MEDICAL</th>\n",
              "      <th>Seg Cap Fiscale</th>\n",
              "      <th>Seg Dyn Entre</th>\n",
              "      <th>DYN SetC</th>\n",
              "      <th>CP</th>\n",
              "    </tr>\n",
              "  </thead>\n",
              "  <tbody>\n",
              "    <tr>\n",
              "      <th>0</th>\n",
              "      <td>01001</td>\n",
              "      <td>0.000</td>\n",
              "      <td>57.000</td>\n",
              "      <td>23.000</td>\n",
              "      <td>114</td>\n",
              "      <td>Bassin Industriel</td>\n",
              "      <td>101.939</td>\n",
              "      <td>59.041</td>\n",
              "      <td>0.000</td>\n",
              "      <td>0.000</td>\n",
              "      <td>114.567</td>\n",
              "      <td>0.135</td>\n",
              "      <td>en croissance démographique</td>\n",
              "      <td>L' Abergement-Clémenciat</td>\n",
              "      <td>82</td>\n",
              "      <td>01</td>\n",
              "      <td>9</td>\n",
              "      <td>14</td>\n",
              "      <td>7</td>\n",
              "      <td>7</td>\n",
              "      <td>0.093</td>\n",
              "      <td>4</td>\n",
              "      <td>44.198</td>\n",
              "      <td>0.034</td>\n",
              "      <td>37.220</td>\n",
              "      <td>0.022</td>\n",
              "      <td>725</td>\n",
              "      <td>16</td>\n",
              "      <td>2</td>\n",
              "      <td>247</td>\n",
              "      <td>248</td>\n",
              "      <td>196</td>\n",
              "      <td>289</td>\n",
              "      <td>32</td>\n",
              "      <td>9</td>\n",
              "      <td>728</td>\n",
              "      <td>694</td>\n",
              "      <td>714</td>\n",
              "      <td>909</td>\n",
              "      <td>499</td>\n",
              "      <td>51</td>\n",
              "      <td>7.000</td>\n",
              "      <td>11.000</td>\n",
              "      <td>2.000</td>\n",
              "      <td>2.000</td>\n",
              "      <td>4.000</td>\n",
              "      <td>0.000</td>\n",
              "      <td>2.000</td>\n",
              "      <td>1.000</td>\n",
              "      <td>1.000</td>\n",
              "      <td>12509</td>\n",
              "      <td>10458</td>\n",
              "      <td>11.410</td>\n",
              "      <td>21.964</td>\n",
              "      <td>12.559</td>\n",
              "      <td>8.743</td>\n",
              "      <td>9.269</td>\n",
              "      <td>11.873</td>\n",
              "      <td>21.788</td>\n",
              "      <td>12.704</td>\n",
              "      <td>8.783</td>\n",
              "      <td>9.301</td>\n",
              "      <td>86957.458</td>\n",
              "      <td>Com rurale &lt; 2 000 m habts</td>\n",
              "      <td>0.000</td>\n",
              "      <td>295.000</td>\n",
              "      <td>254.000</td>\n",
              "      <td>41.000</td>\n",
              "      <td>32.000</td>\n",
              "      <td>0.000</td>\n",
              "      <td>0.000</td>\n",
              "      <td>0.000</td>\n",
              "      <td>0.000</td>\n",
              "      <td>1.Accroissement par excédent naturel et migrat...</td>\n",
              "      <td>0</td>\n",
              "      <td>67</td>\n",
              "      <td>-1</td>\n",
              "      <td>117</td>\n",
              "      <td>117</td>\n",
              "      <td>11483.500</td>\n",
              "      <td>0</td>\n",
              "      <td>3.000</td>\n",
              "      <td>1.000</td>\n",
              "      <td>0.000</td>\n",
              "      <td>9364</td>\n",
              "      <td>9350</td>\n",
              "      <td>3372</td>\n",
              "      <td>15105</td>\n",
              "      <td>173681</td>\n",
              "      <td>Zone rurale en croissance démographique</td>\n",
              "      <td>72.131</td>\n",
              "      <td>0.016</td>\n",
              "      <td>32.426</td>\n",
              "      <td>33.838</td>\n",
              "      <td>Bassin Industriel en croissance démographique</td>\n",
              "      <td>Pop Sédentaire</td>\n",
              "      <td>Synergie Médicale</td>\n",
              "      <td>Fiscalité moyenne</td>\n",
              "      <td>Faible dynamique</td>\n",
              "      <td>Faible Dynamique Serv et Com</td>\n",
              "      <td>01</td>\n",
              "    </tr>\n",
              "    <tr>\n",
              "      <th>1</th>\n",
              "      <td>01002</td>\n",
              "      <td>0.000</td>\n",
              "      <td>45.000</td>\n",
              "      <td>4.000</td>\n",
              "      <td>143</td>\n",
              "      <td>Bassin Résidentiel</td>\n",
              "      <td>101.939</td>\n",
              "      <td>59.041</td>\n",
              "      <td>0.000</td>\n",
              "      <td>0.000</td>\n",
              "      <td>143.711</td>\n",
              "      <td>0.174</td>\n",
              "      <td>en croissance démographique</td>\n",
              "      <td>L' Abergement-de-Varey</td>\n",
              "      <td>82</td>\n",
              "      <td>01</td>\n",
              "      <td>31</td>\n",
              "      <td>36</td>\n",
              "      <td>18</td>\n",
              "      <td>18</td>\n",
              "      <td>0.099</td>\n",
              "      <td>4</td>\n",
              "      <td>10.181</td>\n",
              "      <td>0.008</td>\n",
              "      <td>10.096</td>\n",
              "      <td>0.006</td>\n",
              "      <td>167</td>\n",
              "      <td>4</td>\n",
              "      <td>2</td>\n",
              "      <td>67</td>\n",
              "      <td>67</td>\n",
              "      <td>61</td>\n",
              "      <td>142</td>\n",
              "      <td>71</td>\n",
              "      <td>4</td>\n",
              "      <td>168</td>\n",
              "      <td>162</td>\n",
              "      <td>164</td>\n",
              "      <td>202</td>\n",
              "      <td>124</td>\n",
              "      <td>5</td>\n",
              "      <td>4.000</td>\n",
              "      <td>0.000</td>\n",
              "      <td>1.000</td>\n",
              "      <td>0.000</td>\n",
              "      <td>1.000</td>\n",
              "      <td>0.000</td>\n",
              "      <td>0.000</td>\n",
              "      <td>0.000</td>\n",
              "      <td>1.000</td>\n",
              "      <td>12509</td>\n",
              "      <td>10458</td>\n",
              "      <td>11.410</td>\n",
              "      <td>21.964</td>\n",
              "      <td>12.559</td>\n",
              "      <td>8.743</td>\n",
              "      <td>9.269</td>\n",
              "      <td>11.873</td>\n",
              "      <td>21.788</td>\n",
              "      <td>12.704</td>\n",
              "      <td>8.783</td>\n",
              "      <td>9.301</td>\n",
              "      <td>86957.458</td>\n",
              "      <td>Com rurale &lt; 2 000 m habts</td>\n",
              "      <td>0.000</td>\n",
              "      <td>57.000</td>\n",
              "      <td>49.000</td>\n",
              "      <td>8.000</td>\n",
              "      <td>71.000</td>\n",
              "      <td>0.000</td>\n",
              "      <td>0.000</td>\n",
              "      <td>0.000</td>\n",
              "      <td>0.000</td>\n",
              "      <td>1.Accroissement par excédent naturel et migrat...</td>\n",
              "      <td>0</td>\n",
              "      <td>42</td>\n",
              "      <td>0</td>\n",
              "      <td>110</td>\n",
              "      <td>110</td>\n",
              "      <td>11483.500</td>\n",
              "      <td>0</td>\n",
              "      <td>0.000</td>\n",
              "      <td>0.000</td>\n",
              "      <td>0.000</td>\n",
              "      <td>9364</td>\n",
              "      <td>9350</td>\n",
              "      <td>3372</td>\n",
              "      <td>15105</td>\n",
              "      <td>173681</td>\n",
              "      <td>Zone rurale en croissance démographique</td>\n",
              "      <td>72.131</td>\n",
              "      <td>0.002</td>\n",
              "      <td>32.426</td>\n",
              "      <td>33.838</td>\n",
              "      <td>Bassin Résidentiel en croissance démographique</td>\n",
              "      <td>Pop Sédentaire</td>\n",
              "      <td>Forte Synergie Médicale</td>\n",
              "      <td>Fiscalité moyenne</td>\n",
              "      <td>Faible dynamique</td>\n",
              "      <td>Faible Dynamique Serv et Com</td>\n",
              "      <td>01</td>\n",
              "    </tr>\n",
              "    <tr>\n",
              "      <th>2</th>\n",
              "      <td>01004</td>\n",
              "      <td>0.000</td>\n",
              "      <td>634.000</td>\n",
              "      <td>828.000</td>\n",
              "      <td>366</td>\n",
              "      <td>Bassin Résidentiel</td>\n",
              "      <td>101.939</td>\n",
              "      <td>59.041</td>\n",
              "      <td>248.455</td>\n",
              "      <td>0.106</td>\n",
              "      <td>367.821</td>\n",
              "      <td>0.471</td>\n",
              "      <td>en croissance démographique</td>\n",
              "      <td>Ambérieu-en-Bugey</td>\n",
              "      <td>82</td>\n",
              "      <td>01</td>\n",
              "      <td>31</td>\n",
              "      <td>36</td>\n",
              "      <td>18</td>\n",
              "      <td>18</td>\n",
              "      <td>0.099</td>\n",
              "      <td>4</td>\n",
              "      <td>696.921</td>\n",
              "      <td>0.538</td>\n",
              "      <td>699.199</td>\n",
              "      <td>0.418</td>\n",
              "      <td>11432</td>\n",
              "      <td>512</td>\n",
              "      <td>4</td>\n",
              "      <td>4640</td>\n",
              "      <td>4635</td>\n",
              "      <td>1968</td>\n",
              "      <td>5184</td>\n",
              "      <td>135</td>\n",
              "      <td>414</td>\n",
              "      <td>11015</td>\n",
              "      <td>11350</td>\n",
              "      <td>10878</td>\n",
              "      <td>13624</td>\n",
              "      <td>8604</td>\n",
              "      <td>904</td>\n",
              "      <td>342.000</td>\n",
              "      <td>301.000</td>\n",
              "      <td>58.000</td>\n",
              "      <td>108.000</td>\n",
              "      <td>83.000</td>\n",
              "      <td>4.000</td>\n",
              "      <td>14.000</td>\n",
              "      <td>27.000</td>\n",
              "      <td>38.000</td>\n",
              "      <td>12509</td>\n",
              "      <td>10458</td>\n",
              "      <td>11.410</td>\n",
              "      <td>21.964</td>\n",
              "      <td>12.559</td>\n",
              "      <td>8.743</td>\n",
              "      <td>9.269</td>\n",
              "      <td>11.873</td>\n",
              "      <td>21.788</td>\n",
              "      <td>12.704</td>\n",
              "      <td>8.783</td>\n",
              "      <td>9.301</td>\n",
              "      <td>86957.458</td>\n",
              "      <td>Com &lt; 50 m habts</td>\n",
              "      <td>37.500</td>\n",
              "      <td>4556.000</td>\n",
              "      <td>4203.000</td>\n",
              "      <td>353.000</td>\n",
              "      <td>135.000</td>\n",
              "      <td>2.000</td>\n",
              "      <td>52.000</td>\n",
              "      <td>0.000</td>\n",
              "      <td>0.000</td>\n",
              "      <td>1.Accroissement par excédent naturel et migrat...</td>\n",
              "      <td>0</td>\n",
              "      <td>37</td>\n",
              "      <td>-55</td>\n",
              "      <td>250</td>\n",
              "      <td>250</td>\n",
              "      <td>11483.500</td>\n",
              "      <td>2</td>\n",
              "      <td>113.000</td>\n",
              "      <td>41.000</td>\n",
              "      <td>118.000</td>\n",
              "      <td>9364</td>\n",
              "      <td>9350</td>\n",
              "      <td>3372</td>\n",
              "      <td>15105</td>\n",
              "      <td>173681</td>\n",
              "      <td>Zone rurale en croissance démographique</td>\n",
              "      <td>72.951</td>\n",
              "      <td>0.385</td>\n",
              "      <td>32.426</td>\n",
              "      <td>33.838</td>\n",
              "      <td>Bassin Résidentiel en croissance démographique</td>\n",
              "      <td>Pop Mobile</td>\n",
              "      <td>Forte Synergie Médicale</td>\n",
              "      <td>Fiscalité moyenne</td>\n",
              "      <td>Dynamique Economique</td>\n",
              "      <td>Bonne Dynamique Entreprise Serv et Com</td>\n",
              "      <td>01</td>\n",
              "    </tr>\n",
              "  </tbody>\n",
              "</table>\n",
              "</div>"
            ],
            "text/plain": [
              "  CODGEO  Nb Pharmacies et parfumerie  Dynamique Entrepreneuriale  \\\n",
              "0  01001                        0.000                      57.000   \n",
              "1  01002                        0.000                      45.000   \n",
              "2  01004                        0.000                     634.000   \n",
              "\n",
              "   Dynamique Entrepreneuriale Service et Commerce  Synergie Médicale COMMUNE  \\\n",
              "0                                          23.000                        114   \n",
              "1                                           4.000                        143   \n",
              "2                                         828.000                        366   \n",
              "\n",
              "  Orientation Economique  Indice Fiscal Partiel  Score Fiscal  \\\n",
              "0      Bassin Industriel                101.939        59.041   \n",
              "1     Bassin Résidentiel                101.939        59.041   \n",
              "2     Bassin Résidentiel                101.939        59.041   \n",
              "\n",
              "   Indice Evasion Client  Score Evasion Client  Indice Synergie Médicale  \\\n",
              "0                  0.000                 0.000                   114.567   \n",
              "1                  0.000                 0.000                   143.711   \n",
              "2                248.455                 0.106                   367.821   \n",
              "\n",
              "   Score Synergie Médicale           SEG Croissance POP  \\\n",
              "0                    0.135  en croissance démographique   \n",
              "1                    0.174  en croissance démographique   \n",
              "2                    0.471  en croissance démographique   \n",
              "\n",
              "                     LIBGEO  REG DEP  Nb Omnipraticiens BV  \\\n",
              "0  L' Abergement-Clémenciat   82  01                     9   \n",
              "1    L' Abergement-de-Varey   82  01                    31   \n",
              "2         Ambérieu-en-Bugey   82  01                    31   \n",
              "\n",
              "   Nb Infirmiers Libéraux BV  Nb dentistes Libéraux BV  \\\n",
              "0                         14                         7   \n",
              "1                         36                        18   \n",
              "2                         36                        18   \n",
              "\n",
              "   Nb pharmaciens Libéraux BV  Densité Médicale BV  \\\n",
              "0                           7                0.093   \n",
              "1                          18                0.099   \n",
              "2                          18                0.099   \n",
              "\n",
              "   Score équipement de santé BV  Indice Démographique  Score Démographique  \\\n",
              "0                             4                44.198                0.034   \n",
              "1                             4                10.181                0.008   \n",
              "2                             4               696.921                0.538   \n",
              "\n",
              "   Indice Ménages  Score Ménages  Population  Evolution Population  \\\n",
              "0          37.220          0.022         725                    16   \n",
              "1          10.096          0.006         167                     4   \n",
              "2         699.199          0.418       11432                   512   \n",
              "\n",
              "   Evolution Pop %  Nb Ménages  Nb Résidences Principales  Nb propriétaire  \\\n",
              "0                2         247                        248              196   \n",
              "1                2          67                         67               61   \n",
              "2                4        4640                       4635             1968   \n",
              "\n",
              "   Nb Logement  Nb Résidences Secondaires  Nb Log Vacants  \\\n",
              "0          289                         32               9   \n",
              "1          142                         71               4   \n",
              "2         5184                        135             414   \n",
              "\n",
              "   Nb Occupants Résidence Principale  Nb Femme  Nb Homme  Nb Mineurs  \\\n",
              "0                                728       694       714         909   \n",
              "1                                168       162       164         202   \n",
              "2                              11015     11350     10878       13624   \n",
              "\n",
              "   Nb Majeurs  Nb Etudiants  Nb Entreprises Secteur Services  \\\n",
              "0         499            51                            7.000   \n",
              "1         124             5                            4.000   \n",
              "2        8604           904                          342.000   \n",
              "\n",
              "   Nb Entreprises Secteur Commerce  Nb Entreprises Secteur Construction  \\\n",
              "0                           11.000                                2.000   \n",
              "1                            0.000                                1.000   \n",
              "2                          301.000                               58.000   \n",
              "\n",
              "   Nb Entreprises Secteur Industrie  Nb Création Enteprises  \\\n",
              "0                             2.000                   4.000   \n",
              "1                             0.000                   1.000   \n",
              "2                           108.000                  83.000   \n",
              "\n",
              "   Nb Création Industrielles  Nb Création Construction  Nb Création Commerces  \\\n",
              "0                      0.000                     2.000                  1.000   \n",
              "1                      0.000                     0.000                  0.000   \n",
              "2                      4.000                    14.000                 27.000   \n",
              "\n",
              "   Nb Création Services  Moyenne Revenus Fiscaux Départementaux  \\\n",
              "0                 1.000                                   12509   \n",
              "1                 1.000                                   12509   \n",
              "2                38.000                                   12509   \n",
              "\n",
              "   Moyenne Revenus Fiscaux Régionaux  Dep Moyenne Salaires Horaires  \\\n",
              "0                              10458                         11.410   \n",
              "1                              10458                         11.410   \n",
              "2                              10458                         11.410   \n",
              "\n",
              "   Dep Moyenne Salaires Cadre Horaires  \\\n",
              "0                               21.964   \n",
              "1                               21.964   \n",
              "2                               21.964   \n",
              "\n",
              "   Dep Moyenne Salaires Prof Intermédiaire Horaires  \\\n",
              "0                                            12.559   \n",
              "1                                            12.559   \n",
              "2                                            12.559   \n",
              "\n",
              "   Dep Moyenne Salaires Employé Horaires  \\\n",
              "0                                  8.743   \n",
              "1                                  8.743   \n",
              "2                                  8.743   \n",
              "\n",
              "   Dep Moyenne Salaires Ouvrié Horaires  Reg Moyenne Salaires Horaires  \\\n",
              "0                                 9.269                         11.873   \n",
              "1                                 9.269                         11.873   \n",
              "2                                 9.269                         11.873   \n",
              "\n",
              "   Reg Moyenne Salaires Cadre Horaires  \\\n",
              "0                               21.788   \n",
              "1                               21.788   \n",
              "2                               21.788   \n",
              "\n",
              "   Reg Moyenne Salaires Prof Intermédiaire Horaires  \\\n",
              "0                                            12.704   \n",
              "1                                            12.704   \n",
              "2                                            12.704   \n",
              "\n",
              "   Reg Moyenne Salaires Employé Horaires  \\\n",
              "0                                  8.783   \n",
              "1                                  8.783   \n",
              "2                                  8.783   \n",
              "\n",
              "   Reg Moyenne Salaires Ouvrié Horaires  Valeur ajoutée régionale  \\\n",
              "0                                 9.301                 86957.458   \n",
              "1                                 9.301                 86957.458   \n",
              "2                                 9.301                 86957.458   \n",
              "\n",
              "            Urbanité Ruralité  Score Urbanité  Nb Atifs  Nb Actifs Salariés  \\\n",
              "0  Com rurale < 2 000 m habts           0.000   295.000             254.000   \n",
              "1  Com rurale < 2 000 m habts           0.000    57.000              49.000   \n",
              "2            Com < 50 m habts          37.500  4556.000            4203.000   \n",
              "\n",
              "   Nb Actifs Non Salariés  Nb Logement Secondaire et Occasionnel  Nb Hotel  \\\n",
              "0                  41.000                                 32.000     0.000   \n",
              "1                   8.000                                 71.000     0.000   \n",
              "2                 353.000                                135.000     2.000   \n",
              "\n",
              "   Capacité Hotel  Nb Camping  Capacité Camping  \\\n",
              "0           0.000       0.000             0.000   \n",
              "1           0.000       0.000             0.000   \n",
              "2          52.000       0.000             0.000   \n",
              "\n",
              "                          Dynamique Démographique BV  Taux étudiants  \\\n",
              "0  1.Accroissement par excédent naturel et migrat...               0   \n",
              "1  1.Accroissement par excédent naturel et migrat...               0   \n",
              "2  1.Accroissement par excédent naturel et migrat...               0   \n",
              "\n",
              "   Taux Propriété  Dynamique Démographique INSEE  Capacité Fisc  \\\n",
              "0              67                             -1            117   \n",
              "1              42                              0            110   \n",
              "2              37                            -55            250   \n",
              "\n",
              "   Capacité Fiscale  Moyenne Revnus fiscaux  Taux Evasion Client  \\\n",
              "0               117               11483.500                    0   \n",
              "1               110               11483.500                    0   \n",
              "2               250               11483.500                    2   \n",
              "\n",
              "   Nb Education, santé, action sociale  Nb Services personnels et domestiques  \\\n",
              "0                                3.000                                  1.000   \n",
              "1                                0.000                                  0.000   \n",
              "2                              113.000                                 41.000   \n",
              "\n",
              "   Nb Santé, action sociale  Nb Industries des biens intermédiaires  \\\n",
              "0                     0.000                                    9364   \n",
              "1                     0.000                                    9364   \n",
              "2                   118.000                                    9364   \n",
              "\n",
              "   Nb de Commerce  Nb de Services aux particuliers  \\\n",
              "0            9350                             3372   \n",
              "1            9350                             3372   \n",
              "2            9350                             3372   \n",
              "\n",
              "   Nb institution de Education, santé, action sociale, administration  \\\n",
              "0                                              15105                    \n",
              "1                                              15105                    \n",
              "2                                              15105                    \n",
              "\n",
              "   PIB Régionnal SEG Environnement Démographique Obsolète  \\\n",
              "0         173681  Zone rurale en croissance démographique   \n",
              "1         173681  Zone rurale en croissance démographique   \n",
              "2         173681  Zone rurale en croissance démographique   \n",
              "\n",
              "   Score Croissance Population  Score Croissance Entrepreneuriale  \\\n",
              "0                       72.131                              0.016   \n",
              "1                       72.131                              0.002   \n",
              "2                       72.951                              0.385   \n",
              "\n",
              "   Score VA Région  Score PIB                     Environnement Démographique  \\\n",
              "0           32.426     33.838   Bassin Industriel en croissance démographique   \n",
              "1           32.426     33.838  Bassin Résidentiel en croissance démographique   \n",
              "2           32.426     33.838  Bassin Résidentiel en croissance démographique   \n",
              "\n",
              "         Fidélité              SYN MEDICAL    Seg Cap Fiscale  \\\n",
              "0  Pop Sédentaire        Synergie Médicale  Fiscalité moyenne   \n",
              "1  Pop Sédentaire  Forte Synergie Médicale  Fiscalité moyenne   \n",
              "2      Pop Mobile  Forte Synergie Médicale  Fiscalité moyenne   \n",
              "\n",
              "          Seg Dyn Entre                                DYN SetC  CP  \n",
              "0      Faible dynamique            Faible Dynamique Serv et Com  01  \n",
              "1      Faible dynamique            Faible Dynamique Serv et Com  01  \n",
              "2  Dynamique Economique  Bonne Dynamique Entreprise Serv et Com  01  "
            ]
          },
          "execution_count": 139,
          "metadata": {},
          "output_type": "execute_result"
        }
      ],
      "source": [
        "# @title visualisation\n",
        "visualise(insee_divers_df)\n",
        "\n",
        "insee_divers_df.head(3)"
      ]
    },
    {
      "cell_type": "code",
      "execution_count": 140,
      "metadata": {
        "cellView": "form",
        "collapsed": true,
        "id": "tlJjQVfUi4Jt"
      },
      "outputs": [
        {
          "name": "stdout",
          "output_type": "stream",
          "text": [
            "les colonnes sont : \n",
            "Index(['CODGEO', 'Nb Pharmacies et parfumerie', 'Dynamique Entrepreneuriale',\n",
            "       'Dynamique Entrepreneuriale Service et Commerce',\n",
            "       'Synergie Médicale COMMUNE', 'Orientation Economique',\n",
            "       'Indice Fiscal Partiel', 'Score Fiscal', 'Indice Evasion Client',\n",
            "       'Score Evasion Client',\n",
            "       ...\n",
            "       'Score Croissance Entrepreneuriale', 'Score VA Région', 'Score PIB',\n",
            "       'Environnement Démographique', 'Fidélité', 'SYN MEDICAL',\n",
            "       'Seg Cap Fiscale', 'Seg Dyn Entre', 'DYN SetC', 'CP'],\n",
            "      dtype='object', length=101)\n",
            " il y'a 101 colonnes dans le dataframe\n",
            "\n",
            "------------------------------------------------------------------------------------------\n",
            "\n"
          ]
        }
      ],
      "source": [
        "# @title affichage des colonnes\n",
        "all_col_insee_divers = all_columns(insee_divers_df)"
      ]
    },
    {
      "cell_type": "markdown",
      "metadata": {
        "id": "PJRXgKjVSybT"
      },
      "source": [
        "#### regroupement"
      ]
    },
    {
      "cell_type": "code",
      "execution_count": 141,
      "metadata": {
        "collapsed": true,
        "id": "ptsZtzUjjNmB"
      },
      "outputs": [
        {
          "name": "stdout",
          "output_type": "stream",
          "text": [
            "indice_salaire_global : ['Dep Moyenne Salaires Horaires', 'Reg Moyenne Salaires Horaires']\n",
            "indice_salaire_cadre : ['Dep Moyenne Salaires Cadre Horaires', 'Reg Moyenne Salaires Cadre Horaires']\n",
            "indice_salaire_prof : ['Dep Moyenne Salaires Prof Intermédiaire Horaires', 'Reg Moyenne Salaires Prof Intermédiaire Horaires']\n",
            "indice_salaire_employé : ['Dep Moyenne Salaires Employé Horaires', 'Reg Moyenne Salaires Employé Horaires']\n",
            "indice_salaire_ouvrié : ['Dep Moyenne Salaires Ouvrié Horaires', 'Reg Moyenne Salaires Ouvrié Horaires']\n"
          ]
        }
      ],
      "source": [
        "# @title présélection\n",
        "id_mdb = 'CODGEO'\n",
        "# colonnes jugées non informatives ou trop difficile à manipuler\n",
        "col_to_drop_mdb = ['Nb Résidences Principales','Nb Log Vacants' ,\n",
        "                   'Nb Résidences Secondaires',\n",
        "                   'Score démographique' , 'Score Ménages' ,\n",
        "                   'Evolution Pop %','Score Fiscal',\n",
        "                   'Score Evasion Client','Score Synergie Médicale',\n",
        "                   'Population','Nb Logement Secondaires',\n",
        "                   'Capacité Camping', 'Capacité Hotel',\n",
        "                   'Dynamique Démographique BV', 'Capacité Fisc',\n",
        "                   'CP' , 'Urbanité Ruralité' , 'SEG Environnement Démographique Obsolète']\n",
        "# les colonnes qui on été regroupées\n",
        "HF = ['Nb Homme' , 'Nb Femme']\n",
        "\n",
        "mM = ['Nb Mineurs' , 'Nb Majeurs']\n",
        "\n",
        "Nb_entreprises = ['Nb Entreprises Secteur Commerce' ,\n",
        "                  'Nb Entreprises Secteur Construction',\n",
        "                  'Nb Entreprises Secteur Industrie' ,\n",
        "                  'Nb Entreprises Secteur Services']\n",
        "\n",
        "Nb_medecins = ['Nb Omnipraticiens BV' ,\n",
        "             'Nb Infirmiers Libéraux BV',\n",
        "             'Nb dentistes Libéraux BV',\n",
        "             'Nb pharmaciens Libéraux BV']\n",
        "\n",
        "Indice_creation_eco = ['Nb Création Enteprises' ,\n",
        "                    'Nb Création Industrielles',\n",
        "                    'Nb Création Construction',\n",
        "                    'Nb Création Commerces',\n",
        "                    'Nb création Services']\n",
        "\n",
        "Indice_fiscal = ['Moyenne Revenus Fiscaux Départementaux',\n",
        "                 'Moyenne Revenus Fiscaux Régionaux']\n",
        "\n",
        "Indice_social =['Nb Education, santé, action sociale',\n",
        "                'Nb Santé, action sociale',\n",
        "                'Nb institution de Education, santé, action sociale, administration']\n",
        "\n",
        "Indice_services = ['Nb Services personnels et domestiques',\n",
        "                   'Nb Industries des biens intermédiaires',\n",
        "                   'Nb de Commerce',\n",
        "                   'Nb de Services aux particuliers']\n",
        "\n",
        "Indice_salaire_global = ['Dep Moyenne Salaires Horaires',\n",
        "                         'Reg Moyenne Salaires Horaires',]\n",
        "\n",
        "indice_salaire_csp = ['Dep Moyenne Salaires Cadre Horaires',\n",
        "                      'Reg Moyenne Salaires Cadre Horaires',\n",
        "                      'Dep Moyenne Salaires Prof Intermédiaire Horaires',\n",
        "                      'Reg Moyenne Salaires Prof Intermédiaire Horaires',\n",
        "                      'Dep Moyenne Salaires Employé Horaires',\n",
        "                      'Reg Moyenne Salaires Employé Horaires',\n",
        "                      'Dep Moyenne Salaires Ouvrié Horaires',\n",
        "                      'Reg Moyenne Salaires Ouvrié Horaires']\n",
        "\n",
        "dict_indice_salaire = {\n",
        "    'indice_salaire_global': Indice_salaire_global,\n",
        "    **{'indice_salaire_'+str(i) : indice_salaire_csp[i:i+2] for i in range(0, len(indice_salaire_csp), 2)}\n",
        "}\n",
        "\n",
        "col_to_drop_mdb += HF + mM + Nb_entreprises + Nb_medecins + Indice_creation_eco + Indice_fiscal + Indice_salaire_global + indice_salaire_csp + Indice_services + Indice_social\n",
        "\n",
        "col_to_keep5 = sub(all_col_insee_divers,col_to_drop_mdb)\n",
        "\n",
        "# ...existing code...\n",
        "\n",
        "# Dictionnaire de correspondance pour les nouveaux noms\n",
        "nouveaux_noms = {\n",
        "    'indice_salaire_0': 'indice_salaire_cadre',\n",
        "    'indice_salaire_2': 'indice_salaire_prof',\n",
        "    'indice_salaire_4': 'indice_salaire_employé',\n",
        "    'indice_salaire_6': 'indice_salaire_ouvrié'\n",
        "}\n",
        "\n",
        "for old_key, new_key in nouveaux_noms.items():\n",
        "    if old_key in dict_indice_salaire:\n",
        "        dict_indice_salaire[new_key] = dict_indice_salaire.pop(old_key)\n",
        "\n",
        "# Vérification\n",
        "for k, v in dict_indice_salaire.items():\n",
        "    print(f\"{k} : {v}\")\n",
        "# ...existing code..."
      ]
    },
    {
      "cell_type": "code",
      "execution_count": 142,
      "metadata": {
        "id": "RrUs9nYFSybU"
      },
      "outputs": [
        {
          "data": {
            "application/vnd.microsoft.datawrangler.viewer.v0+json": {
              "columns": [
                {
                  "name": "index",
                  "rawType": "int64",
                  "type": "integer"
                },
                {
                  "name": "CODGEO",
                  "rawType": "object",
                  "type": "string"
                },
                {
                  "name": "Nb Pharmacies et parfumerie",
                  "rawType": "float64",
                  "type": "float"
                },
                {
                  "name": "Dynamique Entrepreneuriale",
                  "rawType": "float64",
                  "type": "float"
                },
                {
                  "name": "Dynamique Entrepreneuriale Service et Commerce",
                  "rawType": "float64",
                  "type": "float"
                },
                {
                  "name": "Synergie Médicale COMMUNE",
                  "rawType": "int64",
                  "type": "integer"
                },
                {
                  "name": "Orientation Economique",
                  "rawType": "object",
                  "type": "string"
                },
                {
                  "name": "Indice Fiscal Partiel",
                  "rawType": "float64",
                  "type": "float"
                },
                {
                  "name": "Indice Evasion Client",
                  "rawType": "float64",
                  "type": "float"
                },
                {
                  "name": "Indice Synergie Médicale",
                  "rawType": "float64",
                  "type": "float"
                },
                {
                  "name": "SEG Croissance POP",
                  "rawType": "object",
                  "type": "string"
                },
                {
                  "name": "LIBGEO",
                  "rawType": "object",
                  "type": "string"
                },
                {
                  "name": "REG",
                  "rawType": "int64",
                  "type": "integer"
                },
                {
                  "name": "DEP",
                  "rawType": "object",
                  "type": "string"
                },
                {
                  "name": "Densité Médicale BV",
                  "rawType": "float64",
                  "type": "float"
                },
                {
                  "name": "Score équipement de santé BV",
                  "rawType": "int64",
                  "type": "integer"
                },
                {
                  "name": "Indice Démographique",
                  "rawType": "float64",
                  "type": "float"
                },
                {
                  "name": "Score Démographique",
                  "rawType": "float64",
                  "type": "float"
                },
                {
                  "name": "Indice Ménages",
                  "rawType": "float64",
                  "type": "float"
                },
                {
                  "name": "Evolution Population",
                  "rawType": "int64",
                  "type": "integer"
                },
                {
                  "name": "Nb Ménages",
                  "rawType": "int64",
                  "type": "integer"
                },
                {
                  "name": "Nb propriétaire",
                  "rawType": "int64",
                  "type": "integer"
                },
                {
                  "name": "Nb Logement",
                  "rawType": "int64",
                  "type": "integer"
                },
                {
                  "name": "Nb Occupants Résidence Principale",
                  "rawType": "int64",
                  "type": "integer"
                },
                {
                  "name": "Nb Etudiants",
                  "rawType": "int64",
                  "type": "integer"
                },
                {
                  "name": "Nb Création Services",
                  "rawType": "float64",
                  "type": "float"
                },
                {
                  "name": "Valeur ajoutée régionale",
                  "rawType": "float64",
                  "type": "float"
                },
                {
                  "name": "Score Urbanité",
                  "rawType": "float64",
                  "type": "float"
                },
                {
                  "name": "Nb Atifs",
                  "rawType": "float64",
                  "type": "float"
                },
                {
                  "name": "Nb Actifs Salariés",
                  "rawType": "float64",
                  "type": "float"
                },
                {
                  "name": "Nb Actifs Non Salariés",
                  "rawType": "float64",
                  "type": "float"
                },
                {
                  "name": "Nb Logement Secondaire et Occasionnel",
                  "rawType": "float64",
                  "type": "float"
                },
                {
                  "name": "Nb Hotel",
                  "rawType": "float64",
                  "type": "float"
                },
                {
                  "name": "Nb Camping",
                  "rawType": "float64",
                  "type": "float"
                },
                {
                  "name": "Taux étudiants",
                  "rawType": "int64",
                  "type": "integer"
                },
                {
                  "name": "Taux Propriété",
                  "rawType": "int64",
                  "type": "integer"
                },
                {
                  "name": "Dynamique Démographique INSEE",
                  "rawType": "int64",
                  "type": "integer"
                },
                {
                  "name": "Capacité Fiscale",
                  "rawType": "int64",
                  "type": "integer"
                },
                {
                  "name": "Moyenne Revnus fiscaux",
                  "rawType": "float64",
                  "type": "float"
                },
                {
                  "name": "Taux Evasion Client",
                  "rawType": "int64",
                  "type": "integer"
                },
                {
                  "name": "PIB Régionnal",
                  "rawType": "int64",
                  "type": "integer"
                },
                {
                  "name": "Score Croissance Population",
                  "rawType": "float64",
                  "type": "float"
                },
                {
                  "name": "Score Croissance Entrepreneuriale",
                  "rawType": "float64",
                  "type": "float"
                },
                {
                  "name": "Score VA Région",
                  "rawType": "float64",
                  "type": "float"
                },
                {
                  "name": "Score PIB",
                  "rawType": "float64",
                  "type": "float"
                },
                {
                  "name": "Environnement Démographique",
                  "rawType": "object",
                  "type": "string"
                },
                {
                  "name": "Fidélité",
                  "rawType": "object",
                  "type": "string"
                },
                {
                  "name": "SYN MEDICAL",
                  "rawType": "object",
                  "type": "string"
                },
                {
                  "name": "Seg Cap Fiscale",
                  "rawType": "object",
                  "type": "string"
                },
                {
                  "name": "Seg Dyn Entre",
                  "rawType": "object",
                  "type": "string"
                },
                {
                  "name": "DYN SetC",
                  "rawType": "object",
                  "type": "string"
                },
                {
                  "name": "Nb Entreprises",
                  "rawType": "float64",
                  "type": "float"
                },
                {
                  "name": "Nb Medecins",
                  "rawType": "int64",
                  "type": "integer"
                },
                {
                  "name": "rH/F",
                  "rawType": "float64",
                  "type": "float"
                },
                {
                  "name": "rm/M",
                  "rawType": "float64",
                  "type": "float"
                },
                {
                  "name": "indice_salaire_global",
                  "rawType": "float64",
                  "type": "float"
                },
                {
                  "name": "indice_salaire_cadre",
                  "rawType": "float64",
                  "type": "float"
                },
                {
                  "name": "indice_salaire_prof",
                  "rawType": "float64",
                  "type": "float"
                },
                {
                  "name": "indice_salaire_employé",
                  "rawType": "float64",
                  "type": "float"
                },
                {
                  "name": "indice_salaire_ouvrié",
                  "rawType": "float64",
                  "type": "float"
                },
                {
                  "name": "indice_social",
                  "rawType": "float64",
                  "type": "float"
                },
                {
                  "name": "indice_services",
                  "rawType": "float64",
                  "type": "float"
                }
              ],
              "conversionMethod": "pd.DataFrame",
              "ref": "8338c66f-c913-4b16-a4c3-f46be6448515",
              "rows": [
                [
                  "0",
                  "01001",
                  "0.0",
                  "57.0",
                  "23.0",
                  "114",
                  "Bassin Industriel",
                  "101.93878",
                  "0.0",
                  "114.56713",
                  "en croissance démographique",
                  "L' Abergement-Clémenciat",
                  "82",
                  "01",
                  "0.09285953737847805",
                  "4",
                  "44.19769",
                  "0.0341",
                  "37.22029",
                  "16",
                  "247",
                  "196",
                  "289",
                  "728",
                  "51",
                  "1.0",
                  "86957.458359",
                  "0.0",
                  "295.0",
                  "254.0",
                  "41.0",
                  "32.0",
                  "0.0",
                  "0.0",
                  "0",
                  "67",
                  "-1",
                  "117",
                  "11483.5",
                  "0",
                  "173681",
                  "72.13115",
                  "0.01585",
                  "32.42578",
                  "33.83811",
                  "Bassin Industriel en croissance démographique",
                  "Pop Sédentaire",
                  "Synergie Médicale",
                  "Fiscalité moyenne",
                  "Faible dynamique",
                  "Faible Dynamique Serv et Com",
                  "22.0",
                  "37",
                  "1.0288184438040346",
                  "1.8216432865731462",
                  "0.9610311955444697",
                  "1.0080762284245994",
                  "0.9885519950184413",
                  "0.9954389044132931",
                  "0.9965108164689461",
                  "15108.0",
                  "22087.0"
                ],
                [
                  "1",
                  "01002",
                  "0.0",
                  "45.0",
                  "4.0",
                  "143",
                  "Bassin Résidentiel",
                  "101.93878",
                  "0.0",
                  "143.71141",
                  "en croissance démographique",
                  "L' Abergement-de-Varey",
                  "82",
                  "01",
                  "0.0992289641300704",
                  "4",
                  "10.18071",
                  "0.00786",
                  "10.09619",
                  "4",
                  "67",
                  "61",
                  "142",
                  "168",
                  "5",
                  "1.0",
                  "86957.458359",
                  "0.0",
                  "57.0",
                  "49.0",
                  "8.0",
                  "71.0",
                  "0.0",
                  "0.0",
                  "0",
                  "42",
                  "0",
                  "110",
                  "11483.5",
                  "0",
                  "173681",
                  "72.13115",
                  "0.00173",
                  "32.42578",
                  "33.83811",
                  "Bassin Résidentiel en croissance démographique",
                  "Pop Sédentaire",
                  "Forte Synergie Médicale",
                  "Fiscalité moyenne",
                  "Faible dynamique",
                  "Faible Dynamique Serv et Com",
                  "5.0",
                  "103",
                  "1.0123456790123457",
                  "1.6290322580645162",
                  "0.9610311955444697",
                  "1.0080762284245994",
                  "0.9885519950184413",
                  "0.9954389044132931",
                  "0.9965108164689461",
                  "15105.0",
                  "22086.0"
                ],
                [
                  "2",
                  "01004",
                  "0.0",
                  "634.0",
                  "828.0",
                  "366",
                  "Bassin Résidentiel",
                  "101.93878",
                  "248.45549",
                  "367.8208",
                  "en croissance démographique",
                  "Ambérieu-en-Bugey",
                  "82",
                  "01",
                  "0.0992289641300704",
                  "4",
                  "696.92134",
                  "0.53776",
                  "699.19896",
                  "512",
                  "4640",
                  "1968",
                  "5184",
                  "11015",
                  "904",
                  "38.0",
                  "86957.458359",
                  "37.5",
                  "4556.0",
                  "4203.0",
                  "353.0",
                  "135.0",
                  "2.0",
                  "0.0",
                  "0",
                  "37",
                  "-55",
                  "250",
                  "11483.5",
                  "2",
                  "173681",
                  "72.95082",
                  "0.38471",
                  "32.42578",
                  "33.83811",
                  "Bassin Résidentiel en croissance démographique",
                  "Pop Mobile",
                  "Forte Synergie Médicale",
                  "Fiscalité moyenne",
                  "Dynamique Economique",
                  "Bonne Dynamique Entreprise Serv et Com",
                  "809.0",
                  "103",
                  "0.9584140969162995",
                  "1.583449558344956",
                  "0.9610311955444697",
                  "1.0080762284245994",
                  "0.9885519950184413",
                  "0.9954389044132931",
                  "0.9965108164689461",
                  "15336.0",
                  "22127.0"
                ]
              ],
              "shape": {
                "columns": 61,
                "rows": 3
              }
            },
            "text/html": [
              "<div>\n",
              "<style scoped>\n",
              "    .dataframe tbody tr th:only-of-type {\n",
              "        vertical-align: middle;\n",
              "    }\n",
              "\n",
              "    .dataframe tbody tr th {\n",
              "        vertical-align: top;\n",
              "    }\n",
              "\n",
              "    .dataframe thead th {\n",
              "        text-align: right;\n",
              "    }\n",
              "</style>\n",
              "<table border=\"1\" class=\"dataframe\">\n",
              "  <thead>\n",
              "    <tr style=\"text-align: right;\">\n",
              "      <th></th>\n",
              "      <th>CODGEO</th>\n",
              "      <th>Nb Pharmacies et parfumerie</th>\n",
              "      <th>Dynamique Entrepreneuriale</th>\n",
              "      <th>Dynamique Entrepreneuriale Service et Commerce</th>\n",
              "      <th>Synergie Médicale COMMUNE</th>\n",
              "      <th>Orientation Economique</th>\n",
              "      <th>Indice Fiscal Partiel</th>\n",
              "      <th>Indice Evasion Client</th>\n",
              "      <th>Indice Synergie Médicale</th>\n",
              "      <th>SEG Croissance POP</th>\n",
              "      <th>LIBGEO</th>\n",
              "      <th>REG</th>\n",
              "      <th>DEP</th>\n",
              "      <th>Densité Médicale BV</th>\n",
              "      <th>Score équipement de santé BV</th>\n",
              "      <th>Indice Démographique</th>\n",
              "      <th>Score Démographique</th>\n",
              "      <th>Indice Ménages</th>\n",
              "      <th>Evolution Population</th>\n",
              "      <th>Nb Ménages</th>\n",
              "      <th>Nb propriétaire</th>\n",
              "      <th>Nb Logement</th>\n",
              "      <th>Nb Occupants Résidence Principale</th>\n",
              "      <th>Nb Etudiants</th>\n",
              "      <th>Nb Création Services</th>\n",
              "      <th>Valeur ajoutée régionale</th>\n",
              "      <th>Score Urbanité</th>\n",
              "      <th>Nb Atifs</th>\n",
              "      <th>Nb Actifs Salariés</th>\n",
              "      <th>Nb Actifs Non Salariés</th>\n",
              "      <th>Nb Logement Secondaire et Occasionnel</th>\n",
              "      <th>Nb Hotel</th>\n",
              "      <th>Nb Camping</th>\n",
              "      <th>Taux étudiants</th>\n",
              "      <th>Taux Propriété</th>\n",
              "      <th>Dynamique Démographique INSEE</th>\n",
              "      <th>Capacité Fiscale</th>\n",
              "      <th>Moyenne Revnus fiscaux</th>\n",
              "      <th>Taux Evasion Client</th>\n",
              "      <th>PIB Régionnal</th>\n",
              "      <th>Score Croissance Population</th>\n",
              "      <th>Score Croissance Entrepreneuriale</th>\n",
              "      <th>Score VA Région</th>\n",
              "      <th>Score PIB</th>\n",
              "      <th>Environnement Démographique</th>\n",
              "      <th>Fidélité</th>\n",
              "      <th>SYN MEDICAL</th>\n",
              "      <th>Seg Cap Fiscale</th>\n",
              "      <th>Seg Dyn Entre</th>\n",
              "      <th>DYN SetC</th>\n",
              "      <th>Nb Entreprises</th>\n",
              "      <th>Nb Medecins</th>\n",
              "      <th>rH/F</th>\n",
              "      <th>rm/M</th>\n",
              "      <th>indice_salaire_global</th>\n",
              "      <th>indice_salaire_cadre</th>\n",
              "      <th>indice_salaire_prof</th>\n",
              "      <th>indice_salaire_employé</th>\n",
              "      <th>indice_salaire_ouvrié</th>\n",
              "      <th>indice_social</th>\n",
              "      <th>indice_services</th>\n",
              "    </tr>\n",
              "  </thead>\n",
              "  <tbody>\n",
              "    <tr>\n",
              "      <th>0</th>\n",
              "      <td>01001</td>\n",
              "      <td>0.000</td>\n",
              "      <td>57.000</td>\n",
              "      <td>23.000</td>\n",
              "      <td>114</td>\n",
              "      <td>Bassin Industriel</td>\n",
              "      <td>101.939</td>\n",
              "      <td>0.000</td>\n",
              "      <td>114.567</td>\n",
              "      <td>en croissance démographique</td>\n",
              "      <td>L' Abergement-Clémenciat</td>\n",
              "      <td>82</td>\n",
              "      <td>01</td>\n",
              "      <td>0.093</td>\n",
              "      <td>4</td>\n",
              "      <td>44.198</td>\n",
              "      <td>0.034</td>\n",
              "      <td>37.220</td>\n",
              "      <td>16</td>\n",
              "      <td>247</td>\n",
              "      <td>196</td>\n",
              "      <td>289</td>\n",
              "      <td>728</td>\n",
              "      <td>51</td>\n",
              "      <td>1.000</td>\n",
              "      <td>86957.458</td>\n",
              "      <td>0.000</td>\n",
              "      <td>295.000</td>\n",
              "      <td>254.000</td>\n",
              "      <td>41.000</td>\n",
              "      <td>32.000</td>\n",
              "      <td>0.000</td>\n",
              "      <td>0.000</td>\n",
              "      <td>0</td>\n",
              "      <td>67</td>\n",
              "      <td>-1</td>\n",
              "      <td>117</td>\n",
              "      <td>11483.500</td>\n",
              "      <td>0</td>\n",
              "      <td>173681</td>\n",
              "      <td>72.131</td>\n",
              "      <td>0.016</td>\n",
              "      <td>32.426</td>\n",
              "      <td>33.838</td>\n",
              "      <td>Bassin Industriel en croissance démographique</td>\n",
              "      <td>Pop Sédentaire</td>\n",
              "      <td>Synergie Médicale</td>\n",
              "      <td>Fiscalité moyenne</td>\n",
              "      <td>Faible dynamique</td>\n",
              "      <td>Faible Dynamique Serv et Com</td>\n",
              "      <td>22.000</td>\n",
              "      <td>37</td>\n",
              "      <td>1.029</td>\n",
              "      <td>1.822</td>\n",
              "      <td>0.961</td>\n",
              "      <td>1.008</td>\n",
              "      <td>0.989</td>\n",
              "      <td>0.995</td>\n",
              "      <td>0.997</td>\n",
              "      <td>15108.000</td>\n",
              "      <td>22087.000</td>\n",
              "    </tr>\n",
              "    <tr>\n",
              "      <th>1</th>\n",
              "      <td>01002</td>\n",
              "      <td>0.000</td>\n",
              "      <td>45.000</td>\n",
              "      <td>4.000</td>\n",
              "      <td>143</td>\n",
              "      <td>Bassin Résidentiel</td>\n",
              "      <td>101.939</td>\n",
              "      <td>0.000</td>\n",
              "      <td>143.711</td>\n",
              "      <td>en croissance démographique</td>\n",
              "      <td>L' Abergement-de-Varey</td>\n",
              "      <td>82</td>\n",
              "      <td>01</td>\n",
              "      <td>0.099</td>\n",
              "      <td>4</td>\n",
              "      <td>10.181</td>\n",
              "      <td>0.008</td>\n",
              "      <td>10.096</td>\n",
              "      <td>4</td>\n",
              "      <td>67</td>\n",
              "      <td>61</td>\n",
              "      <td>142</td>\n",
              "      <td>168</td>\n",
              "      <td>5</td>\n",
              "      <td>1.000</td>\n",
              "      <td>86957.458</td>\n",
              "      <td>0.000</td>\n",
              "      <td>57.000</td>\n",
              "      <td>49.000</td>\n",
              "      <td>8.000</td>\n",
              "      <td>71.000</td>\n",
              "      <td>0.000</td>\n",
              "      <td>0.000</td>\n",
              "      <td>0</td>\n",
              "      <td>42</td>\n",
              "      <td>0</td>\n",
              "      <td>110</td>\n",
              "      <td>11483.500</td>\n",
              "      <td>0</td>\n",
              "      <td>173681</td>\n",
              "      <td>72.131</td>\n",
              "      <td>0.002</td>\n",
              "      <td>32.426</td>\n",
              "      <td>33.838</td>\n",
              "      <td>Bassin Résidentiel en croissance démographique</td>\n",
              "      <td>Pop Sédentaire</td>\n",
              "      <td>Forte Synergie Médicale</td>\n",
              "      <td>Fiscalité moyenne</td>\n",
              "      <td>Faible dynamique</td>\n",
              "      <td>Faible Dynamique Serv et Com</td>\n",
              "      <td>5.000</td>\n",
              "      <td>103</td>\n",
              "      <td>1.012</td>\n",
              "      <td>1.629</td>\n",
              "      <td>0.961</td>\n",
              "      <td>1.008</td>\n",
              "      <td>0.989</td>\n",
              "      <td>0.995</td>\n",
              "      <td>0.997</td>\n",
              "      <td>15105.000</td>\n",
              "      <td>22086.000</td>\n",
              "    </tr>\n",
              "    <tr>\n",
              "      <th>2</th>\n",
              "      <td>01004</td>\n",
              "      <td>0.000</td>\n",
              "      <td>634.000</td>\n",
              "      <td>828.000</td>\n",
              "      <td>366</td>\n",
              "      <td>Bassin Résidentiel</td>\n",
              "      <td>101.939</td>\n",
              "      <td>248.455</td>\n",
              "      <td>367.821</td>\n",
              "      <td>en croissance démographique</td>\n",
              "      <td>Ambérieu-en-Bugey</td>\n",
              "      <td>82</td>\n",
              "      <td>01</td>\n",
              "      <td>0.099</td>\n",
              "      <td>4</td>\n",
              "      <td>696.921</td>\n",
              "      <td>0.538</td>\n",
              "      <td>699.199</td>\n",
              "      <td>512</td>\n",
              "      <td>4640</td>\n",
              "      <td>1968</td>\n",
              "      <td>5184</td>\n",
              "      <td>11015</td>\n",
              "      <td>904</td>\n",
              "      <td>38.000</td>\n",
              "      <td>86957.458</td>\n",
              "      <td>37.500</td>\n",
              "      <td>4556.000</td>\n",
              "      <td>4203.000</td>\n",
              "      <td>353.000</td>\n",
              "      <td>135.000</td>\n",
              "      <td>2.000</td>\n",
              "      <td>0.000</td>\n",
              "      <td>0</td>\n",
              "      <td>37</td>\n",
              "      <td>-55</td>\n",
              "      <td>250</td>\n",
              "      <td>11483.500</td>\n",
              "      <td>2</td>\n",
              "      <td>173681</td>\n",
              "      <td>72.951</td>\n",
              "      <td>0.385</td>\n",
              "      <td>32.426</td>\n",
              "      <td>33.838</td>\n",
              "      <td>Bassin Résidentiel en croissance démographique</td>\n",
              "      <td>Pop Mobile</td>\n",
              "      <td>Forte Synergie Médicale</td>\n",
              "      <td>Fiscalité moyenne</td>\n",
              "      <td>Dynamique Economique</td>\n",
              "      <td>Bonne Dynamique Entreprise Serv et Com</td>\n",
              "      <td>809.000</td>\n",
              "      <td>103</td>\n",
              "      <td>0.958</td>\n",
              "      <td>1.583</td>\n",
              "      <td>0.961</td>\n",
              "      <td>1.008</td>\n",
              "      <td>0.989</td>\n",
              "      <td>0.995</td>\n",
              "      <td>0.997</td>\n",
              "      <td>15336.000</td>\n",
              "      <td>22127.000</td>\n",
              "    </tr>\n",
              "  </tbody>\n",
              "</table>\n",
              "</div>"
            ],
            "text/plain": [
              "  CODGEO  Nb Pharmacies et parfumerie  Dynamique Entrepreneuriale  \\\n",
              "0  01001                        0.000                      57.000   \n",
              "1  01002                        0.000                      45.000   \n",
              "2  01004                        0.000                     634.000   \n",
              "\n",
              "   Dynamique Entrepreneuriale Service et Commerce  Synergie Médicale COMMUNE  \\\n",
              "0                                          23.000                        114   \n",
              "1                                           4.000                        143   \n",
              "2                                         828.000                        366   \n",
              "\n",
              "  Orientation Economique  Indice Fiscal Partiel  Indice Evasion Client  \\\n",
              "0      Bassin Industriel                101.939                  0.000   \n",
              "1     Bassin Résidentiel                101.939                  0.000   \n",
              "2     Bassin Résidentiel                101.939                248.455   \n",
              "\n",
              "   Indice Synergie Médicale           SEG Croissance POP  \\\n",
              "0                   114.567  en croissance démographique   \n",
              "1                   143.711  en croissance démographique   \n",
              "2                   367.821  en croissance démographique   \n",
              "\n",
              "                     LIBGEO  REG DEP  Densité Médicale BV  \\\n",
              "0  L' Abergement-Clémenciat   82  01                0.093   \n",
              "1    L' Abergement-de-Varey   82  01                0.099   \n",
              "2         Ambérieu-en-Bugey   82  01                0.099   \n",
              "\n",
              "   Score équipement de santé BV  Indice Démographique  Score Démographique  \\\n",
              "0                             4                44.198                0.034   \n",
              "1                             4                10.181                0.008   \n",
              "2                             4               696.921                0.538   \n",
              "\n",
              "   Indice Ménages  Evolution Population  Nb Ménages  Nb propriétaire  \\\n",
              "0          37.220                    16         247              196   \n",
              "1          10.096                     4          67               61   \n",
              "2         699.199                   512        4640             1968   \n",
              "\n",
              "   Nb Logement  Nb Occupants Résidence Principale  Nb Etudiants  \\\n",
              "0          289                                728            51   \n",
              "1          142                                168             5   \n",
              "2         5184                              11015           904   \n",
              "\n",
              "   Nb Création Services  Valeur ajoutée régionale  Score Urbanité  Nb Atifs  \\\n",
              "0                 1.000                 86957.458           0.000   295.000   \n",
              "1                 1.000                 86957.458           0.000    57.000   \n",
              "2                38.000                 86957.458          37.500  4556.000   \n",
              "\n",
              "   Nb Actifs Salariés  Nb Actifs Non Salariés  \\\n",
              "0             254.000                  41.000   \n",
              "1              49.000                   8.000   \n",
              "2            4203.000                 353.000   \n",
              "\n",
              "   Nb Logement Secondaire et Occasionnel  Nb Hotel  Nb Camping  \\\n",
              "0                                 32.000     0.000       0.000   \n",
              "1                                 71.000     0.000       0.000   \n",
              "2                                135.000     2.000       0.000   \n",
              "\n",
              "   Taux étudiants  Taux Propriété  Dynamique Démographique INSEE  \\\n",
              "0               0              67                             -1   \n",
              "1               0              42                              0   \n",
              "2               0              37                            -55   \n",
              "\n",
              "   Capacité Fiscale  Moyenne Revnus fiscaux  Taux Evasion Client  \\\n",
              "0               117               11483.500                    0   \n",
              "1               110               11483.500                    0   \n",
              "2               250               11483.500                    2   \n",
              "\n",
              "   PIB Régionnal  Score Croissance Population  \\\n",
              "0         173681                       72.131   \n",
              "1         173681                       72.131   \n",
              "2         173681                       72.951   \n",
              "\n",
              "   Score Croissance Entrepreneuriale  Score VA Région  Score PIB  \\\n",
              "0                              0.016           32.426     33.838   \n",
              "1                              0.002           32.426     33.838   \n",
              "2                              0.385           32.426     33.838   \n",
              "\n",
              "                      Environnement Démographique        Fidélité  \\\n",
              "0   Bassin Industriel en croissance démographique  Pop Sédentaire   \n",
              "1  Bassin Résidentiel en croissance démographique  Pop Sédentaire   \n",
              "2  Bassin Résidentiel en croissance démographique      Pop Mobile   \n",
              "\n",
              "               SYN MEDICAL    Seg Cap Fiscale         Seg Dyn Entre  \\\n",
              "0        Synergie Médicale  Fiscalité moyenne      Faible dynamique   \n",
              "1  Forte Synergie Médicale  Fiscalité moyenne      Faible dynamique   \n",
              "2  Forte Synergie Médicale  Fiscalité moyenne  Dynamique Economique   \n",
              "\n",
              "                                 DYN SetC  Nb Entreprises  Nb Medecins  rH/F  \\\n",
              "0            Faible Dynamique Serv et Com          22.000           37 1.029   \n",
              "1            Faible Dynamique Serv et Com           5.000          103 1.012   \n",
              "2  Bonne Dynamique Entreprise Serv et Com         809.000          103 0.958   \n",
              "\n",
              "   rm/M  indice_salaire_global  indice_salaire_cadre  indice_salaire_prof  \\\n",
              "0 1.822                  0.961                 1.008                0.989   \n",
              "1 1.629                  0.961                 1.008                0.989   \n",
              "2 1.583                  0.961                 1.008                0.989   \n",
              "\n",
              "   indice_salaire_employé  indice_salaire_ouvrié  indice_social  \\\n",
              "0                   0.995                  0.997      15108.000   \n",
              "1                   0.995                  0.997      15105.000   \n",
              "2                   0.995                  0.997      15336.000   \n",
              "\n",
              "   indice_services  \n",
              "0        22087.000  \n",
              "1        22086.000  \n",
              "2        22127.000  "
            ]
          },
          "execution_count": 142,
          "metadata": {},
          "output_type": "execute_result"
        }
      ],
      "source": [
        "mdb_df = insee_divers_df[col_to_keep5].copy()\n",
        "\n",
        "# nombre d'entreprises\n",
        "mdb_df['Nb Entreprises'] = insee_divers_df[Nb_entreprises].sum(axis=1)\n",
        "\n",
        "# nombre de médecins\n",
        "mdb_df['Nb Medecins'] = insee_divers_df[Nb_medecins].sum(axis=1)\n",
        "mdb_df.head(3)\n",
        "\n",
        "# ratio du nombre d'hommes par rapport au femmes\n",
        "mdb_df['rH/F'] = insee_divers_df[HF[0]] / insee_divers_df[HF[1]]\n",
        "\n",
        "# ratio du nombre de mineurs par par rapport au majeurs\n",
        "mdb_df['rm/M'] = insee_divers_df[mM[0]] / insee_divers_df[mM[1]]\n",
        "\n",
        "# Indice salariax\n",
        "for k , v in dict_indice_salaire.items():\n",
        "    mdb_df[k] = insee_divers_df[v[0]]/insee_divers_df[v[1]]\n",
        "\n",
        "# indice social\n",
        "mdb_df['indice_social'] = insee_divers_df[Indice_social].sum(axis=1)\n",
        "\n",
        "# indice services\n",
        "mdb_df['indice_services'] = insee_divers_df[Indice_services].sum(axis=1)\n",
        "\n",
        "mdb_df.to_csv(\"MDB_groupe.csv\",index=False)\n",
        "mdb_df.head(3)"
      ]
    },
    {
      "cell_type": "markdown",
      "metadata": {
        "id": "cMLni9ad0AXr"
      },
      "source": [
        "* pas besoin du `Nb Résidences Principales` et `Nb Résidences Secondaires` , `Nb log Vacants`  car leur somme = `Nb Logement`\n",
        "* on peut regrouper les colonnes `Moyenne Revenus Fiscaux Départementaux` à `Moyenne Revenus Fiscaux Régionaux` en `indice fiscal` par  Indice_fiscal_dep $= \\frac{Moyenne Revenus Fiscaux Départementaux}{Moyenne Revenus Fiscaux Régionaux}$\n",
        "\n",
        "* regrouper  `Dep Moyenne Salaires Horaires` à `Reg Moyenne Salaires Horaires`  en indice salariaux -> utiliser la méthodes ACP apprament qui permet de les réduire à 2 indices synthétiques `CP1` et `CP2`"
      ]
    },
    {
      "cell_type": "markdown",
      "metadata": {
        "id": "UVpqMyjgUG8R"
      },
      "source": [
        "## 1.3 Fusion des sources fournies et nettoyage"
      ]
    },
    {
      "cell_type": "markdown",
      "metadata": {
        "id": "8F66BiGGSybV"
      },
      "source": [
        "### resultat de la préanalyse"
      ]
    },
    {
      "cell_type": "code",
      "execution_count": 143,
      "metadata": {
        "cellView": "form",
        "collapsed": true,
        "id": "D_w4XlvH0fbN"
      },
      "outputs": [
        {
          "name": "stdout",
          "output_type": "stream",
          "text": [
            "87 colonnes(s) à supprimer\n",
            "118 colonne(s) à conserver y compris les identifiants\n"
          ]
        }
      ],
      "source": [
        "# @title colonnes à supprimer , avec trop de valeurs manquantes et à conserver\n",
        "\n",
        "cols_to_drop = col_to_drop_train + col_to_drop_niveau + col_to_drop_commune + col_to_drop_age + col_to_drop_mdb\n",
        "print(f\"{len(cols_to_drop)} colonnes(s) à supprimer\")\n",
        "\n",
        "cols_to_keep = col_to_keep1 + col_to_keep2 + col_to_keep3 + col_to_keep4 + col_to_keep5\n",
        "print(f\"{len(cols_to_keep)} colonne(s) à conserver y compris les identifiants\")\n"
      ]
    },
    {
      "cell_type": "markdown",
      "metadata": {
        "id": "aHi6J682SybV"
      },
      "source": [
        "### fusion et extration des données"
      ]
    },
    {
      "cell_type": "code",
      "execution_count": 144,
      "metadata": {
        "cellView": "form",
        "id": "NcQg3GPtzijy"
      },
      "outputs": [],
      "source": [
        "def safe_feature_selection(X, selected_features):\n",
        "    \"\"\"\n",
        "    Retourne les colonnes de X correspondant aux selected_features valides.\n",
        "    \"\"\"\n",
        "    return X[[feat for feat in selected_features if feat in X.columns]]\n",
        "\n",
        "merge_list = [(niveau_vie_df , id_niveau),\n",
        "              (communes_df , id_commune),\n",
        "              (age_groups , id_age),\n",
        "              (mdb_df , id_mdb)]\n",
        "\n",
        "#fonction de fussion\n",
        "def prepare_datasets(train_data,\n",
        "                     test_data,\n",
        "                     merge_list ,\n",
        "                     base_id = id_train,\n",
        "                     cols_to_drop = cols_to_drop,\n",
        "                     verbose=False):\n",
        "    \"\"\"\n",
        "    Fonction pour préparer et fusionner les datasets pour la modélisation\n",
        "    \"\"\"\n",
        "    #Extraire les données de Macron\n",
        "    train_features = train_data[train_data['Nom']=='MACRON'].copy()\n",
        "    test_features = test_data.copy()\n",
        "\n",
        "    # harmoniser les colonnes d'identification\n",
        "    train_features['CodeINSEE'] = train_features['CodeINSEE'].astype(str).str.zfill(5)\n",
        "    test_features['CodeINSEE'] = test_features['CodeINSEE'].astype(str).str.zfill(5)\n",
        "\n",
        "    for i , (df , id_col) in enumerate(merge_list):\n",
        "        # Vérifier si la colonne d'identification est présente dans le DataFrame\n",
        "        if id_col not in df.columns:\n",
        "            raise ValueError(f\"La colonne d'identification '{id_col}' n'est pas présente dans le DataFrame à l'index {i}.\")\n",
        "\n",
        "        # Assurer que la colonne d'identification est au format string avec padding\n",
        "        df[id_col] = df[id_col].astype(str).str.zfill(5)\n",
        "\n",
        "        # nombre d'échantillons avant la fusion\n",
        "        n_samples_before = train_features.shape[0]\n",
        "\n",
        "        # Fusionner les DataFrames sur la colonne d'identification\n",
        "        train_features = pd.merge(train_features, df, left_on=base_id, right_on=id_col, how='left')\n",
        "\n",
        "        test_features = pd.merge(test_features, df, left_on=base_id, right_on=id_col, how='left')\n",
        "\n",
        "        # nombre d'échantillons après la fusion\n",
        "        n_samples_after = train_features.shape[0]\n",
        "\n",
        "        assert n_samples_before == n_samples_after, f\"Erreur de fusion : le nombre d'échantillons a changé après la fusion avec {id_col}.\"\n",
        "\n",
        "        # supprimer l'identifiant\n",
        "        if id_col != base_id:\n",
        "            train_features = train_features.drop(columns=[id_col], axis=1, errors='ignore')\n",
        "            test_features = test_features.drop(columns=[id_col], axis=1, errors='ignore')\n",
        "    #-----------------------------------------------------------------\n",
        "    # Supprimer les colonnes non informatives\n",
        "    train_features = train_features.drop(columns=cols_to_drop, axis=1, errors='ignore')\n",
        "    test_features = test_features.drop(columns=cols_to_drop, axis=1, errors='ignore')\n",
        "    #-----------------------------------------------------------------\n",
        "    # Supprimer les colonnes d'identification\n",
        "    train_features = train_features.drop(columns=IDs, axis=1 , errors='ignore')\n",
        "\n",
        "    if verbose :\n",
        "        missing1 = ((train_data.isnull().sum()/ train_data.shape[0]).sum()/train_data.shape[1] )* 100\n",
        "        missing2 = ((train_features.isnull().sum()/ train_features.shape[0]).sum()/train_features.shape[1] )* 100\n",
        "        #-------------------------------------------------------------\n",
        "        print(f\" {train_features.shape[1]} colonnes vs {train_data.shape[1]} avant la fusion\\n\")\n",
        "        print(f\" {len(cols_to_drop) + len(merge_list) + 1} colonnes supprimées pendant la fusion \\n\")\n",
        "        print(f\" \\n{train_features.shape[0]} lignes vs {train_data.shape[0]} avant la fusion\\n\")\n",
        "        print(f\" \\n{missing2}% de valeurs manquantes vs {missing1}% avant la fusion\")\n",
        "\n",
        "\n",
        "    return train_features, test_features\n"
      ]
    },
    {
      "cell_type": "code",
      "execution_count": 145,
      "metadata": {
        "id": "dMpEuUhHSybW"
      },
      "outputs": [
        {
          "name": "stdout",
          "output_type": "stream",
          "text": [
            " 111 colonnes vs 32 avant la fusion\n",
            "\n",
            " 92 colonnes supprimées pendant la fusion \n",
            "\n",
            " \n",
            "20892 lignes vs 20892 avant la fusion\n",
            "\n",
            " \n",
            "0.13070221283891595% de valeurs manquantes vs 0.0% avant la fusion\n",
            "forme du train_data : (20892, 111)\n",
            "forme du test_data : (13928, 96)\n"
          ]
        },
        {
          "data": {
            "application/vnd.microsoft.datawrangler.viewer.v0+json": {
              "columns": [
                {
                  "name": "index",
                  "rawType": "int64",
                  "type": "integer"
                },
                {
                  "name": "CodeINSEE",
                  "rawType": "object",
                  "type": "string"
                },
                {
                  "name": "Libellé du département",
                  "rawType": "object",
                  "type": "string"
                },
                {
                  "name": "Etat saisie",
                  "rawType": "object",
                  "type": "string"
                },
                {
                  "name": "Inscrits",
                  "rawType": "int64",
                  "type": "integer"
                },
                {
                  "name": "Nom Commune",
                  "rawType": "object",
                  "type": "string"
                },
                {
                  "name": "Niveau de vie Commune",
                  "rawType": "float64",
                  "type": "float"
                },
                {
                  "name": "Niveau de vie Département",
                  "rawType": "float64",
                  "type": "float"
                },
                {
                  "name": "reg_code",
                  "rawType": "int64",
                  "type": "integer"
                },
                {
                  "name": "dep_code",
                  "rawType": "object",
                  "type": "string"
                },
                {
                  "name": "canton_code",
                  "rawType": "object",
                  "type": "string"
                },
                {
                  "name": "epci_code",
                  "rawType": "object",
                  "type": "string"
                },
                {
                  "name": "academie_code",
                  "rawType": "int64",
                  "type": "integer"
                },
                {
                  "name": "code_postal",
                  "rawType": "int64",
                  "type": "integer"
                },
                {
                  "name": "codes_postaux",
                  "rawType": "object",
                  "type": "string"
                },
                {
                  "name": "zone_emploi",
                  "rawType": "float64",
                  "type": "float"
                },
                {
                  "name": "code_insee_centre_zone_emploi",
                  "rawType": "object",
                  "type": "string"
                },
                {
                  "name": "population",
                  "rawType": "int64",
                  "type": "integer"
                },
                {
                  "name": "superficie_km2",
                  "rawType": "int64",
                  "type": "integer"
                },
                {
                  "name": "densite",
                  "rawType": "float64",
                  "type": "float"
                },
                {
                  "name": "altitude_moyenne",
                  "rawType": "int64",
                  "type": "integer"
                },
                {
                  "name": "altitude_minimale",
                  "rawType": "float64",
                  "type": "float"
                },
                {
                  "name": "altitude_maximale",
                  "rawType": "float64",
                  "type": "float"
                },
                {
                  "name": "latitude_mairie",
                  "rawType": "float64",
                  "type": "float"
                },
                {
                  "name": "longitude_mairie",
                  "rawType": "float64",
                  "type": "float"
                },
                {
                  "name": "grille_densite",
                  "rawType": "object",
                  "type": "string"
                },
                {
                  "name": "NOM",
                  "rawType": "object",
                  "type": "string"
                },
                {
                  "name": "EPCI",
                  "rawType": "object",
                  "type": "unknown"
                },
                {
                  "name": "DEP_x",
                  "rawType": "object",
                  "type": "string"
                },
                {
                  "name": "REG_x",
                  "rawType": "object",
                  "type": "string"
                },
                {
                  "name": "% Mineurs",
                  "rawType": "float64",
                  "type": "float"
                },
                {
                  "name": "% Adultes",
                  "rawType": "float64",
                  "type": "float"
                },
                {
                  "name": "% Seniors",
                  "rawType": "float64",
                  "type": "float"
                },
                {
                  "name": "% Tres_Seniors",
                  "rawType": "float64",
                  "type": "float"
                },
                {
                  "name": "% Retraites",
                  "rawType": "float64",
                  "type": "float"
                },
                {
                  "name": "% Travailleurs",
                  "rawType": "float64",
                  "type": "float"
                },
                {
                  "name": "rH/F_x",
                  "rawType": "float64",
                  "type": "float"
                },
                {
                  "name": "Nb Pharmacies et parfumerie",
                  "rawType": "float64",
                  "type": "float"
                },
                {
                  "name": "Dynamique Entrepreneuriale",
                  "rawType": "float64",
                  "type": "float"
                },
                {
                  "name": "Dynamique Entrepreneuriale Service et Commerce",
                  "rawType": "float64",
                  "type": "float"
                },
                {
                  "name": "Synergie Médicale COMMUNE",
                  "rawType": "float64",
                  "type": "float"
                },
                {
                  "name": "Orientation Economique",
                  "rawType": "object",
                  "type": "string"
                },
                {
                  "name": "Indice Fiscal Partiel",
                  "rawType": "float64",
                  "type": "float"
                },
                {
                  "name": "Indice Evasion Client",
                  "rawType": "float64",
                  "type": "float"
                },
                {
                  "name": "Indice Synergie Médicale",
                  "rawType": "float64",
                  "type": "float"
                },
                {
                  "name": "SEG Croissance POP",
                  "rawType": "object",
                  "type": "string"
                },
                {
                  "name": "LIBGEO",
                  "rawType": "object",
                  "type": "string"
                },
                {
                  "name": "REG_y",
                  "rawType": "float64",
                  "type": "float"
                },
                {
                  "name": "DEP_y",
                  "rawType": "object",
                  "type": "string"
                },
                {
                  "name": "Densité Médicale BV",
                  "rawType": "float64",
                  "type": "float"
                },
                {
                  "name": "Score équipement de santé BV",
                  "rawType": "float64",
                  "type": "float"
                },
                {
                  "name": "Indice Démographique",
                  "rawType": "float64",
                  "type": "float"
                },
                {
                  "name": "Score Démographique",
                  "rawType": "float64",
                  "type": "float"
                },
                {
                  "name": "Indice Ménages",
                  "rawType": "float64",
                  "type": "float"
                },
                {
                  "name": "Evolution Population",
                  "rawType": "float64",
                  "type": "float"
                },
                {
                  "name": "Nb Ménages",
                  "rawType": "float64",
                  "type": "float"
                },
                {
                  "name": "Nb propriétaire",
                  "rawType": "float64",
                  "type": "float"
                },
                {
                  "name": "Nb Logement",
                  "rawType": "float64",
                  "type": "float"
                },
                {
                  "name": "Nb Occupants Résidence Principale",
                  "rawType": "float64",
                  "type": "float"
                },
                {
                  "name": "Nb Etudiants",
                  "rawType": "float64",
                  "type": "float"
                },
                {
                  "name": "Nb Création Services",
                  "rawType": "float64",
                  "type": "float"
                },
                {
                  "name": "Valeur ajoutée régionale",
                  "rawType": "float64",
                  "type": "float"
                },
                {
                  "name": "Score Urbanité",
                  "rawType": "float64",
                  "type": "float"
                },
                {
                  "name": "Nb Atifs",
                  "rawType": "float64",
                  "type": "float"
                },
                {
                  "name": "Nb Actifs Salariés",
                  "rawType": "float64",
                  "type": "float"
                },
                {
                  "name": "Nb Actifs Non Salariés",
                  "rawType": "float64",
                  "type": "float"
                },
                {
                  "name": "Nb Logement Secondaire et Occasionnel",
                  "rawType": "float64",
                  "type": "float"
                },
                {
                  "name": "Nb Hotel",
                  "rawType": "float64",
                  "type": "float"
                },
                {
                  "name": "Nb Camping",
                  "rawType": "float64",
                  "type": "float"
                },
                {
                  "name": "Taux étudiants",
                  "rawType": "float64",
                  "type": "float"
                },
                {
                  "name": "Taux Propriété",
                  "rawType": "float64",
                  "type": "float"
                },
                {
                  "name": "Dynamique Démographique INSEE",
                  "rawType": "float64",
                  "type": "float"
                },
                {
                  "name": "Capacité Fiscale",
                  "rawType": "float64",
                  "type": "float"
                },
                {
                  "name": "Moyenne Revnus fiscaux",
                  "rawType": "float64",
                  "type": "float"
                },
                {
                  "name": "Taux Evasion Client",
                  "rawType": "float64",
                  "type": "float"
                },
                {
                  "name": "PIB Régionnal",
                  "rawType": "float64",
                  "type": "float"
                },
                {
                  "name": "Score Croissance Population",
                  "rawType": "float64",
                  "type": "float"
                },
                {
                  "name": "Score Croissance Entrepreneuriale",
                  "rawType": "float64",
                  "type": "float"
                },
                {
                  "name": "Score VA Région",
                  "rawType": "float64",
                  "type": "float"
                },
                {
                  "name": "Score PIB",
                  "rawType": "float64",
                  "type": "float"
                },
                {
                  "name": "Environnement Démographique",
                  "rawType": "object",
                  "type": "string"
                },
                {
                  "name": "Fidélité",
                  "rawType": "object",
                  "type": "string"
                },
                {
                  "name": "SYN MEDICAL",
                  "rawType": "object",
                  "type": "string"
                },
                {
                  "name": "Seg Cap Fiscale",
                  "rawType": "object",
                  "type": "string"
                },
                {
                  "name": "Seg Dyn Entre",
                  "rawType": "object",
                  "type": "string"
                },
                {
                  "name": "DYN SetC",
                  "rawType": "object",
                  "type": "string"
                },
                {
                  "name": "Nb Entreprises",
                  "rawType": "float64",
                  "type": "float"
                },
                {
                  "name": "Nb Medecins",
                  "rawType": "float64",
                  "type": "float"
                },
                {
                  "name": "rH/F_y",
                  "rawType": "float64",
                  "type": "float"
                },
                {
                  "name": "rm/M",
                  "rawType": "float64",
                  "type": "float"
                },
                {
                  "name": "indice_salaire_global",
                  "rawType": "float64",
                  "type": "float"
                },
                {
                  "name": "indice_salaire_cadre",
                  "rawType": "float64",
                  "type": "float"
                },
                {
                  "name": "indice_salaire_prof",
                  "rawType": "float64",
                  "type": "float"
                },
                {
                  "name": "indice_salaire_employé",
                  "rawType": "float64",
                  "type": "float"
                },
                {
                  "name": "indice_salaire_ouvrié",
                  "rawType": "float64",
                  "type": "float"
                },
                {
                  "name": "indice_social",
                  "rawType": "float64",
                  "type": "float"
                },
                {
                  "name": "indice_services",
                  "rawType": "float64",
                  "type": "float"
                }
              ],
              "conversionMethod": "pd.DataFrame",
              "ref": "a7bf11b1-19a0-4a9c-a577-c77ab5e4168c",
              "rows": [
                [
                  "0",
                  "01001",
                  "Ain",
                  "Complet",
                  "643",
                  "L'Abergement-Clémenciat",
                  "22130.0",
                  "22343.574665",
                  "84",
                  "01",
                  "0108",
                  "200069193",
                  "10",
                  "1400",
                  "01400",
                  "8405.0",
                  "01053",
                  "779",
                  "16",
                  "48.7",
                  "242",
                  "206.0",
                  "272.0",
                  "46.153",
                  "4.926",
                  "Rural à habitat dispersé",
                  "L'Abergement-Clémenciat",
                  "200069193",
                  "D1",
                  "R84",
                  "25.38254265558082",
                  "41.84506424570295",
                  "29.85393716274995",
                  "4.778779780938387",
                  "19.61147293191062",
                  "7.055373232938049",
                  "1.0378247319270981",
                  "0.0",
                  "57.0",
                  "23.0",
                  "114.0",
                  "Bassin Industriel",
                  "101.93878",
                  "0.0",
                  "114.56713",
                  "en croissance démographique",
                  "L' Abergement-Clémenciat",
                  "82.0",
                  "01",
                  "0.09285953737847805",
                  "4.0",
                  "44.19769",
                  "0.0341",
                  "37.22029",
                  "16.0",
                  "247.0",
                  "196.0",
                  "289.0",
                  "728.0",
                  "51.0",
                  "1.0",
                  "86957.458359",
                  "0.0",
                  "295.0",
                  "254.0",
                  "41.0",
                  "32.0",
                  "0.0",
                  "0.0",
                  "0.0",
                  "67.0",
                  "-1.0",
                  "117.0",
                  "11483.5",
                  "0.0",
                  "173681.0",
                  "72.13115",
                  "0.01585",
                  "32.42578",
                  "33.83811",
                  "Bassin Industriel en croissance démographique",
                  "Pop Sédentaire",
                  "Synergie Médicale",
                  "Fiscalité moyenne",
                  "Faible dynamique",
                  "Faible Dynamique Serv et Com",
                  "22.0",
                  "37.0",
                  "1.0288184438040346",
                  "1.8216432865731462",
                  "0.9610311955444697",
                  "1.0080762284245994",
                  "0.9885519950184413",
                  "0.9954389044132931",
                  "0.9965108164689461",
                  "15108.0",
                  "22087.0"
                ],
                [
                  "1",
                  "01002",
                  "Ain",
                  "Complet",
                  "213",
                  "L'Abergement-de-Varey",
                  "23213.0",
                  "22343.574665",
                  "84",
                  "01",
                  "0101",
                  "240100883",
                  "10",
                  "1640",
                  "01640",
                  "8405.0",
                  "01053",
                  "256",
                  "9",
                  "27.1",
                  "483",
                  "290.0",
                  "748.0",
                  "46.009",
                  "5.428",
                  "Rural à habitat dispersé",
                  "L'Abergement-de-Varey",
                  "240100883",
                  "D1",
                  "R84",
                  "24.454823591066457",
                  "46.98023309994038",
                  "19.63675178557694",
                  "6.070748995818731",
                  "16.798418561093197",
                  "21.331799740550707",
                  "1.1022092291749883",
                  "0.0",
                  "45.0",
                  "4.0",
                  "143.0",
                  "Bassin Résidentiel",
                  "101.93878",
                  "0.0",
                  "143.71141",
                  "en croissance démographique",
                  "L' Abergement-de-Varey",
                  "82.0",
                  "01",
                  "0.0992289641300704",
                  "4.0",
                  "10.18071",
                  "0.00786",
                  "10.09619",
                  "4.0",
                  "67.0",
                  "61.0",
                  "142.0",
                  "168.0",
                  "5.0",
                  "1.0",
                  "86957.458359",
                  "0.0",
                  "57.0",
                  "49.0",
                  "8.0",
                  "71.0",
                  "0.0",
                  "0.0",
                  "0.0",
                  "42.0",
                  "0.0",
                  "110.0",
                  "11483.5",
                  "0.0",
                  "173681.0",
                  "72.13115",
                  "0.00173",
                  "32.42578",
                  "33.83811",
                  "Bassin Résidentiel en croissance démographique",
                  "Pop Sédentaire",
                  "Forte Synergie Médicale",
                  "Fiscalité moyenne",
                  "Faible dynamique",
                  "Faible Dynamique Serv et Com",
                  "5.0",
                  "103.0",
                  "1.0123456790123457",
                  "1.6290322580645162",
                  "0.9610311955444697",
                  "1.0080762284245994",
                  "0.9885519950184413",
                  "0.9954389044132931",
                  "0.9965108164689461",
                  "15105.0",
                  "22086.0"
                ],
                [
                  "2",
                  "01004",
                  "Ain",
                  "Complet",
                  "8763",
                  "Ambérieu-en-Bugey",
                  "19554.0",
                  "22343.574665",
                  "84",
                  "01",
                  "0101",
                  "240100883",
                  "10",
                  "1500",
                  "01500, 01501, 01504, 01503, 01502, 01505, 01506",
                  "8405.0",
                  "01053",
                  "14134",
                  "24",
                  "570.5",
                  "379",
                  "237.0",
                  "753.0",
                  "45.961",
                  "5.373",
                  "Centres urbains intermédiaires",
                  "Ambérieu-en-Bugey",
                  "240100883",
                  "D1",
                  "R84",
                  "23.860704469080684",
                  "47.94686377280968",
                  "24.502136141968318",
                  "5.385614043476063",
                  "18.08880667245387",
                  "0.41815374640117714",
                  "0.928892926952593",
                  "0.0",
                  "634.0",
                  "828.0",
                  "366.0",
                  "Bassin Résidentiel",
                  "101.93878",
                  "248.45549",
                  "367.8208",
                  "en croissance démographique",
                  "Ambérieu-en-Bugey",
                  "82.0",
                  "01",
                  "0.0992289641300704",
                  "4.0",
                  "696.92134",
                  "0.53776",
                  "699.19896",
                  "512.0",
                  "4640.0",
                  "1968.0",
                  "5184.0",
                  "11015.0",
                  "904.0",
                  "38.0",
                  "86957.458359",
                  "37.5",
                  "4556.0",
                  "4203.0",
                  "353.0",
                  "135.0",
                  "2.0",
                  "0.0",
                  "0.0",
                  "37.0",
                  "-55.0",
                  "250.0",
                  "11483.5",
                  "2.0",
                  "173681.0",
                  "72.95082",
                  "0.38471",
                  "32.42578",
                  "33.83811",
                  "Bassin Résidentiel en croissance démographique",
                  "Pop Mobile",
                  "Forte Synergie Médicale",
                  "Fiscalité moyenne",
                  "Dynamique Economique",
                  "Bonne Dynamique Entreprise Serv et Com",
                  "809.0",
                  "103.0",
                  "0.9584140969162995",
                  "1.583449558344956",
                  "0.9610311955444697",
                  "1.0080762284245994",
                  "0.9885519950184413",
                  "0.9954389044132931",
                  "0.9965108164689461",
                  "15336.0",
                  "22127.0"
                ]
              ],
              "shape": {
                "columns": 96,
                "rows": 3
              }
            },
            "text/html": [
              "<div>\n",
              "<style scoped>\n",
              "    .dataframe tbody tr th:only-of-type {\n",
              "        vertical-align: middle;\n",
              "    }\n",
              "\n",
              "    .dataframe tbody tr th {\n",
              "        vertical-align: top;\n",
              "    }\n",
              "\n",
              "    .dataframe thead th {\n",
              "        text-align: right;\n",
              "    }\n",
              "</style>\n",
              "<table border=\"1\" class=\"dataframe\">\n",
              "  <thead>\n",
              "    <tr style=\"text-align: right;\">\n",
              "      <th></th>\n",
              "      <th>CodeINSEE</th>\n",
              "      <th>Libellé du département</th>\n",
              "      <th>Etat saisie</th>\n",
              "      <th>Inscrits</th>\n",
              "      <th>Nom Commune</th>\n",
              "      <th>Niveau de vie Commune</th>\n",
              "      <th>Niveau de vie Département</th>\n",
              "      <th>reg_code</th>\n",
              "      <th>dep_code</th>\n",
              "      <th>canton_code</th>\n",
              "      <th>epci_code</th>\n",
              "      <th>academie_code</th>\n",
              "      <th>code_postal</th>\n",
              "      <th>codes_postaux</th>\n",
              "      <th>zone_emploi</th>\n",
              "      <th>code_insee_centre_zone_emploi</th>\n",
              "      <th>population</th>\n",
              "      <th>superficie_km2</th>\n",
              "      <th>densite</th>\n",
              "      <th>altitude_moyenne</th>\n",
              "      <th>altitude_minimale</th>\n",
              "      <th>altitude_maximale</th>\n",
              "      <th>latitude_mairie</th>\n",
              "      <th>longitude_mairie</th>\n",
              "      <th>grille_densite</th>\n",
              "      <th>NOM</th>\n",
              "      <th>EPCI</th>\n",
              "      <th>DEP_x</th>\n",
              "      <th>REG_x</th>\n",
              "      <th>% Mineurs</th>\n",
              "      <th>% Adultes</th>\n",
              "      <th>% Seniors</th>\n",
              "      <th>% Tres_Seniors</th>\n",
              "      <th>% Retraites</th>\n",
              "      <th>% Travailleurs</th>\n",
              "      <th>rH/F_x</th>\n",
              "      <th>Nb Pharmacies et parfumerie</th>\n",
              "      <th>Dynamique Entrepreneuriale</th>\n",
              "      <th>Dynamique Entrepreneuriale Service et Commerce</th>\n",
              "      <th>Synergie Médicale COMMUNE</th>\n",
              "      <th>Orientation Economique</th>\n",
              "      <th>Indice Fiscal Partiel</th>\n",
              "      <th>Indice Evasion Client</th>\n",
              "      <th>Indice Synergie Médicale</th>\n",
              "      <th>SEG Croissance POP</th>\n",
              "      <th>LIBGEO</th>\n",
              "      <th>REG_y</th>\n",
              "      <th>DEP_y</th>\n",
              "      <th>Densité Médicale BV</th>\n",
              "      <th>Score équipement de santé BV</th>\n",
              "      <th>Indice Démographique</th>\n",
              "      <th>Score Démographique</th>\n",
              "      <th>Indice Ménages</th>\n",
              "      <th>Evolution Population</th>\n",
              "      <th>Nb Ménages</th>\n",
              "      <th>Nb propriétaire</th>\n",
              "      <th>Nb Logement</th>\n",
              "      <th>Nb Occupants Résidence Principale</th>\n",
              "      <th>Nb Etudiants</th>\n",
              "      <th>Nb Création Services</th>\n",
              "      <th>Valeur ajoutée régionale</th>\n",
              "      <th>Score Urbanité</th>\n",
              "      <th>Nb Atifs</th>\n",
              "      <th>Nb Actifs Salariés</th>\n",
              "      <th>Nb Actifs Non Salariés</th>\n",
              "      <th>Nb Logement Secondaire et Occasionnel</th>\n",
              "      <th>Nb Hotel</th>\n",
              "      <th>Nb Camping</th>\n",
              "      <th>Taux étudiants</th>\n",
              "      <th>Taux Propriété</th>\n",
              "      <th>Dynamique Démographique INSEE</th>\n",
              "      <th>Capacité Fiscale</th>\n",
              "      <th>Moyenne Revnus fiscaux</th>\n",
              "      <th>Taux Evasion Client</th>\n",
              "      <th>PIB Régionnal</th>\n",
              "      <th>Score Croissance Population</th>\n",
              "      <th>Score Croissance Entrepreneuriale</th>\n",
              "      <th>Score VA Région</th>\n",
              "      <th>Score PIB</th>\n",
              "      <th>Environnement Démographique</th>\n",
              "      <th>Fidélité</th>\n",
              "      <th>SYN MEDICAL</th>\n",
              "      <th>Seg Cap Fiscale</th>\n",
              "      <th>Seg Dyn Entre</th>\n",
              "      <th>DYN SetC</th>\n",
              "      <th>Nb Entreprises</th>\n",
              "      <th>Nb Medecins</th>\n",
              "      <th>rH/F_y</th>\n",
              "      <th>rm/M</th>\n",
              "      <th>indice_salaire_global</th>\n",
              "      <th>indice_salaire_cadre</th>\n",
              "      <th>indice_salaire_prof</th>\n",
              "      <th>indice_salaire_employé</th>\n",
              "      <th>indice_salaire_ouvrié</th>\n",
              "      <th>indice_social</th>\n",
              "      <th>indice_services</th>\n",
              "    </tr>\n",
              "  </thead>\n",
              "  <tbody>\n",
              "    <tr>\n",
              "      <th>0</th>\n",
              "      <td>01001</td>\n",
              "      <td>Ain</td>\n",
              "      <td>Complet</td>\n",
              "      <td>643</td>\n",
              "      <td>L'Abergement-Clémenciat</td>\n",
              "      <td>22130.000</td>\n",
              "      <td>22343.575</td>\n",
              "      <td>84</td>\n",
              "      <td>01</td>\n",
              "      <td>0108</td>\n",
              "      <td>200069193</td>\n",
              "      <td>10</td>\n",
              "      <td>1400</td>\n",
              "      <td>01400</td>\n",
              "      <td>8405.000</td>\n",
              "      <td>01053</td>\n",
              "      <td>779</td>\n",
              "      <td>16</td>\n",
              "      <td>48.700</td>\n",
              "      <td>242</td>\n",
              "      <td>206.000</td>\n",
              "      <td>272.000</td>\n",
              "      <td>46.153</td>\n",
              "      <td>4.926</td>\n",
              "      <td>Rural à habitat dispersé</td>\n",
              "      <td>L'Abergement-Clémenciat</td>\n",
              "      <td>200069193</td>\n",
              "      <td>D1</td>\n",
              "      <td>R84</td>\n",
              "      <td>25.383</td>\n",
              "      <td>41.845</td>\n",
              "      <td>29.854</td>\n",
              "      <td>4.779</td>\n",
              "      <td>19.611</td>\n",
              "      <td>7.055</td>\n",
              "      <td>1.038</td>\n",
              "      <td>0.000</td>\n",
              "      <td>57.000</td>\n",
              "      <td>23.000</td>\n",
              "      <td>114.000</td>\n",
              "      <td>Bassin Industriel</td>\n",
              "      <td>101.939</td>\n",
              "      <td>0.000</td>\n",
              "      <td>114.567</td>\n",
              "      <td>en croissance démographique</td>\n",
              "      <td>L' Abergement-Clémenciat</td>\n",
              "      <td>82.000</td>\n",
              "      <td>01</td>\n",
              "      <td>0.093</td>\n",
              "      <td>4.000</td>\n",
              "      <td>44.198</td>\n",
              "      <td>0.034</td>\n",
              "      <td>37.220</td>\n",
              "      <td>16.000</td>\n",
              "      <td>247.000</td>\n",
              "      <td>196.000</td>\n",
              "      <td>289.000</td>\n",
              "      <td>728.000</td>\n",
              "      <td>51.000</td>\n",
              "      <td>1.000</td>\n",
              "      <td>86957.458</td>\n",
              "      <td>0.000</td>\n",
              "      <td>295.000</td>\n",
              "      <td>254.000</td>\n",
              "      <td>41.000</td>\n",
              "      <td>32.000</td>\n",
              "      <td>0.000</td>\n",
              "      <td>0.000</td>\n",
              "      <td>0.000</td>\n",
              "      <td>67.000</td>\n",
              "      <td>-1.000</td>\n",
              "      <td>117.000</td>\n",
              "      <td>11483.500</td>\n",
              "      <td>0.000</td>\n",
              "      <td>173681.000</td>\n",
              "      <td>72.131</td>\n",
              "      <td>0.016</td>\n",
              "      <td>32.426</td>\n",
              "      <td>33.838</td>\n",
              "      <td>Bassin Industriel en croissance démographique</td>\n",
              "      <td>Pop Sédentaire</td>\n",
              "      <td>Synergie Médicale</td>\n",
              "      <td>Fiscalité moyenne</td>\n",
              "      <td>Faible dynamique</td>\n",
              "      <td>Faible Dynamique Serv et Com</td>\n",
              "      <td>22.000</td>\n",
              "      <td>37.000</td>\n",
              "      <td>1.029</td>\n",
              "      <td>1.822</td>\n",
              "      <td>0.961</td>\n",
              "      <td>1.008</td>\n",
              "      <td>0.989</td>\n",
              "      <td>0.995</td>\n",
              "      <td>0.997</td>\n",
              "      <td>15108.000</td>\n",
              "      <td>22087.000</td>\n",
              "    </tr>\n",
              "    <tr>\n",
              "      <th>1</th>\n",
              "      <td>01002</td>\n",
              "      <td>Ain</td>\n",
              "      <td>Complet</td>\n",
              "      <td>213</td>\n",
              "      <td>L'Abergement-de-Varey</td>\n",
              "      <td>23213.000</td>\n",
              "      <td>22343.575</td>\n",
              "      <td>84</td>\n",
              "      <td>01</td>\n",
              "      <td>0101</td>\n",
              "      <td>240100883</td>\n",
              "      <td>10</td>\n",
              "      <td>1640</td>\n",
              "      <td>01640</td>\n",
              "      <td>8405.000</td>\n",
              "      <td>01053</td>\n",
              "      <td>256</td>\n",
              "      <td>9</td>\n",
              "      <td>27.100</td>\n",
              "      <td>483</td>\n",
              "      <td>290.000</td>\n",
              "      <td>748.000</td>\n",
              "      <td>46.009</td>\n",
              "      <td>5.428</td>\n",
              "      <td>Rural à habitat dispersé</td>\n",
              "      <td>L'Abergement-de-Varey</td>\n",
              "      <td>240100883</td>\n",
              "      <td>D1</td>\n",
              "      <td>R84</td>\n",
              "      <td>24.455</td>\n",
              "      <td>46.980</td>\n",
              "      <td>19.637</td>\n",
              "      <td>6.071</td>\n",
              "      <td>16.798</td>\n",
              "      <td>21.332</td>\n",
              "      <td>1.102</td>\n",
              "      <td>0.000</td>\n",
              "      <td>45.000</td>\n",
              "      <td>4.000</td>\n",
              "      <td>143.000</td>\n",
              "      <td>Bassin Résidentiel</td>\n",
              "      <td>101.939</td>\n",
              "      <td>0.000</td>\n",
              "      <td>143.711</td>\n",
              "      <td>en croissance démographique</td>\n",
              "      <td>L' Abergement-de-Varey</td>\n",
              "      <td>82.000</td>\n",
              "      <td>01</td>\n",
              "      <td>0.099</td>\n",
              "      <td>4.000</td>\n",
              "      <td>10.181</td>\n",
              "      <td>0.008</td>\n",
              "      <td>10.096</td>\n",
              "      <td>4.000</td>\n",
              "      <td>67.000</td>\n",
              "      <td>61.000</td>\n",
              "      <td>142.000</td>\n",
              "      <td>168.000</td>\n",
              "      <td>5.000</td>\n",
              "      <td>1.000</td>\n",
              "      <td>86957.458</td>\n",
              "      <td>0.000</td>\n",
              "      <td>57.000</td>\n",
              "      <td>49.000</td>\n",
              "      <td>8.000</td>\n",
              "      <td>71.000</td>\n",
              "      <td>0.000</td>\n",
              "      <td>0.000</td>\n",
              "      <td>0.000</td>\n",
              "      <td>42.000</td>\n",
              "      <td>0.000</td>\n",
              "      <td>110.000</td>\n",
              "      <td>11483.500</td>\n",
              "      <td>0.000</td>\n",
              "      <td>173681.000</td>\n",
              "      <td>72.131</td>\n",
              "      <td>0.002</td>\n",
              "      <td>32.426</td>\n",
              "      <td>33.838</td>\n",
              "      <td>Bassin Résidentiel en croissance démographique</td>\n",
              "      <td>Pop Sédentaire</td>\n",
              "      <td>Forte Synergie Médicale</td>\n",
              "      <td>Fiscalité moyenne</td>\n",
              "      <td>Faible dynamique</td>\n",
              "      <td>Faible Dynamique Serv et Com</td>\n",
              "      <td>5.000</td>\n",
              "      <td>103.000</td>\n",
              "      <td>1.012</td>\n",
              "      <td>1.629</td>\n",
              "      <td>0.961</td>\n",
              "      <td>1.008</td>\n",
              "      <td>0.989</td>\n",
              "      <td>0.995</td>\n",
              "      <td>0.997</td>\n",
              "      <td>15105.000</td>\n",
              "      <td>22086.000</td>\n",
              "    </tr>\n",
              "    <tr>\n",
              "      <th>2</th>\n",
              "      <td>01004</td>\n",
              "      <td>Ain</td>\n",
              "      <td>Complet</td>\n",
              "      <td>8763</td>\n",
              "      <td>Ambérieu-en-Bugey</td>\n",
              "      <td>19554.000</td>\n",
              "      <td>22343.575</td>\n",
              "      <td>84</td>\n",
              "      <td>01</td>\n",
              "      <td>0101</td>\n",
              "      <td>240100883</td>\n",
              "      <td>10</td>\n",
              "      <td>1500</td>\n",
              "      <td>01500, 01501, 01504, 01503, 01502, 01505, 01506</td>\n",
              "      <td>8405.000</td>\n",
              "      <td>01053</td>\n",
              "      <td>14134</td>\n",
              "      <td>24</td>\n",
              "      <td>570.500</td>\n",
              "      <td>379</td>\n",
              "      <td>237.000</td>\n",
              "      <td>753.000</td>\n",
              "      <td>45.961</td>\n",
              "      <td>5.373</td>\n",
              "      <td>Centres urbains intermédiaires</td>\n",
              "      <td>Ambérieu-en-Bugey</td>\n",
              "      <td>240100883</td>\n",
              "      <td>D1</td>\n",
              "      <td>R84</td>\n",
              "      <td>23.861</td>\n",
              "      <td>47.947</td>\n",
              "      <td>24.502</td>\n",
              "      <td>5.386</td>\n",
              "      <td>18.089</td>\n",
              "      <td>0.418</td>\n",
              "      <td>0.929</td>\n",
              "      <td>0.000</td>\n",
              "      <td>634.000</td>\n",
              "      <td>828.000</td>\n",
              "      <td>366.000</td>\n",
              "      <td>Bassin Résidentiel</td>\n",
              "      <td>101.939</td>\n",
              "      <td>248.455</td>\n",
              "      <td>367.821</td>\n",
              "      <td>en croissance démographique</td>\n",
              "      <td>Ambérieu-en-Bugey</td>\n",
              "      <td>82.000</td>\n",
              "      <td>01</td>\n",
              "      <td>0.099</td>\n",
              "      <td>4.000</td>\n",
              "      <td>696.921</td>\n",
              "      <td>0.538</td>\n",
              "      <td>699.199</td>\n",
              "      <td>512.000</td>\n",
              "      <td>4640.000</td>\n",
              "      <td>1968.000</td>\n",
              "      <td>5184.000</td>\n",
              "      <td>11015.000</td>\n",
              "      <td>904.000</td>\n",
              "      <td>38.000</td>\n",
              "      <td>86957.458</td>\n",
              "      <td>37.500</td>\n",
              "      <td>4556.000</td>\n",
              "      <td>4203.000</td>\n",
              "      <td>353.000</td>\n",
              "      <td>135.000</td>\n",
              "      <td>2.000</td>\n",
              "      <td>0.000</td>\n",
              "      <td>0.000</td>\n",
              "      <td>37.000</td>\n",
              "      <td>-55.000</td>\n",
              "      <td>250.000</td>\n",
              "      <td>11483.500</td>\n",
              "      <td>2.000</td>\n",
              "      <td>173681.000</td>\n",
              "      <td>72.951</td>\n",
              "      <td>0.385</td>\n",
              "      <td>32.426</td>\n",
              "      <td>33.838</td>\n",
              "      <td>Bassin Résidentiel en croissance démographique</td>\n",
              "      <td>Pop Mobile</td>\n",
              "      <td>Forte Synergie Médicale</td>\n",
              "      <td>Fiscalité moyenne</td>\n",
              "      <td>Dynamique Economique</td>\n",
              "      <td>Bonne Dynamique Entreprise Serv et Com</td>\n",
              "      <td>809.000</td>\n",
              "      <td>103.000</td>\n",
              "      <td>0.958</td>\n",
              "      <td>1.583</td>\n",
              "      <td>0.961</td>\n",
              "      <td>1.008</td>\n",
              "      <td>0.989</td>\n",
              "      <td>0.995</td>\n",
              "      <td>0.997</td>\n",
              "      <td>15336.000</td>\n",
              "      <td>22127.000</td>\n",
              "    </tr>\n",
              "  </tbody>\n",
              "</table>\n",
              "</div>"
            ],
            "text/plain": [
              "  CodeINSEE Libellé du département Etat saisie  Inscrits  \\\n",
              "0     01001                    Ain     Complet       643   \n",
              "1     01002                    Ain     Complet       213   \n",
              "2     01004                    Ain     Complet      8763   \n",
              "\n",
              "               Nom Commune  Niveau de vie Commune  Niveau de vie Département  \\\n",
              "0  L'Abergement-Clémenciat              22130.000                  22343.575   \n",
              "1    L'Abergement-de-Varey              23213.000                  22343.575   \n",
              "2        Ambérieu-en-Bugey              19554.000                  22343.575   \n",
              "\n",
              "   reg_code dep_code canton_code  epci_code  academie_code  code_postal  \\\n",
              "0        84       01        0108  200069193             10         1400   \n",
              "1        84       01        0101  240100883             10         1640   \n",
              "2        84       01        0101  240100883             10         1500   \n",
              "\n",
              "                                     codes_postaux  zone_emploi  \\\n",
              "0                                            01400     8405.000   \n",
              "1                                            01640     8405.000   \n",
              "2  01500, 01501, 01504, 01503, 01502, 01505, 01506     8405.000   \n",
              "\n",
              "  code_insee_centre_zone_emploi  population  superficie_km2  densite  \\\n",
              "0                         01053         779              16   48.700   \n",
              "1                         01053         256               9   27.100   \n",
              "2                         01053       14134              24  570.500   \n",
              "\n",
              "   altitude_moyenne  altitude_minimale  altitude_maximale  latitude_mairie  \\\n",
              "0               242            206.000            272.000           46.153   \n",
              "1               483            290.000            748.000           46.009   \n",
              "2               379            237.000            753.000           45.961   \n",
              "\n",
              "   longitude_mairie                  grille_densite                      NOM  \\\n",
              "0             4.926        Rural à habitat dispersé  L'Abergement-Clémenciat   \n",
              "1             5.428        Rural à habitat dispersé    L'Abergement-de-Varey   \n",
              "2             5.373  Centres urbains intermédiaires        Ambérieu-en-Bugey   \n",
              "\n",
              "        EPCI DEP_x REG_x  % Mineurs  % Adultes  % Seniors  % Tres_Seniors  \\\n",
              "0  200069193    D1   R84     25.383     41.845     29.854           4.779   \n",
              "1  240100883    D1   R84     24.455     46.980     19.637           6.071   \n",
              "2  240100883    D1   R84     23.861     47.947     24.502           5.386   \n",
              "\n",
              "   % Retraites  % Travailleurs  rH/F_x  Nb Pharmacies et parfumerie  \\\n",
              "0       19.611           7.055   1.038                        0.000   \n",
              "1       16.798          21.332   1.102                        0.000   \n",
              "2       18.089           0.418   0.929                        0.000   \n",
              "\n",
              "   Dynamique Entrepreneuriale  Dynamique Entrepreneuriale Service et Commerce  \\\n",
              "0                      57.000                                          23.000   \n",
              "1                      45.000                                           4.000   \n",
              "2                     634.000                                         828.000   \n",
              "\n",
              "   Synergie Médicale COMMUNE Orientation Economique  Indice Fiscal Partiel  \\\n",
              "0                    114.000      Bassin Industriel                101.939   \n",
              "1                    143.000     Bassin Résidentiel                101.939   \n",
              "2                    366.000     Bassin Résidentiel                101.939   \n",
              "\n",
              "   Indice Evasion Client  Indice Synergie Médicale  \\\n",
              "0                  0.000                   114.567   \n",
              "1                  0.000                   143.711   \n",
              "2                248.455                   367.821   \n",
              "\n",
              "            SEG Croissance POP                    LIBGEO  REG_y DEP_y  \\\n",
              "0  en croissance démographique  L' Abergement-Clémenciat 82.000    01   \n",
              "1  en croissance démographique    L' Abergement-de-Varey 82.000    01   \n",
              "2  en croissance démographique         Ambérieu-en-Bugey 82.000    01   \n",
              "\n",
              "   Densité Médicale BV  Score équipement de santé BV  Indice Démographique  \\\n",
              "0                0.093                         4.000                44.198   \n",
              "1                0.099                         4.000                10.181   \n",
              "2                0.099                         4.000               696.921   \n",
              "\n",
              "   Score Démographique  Indice Ménages  Evolution Population  Nb Ménages  \\\n",
              "0                0.034          37.220                16.000     247.000   \n",
              "1                0.008          10.096                 4.000      67.000   \n",
              "2                0.538         699.199               512.000    4640.000   \n",
              "\n",
              "   Nb propriétaire  Nb Logement  Nb Occupants Résidence Principale  \\\n",
              "0          196.000      289.000                            728.000   \n",
              "1           61.000      142.000                            168.000   \n",
              "2         1968.000     5184.000                          11015.000   \n",
              "\n",
              "   Nb Etudiants  Nb Création Services  Valeur ajoutée régionale  \\\n",
              "0        51.000                 1.000                 86957.458   \n",
              "1         5.000                 1.000                 86957.458   \n",
              "2       904.000                38.000                 86957.458   \n",
              "\n",
              "   Score Urbanité  Nb Atifs  Nb Actifs Salariés  Nb Actifs Non Salariés  \\\n",
              "0           0.000   295.000             254.000                  41.000   \n",
              "1           0.000    57.000              49.000                   8.000   \n",
              "2          37.500  4556.000            4203.000                 353.000   \n",
              "\n",
              "   Nb Logement Secondaire et Occasionnel  Nb Hotel  Nb Camping  \\\n",
              "0                                 32.000     0.000       0.000   \n",
              "1                                 71.000     0.000       0.000   \n",
              "2                                135.000     2.000       0.000   \n",
              "\n",
              "   Taux étudiants  Taux Propriété  Dynamique Démographique INSEE  \\\n",
              "0           0.000          67.000                         -1.000   \n",
              "1           0.000          42.000                          0.000   \n",
              "2           0.000          37.000                        -55.000   \n",
              "\n",
              "   Capacité Fiscale  Moyenne Revnus fiscaux  Taux Evasion Client  \\\n",
              "0           117.000               11483.500                0.000   \n",
              "1           110.000               11483.500                0.000   \n",
              "2           250.000               11483.500                2.000   \n",
              "\n",
              "   PIB Régionnal  Score Croissance Population  \\\n",
              "0     173681.000                       72.131   \n",
              "1     173681.000                       72.131   \n",
              "2     173681.000                       72.951   \n",
              "\n",
              "   Score Croissance Entrepreneuriale  Score VA Région  Score PIB  \\\n",
              "0                              0.016           32.426     33.838   \n",
              "1                              0.002           32.426     33.838   \n",
              "2                              0.385           32.426     33.838   \n",
              "\n",
              "                      Environnement Démographique        Fidélité  \\\n",
              "0   Bassin Industriel en croissance démographique  Pop Sédentaire   \n",
              "1  Bassin Résidentiel en croissance démographique  Pop Sédentaire   \n",
              "2  Bassin Résidentiel en croissance démographique      Pop Mobile   \n",
              "\n",
              "               SYN MEDICAL    Seg Cap Fiscale         Seg Dyn Entre  \\\n",
              "0        Synergie Médicale  Fiscalité moyenne      Faible dynamique   \n",
              "1  Forte Synergie Médicale  Fiscalité moyenne      Faible dynamique   \n",
              "2  Forte Synergie Médicale  Fiscalité moyenne  Dynamique Economique   \n",
              "\n",
              "                                 DYN SetC  Nb Entreprises  Nb Medecins  \\\n",
              "0            Faible Dynamique Serv et Com          22.000       37.000   \n",
              "1            Faible Dynamique Serv et Com           5.000      103.000   \n",
              "2  Bonne Dynamique Entreprise Serv et Com         809.000      103.000   \n",
              "\n",
              "   rH/F_y  rm/M  indice_salaire_global  indice_salaire_cadre  \\\n",
              "0   1.029 1.822                  0.961                 1.008   \n",
              "1   1.012 1.629                  0.961                 1.008   \n",
              "2   0.958 1.583                  0.961                 1.008   \n",
              "\n",
              "   indice_salaire_prof  indice_salaire_employé  indice_salaire_ouvrié  \\\n",
              "0                0.989                   0.995                  0.997   \n",
              "1                0.989                   0.995                  0.997   \n",
              "2                0.989                   0.995                  0.997   \n",
              "\n",
              "   indice_social  indice_services  \n",
              "0      15108.000        22087.000  \n",
              "1      15105.000        22086.000  \n",
              "2      15336.000        22127.000  "
            ]
          },
          "execution_count": 145,
          "metadata": {},
          "output_type": "execute_result"
        }
      ],
      "source": [
        "train_data , test_data = prepare_datasets(res_train_df, res_test_df,\n",
        "                                          merge_list,\n",
        "                                          base_id = id_train,\n",
        "                                          cols_to_drop = cols_to_drop,\n",
        "                                          verbose=True)\n",
        "\n",
        "print(f\"forme du train_data : {train_data.shape}\")\n",
        "print(f\"forme du test_data : {test_data.shape}\")\n",
        "test_data.head(3)"
      ]
    },
    {
      "cell_type": "code",
      "execution_count": 146,
      "metadata": {
        "id": "B_Le_B_fFUl9"
      },
      "outputs": [
        {
          "name": "stdout",
          "output_type": "stream",
          "text": [
            "<class 'pandas.core.frame.DataFrame'>\n",
            "RangeIndex: 20892 entries, 0 to 20891\n",
            "Columns: 110 entries, Libellé du département to indice_services\n",
            "dtypes: float64(74), int64(13), object(23)\n",
            "memory usage: 17.5+ MB\n",
            "None\n",
            "forme des prédicteurs : (20892, 110)\n",
            "forme de la cible : (20892,)\n"
          ]
        }
      ],
      "source": [
        "X = train_data.drop(columns=[target], axis=1,errors='ignore')\n",
        "y = train_data[target]\n",
        "\n",
        "print(X.info())\n",
        "print(f\"forme des prédicteurs : {X.shape}\")\n",
        "print(f\"forme de la cible : {y.shape}\")\n"
      ]
    },
    {
      "cell_type": "markdown",
      "metadata": {
        "id": "9BUCAoqTUG8R"
      },
      "source": [
        "# 2. Prétraitement , Pipeline et Selection automatique de features\n",
        "\n",
        "----"
      ]
    },
    {
      "cell_type": "markdown",
      "metadata": {
        "id": "oxuWfETcoCUH"
      },
      "source": [
        "## 2.1 Création du pipelines de prétraitement"
      ]
    },
    {
      "cell_type": "code",
      "execution_count": 232,
      "metadata": {
        "id": "D0FCTwMrSybX"
      },
      "outputs": [],
      "source": [
        "def get_preprocessor(data,features=None):\n",
        "    \"\"\"\n",
        "    Crée un préprocesseur complet avec gestion des valeurs infinies, manquantes et aberrantes\n",
        "    \"\"\"\n",
        "    X=data.copy()\n",
        "    # Remplacer les valeurs infinies par NaN\n",
        "    X = X.replace([np.inf, -np.inf], np.nan)\n",
        "\n",
        "    if features is not None:\n",
        "        X = X[features]\n",
        "\n",
        "    numeric_features = X.select_dtypes(include=['int64', 'float64',np.number]).columns\n",
        "    categorical_features = X.select_dtypes(include=['object', 'category','bool']).columns\n",
        "\n",
        "    # conversion des colonnes catégorielles en type str pour éviter les type mixte\n",
        "    X[categorical_features] = X[categorical_features].astype(str)\n",
        "\n",
        "\n",
        "    # Pipeline pour les variables numériques\n",
        "    numeric_transformer = Pipeline(steps=[\n",
        "        ('imputer', SimpleImputer(strategy='median')),\n",
        "        ('scaler', RobustScaler())\n",
        "    ] ,   memory='cache_directory')\n",
        "\n",
        "    # Pipeline pour les variables catégorielles\n",
        "    categorical_transformer = Pipeline(\n",
        "        steps=[\n",
        "        ('imputer', SimpleImputer(strategy='most_frequent')),\n",
        "        ('onehot', OneHotEncoder( sparse_output=False, handle_unknown='ignore'))\n",
        "        ])\n",
        "\n",
        "    # Combinaison des transformateurs\n",
        "    preprocessor = ColumnTransformer(\n",
        "        transformers=[\n",
        "            ('num', numeric_transformer, numeric_features),\n",
        "            ('cat', categorical_transformer, categorical_features)\n",
        "        ],\n",
        "        remainder = 'drop',\n",
        "        verbose_feature_names_out=False,\n",
        "        n_jobs=-1)\n",
        "\n",
        "    return preprocessor\n"
      ]
    },
    {
      "cell_type": "markdown",
      "metadata": {
        "id": "GaBiPt7-SybX"
      },
      "source": [
        "## 2.2 Selection automatique des features"
      ]
    },
    {
      "cell_type": "markdown",
      "metadata": {
        "id": "0ZRK7DBRSybY"
      },
      "source": [
        "### 2.2.1 Selection grossière automatique avec xgboost\n"
      ]
    },
    {
      "cell_type": "code",
      "execution_count": 110,
      "metadata": {
        "id": "Z7qls90yzQNi"
      },
      "outputs": [],
      "source": [
        "def remove_quasi_constant_features(df, threshold=0.01):\n",
        "    \"\"\"\n",
        "    Supprime les colonnes avec une variance inférieure à un seuil donné : elle sont quasi contantes\"\"\"\n",
        "\n",
        "    # Traitement des variables numériques\n",
        "    numerical_df = df.select_dtypes(include=[np.number, 'bool'])\n",
        "    variances = numerical_df.var()\n",
        "    low_variance_cols = variances[variances < threshold].index.tolist()\n",
        "\n",
        "    # Traitement des variables catégorielles (en regardant le ratio du mode)\n",
        "    categorical_df = df.select_dtypes(include=['object', 'category'])\n",
        "    cat_low_variance = []\n",
        "\n",
        "    for col in categorical_df.columns:\n",
        "        # Calcul du ratio de la valeur la plus fréquente\n",
        "        value_counts = categorical_df[col].value_counts(normalize=True)\n",
        "        if len(value_counts) > 0 and value_counts.iloc[0] > 1 - threshold:\n",
        "            cat_low_variance.append(col)\n",
        "\n",
        "    # Combinaison des résultats\n",
        "    all_low_variance = low_variance_cols + cat_low_variance\n",
        "\n",
        "    keep = sub(df.columns.tolist(), all_low_variance)\n",
        "\n",
        "    return all_low_variance, keep\n"
      ]
    },
    {
      "cell_type": "code",
      "execution_count": null,
      "metadata": {
        "id": "us0wqA-CzQNi"
      },
      "outputs": [],
      "source": [
        "\n",
        "def fast_feature_selection(x_data, y_data, n_features=20,sort=False):\n",
        "    \"\"\"\n",
        "    Selection automatique des ``n_features`` meilleures features avec  XGBoost\n",
        "    Args:\n",
        "        X (pd.DataFrame): DataFrame contenant les caractéristiques\n",
        "        y (pd.Series): Série contenant la cible\n",
        "        n_features (int): Nombre de features/colonnes à sélectionner\n",
        "        sort (bool): Si True, trie les features sélectionnées par importance décroissante\n",
        "    Returns:\n",
        "        list: Liste des noms des features sélectionnées\n",
        "    \"\"\"\n",
        "    # Créer une copie de X pour éviter les modifications sur l'original\n",
        "    X = x_data.copy()\n",
        "    # Supprimer les colonnes avec une variance inférieure à 0.01\n",
        "    drop, keep = remove_quasi_constant_features(X)\n",
        "\n",
        "    X = X[keep]\n",
        "    # Remplacer les valeurs infinies par NaN\n",
        "    X = X.replace([np.inf, -np.inf], np.nan)\n",
        "\n",
        "    # identification des colonnes numériques et catégorielles\n",
        "    num_col = X.select_dtypes(include=[np.number,'float64','int64']).columns\n",
        "    cat_col = X.select_dtypes(include=['object', 'category','bool']).columns\n",
        "\n",
        "    # transformer tous les colonnes catégorielles en type str\n",
        "    # pour éviter les types mixtes\n",
        "    X[cat_col] = X[cat_col].astype(str)\n",
        "\n",
        "    # Préprocessing light\n",
        "    preprocessor = make_column_transformer(\n",
        "        (SimpleImputer(strategy='median'), num_col),\n",
        "        (Pipeline([\n",
        "            ('imputer', SimpleImputer(strategy='most_frequent')),\n",
        "            ('encoder', OneHotEncoder(handle_unknown='ignore'))\n",
        "            ])              ,            cat_col ),\n",
        "        remainder='drop',\n",
        "        verbose_feature_names_out=False,\n",
        "        n_jobs=-1\n",
        "    )\n",
        "\n",
        "    # Modèle unique mais robuste\n",
        "    model = Pipeline([\n",
        "        ('preprocessor', preprocessor),\n",
        "        ('selector', SelectFromModel(\n",
        "            XGBRegressor(\n",
        "                tree_method='hist',\n",
        "                n_estimators=50,\n",
        "                max_depth=6),\n",
        "            max_features=n_features\n",
        "        )),\n",
        "        ('estimator', XGBRegressor())\n",
        "    ])\n",
        "\n",
        "    model.fit(X, y_data)\n",
        "\n",
        "    transformed_features_names = model.named_steps['preprocessor'].get_feature_names_out(input_features=keep)\n",
        "\n",
        "    if sort:\n",
        "\n",
        "        importances = model.named_steps['estimator'].feature_importances_\n",
        "\n",
        "        feature_importance = list(zip(transformed_features_names, importances))\n",
        "\n",
        "        feature_importance.sort(key=lambda x: x[1], reverse=True)\n",
        "\n",
        "        selected_features = [name for name, _ in feature_importance[:n_features]]\n",
        "\n",
        "    selected_indices = model.named_steps['selector'].get_support(indices=True)\n",
        "\n",
        "    selected_features = [transformed_features_names[i] for i in selected_indices]\n",
        "\n",
        "    return list(selected_features)\n"
      ]
    },
    {
      "cell_type": "markdown",
      "metadata": {
        "id": "yJaRizJLzQNj"
      },
      "source": [
        "### 2.2.2 Selection plus fine pour un modèle donné"
      ]
    },
    {
      "cell_type": "code",
      "execution_count": 115,
      "metadata": {
        "id": "gEagTsvyzQNj"
      },
      "outputs": [],
      "source": [
        "\n",
        "def compute_rmse(pipeline , X_sub, y,cv=None,\n",
        "                 message=\"Début du calcul...\",\n",
        "                 error=\"une erreur s'est produite\")->float:\n",
        "    \"\"\"\n",
        "    Function to compute cross-validated RMSE\n",
        "    \"\"\"\n",
        "    if cv is None:\n",
        "        cv = KFold(n_splits=5, shuffle=True, random_state=RANDOM_STATE)\n",
        "    if message is not None:\n",
        "        print(message)\n",
        "    try :\n",
        "        pipeline.fit(X_sub, y)\n",
        "        # Calculer le RMSE avec validation croisée\n",
        "        scores = cross_val_score(pipeline, X_sub, y,\n",
        "                                scoring='neg_root_mean_squared_error',\n",
        "                                cv=cv,n_jobs=-1)\n",
        "        return -scores.mean()\n",
        "    except Exception as e:\n",
        "        if error is not None:\n",
        "            print(error)\n",
        "            print(f\"Erreur : {e}\")\n",
        "        # Si une erreur se produit, on retourne une valeur élevée pour forcer la suppression de la feature\n",
        "        return float('inf')\n",
        "\n",
        "\n",
        "def make_pipeline(model , X,features=None):\n",
        "\n",
        "    preprocessor = get_preprocessor(X , features)\n",
        "    return Pipeline([\n",
        "        ('preprocessor', preprocessor),\n",
        "        ('model', model)\n",
        "    ])\n",
        "\n",
        "\n",
        "def backward_stepwise(model, X, y,\n",
        "                       initial_features:List[str]=None,\n",
        "                       min_features:int=3,\n",
        "                       rtol:float=0.005,\n",
        "                       max_degrad:float=0.005,\n",
        "                       cv=None,\n",
        "                       logg:bool=True)->Tuple[List[str] , float]:\n",
        "    \"\"\"\n",
        "    Backward stepwise feature selection algorithm.\n",
        "\n",
        "    Parameters:\n",
        "    - model: The predictive model (must implement fit and predict).\n",
        "    - X: DataFrame of predictors.\n",
        "    - y: Target variable.\n",
        "    - initial_features: Initial subset of features to test. If None, uses all features.\n",
        "    - min_features: Minimum number of features to keep.\n",
        "    - max_degrad: Maximum allowed degradation in RMSE to consider a feature removable.\n",
        "    - rtol: Relative tolerance for improvement in RMSE. If improvement < rtol, stops early.\n",
        "\n",
        "    Returns:\n",
        "    - best_features: List of selected features.\n",
        "    - best_score: Best RMSE score achieved.\n",
        "    \"\"\"\n",
        "\n",
        "\n",
        "    all_features = X.columns.tolist()\n",
        "    if initial_features is None:\n",
        "        current_features = all_features.copy()\n",
        "    else:\n",
        "        current_features = [f for f in initial_features if f in all_features]\n",
        "\n",
        "    if min_features is None:\n",
        "        min_features = max(5, int(0.1 * len(current_features)))\n",
        "\n",
        "    if cv is None:\n",
        "        cv = KFold(n_splits=5, shuffle=True, random_state=RANDOM_STATE)\n",
        "\n",
        "    pipeline = make_pipeline(model, X ,current_features)\n",
        "\n",
        "    # Compute initial RMSE\n",
        "    best_score = compute_rmse(pipeline,\n",
        "                              X[current_features], y,cv=cv , message=\"calcul du score initial...\" if logg else None,\n",
        "                              error=\"Erreur lors de l'évaluation initiale\" if logg else None)\n",
        "\n",
        "    if logg:\n",
        "        print(\"début des suppressions...\\nInitial RMSE: {best_score:.4f}\")\n",
        "    features_removed = []\n",
        "    improve = True\n",
        "    while improve and len(current_features) > min_features:\n",
        "        worst_feature = None\n",
        "        current_rmse = best_score\n",
        "        # essai de suppression de chaque feature\n",
        "        for feature in current_features:\n",
        "            trial_features = [f for f in current_features if f != feature]\n",
        "            trial_pipeline = make_pipeline(model, X,trial_features)\n",
        "            # Compute RMSE without the feature\n",
        "            trial_rmse = compute_rmse(trial_pipeline,\n",
        "                                      X[trial_features], y,cv=cv,message=f\"Test sans '{feature}'\"if logg else None,error=f\"Erreur en testant sans {feature} \"if logg else None)\n",
        "\n",
        "            relative_change = (best_score-trial_rmse) / best_score\n",
        "            # If removing the feature improves RMSE beyond rtol\n",
        "            if relative_change >= rtol and trial_rmse < current_rmse:\n",
        "                    current_rmse = trial_rmse\n",
        "                    worst_feature = feature\n",
        "            elif relative_change < -max_degrad:\n",
        "                if logg:\n",
        "                    print(f\" suppression de {feature} rejetée : dégradation de {-relative_change*100:.2f} %\")\n",
        "\n",
        "        # Remove the worst feature if found\n",
        "        if worst_feature is not None:\n",
        "            current_features.remove(worst_feature)\n",
        "            features_removed.append(worst_feature)\n",
        "            best_score = current_rmse\n",
        "            improve = True\n",
        "            if logg:\n",
        "                print(f\" '{worst_feature}' supprimée  , nouvelle RMSE: {best_score:.4f},  {len(current_features)} features restante\")\n",
        "        else:\n",
        "            improve = False\n",
        "\n",
        "    if logg:\n",
        "        print(f\"selction terminée {len(current_features)} Features conservées. RMSE final: {best_score:.4f}\")\n",
        "    return current_features, best_score\n",
        "\n"
      ]
    },
    {
      "cell_type": "markdown",
      "metadata": {
        "id": "AfYL455YUG8R"
      },
      "source": [
        "# 3. MODELISATION"
      ]
    },
    {
      "cell_type": "markdown",
      "metadata": {
        "id": "fGgKBt6IzQNj"
      },
      "source": [
        "### Separation X_train , y_train ,...."
      ]
    },
    {
      "cell_type": "code",
      "execution_count": 151,
      "metadata": {
        "id": "5D3QFz2ozQNk"
      },
      "outputs": [
        {
          "name": "stdout",
          "output_type": "stream",
          "text": [
            " 111 colonnes vs 32 avant la fusion\n",
            "\n",
            " 92 colonnes supprimées pendant la fusion \n",
            "\n",
            " \n",
            "20892 lignes vs 20892 avant la fusion\n",
            "\n",
            " \n",
            "0.13070221283891595% de valeurs manquantes vs 0.0% avant la fusion\n"
          ]
        }
      ],
      "source": [
        "train_data , test_data = prepare_datasets(res_train_df, res_test_df,\n",
        "                                          merge_list,\n",
        "                                          base_id = id_train,\n",
        "                                          cols_to_drop = cols_to_drop,\n",
        "                                          verbose=True)"
      ]
    },
    {
      "cell_type": "code",
      "execution_count": 153,
      "metadata": {
        "id": "ehN7diT5zQNk"
      },
      "outputs": [],
      "source": [
        "X = train_data.drop(columns=[target], axis=1,errors='ignore')\n",
        "y = train_data[target]\n",
        "\n",
        "#selection des 20 meilleures features\n",
        "selected_features = fast_feature_selection(X, y, n_features=20)"
      ]
    },
    {
      "cell_type": "code",
      "execution_count": 152,
      "metadata": {
        "id": "HrM_w4fdzQNk"
      },
      "outputs": [],
      "source": [
        "X_train , X_test , y_train , y_test = train_test_split(safe_feature_selection(X,selected_features),y, test_size=0.2, random_state=RANDOM_STATE)"
      ]
    },
    {
      "cell_type": "markdown",
      "metadata": {},
      "source": [
        "## 3.1 construction , comparaison des modèles et selection du meilleur model\n",
        "\n",
        "Dans un premier temps , on fait 03 compraison selon la ``RMSE`` la plus basse :\n",
        "* la première sur des modèles simples (instance sklearn sans paramètre) : question d'avoir une idée générale du meilleur modèle\n",
        "* la seconde sera fait avec les mêmes modèles simples , mais avec les features appropriés (via ``backward_stepwise`` ) à chacun d'eux pour voir l'influence des features\n",
        "* la troisème sera faite avec des modèles tunnés sur un 'petit' espace de recherche , question de confirmer les resultat de la seconde  comparaison\n",
        "  \n",
        "Puis on tunnera le meilleur modèle choisit à la 3 comparaison "
      ]
    },
    {
      "cell_type": "code",
      "execution_count": null,
      "metadata": {
        "id": "C4sT5oNtzQNk"
      },
      "outputs": [],
      "source": [
        "def quick_gridsearch(model,\n",
        "                     param_grid,\n",
        "                     X, y, cv=3,\n",
        "                     scoring='neg_root_mean_squared_error',\n",
        "                     type:str = 'random'\n",
        "                     ):\n",
        "    \"\"\"\n",
        "    Effectue une GridSearchCV ou RandomizeSearch pour évaluer  un modèle de régression.\n",
        "\n",
        "    Returns:\n",
        "    - best_estimator_: le modèle entraîné avec les meilleurs paramètres\n",
        "    - best_params_: dictionnaire des meilleurs paramètres\n",
        "    - best_score_: meilleur score trouvé (négatif car RMSE)\n",
        "    - cv_results_: résultats détaillés\n",
        "    \"\"\"\n",
        "    pipe = Pipeline([\n",
        "        ('preprocessor' , get_preprocessor(X)),\n",
        "        ('model',model)\n",
        "    ])\n",
        "    grid = {'model__'+k:v for k,v in param_grid.items()}\n",
        "    grid_search = func(\n",
        "        estimator=pipe,\n",
        "        param_grid=grid,\n",
        "        scoring=scoring,\n",
        "        cv=cv,\n",
        "        n_jobs=-1,\n",
        "        verbose=3\n",
        "    )\n",
        "\n",
        "    grid_search.fit(X,y)\n",
        "    return grid_search.best_estimator_, grid_search.best_params_, grid_search.best_score_, grid_search.cv_results_\n",
        "\n",
        "def compare_models(models: Dict[str, Tuple],\n",
        "                        X_train: pd.DataFrame,\n",
        "                        y_train: pd.Series,\n",
        "                        X_test ,\n",
        "                        y_test,\n",
        "                        save:bool=True\n",
        "                        ) -> Tuple[pd.DataFrame, Dict[str, Pipeline]]:\n",
        "    \"\"\"\n",
        "    Compare plusieurs modèles de régression à l'aide de GridSearchCV rapide.\n",
        "\n",
        "    Args\n",
        "    ----\n",
        "    - models : dict où chaque clé est le nom du modèle et la valeur est un dictionnaire (modèle sklearn, features ,grille d'hyperparamètres)\n",
        "    - X_train ,y_train : données d'entraînement\n",
        "    - X_test , y_test : données de validation\n",
        "\n",
        "    Returns:\n",
        "    - results_df: DataFrame des scores RMSE , MAE , r2\n",
        "    - best_models: dictionnaire des pipelines optimaux entraînés\n",
        "    \"\"\"\n",
        "    results = []\n",
        "    pipelines = {}\n",
        "\n",
        "    print(f\"\\nModèles à comparer :\",models.keys())\n",
        "    for name, info in models.items():\n",
        "        print(f\"\\n métriques de {name}...\")\n",
        "\n",
        "        model = info[\"model\"]\n",
        "        feat = info[\"features\"]\n",
        "        features = feat.copy()\n",
        "        if feat ==[]:\n",
        "            features = X_train.columns.tolist()\n",
        "\n",
        "        pipe = Pipeline([\n",
        "            ('preprocessor' , get_preprocessor(X,features)),\n",
        "            ('model' , model)\n",
        "        ])\n",
        "\n",
        "        pipe.fit(X_train , y_train)\n",
        "        y_pred = pipe.predict(X_test)\n",
        "\n",
        "\n",
        "        # résultats\n",
        "        results.append({\n",
        "            \"Model\": name,\n",
        "            \"RMSE\": root_mean_squared_error(y_test,y_pred),\n",
        "            \"MAE\": mean_absolute_error(y_test , y_pred),\n",
        "            \"r2\" : r2_score(y_test,y_pred)\n",
        "        })\n",
        "        pipelines[name] = pipe\n",
        "\n",
        "    results_df = pd.DataFrame(results)\n",
        "    results_df=results_df.sort_values(by=\"RMSE\")\n",
        "    if save :\n",
        "        results_df.to_csv(f\"Compraison{models.keys()}\")\n",
        "    return results_df, pipelines\n"
      ]
    },
    {
      "cell_type": "markdown",
      "metadata": {},
      "source": [
        "### comparaison n°1\n"
      ]
    },
    {
      "cell_type": "code",
      "execution_count": 292,
      "metadata": {},
      "outputs": [
        {
          "name": "stdout",
          "output_type": "stream",
          "text": [
            "\n",
            "Modèles à comparer : dict_keys(['Lasso', 'ElasticNet', 'XGBoost'])\n",
            "\n",
            " métriques de Lasso...\n",
            "\n",
            " métriques de ElasticNet...\n",
            "\n",
            " métriques de XGBoost...\n",
            "        Model  RMSE   MAE    r2\n",
            "2     XGBoost 0.383 0.204 0.998\n",
            "0       Lasso 2.089 1.562 0.934\n",
            "1  ElasticNet 4.171 3.259 0.735\n",
            " \n",
            "Le meilleur modèle basique est XGBoost\n"
          ]
        }
      ],
      "source": [
        "models_simple = {\n",
        "    \"Lasso\": {\n",
        "        \"model\":Lasso(),\n",
        "        \"features\":[],\n",
        "        \"param_grid\":{}\n",
        "        },\n",
        "    \"ElasticNet\": {\n",
        "        \"model\":ElasticNet(),\n",
        "        \"features\":[],\n",
        "        \"param_grid\":{}\n",
        "        },\n",
        "    \"XGBoost\": {\n",
        "        \"model\":XGBRegressor(),\n",
        "        \"features\":[],\n",
        "        \"param_grid\":{}\n",
        "        }\n",
        "}\n",
        "\n",
        "res1 , _ = compare_models(models_simple,X_train,y_train,X_test,y_test)\n",
        "basique_best_model_name = res1.iloc[0]['Model']\n",
        "print(res1)\n",
        "print(f\" \\nLe meilleur modèle basique est {basique_best_model_name}\")\n"
      ]
    },
    {
      "cell_type": "markdown",
      "metadata": {},
      "source": [
        "### comparaison n°2"
      ]
    },
    {
      "cell_type": "code",
      "execution_count": null,
      "metadata": {},
      "outputs": [
        {
          "name": "stdout",
          "output_type": "stream",
          "text": [
            "\n",
            "Sélection de features pour Lasso...\n",
            "selection terminée\n",
            "\n",
            "Sélection de features pour ElasticNet...\n",
            "selection terminée\n",
            "\n",
            "Sélection de features pour XGBoost...\n",
            "selection terminée\n",
            "\n",
            "Modèles à comparer : dict_keys(['Lasso', 'ElasticNet', 'XGBoost'])\n",
            "\n",
            " métriques de Lasso...\n",
            "\n",
            " métriques de ElasticNet...\n",
            "\n",
            " métriques de XGBoost...\n",
            "\n",
            "         Model  RMSE   MAE    r2\n",
            "2     XGBoost 0.367 0.198 0.998\n",
            "0       Lasso 2.089 1.562 0.934\n",
            "1  ElasticNet 4.171 3.259 0.735\n",
            " \n",
            "le meilleur modèle basique avec de bonne features est XGBoost\n"
          ]
        }
      ],
      "source": [
        "# backward_stepwise sur chaque modèle pour determiner ses features optimaux\n",
        "models_info = {}\n",
        "for name, info in models_simple.items():\n",
        "    print(f\"\\nSélection de features pour {name}...\")\n",
        "    features = backward_stepwise(\n",
        "        model=info[\"model\"],\n",
        "        X=X_train,\n",
        "        y=y_train,\n",
        "        min_features=5,\n",
        "        logg=False\n",
        "    )[0]\n",
        "    info[\"features\"] = features\n",
        "    print(f\"selection terminée\")\n",
        "    models_info[name]=info\n",
        "\n",
        "# Comparaison\n",
        "results_initial, pipelines = compare_models(models_simple, X_train, y_train,X_test,y_test,save=False)\n",
        "\n",
        "print(\"\\n\",results_initial)\n",
        "\n",
        "feat_best_model_name = results_initial.iloc[0]['Model']\n",
        "print(f\" \\nle meilleur modèle basique avec de bonne features est {feat_best_model_name}\")\n"
      ]
    },
    {
      "cell_type": "markdown",
      "metadata": {},
      "source": [
        "### comparaison n°3 : finale"
      ]
    },
    {
      "cell_type": "code",
      "execution_count": 312,
      "metadata": {},
      "outputs": [
        {
          "name": "stdout",
          "output_type": "stream",
          "text": [
            "\n",
            " Gridsearch pour Lasso\n"
          ]
        },
        {
          "ename": "TypeError",
          "evalue": "RandomizedSearchCV.__init__() got an unexpected keyword argument 'param_grid'",
          "output_type": "error",
          "traceback": [
            "\u001b[1;31m---------------------------------------------------------------------------\u001b[0m",
            "\u001b[1;31mTypeError\u001b[0m                                 Traceback (most recent call last)",
            "Cell \u001b[1;32mIn[312], line 32\u001b[0m\n\u001b[0;32m     30\u001b[0m     features \u001b[38;5;241m=\u001b[39m info[\u001b[38;5;124m\"\u001b[39m\u001b[38;5;124mfeatures\u001b[39m\u001b[38;5;124m\"\u001b[39m]\n\u001b[0;32m     31\u001b[0m     \u001b[38;5;28mprint\u001b[39m(\u001b[38;5;124mf\u001b[39m\u001b[38;5;124m\"\u001b[39m\u001b[38;5;130;01m\\n\u001b[39;00m\u001b[38;5;124m Gridsearch pour \u001b[39m\u001b[38;5;132;01m{\u001b[39;00mname\u001b[38;5;132;01m}\u001b[39;00m\u001b[38;5;124m\"\u001b[39m)\n\u001b[1;32m---> 32\u001b[0m     info[\u001b[38;5;124m\"\u001b[39m\u001b[38;5;124mmodel\u001b[39m\u001b[38;5;124m\"\u001b[39m] , info[\u001b[38;5;124m\"\u001b[39m\u001b[38;5;124mparam\u001b[39m\u001b[38;5;124m\"\u001b[39m]  , _ , _ \u001b[38;5;241m=\u001b[39m \u001b[43mquick_gridsearch\u001b[49m\u001b[43m(\u001b[49m\u001b[43mmodel\u001b[49m\u001b[43m \u001b[49m\u001b[43m,\u001b[49m\n\u001b[0;32m     33\u001b[0m \u001b[43m                              \u001b[49m\u001b[43mparam_grid\u001b[49m\u001b[38;5;241;43m=\u001b[39;49m\u001b[43mgrid\u001b[49m\u001b[43m \u001b[49m\u001b[43m,\u001b[49m\n\u001b[0;32m     34\u001b[0m \u001b[43m                              \u001b[49m\u001b[43mX\u001b[49m\u001b[38;5;241;43m=\u001b[39;49m\u001b[43mX_train\u001b[49m\u001b[43m[\u001b[49m\u001b[43mfeatures\u001b[49m\u001b[43m]\u001b[49m\u001b[43m \u001b[49m\u001b[43m,\u001b[49m\n\u001b[0;32m     35\u001b[0m \u001b[43m                              \u001b[49m\u001b[43my\u001b[49m\u001b[38;5;241;43m=\u001b[39;49m\u001b[43my_train\u001b[49m\u001b[43m,\u001b[49m\n\u001b[0;32m     36\u001b[0m \u001b[43m                              \u001b[49m\u001b[43mcv\u001b[49m\u001b[38;5;241;43m=\u001b[39;49m\u001b[43mcv\u001b[49m\u001b[43m)\u001b[49m\n\u001b[0;32m     37\u001b[0m     \u001b[38;5;28mprint\u001b[39m(\u001b[38;5;124mf\u001b[39m\u001b[38;5;124m\"\u001b[39m\u001b[38;5;124mGrisdsearch terminée ! \u001b[39m\u001b[38;5;124m\"\u001b[39m)\n\u001b[0;32m     38\u001b[0m \u001b[38;5;66;03m#  comparaison\u001b[39;00m\n",
            "Cell \u001b[1;32mIn[311], line 21\u001b[0m, in \u001b[0;36mquick_gridsearch\u001b[1;34m(model, param_grid, X, y, cv, scoring, func)\u001b[0m\n\u001b[0;32m     16\u001b[0m pipe \u001b[38;5;241m=\u001b[39m Pipeline([\n\u001b[0;32m     17\u001b[0m     (\u001b[38;5;124m'\u001b[39m\u001b[38;5;124mpreprocessor\u001b[39m\u001b[38;5;124m'\u001b[39m , get_preprocessor(X)),\n\u001b[0;32m     18\u001b[0m     (\u001b[38;5;124m'\u001b[39m\u001b[38;5;124mmodel\u001b[39m\u001b[38;5;124m'\u001b[39m,model)\n\u001b[0;32m     19\u001b[0m ])\n\u001b[0;32m     20\u001b[0m grid \u001b[38;5;241m=\u001b[39m {\u001b[38;5;124m'\u001b[39m\u001b[38;5;124mmodel__\u001b[39m\u001b[38;5;124m'\u001b[39m\u001b[38;5;241m+\u001b[39mk:v \u001b[38;5;28;01mfor\u001b[39;00m k,v \u001b[38;5;129;01min\u001b[39;00m param_grid\u001b[38;5;241m.\u001b[39mitems()}\n\u001b[1;32m---> 21\u001b[0m grid_search \u001b[38;5;241m=\u001b[39m \u001b[43mfunc\u001b[49m\u001b[43m(\u001b[49m\n\u001b[0;32m     22\u001b[0m \u001b[43m    \u001b[49m\u001b[43mestimator\u001b[49m\u001b[38;5;241;43m=\u001b[39;49m\u001b[43mpipe\u001b[49m\u001b[43m,\u001b[49m\n\u001b[0;32m     23\u001b[0m \u001b[43m    \u001b[49m\u001b[43mparam_grid\u001b[49m\u001b[38;5;241;43m=\u001b[39;49m\u001b[43mgrid\u001b[49m\u001b[43m,\u001b[49m\n\u001b[0;32m     24\u001b[0m \u001b[43m    \u001b[49m\u001b[43mscoring\u001b[49m\u001b[38;5;241;43m=\u001b[39;49m\u001b[43mscoring\u001b[49m\u001b[43m,\u001b[49m\n\u001b[0;32m     25\u001b[0m \u001b[43m    \u001b[49m\u001b[43mcv\u001b[49m\u001b[38;5;241;43m=\u001b[39;49m\u001b[43mcv\u001b[49m\u001b[43m,\u001b[49m\n\u001b[0;32m     26\u001b[0m \u001b[43m    \u001b[49m\u001b[43mn_jobs\u001b[49m\u001b[38;5;241;43m=\u001b[39;49m\u001b[38;5;241;43m-\u001b[39;49m\u001b[38;5;241;43m1\u001b[39;49m\u001b[43m,\u001b[49m\n\u001b[0;32m     27\u001b[0m \u001b[43m    \u001b[49m\u001b[43mverbose\u001b[49m\u001b[38;5;241;43m=\u001b[39;49m\u001b[38;5;241;43m3\u001b[39;49m\n\u001b[0;32m     28\u001b[0m \u001b[43m\u001b[49m\u001b[43m)\u001b[49m\n\u001b[0;32m     30\u001b[0m grid_search\u001b[38;5;241m.\u001b[39mfit(X,y)\n\u001b[0;32m     31\u001b[0m \u001b[38;5;28;01mreturn\u001b[39;00m grid_search\u001b[38;5;241m.\u001b[39mbest_estimator_, grid_search\u001b[38;5;241m.\u001b[39mbest_params_, grid_search\u001b[38;5;241m.\u001b[39mbest_score_, grid_search\u001b[38;5;241m.\u001b[39mcv_results_\n",
            "\u001b[1;31mTypeError\u001b[0m: RandomizedSearchCV.__init__() got an unexpected keyword argument 'param_grid'"
          ]
        }
      ],
      "source": [
        "# espace simple pour les tunning\n",
        "param_grids = {\n",
        "    \"Lasso\": {\n",
        "        'alpha': [0.01, 0.1, 1.0],\n",
        "        'max_iter': [1000]\n",
        "    },\n",
        "    \"ElasticNet\": {\n",
        "        'alpha': [0.01, 0.1, 1.0],\n",
        "        'l1_ratio': [0.3, 0.7],\n",
        "        'max_iter': [1000]\n",
        "    },\n",
        "    \"XGBoost\": {\n",
        "        'n_estimators': [50, 100],\n",
        "        'max_depth': [3],\n",
        "        'learning_rate': [0.1],\n",
        "        'subsample': [0.8],\n",
        "        'colsample_bytree': [0.8]\n",
        "    }\n",
        "}\n",
        "\n",
        "# Ajout des grilles de recherche  dans  models_info\n",
        "for name , info in models_info.items():\n",
        "    info[\"param_grid\"] = param_grids[name]\n",
        "\n",
        "cv = RepeatedKFold(random_state=RANDOM_STATE)\n",
        "# Tunning des modèles et mise à jour de models_info\n",
        "for name , info in models_info.items():\n",
        "    grid = info['param_grid']\n",
        "    model = info[\"model\"]\n",
        "    features = info[\"features\"]\n",
        "    print(f\"\\n Gridsearch pour {name}\")\n",
        "    info[\"model\"] , info[\"param\"]  , _ , _ = quick_gridsearch(model ,\n",
        "                              param_grid=grid ,\n",
        "                              X=X_train[features] ,\n",
        "                              y=y_train,\n",
        "                              cv=cv)\n",
        "    print(f\"Grisdsearch terminée ! \")\n",
        "#  comparaison\n",
        "resuls_final , pipelines_final = compare_models(models_info,\n",
        "                                                     X_train,y_train,X_test,y_test)\n",
        "\n",
        "print(\"\\n\" , resuls_final)\n"
      ]
    },
    {
      "cell_type": "markdown",
      "metadata": {},
      "source": [
        "### Selection automatique du modèle et affinage"
      ]
    },
    {
      "cell_type": "code",
      "execution_count": null,
      "metadata": {},
      "outputs": [],
      "source": [
        "best_model_name = resuls_final.iloc[0]['Model']\n",
        "final_best_features = models_info[best_model_name][\"features\"]\n",
        "best_model = models_info[best_model_name][\"model\"]\n",
        "\n",
        "print(f\"\\nLe meilleur modèle final est {best_model_name}\")\n",
        "\n",
        "# grille fine pour le meilleur modèle\n",
        "fines_grid = {\n",
        "    \"Lasso\": {\n",
        "        'alpha': [0.0001, 0.001, 0.01, 0.1, 0.5, 1.0, 5.0, 10.0],\n",
        "        'max_iter': [500, 1000, 2000, 5000],\n",
        "        'fit_intercept': [True, False],\n",
        "        'selection': ['cyclic', 'random'],\n",
        "        'tol': [1e-4, 1e-3, 1e-2]\n",
        "    },\n",
        "\n",
        "    \"ElasticNet\": {\n",
        "        'alpha': [0.0001, 0.001, 0.01, 0.1, 1.0, 5.0],\n",
        "        'l1_ratio': [0.1, 0.3, 0.5, 0.7, 0.9, 1.0],\n",
        "        'max_iter': [500, 1000, 2000],\n",
        "        'fit_intercept': [True, False],\n",
        "        'selection': ['cyclic', 'random'],\n",
        "        'tol': [1e-4, 1e-3]\n",
        "    },\n",
        "\n",
        "    \"XGBoost\": {\n",
        "        'n_estimators': [50, 100, 200, 300],\n",
        "        'max_depth': [2, 3, 4, 5, 6],\n",
        "        'learning_rate': [0.01, 0.05, 0.1, 0.2],\n",
        "        'subsample': [0.6, 0.8, 1.0],\n",
        "        'colsample_bytree': [0.6, 0.8, 1.0],\n",
        "        'gamma': [0, 0.1, 0.5, 1, 2],\n",
        "        'reg_alpha': [0, 0.01, 0.1, 1],\n",
        "        'reg_lambda': [0.1, 0.5, 1, 2],\n",
        "        'min_child_weight': [1, 3, 5]\n",
        "    }\n",
        "}\n",
        "\n",
        "for name , info in models_info.items():\n",
        "    info[\"is_better\"] = (name==best_model_name)\n",
        "    models_info[best_model_name][\"param_grid\"] = fines_grid.get(best_model_name)\n"
      ]
    },
    {
      "cell_type": "code",
      "execution_count": null,
      "metadata": {},
      "outputs": [],
      "source": [
        "best_final_pipeline , best_final_params , best_final_score , _ = quick_gridsearch(model = best_model,\n",
        "            param_grid= models_info[best_model_name][\"param_grid\"],                                           X=X_train[best_final_features],\n",
        "            y=y_train,cv =cv)"
      ]
    },
    {
      "cell_type": "markdown",
      "metadata": {
        "id": "lmAKMUKBzQNm"
      },
      "source": [
        "### Selection automatique du meilleur Modèle et affinage"
      ]
    },
    {
      "cell_type": "markdown",
      "metadata": {
        "id": "t_QDqxFHzQNm"
      },
      "source": [
        "##  3.2 Analyses graphiques des modèles"
      ]
    },
    {
      "cell_type": "code",
      "execution_count": 288,
      "metadata": {
        "id": "c2FQMAkjzQNm"
      },
      "outputs": [
        {
          "ename": "AttributeError",
          "evalue": "'NoneType' object has no attribute 'predict'",
          "output_type": "error",
          "traceback": [
            "\u001b[1;31m---------------------------------------------------------------------------\u001b[0m",
            "\u001b[1;31mAttributeError\u001b[0m                            Traceback (most recent call last)",
            "Cell \u001b[1;32mIn[288], line 99\u001b[0m\n\u001b[0;32m     96\u001b[0m os\u001b[38;5;241m.\u001b[39mmakedirs(\u001b[38;5;124m\"\u001b[39m\u001b[38;5;124mFigures\u001b[39m\u001b[38;5;124m\"\u001b[39m,exist_ok\u001b[38;5;241m=\u001b[39m\u001b[38;5;28;01mTrue\u001b[39;00m)\n\u001b[0;32m     98\u001b[0m \u001b[38;5;66;03m# tracer les graphiques pour les analyses des trois modèles\u001b[39;00m\n\u001b[1;32m---> 99\u001b[0m \u001b[43manalyze_all_models\u001b[49m\u001b[43m(\u001b[49m\u001b[43mmodels_info\u001b[49m\u001b[43m \u001b[49m\u001b[43m,\u001b[49m\u001b[43m \u001b[49m\u001b[43mX_test\u001b[49m\u001b[43m,\u001b[49m\u001b[43m \u001b[49m\u001b[43my_test\u001b[49m\u001b[43m)\u001b[49m\n\u001b[0;32m    102\u001b[0m \u001b[38;5;66;03m# graphique de l'importance des features pour le meilleur modèle\u001b[39;00m\n\u001b[0;32m    103\u001b[0m plot_feature_importance(final_best_model , final_best_features, model_name\u001b[38;5;241m=\u001b[39mbest_model_name)\n",
            "Cell \u001b[1;32mIn[288], line 91\u001b[0m, in \u001b[0;36manalyze_all_models\u001b[1;34m(models_info, X_test, y_test)\u001b[0m\n\u001b[0;32m     88\u001b[0m pipeline \u001b[38;5;241m=\u001b[39m info\u001b[38;5;241m.\u001b[39mget(\u001b[38;5;124m\"\u001b[39m\u001b[38;5;124mpipeline\u001b[39m\u001b[38;5;124m\"\u001b[39m)\n\u001b[0;32m     89\u001b[0m x_val \u001b[38;5;241m=\u001b[39m safe_feature_selection(X_test, features) \u001b[38;5;28;01mif\u001b[39;00m features \u001b[38;5;28;01melse\u001b[39;00m X_test\n\u001b[1;32m---> 91\u001b[0m y_pred \u001b[38;5;241m=\u001b[39m \u001b[43mpipeline\u001b[49m\u001b[38;5;241;43m.\u001b[39;49m\u001b[43mpredict\u001b[49m(X_test[features])\n\u001b[0;32m     92\u001b[0m analyze_model_predictions(y_test, y_pred, model_name)\n",
            "\u001b[1;31mAttributeError\u001b[0m: 'NoneType' object has no attribute 'predict'"
          ]
        }
      ],
      "source": [
        "def analyze_model_predictions(y_true, y_pred, model_name=\"\"):\n",
        "    \"\"\"\n",
        "    Génère des graphiques d'analyse des performances d'un modèle de régression :\n",
        "    - Résidus vs Prédictions\n",
        "    - Histogramme des résidus\n",
        "    - QQ-plot\n",
        "    - Vraies vs Prédictions\n",
        "    - Affichage des métriques\n",
        "\n",
        "    Args:\n",
        "    - y_true: valeurs réelles\n",
        "    - y_pred: prédictions du modèle\n",
        "    - model_name: nom du modèle (affiché sur les titres)\n",
        "    \"\"\"\n",
        "    residuals = y_true - y_pred\n",
        "    rmse = mean_squared_error(y_true, y_pred, squared=False)\n",
        "    mae = mean_absolute_error(y_true, y_pred)\n",
        "    r2 = r2_score(y_true, y_pred)\n",
        "\n",
        "    print(f\"\\n📊 Évaluation du {model_name}\")\n",
        "    print(f\"RMSE: {rmse:.4f}\")\n",
        "    print(f\"MAE : {mae:.4f}\")\n",
        "    print(f\"R²  : {r2:.4f}\")\n",
        "\n",
        "    plt.figure(figsize=(15, 10))\n",
        "\n",
        "    # Résidus vs Prédictions\n",
        "    plt.subplot(2, 2, 1)\n",
        "    sns.scatterplot(x=y_pred, y=residuals)\n",
        "    plt.axhline(0, color='red', linestyle='--')\n",
        "    plt.xlabel(\"Prédictions\")\n",
        "    plt.ylabel(\"Résidus\")\n",
        "    plt.title(\"Résidus vs Prédictions\")\n",
        "\n",
        "    # Histogramme des résidus\n",
        "    plt.subplot(2, 2, 2)\n",
        "    sns.histplot(residuals, kde=True)\n",
        "    plt.title(\"Distribution des résidus\")\n",
        "\n",
        "    # QQ-plot\n",
        "    plt.subplot(2, 2, 3)\n",
        "    stats.probplot(residuals, dist=\"norm\", plot=plt)\n",
        "    plt.title(\"QQ-Plot des résidus\")\n",
        "\n",
        "    # Vraies vs Prédictions\n",
        "    plt.subplot(2, 2, 4)\n",
        "    sns.scatterplot(x=y_true, y=y_pred)\n",
        "    plt.plot([y_true.min(), y_true.max()], [y_true.min(), y_true.max()], 'r--')\n",
        "    plt.xlabel(\"Vraies valeurs\")\n",
        "    plt.ylabel(\"Prédictions\")\n",
        "    plt.title(\"Vraies vs Prédictions\")\n",
        "\n",
        "    plt.suptitle(f\"Analyse du {model_name}\", fontsize=16)\n",
        "    plt.tight_layout(rect=[0, 0.03, 1, 0.95])\n",
        "    plt.savefig(f\"graphiques d'analyse du modèle {model_name}\")\n",
        "    plt.show()\n",
        "\n",
        "#-------------------------------------------------------------------------------\n",
        "def plot_feature_importance(model, feature_names, model_name=\"\"):\n",
        "    \"\"\"\n",
        "    Trace l'importance des features pour un modèle donné.\n",
        "    \"\"\"\n",
        "    if hasattr(model, \"coef_\"):\n",
        "        importances = model.coef_\n",
        "    elif hasattr(model, \"feature_importances_\"):\n",
        "        importances = model.feature_importances_\n",
        "    else:\n",
        "        print(f\"Aucune importance de feature disponible pour {model_name}\")\n",
        "        return\n",
        "\n",
        "    sorted_idx = np.argsort(importances)[::-1]\n",
        "    plt.figure(figsize=(10, 6))\n",
        "    sns.barplot(x=np.abs(importances)[sorted_idx], y=np.array(feature_names)[sorted_idx])\n",
        "    plt.title(f\"Importance des variables - {model_name}\")\n",
        "    plt.xlabel(\"Importance absolue\")\n",
        "    plt.ylabel(\"Variables\")\n",
        "    plt.tight_layout()\n",
        "    plt.savefig(f\"Figures/importances_{model_name}.png\")\n",
        "    plt.close()\n",
        "\n",
        "#----------------------------------------------------------------\n",
        "def analyze_all_models(models_info , X_test, y_test):\n",
        "    \"\"\"\n",
        "    Applique l'analyse des prédictions à tous les modèles comparés.\n",
        "    \"\"\"\n",
        "    for model_name, info in models_info.items():\n",
        "        features = info.get(\"features\" , X_test.columns.tolist())\n",
        "        pipeline = info.get(\"pipeline\")\n",
        "        x_val = safe_feature_selection(X_test, features) if features else X_test\n",
        "\n",
        "        y_pred = pipeline.predict(X_test[features])\n",
        "        analyze_model_predictions(y_test, y_pred, model_name)\n",
        "\n",
        "#----------------------------------------------------------------------\n",
        "\n",
        "os.makedirs(\"Figures\",exist_ok=True)\n",
        "\n",
        "# tracer les graphiques pour les analyses des trois modèles\n",
        "analyze_all_models(models_info , X_test, y_test)\n",
        "\n",
        "\n",
        "# graphique de l'importance des features pour le meilleur modèle\n",
        "plot_feature_importance(final_best_model , final_best_features, model_name=best_model_name)"
      ]
    },
    {
      "cell_type": "markdown",
      "metadata": {
        "id": "lVyB8t09bGp5"
      },
      "source": [
        "# 4. Soumission sur Kaggle"
      ]
    },
    {
      "cell_type": "code",
      "execution_count": null,
      "metadata": {
        "id": "Hgo0nz3BxuUW"
      },
      "outputs": [],
      "source": [
        "# Soumission sur Kaggle\n",
        "\n",
        "# copier le fichier de test déja merge\n",
        "data_test = test_data.copy()\n",
        "\n",
        "# selectionner les features optimaux pour le best_model\n",
        "data_test_submit = data_test[final_best_features]\n",
        "\n",
        "# Calcul des prédictions sur le dataset de test final\n",
        "y_pred_test = final_best_model.predict(data_test_submit)\n",
        "\n",
        "# Ajout des prédictions au dataframe\n",
        "data_test['Prediction'] = y_pred_test\n",
        "\n",
        "submission = data_test[['CodeINSEE', 'Prediction']]\n",
        "\n",
        "# sauvegarder la liste des features\n",
        "with open(f\"final_best_features_with_{best_model_name}.json\" , 'w') as file:\n",
        "    json.dump(final_best_features , file)\n",
        "\n",
        "# sauvegarder les prédictions\n",
        "submission.to_csv('results_test_predicted.csv', index=False)\n",
        "print(f\"\\nFichier de soumission 'results_test_predicted.csv' généré avec succès \\nForme {submission.shape}  \")\n",
        "\n",
        "submission.head(5)"
      ]
    }
  ],
  "metadata": {
    "accelerator": "TPU",
    "colab": {
      "collapsed_sections": [
        "74V_oeHHUG8N",
        "l86laxxtXd-J",
        "0VJxyPKWSya9",
        "f7CvwbxZSya9",
        "jCiAJj37UG8P",
        "ww_frSK5neTo",
        "ExVYdARYuZTa",
        "8F66BiGGSybV",
        "aHi6J682SybV",
        "HI3DWHygKc_u",
        "N2voDkixUG8S",
        "G1dFnY3-UG8S",
        "tBdP40c9UG8S",
        "tto_G2-OUG8S",
        "9QbuzZxxeJXd",
        "TJvbczlpUG8S",
        "MD5Hc_XgUG8S",
        "5_i1RctpUG8S",
        "awxpmlMoUG8S",
        "rRQ6BeBLrf6k",
        "MITTYAIWUG8T",
        "lVyB8t09bGp5"
      ],
      "gpuType": "V28",
      "provenance": []
    },
    "kernelspec": {
      "display_name": "Python 3",
      "name": "python3"
    },
    "language_info": {
      "codemirror_mode": {
        "name": "ipython",
        "version": 3
      },
      "file_extension": ".py",
      "mimetype": "text/x-python",
      "name": "python",
      "nbconvert_exporter": "python",
      "pygments_lexer": "ipython3",
      "version": "3.13.2"
    }
  },
  "nbformat": 4,
  "nbformat_minor": 0
}
