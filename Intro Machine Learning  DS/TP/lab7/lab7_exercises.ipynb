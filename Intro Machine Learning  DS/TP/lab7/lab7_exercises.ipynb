{
 "cells": [
  {
   "attachments": {},
   "cell_type": "markdown",
   "metadata": {},
   "source": [
    "# Machine Learning 2024-2025 - UMONS"
   ]
  },
  {
   "attachments": {},
   "cell_type": "markdown",
   "metadata": {},
   "source": [
    "# The Bootstrap"
   ]
  },
  {
   "attachments": {},
   "cell_type": "markdown",
   "metadata": {},
   "source": [
    "In this lab, we will experiment with **the bootstrap**, a simple but powerful resampling method that allows to quantify the uncertainty associated with any statistic estimated from a population sample. Additionally, the bootstrap enables us to estimate the validation error of any learning model, similarly to cross-validation. \n",
    "\n",
    "The steps of the (non-parametric) boostrap procedure can be summarized as:\n",
    "- Start with a dataset $\\mathcal{D} = \\{z_i\\}_{i=1}^n$.\n",
    "- For $b=1,\\ldots,B$, do:\n",
    "  - Sample a dataset $\\mathcal{D}^{(b)}=\\{z_i^{\\ast~(b)}\\}_{i=1}^n$ with replacement from the original dataset $\\mathcal{D}$.\n",
    "  - Estimate the statistic of interest on $\\hat{\\theta}^{\\ast~(b)} = s(\\mathcal{D}^{(b)})$ (e.g., the mean, $\\hat{\\theta}^{\\ast~(b)} = \\frac{1}{n}\\sum_{i=1}^n z_i^{\\ast~(b)}$).\n",
    "- Compute the sampling distribution of the statistic $s$ from $\\{\\hat{\\theta}^{\\ast~(1)},\\ldots,\\hat{\\theta}^{\\ast~(B)}\\}$.\n",
    "\n",
    "The sampling distribution of the statistic $s$ can then be used to quantify the uncertainty associated with $\\hat{\\theta} = s(\\mathcal{D})$, the statistic's estimate from the original dataset $\\mathcal{D}$. To get some intuition of the concept, we will start by applying the bootstrap algorithm on some simulated data, whose mean and variance are known."
   ]
  },
  {
   "attachments": {},
   "cell_type": "markdown",
   "metadata": {},
   "source": [
    "**We import the necessary libraries.**"
   ]
  },
  {
   "cell_type": "code",
 
   "execution_count": null,

   "execution_count": 1,
 
   "metadata": {},
   "outputs": [],
   "source": [
    "import matplotlib.pyplot as plt\n",
    "import numpy as np\n",
    "import pandas as pd\n",
    "import seaborn as sns\n",
    "from scipy.stats import norm\n",
    "from sklearn.impute import SimpleImputer\n",
    "from sklearn.linear_model import LinearRegression\n",
    "from sklearn.metrics import mean_squared_error\n",
    "from sklearn.preprocessing import OneHotEncoder\n",
    "from sklearn.utils import resample\n",
    "from sklearn.pipeline import make_pipeline\n",
    "from sklearn.compose import ColumnTransformer\n",
    "from sklearn.model_selection import cross_validate\n",
    "\n",
    "np.random.seed(0)"
   ]
  },
  {
   "attachments": {},
   "cell_type": "markdown",
   "metadata": {},
   "source": [
    "**1) Generate a dataset $\\mathcal{D}$ with $n=100$ observations from a normal distribution with $\\mu = 6$ and $\\sigma = 2$. Check the `np.random.normal` function.**"
   ]
  },
  {
   "cell_type": "code",
 
   "execution_count": null,

   "execution_count": 23,
 
   "metadata": {},
   "outputs": [],
   "source": [
    "true_mean = 6\n",
    "true_std = 2\n",
 
    "# TODO: z = ..."

    "z = np.random.normal(true_mean,true_std,100)"
 
   ]
  },
  {
   "cell_type": "markdown",
   "metadata": {},
   "source": [
    "**Let us take a look at the CDFs (*cumulative distribution functions*) of the population distribution and the empirical distribution.**"
   ]
  },
  {
   "cell_type": "code",
 
   "execution_count": null,
   "metadata": {},
   "outputs": [],

   "execution_count": 24,
   "metadata": {},
   "outputs": [
    {
     "data": {
      "image/png": "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",
      "text/plain": [
       "<Figure size 640x480 with 1 Axes>"
      ]
     },
     "metadata": {},
     "output_type": "display_data"
    }
   ],
 
   "source": [
    "fig, ax = plt.subplots()\n",
    "z_plot = np.linspace(0, 12, 10000)\n",
    "ax.plot(z_plot, norm.cdf(z_plot, true_mean, true_std), label='True CDF')\n",
    "ax.plot(z_plot, np.mean(z <= z_plot[:, np.newaxis], axis=1), label='Empirical CDF')\n",
    "ax.legend();"
   ]
  },
  {
   "attachments": {},
   "cell_type": "markdown",
   "metadata": {},
   "source": [
    "**2) Compute the sample mean $\\bar{z}$ and sample standard deviation $\\bar{\\sigma}$ of the dataset $\\mathcal{D}$.** "
   ]
  },
  {
   "cell_type": "code",
 
   "execution_count": null,
   "metadata": {},
   "outputs": [],
   "source": []

   "execution_count": 25,
   "metadata": {},
   "outputs": [],
   "source": [
    "sample_mean = np.mean(z)\n",
    "sample_std = np.std(z)"
   ]
 
  },
  {
   "attachments": {},
   "cell_type": "markdown",
   "metadata": {},
   "source": [
    "**3) Implement the bootstrap algorithm defined above for $B=1000$. Our goal here is to quantify the uncertainty associated to the sample mean $\\bar{z} = \\frac{1}{n} \\sum_{i=1}^n z_i$ and standard deviation $s = \\sqrt{\\frac{1}{n - 1} \\sum_{i=1}^n (z_i - \\bar{z})^2}$ using a 90% confidence interval.**\n",
    "\n",
    "**First, resample $B$ datasets using `sklearn.utils.resample` and collect the sample mean and standard deviation for each dataset.**"
   ]
  },
  {
   "cell_type": "code",
 Simulation
   "execution_count": null,
   "metadata": {},
   "outputs": [],
   "source": []
  },
  {
   "cell_type": "markdown",
   "metadata": {},

   "execution_count": 26,
   "metadata": {},
   "outputs": [],
   "source": [
    "B = 1000\n",
    "B_data_set = { i : resample(z) for i in range(B)}"
   ]
  },
  {
   "cell_type": "code",
   "execution_count": null,
   "metadata": {},
   "outputs": [],
   "source": [
    "sample_Mean_Std = {key: (np.mean(value), np.std(value)) for key, value in B_data_set.items()}\n",
    "\n",
    "means = np.array([value[0] for value in sample_Mean_Std.values()])\n",
    "stds = np.array([value[1] for value in sample_Mean_Std.values()])"
   ]
  },
  {
   "cell_type": "markdown",
   "metadata": {
    "tags": [
     "parameters"
    ]
   },
 
   "source": [
    "**4) What is the average number of unique points (i.e., the number of points that have been sampled at least once) per bootstrap sample? Compute it by modifying the code from step 3). You can use the function `np.unique`.**\n",
    "\n",
    "**Can you compute the *expected* number of unique points per bootstrap sample using the theory of the course?**"
   ]
  },
  {
   "cell_type": "code",
   "execution_count": null,
   "metadata": {},
 
   "outputs": [
    {
     "name": "stdout",
     "output_type": "stream",
     "text": [
      "0.6341000000000001\n"
     ]
    }
   ],
   "source": [
    "unique_points_mean = [np.unique(d).size / d.size for d in B_data_set.values()]\n",
    "empirique_unique_mean = np.mean(unique_points_mean)\n",
    "n = z.size\n",
    "theorical_unique_mean = 1 -(1-1/n)**n\n",
    "print(f\"moyenne proche : \"{abs})"
   ]
  },
  {
   "cell_type": "markdown",
   "metadata": {},
   "source": [
    "**5) Let $\\hat{z}^{\\ast~(b)}$ denote the sample means obtained on each bootstrapped dataset. For a confidence level $1 - \\alpha$, a bootstrap empirical confidence interval for $\\bar{z}$ can be obtained as:**\n",
    "\n",
    "$$\\text{CI} = [q_{\\alpha/2}(\\hat{z}^{\\ast~(b)}), q_{1-\\alpha/2}(\\hat{z}^{\\ast~(b)})]$$\n",
    "\n",
    "**where $q_{\\alpha}(\\hat{z}^{\\ast~(b)})$ is the $\\alpha$-quantile of the sampling distribution of $\\hat{z}^{\\ast~(b)}$ (e.g., the median of $\\hat{z}^{\\ast~(b)}$ is $q_{0.5}(\\hat{z}^{\\ast~(b)})$).**\n",
    "\n",
    "**Check the method `np.quantile` to compute quantiles.**\n",
    "\n",
    "**Then, plot the sampling distribution of the mean (e.g., using `sns.histplot`) and add the true value, the sample estimate and the 90% confidence interval.**\n",
    "\n",
    "**Do the same for the sample standard deviation $\\hat{\\sigma}$.**\n"
   ]
  },
  {
   "cell_type": "code",
   "execution_count": null,
   "metadata": {},
   "outputs": [],
   "source": []
  },
  {
   "attachments": {},
   "cell_type": "markdown",
   "metadata": {},
   "source": [
    "**We will now use bootstrapping to estimate the uncertainty associated to the mean of a sample drawn from an unknown distribution. To this end, we will reuse the 'Fish Market' dataset, and apply the bootstrap to the variable 'Height'.**"
   ]
  },
  {
   "cell_type": "code",
   "execution_count": null,
   "metadata": {},
   "outputs": [],
   "source": [
    "df = pd.read_csv('data/fish_lab.csv', index_col=0)\n",
    "df = df.astype({'Species': 'category'})\n",
    "df = df.sample(frac=1)\n",
    "df"
   ]
  },
  {
   "attachments": {},
   "cell_type": "markdown",
   "metadata": {},
   "source": [
    "**6) Using the same procedure as before, compute $90\\%$ confidence intervals for the variable 'Height'.**"
   ]
  },
  {
   "cell_type": "code",
   "execution_count": null,
   "metadata": {},
   "outputs": [],
   "source": []
  },
  {
   "attachments": {},
   "cell_type": "markdown",
   "metadata": {},
   "source": [
    "**7) Similarly to cross-validation, the bootstrap can be used to estimate the validation error of any learning model. To this end, perform the following steps:**\n",
    "- **Using the provided preprocessor below, create a pipeline to apply the same preprocessing steps as in the previous lab followed by a linear regression model.** \n",
    "- **For $b=1,\\ldots,1000$:**\n",
    "    - **Sample a training dataset $\\mathcal{D}_{\\text{train}}^{(b)}$ with replacement from the original dataset $\\mathcal{D}$.**\n",
    "    - **Define a test dataset $\\mathcal{D}_{\\text{test}}^{(b)}$ containing the observations from $\\mathcal{D}$ that are not in $\\mathcal{D}_{\\text{train}}^{(b)}$.**\n",
    "    - **For $\\mathcal{D}_{\\text{train}}^{(b)}$ and $\\mathcal{D}_{\\text{test}}^{(b)}$, select 'Height' as the target variable, and the remaining variables as predictors.**\n",
    "    - **Fit the pipeline on $\\mathcal{D}_{\\text{train}}^{(b)}$.**\n",
    "    - **Predict on $\\mathcal{D}_{\\text{test}}^{(b)}$.**\n",
    "    - **Compute the $\\text{MSE}^{(b)}$ on $\\mathcal{D}_{\\text{test}}^{(b)}$.**\n",
    "    - **Put $\\text{MSE}^{(b)}$ in a list.**\n",
    "\n",
    "**With this procedure, we obtain the sampling distribution of the MSE.**\n",
    "- **Plot this sampling distribution using a histogram.**\n",
    "- **Add a point estimate $\\text{MSE} = \\frac{1}{B}\\sum_{b=1}^B \\text{MSE}^{(b)}$ on the plot.**\n",
    "- **Add a 90% upper bound for the MSE on the plot, which corresponds to an interval from $-\\infty$ to the quantile 0.9 of the sampling distribution.**"
   ]
  },
  {
   "cell_type": "code",
   "execution_count": null,
   "metadata": {},
   "outputs": [],
   "source": [
    "X, y = df.drop(columns='Height'), df[['Height']]\n",
    "\n",
    "cont_columns = X.select_dtypes(include=['float64']).columns\n",
    "cat_columns = X.select_dtypes(include=['category']).columns\n",
    "# Transformers for imputation\n",
    "cont_imputer = SimpleImputer(strategy='mean')\n",
    "cat_imputer = SimpleImputer(strategy='most_frequent')\n",
    "cat_pipeline = make_pipeline(cat_imputer, OneHotEncoder(sparse_output=False, handle_unknown='ignore'))\n",
    "\n",
    "# ColumnTransformer to apply transformations to the correct features\n",
    "preprocessor = ColumnTransformer(transformers=[\n",
    "    ('cont', cont_imputer, cont_columns),\n",
    "    ('cat', cat_pipeline, cat_columns)\n",
    "])"
   ]
  },
  {
   "cell_type": "code",
   "execution_count": null,
   "metadata": {},
   "outputs": [],
   "source": []
  },
  {
   "cell_type": "markdown",
   "metadata": {},
   "source": [
    "**We can verify that we obtain a roughly similar test MSE with cross-validation.**"
   ]
  },
  {
   "cell_type": "code",
   "execution_count": null,
   "metadata": {},
   "outputs": [],
   "source": [
    "cv_results = cross_validate(model, X, y, cv=5, scoring='neg_mean_squared_error', return_estimator=True, return_indices=True)\n",
    "test_mse_per_fold = -cv_results['test_score']\n",
    "print(f'Test MSE: {test_mse_per_fold.mean():.2f}')"
   ]
  }
 ],
 "metadata": {
  "kernelspec": {
   "display_name": "Python 3",
   "language": "python",
   "name": "python3"
  },
  "language_info": {
   "codemirror_mode": {
    "name": "ipython",
    "version": 3
   },
   "file_extension": ".py",
   "mimetype": "text/x-python",
   "name": "python",
   "nbconvert_exporter": "python",
   "pygments_lexer": "ipython3",

   "version": "3.13.2"
  }
 },
 "nbformat": 4,
 "nbformat_minor": 2
}
