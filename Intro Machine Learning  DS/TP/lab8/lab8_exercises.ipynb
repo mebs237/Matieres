{
 "cells": [
  {
   "attachments": {},
   "cell_type": "markdown",
   "metadata": {},
   "source": [
    "# Machine Learning 2024-2025 - UMONS"
   ]
  },
  {
   "attachments": {},
   "cell_type": "markdown",
   "metadata": {},
   "source": [
    "# Linear Models"
   ]
  },
  {
   "attachments": {},
   "cell_type": "markdown",
   "metadata": {},
   "source": [
    "**In this lab about linear regression, we will be working with the library [statsmodels](https://www.statsmodels.org/stable/index.html), which provides numerous classes and functions for the estimation of statistical models.**\n",
    "\n",
    "**The dataset that we will be considering is [Diamonds](https://www.kaggle.com/datasets/shivam2503/diamonds), which contains several characteristics of a series of diamonds, such as their dimensions, the quality of their cuts, their prices, etc. The goal of the lab will be to define linear regression models to best estimate diamond prices using a bunch of predictor variables, and to understand the meaning of the obtained coefficients.**\n",
    "\n",
    "**Dataset's column information:**\n",
    "\n",
    "- `price`: price in US dollars.\n",
    "- `carat`: weight of the diamond. \n",
    "- `cut`: quality of the cut (Fair, Good, Very Good, Premium, Ideal).\n",
    "- `color`: diamond's color, from J (worst) to D (best).\n",
    "- `clarity`: how clear the diamond is (I1 (worst), SI2, SI1, VS2, VS1, VVS2, VVS1, IF (best))\n",
    "- `x`: length in mm.\n",
    "- `y`: width in mm. \n",
    "- `z`: height in mm.\n",
    "- `table`: width of top of the diamond relative to its widest point. \n",
    "- `depth` = $\\frac{2z}{x+y}$."
   ]
  },
  {
   "attachments": {},
   "cell_type": "markdown",
   "metadata": {},
   "source": [
    "**Import the necessary libraries.**"
   ]
  },
  {
   "cell_type": "code",
   "execution_count": null,
   "metadata": {},
   "outputs": [],
   "source": [
    "import statsmodels.api as sm\n",
    "import numpy as np\n",
    "import pandas as pd\n",
    "from patsy import dmatrices\n",
    "import matplotlib.pyplot as plt\n",
    "import seaborn as sns\n",
    "from sklearn.preprocessing import OneHotEncoder\n",
    "from sklearn.linear_model import Ridge, Lasso, ElasticNet, LinearRegression\n",
    "from sklearn import datasets\n",
    "\n",
    "np.random.seed(0)"
   ]
  },
  {
   "cell_type": "markdown",
   "metadata": {},
   "source": [
    "**We load the 'Diamond' dataset as a Dataframe. We also add two columns with noise in order to experiment with variable selection.**"
   ]
  },
  {
   "cell_type": "code",
   "execution_count": 2,
   "metadata": {},
   "outputs": [
    {
     "name": "stdout",
     "output_type": "stream",
     "text": [
      "before adding shape = (53940, 10) \n"
     ]
    },
    {
     "data": {
      "application/vnd.microsoft.datawrangler.viewer.v0+json": {
       "columns": [
        {
         "name": "index",
         "rawType": "int64",
         "type": "integer"
        },
        {
         "name": "carat",
         "rawType": "float64",
         "type": "float"
        },
        {
         "name": "cut",
         "rawType": "object",
         "type": "string"
        },
        {
         "name": "color",
         "rawType": "object",
         "type": "string"
        },
        {
         "name": "clarity",
         "rawType": "object",
         "type": "string"
        },
        {
         "name": "depth",
         "rawType": "float64",
         "type": "float"
        },
        {
         "name": "table",
         "rawType": "float64",
         "type": "float"
        },
        {
         "name": "price",
         "rawType": "int64",
         "type": "integer"
        },
        {
         "name": "x",
         "rawType": "float64",
         "type": "float"
        },
        {
         "name": "y",
         "rawType": "float64",
         "type": "float"
        },
        {
         "name": "z",
         "rawType": "float64",
         "type": "float"
        },
        {
         "name": "noise",
         "rawType": "float64",
         "type": "float"
        },
        {
         "name": "x_noise",
         "rawType": "float64",
         "type": "float"
        }
       ],
       "conversionMethod": "pd.DataFrame",
       "ref": "a0cb8dfa-df41-4371-9dff-dea0c859ca1f",
       "rows": [
        [
         "1",
         "0.23",
         "Ideal",
         "E",
         "SI2",
         "61.5",
         "55.0",
         "326",
         "3.95",
         "3.98",
         "2.43",
         "1.764052345967664",
         "3.3777411918302085"
        ],
        [
         "2",
         "0.21",
         "Premium",
         "E",
         "SI1",
         "59.8",
         "61.0",
         "326",
         "3.89",
         "3.84",
         "2.31",
         "0.4001572083672233",
         "4.255212068150887"
        ],
        [
         "3",
         "0.23",
         "Good",
         "E",
         "VS1",
         "56.9",
         "65.0",
         "327",
         "4.05",
         "4.07",
         "2.31",
         "0.9787379841057392",
         "4.622879383582319"
        ],
        [
         "4",
         "0.29",
         "Premium",
         "I",
         "VS2",
         "62.4",
         "58.0",
         "334",
         "4.2",
         "4.23",
         "2.63",
         "2.240893199201458",
         "4.34010249512311"
        ],
        [
         "5",
         "0.31",
         "Good",
         "J",
         "SI2",
         "63.3",
         "58.0",
         "335",
         "4.34",
         "4.35",
         "2.75",
         "1.8675579901499675",
         "4.223530915890845"
        ],
        [
         "6",
         "0.24",
         "Very Good",
         "J",
         "VVS2",
         "62.8",
         "57.0",
         "336",
         "3.94",
         "3.96",
         "2.48",
         "-0.977277879876411",
         "1.9380775332076876"
        ],
        [
         "7",
         "0.24",
         "Very Good",
         "I",
         "VVS1",
         "62.3",
         "57.0",
         "336",
         "3.95",
         "3.98",
         "2.47",
         "0.9500884175255894",
         "4.212067549735946"
        ],
        [
         "8",
         "0.26",
         "Very Good",
         "H",
         "SI1",
         "61.9",
         "55.0",
         "337",
         "4.07",
         "4.11",
         "2.53",
         "-0.1513572082976979",
         "4.943196169288845"
        ],
        [
         "9",
         "0.22",
         "Fair",
         "E",
         "VS2",
         "65.1",
         "61.0",
         "337",
         "3.87",
         "3.78",
         "2.49",
         "-0.10321885179355784",
         "3.8667561042115466"
        ],
        [
         "10",
         "0.23",
         "Very Good",
         "H",
         "VS1",
         "59.4",
         "61.0",
         "338",
         "4.0",
         "4.05",
         "2.39",
         "0.41059850193837233",
         "5.25279753360241"
        ],
        [
         "11",
         "0.3",
         "Good",
         "J",
         "SI1",
         "64.0",
         "55.0",
         "339",
         "4.25",
         "4.28",
         "2.73",
         "0.144043571160878",
         "3.2175056701144076"
        ],
        [
         "12",
         "0.23",
         "Ideal",
         "J",
         "VS1",
         "62.8",
         "56.0",
         "340",
         "3.93",
         "3.9",
         "2.46",
         "1.454273506962975",
         "4.875325809447712"
        ],
        [
         "13",
         "0.22",
         "Premium",
         "F",
         "SI1",
         "60.4",
         "61.0",
         "342",
         "3.88",
         "3.84",
         "2.33",
         "0.7610377251469934",
         "3.0527263069814317"
        ],
        [
         "14",
         "0.31",
         "Ideal",
         "J",
         "SI2",
         "62.2",
         "54.0",
         "344",
         "4.35",
         "4.37",
         "2.71",
         "0.12167501649282841",
         "6.024064380418807"
        ],
        [
         "15",
         "0.2",
         "Premium",
         "E",
         "SI2",
         "60.2",
         "62.0",
         "345",
         "3.79",
         "3.75",
         "2.27",
         "0.44386323274542566",
         "2.879441860371127"
        ],
        [
         "16",
         "0.32",
         "Premium",
         "E",
         "I1",
         "60.9",
         "58.0",
         "345",
         "4.38",
         "4.42",
         "2.68",
         "0.33367432737426683",
         "4.0019850046029495"
        ],
        [
         "17",
         "0.3",
         "Ideal",
         "I",
         "SI2",
         "62.0",
         "54.0",
         "348",
         "4.31",
         "4.34",
         "2.68",
         "1.4940790731576061",
         "4.220554915806013"
        ],
        [
         "18",
         "0.3",
         "Good",
         "J",
         "SI1",
         "63.4",
         "54.0",
         "351",
         "4.23",
         "4.29",
         "2.7",
         "-0.20515826376580087",
         "6.348168583010143"
        ],
        [
         "19",
         "0.3",
         "Good",
         "J",
         "SI1",
         "63.8",
         "56.0",
         "351",
         "4.23",
         "4.26",
         "2.71",
         "0.31306770165090136",
         "3.822818393716603"
        ],
        [
         "20",
         "0.3",
         "Very Good",
         "J",
         "SI1",
         "62.7",
         "59.0",
         "351",
         "4.21",
         "4.27",
         "2.66",
         "-0.8540957393017248",
         "4.952595273326171"
        ],
        [
         "21",
         "0.3",
         "Good",
         "I",
         "SI2",
         "63.3",
         "56.0",
         "351",
         "4.26",
         "4.3",
         "2.71",
         "-2.5529898158340787",
         "3.5140335644667426"
        ],
        [
         "22",
         "0.23",
         "Very Good",
         "E",
         "VS2",
         "63.8",
         "55.0",
         "352",
         "3.85",
         "3.92",
         "2.48",
         "0.6536185954403606",
         "6.256383064903678"
        ],
        [
         "23",
         "0.23",
         "Very Good",
         "H",
         "VS1",
         "61.0",
         "57.0",
         "353",
         "3.94",
         "3.96",
         "2.41",
         "0.8644361988595057",
         "3.5020021650813318"
        ],
        [
         "24",
         "0.31",
         "Very Good",
         "J",
         "SI1",
         "59.4",
         "62.0",
         "353",
         "4.39",
         "4.43",
         "2.62",
         "-0.7421650204064419",
         "5.337315521282352"
        ],
        [
         "25",
         "0.31",
         "Very Good",
         "J",
         "SI1",
         "58.1",
         "62.0",
         "353",
         "4.44",
         "4.47",
         "2.59",
         "2.2697546239876076",
         "5.989270700982735"
        ],
        [
         "26",
         "0.23",
         "Very Good",
         "G",
         "VVS2",
         "60.4",
         "58.0",
         "354",
         "3.97",
         "4.01",
         "2.41",
         "-1.4543656745987648",
         "3.953981448835585"
        ],
        [
         "27",
         "0.24",
         "Premium",
         "I",
         "VS1",
         "62.5",
         "57.0",
         "355",
         "3.97",
         "3.94",
         "2.47",
         "0.04575851730144607",
         "6.887511311868872"
        ],
        [
         "28",
         "0.3",
         "Very Good",
         "J",
         "VS2",
         "62.2",
         "57.0",
         "357",
         "4.28",
         "4.3",
         "2.67",
         "-0.1871838500258336",
         "3.9037813184837096"
        ],
        [
         "29",
         "0.23",
         "Very Good",
         "D",
         "VS2",
         "60.5",
         "61.0",
         "357",
         "3.96",
         "3.97",
         "2.4",
         "1.5327792143584575",
         "3.11326082248487"
        ],
        [
         "30",
         "0.23",
         "Very Good",
         "F",
         "VS1",
         "60.9",
         "57.0",
         "357",
         "3.96",
         "3.99",
         "2.42",
         "1.469358769900285",
         "3.89299329078924"
        ],
        [
         "31",
         "0.23",
         "Very Good",
         "F",
         "VS1",
         "60.0",
         "57.0",
         "402",
         "4.0",
         "4.03",
         "2.41",
         "0.1549474256969163",
         "4.0901584832998505"
        ],
        [
         "32",
         "0.23",
         "Very Good",
         "F",
         "VS1",
         "59.8",
         "57.0",
         "402",
         "4.04",
         "4.06",
         "2.42",
         "0.37816251960217356",
         "3.5642148080091403"
        ],
        [
         "33",
         "0.23",
         "Very Good",
         "E",
         "VS1",
         "60.7",
         "59.0",
         "402",
         "3.97",
         "4.01",
         "2.42",
         "-0.8877857476301128",
         "4.065622236367786"
        ],
        [
         "34",
         "0.23",
         "Very Good",
         "E",
         "VS1",
         "59.5",
         "58.0",
         "402",
         "4.01",
         "4.06",
         "2.4",
         "-1.980796468223927",
         "3.6289377558561626"
        ],
        [
         "35",
         "0.23",
         "Very Good",
         "D",
         "VS1",
         "61.9",
         "58.0",
         "402",
         "3.92",
         "3.96",
         "2.44",
         "-0.3479121493261526",
         "3.004050585687319"
        ],
        [
         "36",
         "0.23",
         "Good",
         "F",
         "VS1",
         "58.2",
         "59.0",
         "402",
         "4.06",
         "4.08",
         "2.37",
         "0.15634896910398005",
         "2.8235658505122423"
        ],
        [
         "37",
         "0.23",
         "Good",
         "E",
         "VS1",
         "64.1",
         "59.0",
         "402",
         "3.83",
         "3.85",
         "2.46",
         "1.2302906807277207",
         "2.709017371568506"
        ],
        [
         "38",
         "0.31",
         "Good",
         "H",
         "SI1",
         "64.0",
         "54.0",
         "402",
         "4.29",
         "4.31",
         "2.75",
         "1.2023798487844113",
         "5.13024285055509"
        ],
        [
         "39",
         "0.26",
         "Very Good",
         "D",
         "VS2",
         "60.8",
         "59.0",
         "403",
         "4.13",
         "4.16",
         "2.52",
         "-0.3873268174079523",
         "5.491450927365658"
        ],
        [
         "40",
         "0.33",
         "Ideal",
         "I",
         "SI2",
         "61.8",
         "55.0",
         "403",
         "4.49",
         "4.51",
         "2.78",
         "-0.30230275057533557",
         "3.8148777905559994"
        ],
        [
         "41",
         "0.33",
         "Ideal",
         "I",
         "SI2",
         "61.2",
         "56.0",
         "403",
         "4.49",
         "4.5",
         "2.75",
         "-1.0485529650670926",
         "4.173538986606248"
        ],
        [
         "42",
         "0.33",
         "Ideal",
         "J",
         "SI1",
         "61.1",
         "56.0",
         "403",
         "4.49",
         "4.55",
         "2.76",
         "-1.4200179371789752",
         "5.071004217518599"
        ],
        [
         "43",
         "0.26",
         "Good",
         "D",
         "VS2",
         "65.2",
         "56.0",
         "403",
         "3.99",
         "4.02",
         "2.61",
         "-1.7062701906250126",
         "2.9895613962795986"
        ],
        [
         "44",
         "0.26",
         "Good",
         "D",
         "VS1",
         "58.4",
         "63.0",
         "403",
         "4.19",
         "4.24",
         "2.46",
         "1.9507753952317897",
         "4.805564097321136"
        ],
        [
         "45",
         "0.32",
         "Good",
         "H",
         "SI2",
         "63.1",
         "56.0",
         "403",
         "4.34",
         "4.37",
         "2.75",
         "-0.5096521817516535",
         "5.1930336295622865"
        ],
        [
         "46",
         "0.29",
         "Premium",
         "F",
         "SI1",
         "62.4",
         "58.0",
         "403",
         "4.24",
         "4.26",
         "2.65",
         "-0.4380743016111864",
         "3.580585047051227"
        ],
        [
         "47",
         "0.32",
         "Very Good",
         "H",
         "SI2",
         "61.8",
         "55.0",
         "403",
         "4.35",
         "4.42",
         "2.71",
         "-1.2527953600499262",
         "3.857131145824098"
        ],
        [
         "48",
         "0.32",
         "Good",
         "H",
         "SI2",
         "63.8",
         "56.0",
         "403",
         "4.36",
         "4.38",
         "2.79",
         "0.7774903558319101",
         "5.067310709002852"
        ],
        [
         "49",
         "0.25",
         "Very Good",
         "E",
         "VS2",
         "63.3",
         "60.0",
         "404",
         "4.0",
         "4.03",
         "2.54",
         "-1.6138978475579515",
         "3.5466793159549628"
        ],
        [
         "50",
         "0.29",
         "Very Good",
         "H",
         "SI2",
         "60.7",
         "60.0",
         "404",
         "4.33",
         "4.37",
         "2.64",
         "-0.2127402802139687",
         "2.2796487650154"
        ]
       ],
       "shape": {
        "columns": 12,
        "rows": 53940
       }
      },
      "text/html": [
       "<div>\n",
       "<style scoped>\n",
       "    .dataframe tbody tr th:only-of-type {\n",
       "        vertical-align: middle;\n",
       "    }\n",
       "\n",
       "    .dataframe tbody tr th {\n",
       "        vertical-align: top;\n",
       "    }\n",
       "\n",
       "    .dataframe thead th {\n",
       "        text-align: right;\n",
       "    }\n",
       "</style>\n",
       "<table border=\"1\" class=\"dataframe\">\n",
       "  <thead>\n",
       "    <tr style=\"text-align: right;\">\n",
       "      <th></th>\n",
       "      <th>carat</th>\n",
       "      <th>cut</th>\n",
       "      <th>color</th>\n",
       "      <th>clarity</th>\n",
       "      <th>depth</th>\n",
       "      <th>table</th>\n",
       "      <th>price</th>\n",
       "      <th>x</th>\n",
       "      <th>y</th>\n",
       "      <th>z</th>\n",
       "      <th>noise</th>\n",
       "      <th>x_noise</th>\n",
       "    </tr>\n",
       "  </thead>\n",
       "  <tbody>\n",
       "    <tr>\n",
       "      <th>1</th>\n",
       "      <td>0.23</td>\n",
       "      <td>Ideal</td>\n",
       "      <td>E</td>\n",
       "      <td>SI2</td>\n",
       "      <td>61.5</td>\n",
       "      <td>55.0</td>\n",
       "      <td>326</td>\n",
       "      <td>3.95</td>\n",
       "      <td>3.98</td>\n",
       "      <td>2.43</td>\n",
       "      <td>1.764052</td>\n",
       "      <td>3.377741</td>\n",
       "    </tr>\n",
       "    <tr>\n",
       "      <th>2</th>\n",
       "      <td>0.21</td>\n",
       "      <td>Premium</td>\n",
       "      <td>E</td>\n",
       "      <td>SI1</td>\n",
       "      <td>59.8</td>\n",
       "      <td>61.0</td>\n",
       "      <td>326</td>\n",
       "      <td>3.89</td>\n",
       "      <td>3.84</td>\n",
       "      <td>2.31</td>\n",
       "      <td>0.400157</td>\n",
       "      <td>4.255212</td>\n",
       "    </tr>\n",
       "    <tr>\n",
       "      <th>3</th>\n",
       "      <td>0.23</td>\n",
       "      <td>Good</td>\n",
       "      <td>E</td>\n",
       "      <td>VS1</td>\n",
       "      <td>56.9</td>\n",
       "      <td>65.0</td>\n",
       "      <td>327</td>\n",
       "      <td>4.05</td>\n",
       "      <td>4.07</td>\n",
       "      <td>2.31</td>\n",
       "      <td>0.978738</td>\n",
       "      <td>4.622879</td>\n",
       "    </tr>\n",
       "    <tr>\n",
       "      <th>4</th>\n",
       "      <td>0.29</td>\n",
       "      <td>Premium</td>\n",
       "      <td>I</td>\n",
       "      <td>VS2</td>\n",
       "      <td>62.4</td>\n",
       "      <td>58.0</td>\n",
       "      <td>334</td>\n",
       "      <td>4.20</td>\n",
       "      <td>4.23</td>\n",
       "      <td>2.63</td>\n",
       "      <td>2.240893</td>\n",
       "      <td>4.340102</td>\n",
       "    </tr>\n",
       "    <tr>\n",
       "      <th>5</th>\n",
       "      <td>0.31</td>\n",
       "      <td>Good</td>\n",
       "      <td>J</td>\n",
       "      <td>SI2</td>\n",
       "      <td>63.3</td>\n",
       "      <td>58.0</td>\n",
       "      <td>335</td>\n",
       "      <td>4.34</td>\n",
       "      <td>4.35</td>\n",
       "      <td>2.75</td>\n",
       "      <td>1.867558</td>\n",
       "      <td>4.223531</td>\n",
       "    </tr>\n",
       "    <tr>\n",
       "      <th>...</th>\n",
       "      <td>...</td>\n",
       "      <td>...</td>\n",
       "      <td>...</td>\n",
       "      <td>...</td>\n",
       "      <td>...</td>\n",
       "      <td>...</td>\n",
       "      <td>...</td>\n",
       "      <td>...</td>\n",
       "      <td>...</td>\n",
       "      <td>...</td>\n",
       "      <td>...</td>\n",
       "      <td>...</td>\n",
       "    </tr>\n",
       "    <tr>\n",
       "      <th>53936</th>\n",
       "      <td>0.72</td>\n",
       "      <td>Ideal</td>\n",
       "      <td>D</td>\n",
       "      <td>SI1</td>\n",
       "      <td>60.8</td>\n",
       "      <td>57.0</td>\n",
       "      <td>2757</td>\n",
       "      <td>5.75</td>\n",
       "      <td>5.76</td>\n",
       "      <td>3.50</td>\n",
       "      <td>1.097218</td>\n",
       "      <td>5.377100</td>\n",
       "    </tr>\n",
       "    <tr>\n",
       "      <th>53937</th>\n",
       "      <td>0.72</td>\n",
       "      <td>Good</td>\n",
       "      <td>D</td>\n",
       "      <td>SI1</td>\n",
       "      <td>63.1</td>\n",
       "      <td>55.0</td>\n",
       "      <td>2757</td>\n",
       "      <td>5.69</td>\n",
       "      <td>5.75</td>\n",
       "      <td>3.61</td>\n",
       "      <td>-0.256572</td>\n",
       "      <td>5.119215</td>\n",
       "    </tr>\n",
       "    <tr>\n",
       "      <th>53938</th>\n",
       "      <td>0.70</td>\n",
       "      <td>Very Good</td>\n",
       "      <td>D</td>\n",
       "      <td>SI1</td>\n",
       "      <td>62.8</td>\n",
       "      <td>60.0</td>\n",
       "      <td>2757</td>\n",
       "      <td>5.66</td>\n",
       "      <td>5.68</td>\n",
       "      <td>3.56</td>\n",
       "      <td>-0.434812</td>\n",
       "      <td>5.338206</td>\n",
       "    </tr>\n",
       "    <tr>\n",
       "      <th>53939</th>\n",
       "      <td>0.86</td>\n",
       "      <td>Premium</td>\n",
       "      <td>H</td>\n",
       "      <td>SI2</td>\n",
       "      <td>61.0</td>\n",
       "      <td>58.0</td>\n",
       "      <td>2757</td>\n",
       "      <td>6.15</td>\n",
       "      <td>6.12</td>\n",
       "      <td>3.74</td>\n",
       "      <td>0.094744</td>\n",
       "      <td>6.560655</td>\n",
       "    </tr>\n",
       "    <tr>\n",
       "      <th>53940</th>\n",
       "      <td>0.75</td>\n",
       "      <td>Ideal</td>\n",
       "      <td>D</td>\n",
       "      <td>SI2</td>\n",
       "      <td>62.2</td>\n",
       "      <td>55.0</td>\n",
       "      <td>2757</td>\n",
       "      <td>5.83</td>\n",
       "      <td>5.87</td>\n",
       "      <td>3.64</td>\n",
       "      <td>0.995461</td>\n",
       "      <td>4.874827</td>\n",
       "    </tr>\n",
       "  </tbody>\n",
       "</table>\n",
       "<p>53940 rows × 12 columns</p>\n",
       "</div>"
      ],
      "text/plain": [
       "       carat        cut color clarity  depth  table  price     x     y     z  \\\n",
       "1       0.23      Ideal     E     SI2   61.5   55.0    326  3.95  3.98  2.43   \n",
       "2       0.21    Premium     E     SI1   59.8   61.0    326  3.89  3.84  2.31   \n",
       "3       0.23       Good     E     VS1   56.9   65.0    327  4.05  4.07  2.31   \n",
       "4       0.29    Premium     I     VS2   62.4   58.0    334  4.20  4.23  2.63   \n",
       "5       0.31       Good     J     SI2   63.3   58.0    335  4.34  4.35  2.75   \n",
       "...      ...        ...   ...     ...    ...    ...    ...   ...   ...   ...   \n",
       "53936   0.72      Ideal     D     SI1   60.8   57.0   2757  5.75  5.76  3.50   \n",
       "53937   0.72       Good     D     SI1   63.1   55.0   2757  5.69  5.75  3.61   \n",
       "53938   0.70  Very Good     D     SI1   62.8   60.0   2757  5.66  5.68  3.56   \n",
       "53939   0.86    Premium     H     SI2   61.0   58.0   2757  6.15  6.12  3.74   \n",
       "53940   0.75      Ideal     D     SI2   62.2   55.0   2757  5.83  5.87  3.64   \n",
       "\n",
       "          noise   x_noise  \n",
       "1      1.764052  3.377741  \n",
       "2      0.400157  4.255212  \n",
       "3      0.978738  4.622879  \n",
       "4      2.240893  4.340102  \n",
       "5      1.867558  4.223531  \n",
       "...         ...       ...  \n",
       "53936  1.097218  5.377100  \n",
       "53937 -0.256572  5.119215  \n",
       "53938 -0.434812  5.338206  \n",
       "53939  0.094744  6.560655  \n",
       "53940  0.995461  4.874827  \n",
       "\n",
       "[53940 rows x 12 columns]"
      ]
     },
     "execution_count": 2,
     "metadata": {},
     "output_type": "execute_result"
    }
   ],
   "source": [
    "df = pd.read_csv('data/diamonds.csv', index_col=0)\n",
    "# before transforming\n",
    "print(f\"before adding shape = {df.shape} \")\n",
    "# Add a column with noise\n",
    "df['noise'] = np.random.normal(0, 1, len(df))\n",
    "df['x_noise'] = df['x'] + np.random.normal(0, 1, len(df))\n",
    "df\n"
   ]
  },
  {
   "cell_type": "code",
   "execution_count": 3,
   "metadata": {},
   "outputs": [
    {
     "name": "stdout",
     "output_type": "stream",
     "text": [
      "647280\n",
      "(53940, 12)\n"
     ]
    }
   ],
   "source": [
    "print(df.size)\n",
    "print(df.shape)"
   ]
  },
  {
   "attachments": {},
   "cell_type": "markdown",
   "metadata": {},
   "source": [
    "**1) Check the number of observations, the number of columns, the column types, and the number of missing values per columns.**"
   ]
  },
  {
   "cell_type": "code",
   "execution_count": 7,
   "metadata": {},
   "outputs": [
    {
     "name": "stdout",
     "output_type": "stream",
     "text": [
      "number of observation = 53940\n",
      "----------------------------------------------------------------------------------------------------\n",
      "number of columns = 12\n",
      "----------------------------------------------------------------------------------------------------\n",
      " columns types are : \n",
      "carat      float64\n",
      "cut         object\n",
      "color       object\n",
      "clarity     object\n",
      "depth      float64\n",
      "table      float64\n",
      "price        int64\n",
      "x          float64\n",
      "y          float64\n",
      "z          float64\n",
      "noise      float64\n",
      "x_noise    float64\n",
      "dtype: object\n",
      "----------------------------------------------------------------------------------------------------\n",
      "Missing values par columns : \n",
      "carat      0\n",
      "cut        0\n",
      "color      0\n",
      "clarity    0\n",
      "depth      0\n",
      "table      0\n",
      "price      0\n",
      "x          0\n",
      "y          0\n",
      "z          0\n",
      "noise      0\n",
      "x_noise    0\n",
      "dtype: int64\n"
     ]
    }
   ],
   "source": [
    "sep = \"-\"*100\n",
    "print(f\"number of observation = {len(df)}\")\n",
    "print(sep)\n",
    "print(f\"number of columns = {len(df.columns)}\")\n",
    "print(sep)\n",
    "print(f\" columns types are : \\n{df.dtypes}\")\n",
    "print(sep)\n",
    "print(f\"Missing values par columns : \\n{df.isnull().sum()}\")\n"
   ]
  },
  {
   "cell_type": "markdown",
   "metadata": {},
   "source": [
    "## Data cleaning"
   ]
  },
  {
   "attachments": {},
   "cell_type": "markdown",
   "metadata": {},
   "source": [
    "**2) Set the data type of the categorical variables to 'category'.**"
   ]
  },
  {
   "cell_type": "code",
   "execution_count": 9,
   "metadata": {},
   "outputs": [
    {
     "data": {
      "text/plain": [
       "carat       float64\n",
       "cut        category\n",
       "color      category\n",
       "clarity    category\n",
       "depth       float64\n",
       "table       float64\n",
       "price         int64\n",
       "x           float64\n",
       "y           float64\n",
       "z           float64\n",
       "noise       float64\n",
       "x_noise     float64\n",
       "dtype: object"
      ]
     },
     "execution_count": 9,
     "metadata": {},
     "output_type": "execute_result"
    }
   ],
   "source": [
    "for col in df.select_dtypes(include=['object']).columns:\n",
    "    df[col] = df[col].astype('category')\n",
    "df.dtypes"
   ]
  },
  {
   "attachments": {},
   "cell_type": "markdown",
   "metadata": {},
   "source": [
    "**3) Make a scatter plot of the variable `price` along the $y$-axis and the variable `x` along the $x$-axis. Do the same for the variables `y` and `z`.**\n",
    "\n",
    "**Do you notice anything special?**"
   ]
  },
  {
   "cell_type": "code",
   "execution_count": null,
   "metadata": {},
   "outputs": [
    {
     "data": {
      "image/png": "[encoded data removed]",
      "text/plain": [
       "<Figure size 640x480 with 1 Axes>"
      ]
     },
     "metadata": {},
     "output_type": "display_data"
    }
   ],
   "source": [
    "plt.clf()\n",
    "sns.scatterplot(x='x', y='price', data=df)\n",
    "plt.title('price vs x')\n",
    "plt.tight_layout()\n",
    "plt.show()"
   ]
  },
  {
   "cell_type": "code",
   "execution_count": 29,
   "metadata": {},
   "outputs": [
    {
     "data": {
      "image/png": "[encoded data removed]",
      "text/plain": [
       "<Figure size 640x480 with 1 Axes>"
      ]
     },
     "metadata": {},
     "output_type": "display_data"
    }
   ],
   "source": [
    "sns.scatterplot(x='y', y='price', data=df)\n",
    "plt.title('price vs y')\n",
    "plt.tight_layout()\n",
    "plt.show()"
   ]
  },
  {
   "cell_type": "code",
   "execution_count": 30,
   "metadata": {},
   "outputs": [
    {
     "data": {
      "image/png": "[encoded data removed]",
      "text/plain": [
       "<Figure size 640x480 with 1 Axes>"
      ]
     },
     "metadata": {},
     "output_type": "display_data"
    }
   ],
   "source": [
    "sns.scatterplot(x='z', y='price', data=df,label = '')\n",
    "plt.title('price vs z')\n",
    "plt.tight_layout()\n",
    "plt.show()"
   ]
  },
  {
   "cell_type": "markdown",
   "metadata": {},
   "source": []
  },
  {
   "attachments": {},
   "cell_type": "markdown",
   "metadata": {},
   "source": [
    "**4) Following your observations from the previous question, what would you do?**"
   ]
  },
  {
   "cell_type": "code",
   "execution_count": null,
   "metadata": {},
   "outputs": [],
   "source": []
  },
  {
   "cell_type": "code",
   "execution_count": null,
   "metadata": {},
   "outputs": [],
   "source": []
  },
  {
   "cell_type": "code",
   "execution_count": null,
   "metadata": {},
   "outputs": [],
   "source": []
  },
  {
   "cell_type": "code",
   "execution_count": null,
   "metadata": {},
   "outputs": [],
   "source": []
  },
  {
   "cell_type": "markdown",
   "metadata": {},
   "source": [
    "## Linear regression using `statsmodels`"
   ]
  },
  {
   "attachments": {},
   "cell_type": "markdown",
   "metadata": {},
   "source": [
    "**5) Using the [`dmatrices`](https://patsy.readthedocs.io/en/latest/API-reference.html#patsy.dmatrices) function of the `patsy` library and the [`OLS`](https://www.statsmodels.org/stable/generated/statsmodels.regression.linear_model.OLS.html) class of the `statsmodels` library, fit a linear regression model to the diamonds' price using the variable `x` as your predictor. Then, based on the results given by the [`summary`](https://www.statsmodels.org/dev/generated/statsmodels.regression.linear_model.OLSResults.summary.html) method:** \n",
    "\n",
    "- **5.1) Report the coefficient of determination and the adjusted coefficient of determination of the model.**\n",
    "- **5.2) How would you write the linear regression model?**\n",
    "- **5.3) Are the fitted coefficients statistically significant at the 5% significance level?**\n",
    "- **5.4) How would you obtain the confidence intervals?**\n",
    "- **5.5) How do you interpret the model?**"
   ]
  },
  {
   "cell_type": "code",
   "execution_count": null,
   "metadata": {},
   "outputs": [],
   "source": []
  },
  {
   "cell_type": "markdown",
   "metadata": {},
   "source": []
  },
  {
   "cell_type": "markdown",
   "metadata": {},
   "source": [
    "**6) Compute the linear regression coefficients and intercept using the formula $\\hat{\\beta} = (X^T X)^{-1} X^T y$. Check that the obtained coeffients are the same than in the previous exercise.**"
   ]
  },
  {
   "cell_type": "code",
   "execution_count": null,
   "metadata": {},
   "outputs": [],
   "source": []
  },
  {
   "attachments": {},
   "cell_type": "markdown",
   "metadata": {},
   "source": [
    "**7) Fit the diamonds' price to the variable `cut`. Note that `cut` is a categorical variable, which we learned to preprocess in previous labs. When calling `dmatrices`, categorical variables will automatically be converted into dummy variables. You can also use the syntax [`C(variable)`](https://patsy.readthedocs.io/en/latest/categorical-coding.html) for more flexibility.**\n",
    "- **7.1) Does the model appear to be a better fit than with the variable `x`?**\n",
    "- **7.2) How would you write the linear regression model now?**\n",
    "- **7.3) Are all coefficients statistically significant at the $5$% significance level?**\n",
    "- **7.4) How do you interpret the model? Does the intercept have a meaning?**\n",
    "- **7.5) Using `sns.boxenplot`, compare the distributions of the variable `price` for the different values of `cut`. Is it consistent with the model results?**  "
   ]
  },
  {
   "cell_type": "code",
   "execution_count": null,
   "metadata": {},
   "outputs": [],
   "source": []
  },
  {
   "attachments": {},
   "cell_type": "markdown",
   "metadata": {},
   "source": []
  },
  {
   "cell_type": "code",
   "execution_count": null,
   "metadata": {},
   "outputs": [],
   "source": []
  },
  {
   "attachments": {},
   "cell_type": "markdown",
   "metadata": {},
   "source": [
    "7.5) We observe some difference between the different distributions. Notably, premium diamonds tend to be the most expensive. However, the differences are not significant enough to predict the price based on the cut accurately, which might explain why `cut` is a poor predictor."
   ]
  },
  {
   "attachments": {},
   "cell_type": "markdown",
   "metadata": {},
   "source": [
    "**8) Fit a linear regression model to the variable `price` using `x` and `cut` as predictors. Based on [patsy's formulas](https://patsy.readthedocs.io/en/latest/formulas.html), add an interaction term between `x` and `cut`.**\n",
    "- **8.1) How does the model write now?**\n",
    "- **8.2) How do you interpret the model for a 'Good' cut diamond?**\n",
    "- **8.3) Are all coefficients statistically significant? If not, what does it mean?**"
   ]
  },
  {
   "cell_type": "code",
   "execution_count": null,
   "metadata": {},
   "outputs": [],
   "source": []
  },
  {
   "attachments": {},
   "cell_type": "markdown",
   "metadata": {},
   "source": []
  },
  {
   "attachments": {},
   "cell_type": "markdown",
   "metadata": {},
   "source": [
    "**9) Fit a linear regression model to the variable 'price' using all predictors.**\n",
    "- **9.1) Derive the value of the Bayesian Information Criterion (BIC) and check that it corresponds to the value reported by the model's summary.**  \n",
    "- **9.2) Does the model appear to be a better fit than the ones using only `x` and `cut` as predictors? Which criterion would you look at?**\n",
    "  "
   ]
  },
  {
   "cell_type": "code",
   "execution_count": null,
   "metadata": {},
   "outputs": [],
   "source": []
  },
  {
   "cell_type": "code",
   "execution_count": null,
   "metadata": {},
   "outputs": [],
   "source": []
  },
  {
   "attachments": {},
   "cell_type": "markdown",
   "metadata": {},
   "source": []
  },
  {
   "attachments": {},
   "cell_type": "markdown",
   "metadata": {},
   "source": [
    "**10) The function `forward_selection` below implements a forward stepwise selection of predictors for linear regression. Make sure to understand each of its steps, and how they relate to the algorithm seen in class.**\n",
    "\n",
    "**Using this function, find the best subset of predictors using the BIC as selection critierion. Redo the same by using the AIC and $R^2$ as selection criterion. Do you notice any differences?**"
   ]
  },
  {
   "cell_type": "code",
   "execution_count": null,
   "metadata": {},
   "outputs": [],
   "source": [
    "def forward_selection(df, target, criterion='BIC'):\n",
    "    assert criterion in ['BIC', 'AIC', 'R2'], 'Unknown criterion !'\n",
    "    # Iteratively, select the best feature to add to the model\n",
    "    candidates = set(df.columns) - {target}\n",
    "    ordered_predictors = []\n",
    "    while len(candidates) > 0:\n",
    "        rsquared_dict = {}\n",
    "        for predictor in candidates:\n",
    "            res = fit(df, ordered_predictors + [predictor], target)\n",
    "            rsquared_dict[predictor] = res.rsquared\n",
    "        best_predictor = max(rsquared_dict, key=rsquared_dict.get)\n",
    "        ordered_predictors = ordered_predictors + [best_predictor]\n",
    "        candidates.remove(best_predictor)\n",
    "    print(f'Best to worst predictors: {ordered_predictors}')\n",
    "    # Compute the scores obtained by adding each feature\n",
    "    current_features = []\n",
    "    scores = []\n",
    "    for feature in ordered_predictors:\n",
    "        current_features += [feature]\n",
    "        res = fit(df, current_features, target)\n",
    "        if criterion == 'BIC':\n",
    "            scores.append(res.bic)\n",
    "        elif criterion == 'AIC':\n",
    "            scores.append(res.aic)\n",
    "        elif criterion == 'R2':\n",
    "            scores.append(res.rsquared)\n",
    "    # Select the features that optimize the criterion\n",
    "    if criterion in ['BIC', 'AIC']:\n",
    "        num_final_features_to_keep = np.argmin(scores)\n",
    "    else:\n",
    "        num_final_features_to_keep = np.argmax(scores)\n",
    "    final_features_to_keep = ordered_predictors[:num_final_features_to_keep + 1]\n",
    "    best_final_score = scores[num_final_features_to_keep]\n",
    "    return final_features_to_keep, best_final_score\n",
    "\n",
    "def fit(df, features_to_try, target):\n",
    "    formula = get_formula(features_to_try, target)\n",
    "    y, X = dmatrices(formula, data=df, return_type='dataframe')\n",
    "    mod = sm.OLS(y, X)\n",
    "    res = mod.fit()\n",
    "    return res\n",
    "\n",
    "def get_formula(features_to_try, target):\n",
    "    return target + ' ~ ' + ' + '.join(features_to_try)"
   ]
  },
  {
   "cell_type": "code",
   "execution_count": null,
   "metadata": {},
   "outputs": [],
   "source": []
  },
  {
   "cell_type": "code",
   "execution_count": null,
   "metadata": {},
   "outputs": [],
   "source": []
  },
  {
   "cell_type": "code",
   "execution_count": null,
   "metadata": {},
   "outputs": [],
   "source": []
  },
  {
   "attachments": {},
   "cell_type": "markdown",
   "metadata": {},
   "source": []
  }
 ],
 "metadata": {
  "kernelspec": {
   "display_name": "Python 3",
   "language": "python",
   "name": "python3"
  },
  "language_info": {
   "codemirror_mode": {
    "name": "ipython",
    "version": 3
   },
   "file_extension": ".py",
   "mimetype": "text/x-python",
   "name": "python",
   "nbconvert_exporter": "python",
   "pygments_lexer": "ipython3",
   "version": "3.13.2"
  }
 },
 "nbformat": 4,
 "nbformat_minor": 2
}
