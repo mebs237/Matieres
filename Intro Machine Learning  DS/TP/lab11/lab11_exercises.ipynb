{
 "cells": [
  {
   "attachments": {},
   "cell_type": "markdown",
   "metadata": {},
   "source": [
    "# Machine Learning 2024-2025 - UMONS"
   ]
  },
  {
   "cell_type": "markdown",
   "metadata": {
    "id": "vP2BHEtuQ26i"
   },
   "source": [
    "# Tree-Based Methods\n",
    "\n",
    "In this lab, our objective is to predict whether female patients suffer from diabetes based on a series of medical attributes. To do so, we will apply several tree-based methods to the [Pima Indians diabetes dataset](https://www.kaggle.com/datasets/uciml/pima-indians-diabetes-database): \"The objective of the dataset is to diagnostically predict whether or not a patient has diabetes, based on certain diagnostic measurements included in the dataset. Several constraints were placed on the selection of these instances from a larger database. In particular, all patients here are females at least 21 years old of Pima Indian heritage\".\n",
    "\n",
    "Here is a description of the dataset's attributes:\n",
    "  - **Num_pregnant**: The number of pregnancies the patient had. \n",
    "  - **glucose_con**: Patient's plasma glucose concentration.\n",
    "  - **blood_pressure**: Patient's diastolic blood pressure ($\\mathrm{mmHg}$).\n",
    "  - **triceps_thickness**: Patient's triceps skin-fold thickness ($\\mathrm{mm}$).\n",
    "  - **insulin**: Patient's 2-hour serum insulin ($\\mathrm{\\mu U/mL}$).\n",
    "  - **bmi**: Patient's body mass index ($\\mathrm{kg/m^2}$).\n",
    "  - **dpf**: Patient's diabetes pedigree function.\n",
    "  - **age**: Patient's age (years). \n",
    "  - **diabetes**: Whether the patient has diabetes ($1$) or not ($0$)."
   ]
  },
  {
   "cell_type": "markdown",
   "metadata": {
    "id": "LWWFCoLHEeA4"
   },
   "source": [
    "**Load the necessary libraries.** "
   ]
  },
  {
   "cell_type": "code",
   "execution_count": 15,
   "metadata": {
    "id": "Pa-8tr1GBLlE"
   },
   "outputs": [],
   "source": [
    "import numpy as np\n",
    "import pandas as pd\n",
    "from sklearn.metrics import confusion_matrix, ConfusionMatrixDisplay, roc_curve, roc_auc_score, mean_squared_error\n",
    "from sklearn.model_selection import train_test_split, cross_validate, RandomizedSearchCV\n",
    "from sklearn.impute import SimpleImputer\n",
    "import matplotlib.pyplot as plt\n",
    "import math\n",
    "from sklearn.pipeline import Pipeline\n",
    "from sklearn.tree import DecisionTreeClassifier, plot_tree, DecisionTreeRegressor\n",
    "from sklearn.ensemble import RandomForestClassifier, RandomForestRegressor, GradientBoostingClassifier, GradientBoostingRegressor, BaggingClassifier, BaggingRegressor\n",
    "from sklearn.utils import resample"
   ]
  },
  {
   "cell_type": "markdown",
   "metadata": {
    "id": "dHo7LMdIEhmQ"
   },
   "source": [
    "**1) Load the dataset, get its general information, and check for missing values.** "
   ]
  },
  {
   "cell_type": "code",
   "execution_count": 2,
   "metadata": {
    "colab": {
     "base_uri": "https://localhost:8080/"
    },
    "id": "uvFNkYSUBs0v",
    "outputId": "b3b74434-b317-4109-ee4f-a9a809988e93"
   },
   "outputs": [
    {
     "name": "stdout",
     "output_type": "stream",
     "text": [
      "<class 'pandas.core.frame.DataFrame'>\n",
      "Index: 768 entries, 0 to 767\n",
      "Data columns (total 9 columns):\n",
      " #   Column             Non-Null Count  Dtype  \n",
      "---  ------             --------------  -----  \n",
      " 0   Num_pregnant       750 non-null    float64\n",
      " 1   glucose_con        755 non-null    float64\n",
      " 2   blood_pressure     761 non-null    float64\n",
      " 3   triceps_thickness  757 non-null    float64\n",
      " 4   insulin            768 non-null    float64\n",
      " 5   bmi                768 non-null    float64\n",
      " 6   dpf                767 non-null    float64\n",
      " 7   age                761 non-null    float64\n",
      " 8   diabetes           768 non-null    int64  \n",
      "dtypes: float64(8), int64(1)\n",
      "memory usage: 60.0 KB\n",
      "None\n",
      "   Num_pregnant  glucose_con  blood_pressure  triceps_thickness  insulin  \\\n",
      "0           6.0        148.0            72.0               35.0      0.0   \n",
      "1           1.0         85.0            66.0               29.0      0.0   \n",
      "2           8.0        183.0            64.0                0.0      0.0   \n",
      "3           1.0         89.0            66.0               23.0     94.0   \n",
      "4           0.0        137.0            40.0               35.0    168.0   \n",
      "\n",
      "    bmi    dpf   age  diabetes  \n",
      "0  33.6  0.627  50.0         1  \n",
      "1  26.6  0.351  31.0         0  \n",
      "2  23.3  0.672  32.0         1  \n",
      "3  28.1  0.167  21.0         0  \n",
      "4  43.1  2.288  33.0         1  \n",
      "Num_pregnant         18\n",
      "glucose_con          13\n",
      "blood_pressure        7\n",
      "triceps_thickness    11\n",
      "insulin               0\n",
      "bmi                   0\n",
      "dpf                   1\n",
      "age                   7\n",
      "diabetes              0\n",
      "dtype: int64\n"
     ]
    }
   ],
   "source": [
    "file = 'data/pima_indians_lab.csv'\n",
    "df = pd.read_csv(file, index_col=0)\n",
    "print(df.info())\n",
    "print(df.head())\n",
    "print(df.isna().sum())"
   ]
  },
  {
   "cell_type": "markdown",
   "metadata": {
    "id": "Mje6W8ucZYvi"
   },
   "source": [
    "# Decision Trees"
   ]
  },
  {
   "attachments": {},
   "cell_type": "markdown",
   "metadata": {
    "id": "qKdTxEtuE47K"
   },
   "source": [
    "**2) Select `diabetes` as the target variable, and all the remaining columns as predictors.**\n",
    "\n",
    "**Create a pipeline containing the preprocessing steps (missing values imputer, scaler...) and a `DecisionTreeClassifier` with a maximum depth set to $3$ (through the `max_depth` argument). Use the entropy as split criterion.** \n",
    "- **Do you think scaling the variables is necessary?**\n",
    "\n",
    "\n",
    "**Fit this pipeline to the data (do not split the dataset for the time being), and plot the decision tree. How do you interpret it?** \n",
    "\n",
    "**You will need the `plot_tree` method from the `sklearn` library. You can access the pipeline's classifier using the `named_steps['classifier']` attributes. You will also need to pass the features' (predictors) names to the function using the `features_names` argument.**"
   ]
  },
  {
   "cell_type": "code",
   "execution_count": 18,
   "metadata": {
    "colab": {
     "base_uri": "https://localhost:8080/",
     "height": 1000
    },
    "id": "aX5HnDk9JRDC",
    "outputId": "b4a96ad2-5844-48d2-b6be-41ef7a0209c3"
   },
   "outputs": [
    {
     "data": {
      "image/png": "[encoded data removed]",
      "text/plain": [
       "<Figure size 640x480 with 1 Axes>"
      ]
     },
     "metadata": {},
     "output_type": "display_data"
    }
   ],
   "source": [
    "X =   df.drop(columns=['diabetes'],axis=1)\n",
    "y =   df[['diabetes']]\n",
    "\n",
    "# Impute missing values\n",
    "preprocessor = SimpleImputer(strategy='mean')\n",
    "\n",
    "# Create a pipeline with the preprocessor and the classifier\n",
    "pipe = Pipeline([\n",
    "    ('preprocessor', preprocessor),\n",
    "    ('classifier', DecisionTreeClassifier(max_depth=3, random_state=42))\n",
    "])\n",
    "# Fit the pipeline\n",
    "pipe.fit(X, y)\n",
    "tree = pipe.named_steps['classifier']\n",
    "plot_tree(tree,\n",
    "          feature_names=X.columns)\n",
    "plt.title('Decision Tree Classifier')\n",
    "plt.savefig('decision_tree_classifier.png')\n",
    "plt.show()"
   ]
  },
  {
   "attachments": {},
   "cell_type": "markdown",
   "metadata": {
    "id": "S28nzR0aGyWL"
   },
   "source": [
    "pas forcément besoin de scaler les données"
   ]
  },
  {
   "attachments": {},
   "cell_type": "markdown",
   "metadata": {
    "id": "hHndFhA_J4QK"
   },
   "source": [
    "**3) Let us see how the model's performance evolve as a function of the tree's maximum depth.**\n",
    "\n",
    "**To this end, apply the following steps:**\n",
    "- **Split the dataset into a training and a test set following a $80\\%$/$20\\%$ partition.**\n",
    "- **For maximum depths varying from $1$ to $20$, fit a `DecisionTreeClassifier` to the *training* data using $10$-fold cross-validation with the area under the ROC curve (abbreviated AUC or AUROC) as metric.**\n",
    "- **Plot the means of the training and validation AUROCs across each fold as a function of the maximum depth.**\n",
    "- **Assuming independence of the AUROCs, what is the formula for the standard error of the means at each depth? Compute an estimation of it and add it to the plot as a shaded grey area around the means (you can use [`fill_between`](https://matplotlib.org/stable/api/_as_gen/matplotlib.pyplot.fill_between.html) for this).**\n",
    "    - **What can you conclude regarding the model's performance, as well as the uncertainty for the in-sample and out-of-sample AUROC estimates?**\n",
    "- **Identify which depth would lead a priori to the best model's out-of-sample performance. Using this depth, fit a decision tree to the training split and report the training AUROC and the test AUROC.** "
   ]
  },
  {
   "cell_type": "markdown",
   "metadata": {},
   "source": []
  },
  {
   "cell_type": "code",
   "execution_count": null,
   "metadata": {
    "colab": {
     "base_uri": "https://localhost:8080/",
     "height": 644
    },
    "id": "wzjb32Tqm6ij",
    "outputId": "7139e52a-f052-4560-d327-663dd5069471"
   },
   "outputs": [],
   "source": [
    "X_train, X_test, y_train, y_test = train_test_split(X, y, train_size=0.8, test_size=0.2, random_state=42)\n",
    "for depth in range(1,21):\n"
   ]
  },
  {
   "cell_type": "markdown",
   "metadata": {
    "id": "u4-kO2sKOSIg"
   },
   "source": [
    "Clearly, the decision tree starts overfitting very early as the maximum depth increases, as shown by the increasing gap between the training and test curves. \n",
    "\n",
    "The in-sample variance of a classifier quantifies by how much its predictions on the training data will vary when it is fitted on different training sets. This is precisely what happens during cross-validation, as the same classifier's architecture is trained on different training sets, resulting in different models. The better the model fits the training data, the less error it makes when evaluated on it. This explains why the standard error is small for the training AUROC. In each fold, the model overfits the training data, and hence, its predictions do not vary much across folds. It goes up to the point where the model is complex enough to perfectly interpolate the training data (i.e., the model does not make any mistake on the training data). As in this case the training AUROC is equal to $1$ in each fold, the standard error is null. \n",
    "\n",
    "On the other hand, the out-of-sample standard error is larger, and increases when overfitting happens. Indeed, as the models (in a $10$-fold cross-validation, we have $10$ different models) are extremely specific to the data they have been trained on, their predictions vary significantly when presented to unseen data (the validation fold), resulting in a high variance of validation AUROCs across the different folds, and hence, a large standard error."
   ]
  },
  {
   "cell_type": "code",
   "execution_count": null,
   "metadata": {
    "colab": {
     "base_uri": "https://localhost:8080/"
    },
    "id": "ljV_V14Kr30s",
    "outputId": "bf90f679-b77f-4f9a-e9de-83c75bb9abc1"
   },
   "outputs": [],
   "source": []
  },
  {
   "cell_type": "markdown",
   "metadata": {
    "id": "tdvKtPEa7KRe"
   },
   "source": [
    "# Bagging "
   ]
  },
  {
   "attachments": {},
   "cell_type": "markdown",
   "metadata": {
    "id": "EwkZbxViZ_Y0"
   },
   "source": [
    "**4) Implement your own bagging algorithm by fitting a decision tree to each bootstrap sample. To this end, perform the following steps:**\n",
    "- **Draw $30$ bootstrap samples from the training set with replacement. Each bootstrap sample should contain the same number of observations as in the training set. Use the `resample()` method of scikit-learn.** \n",
    "- **For each bootstrap sample:**\n",
    "  - **Fit a `DecisionTreeClassifier` to the bootstrap sample. Reuse the pipeline defined previously. The maximum depth of each tree should be fixed to $5$.**\n",
    "  - **Using the fitted decision tree, predict the class and the probabilities on the test set, and save them in a list.**\n",
    "- **You will now use two different aggregation strategies to get a single prediction from the ensemble:** \n",
    "  - **Majority vote strategy: predict the class that was predicted the most by each tree separately.**\n",
    "  - **Average probability strategy: predict the class whose average probability across each tree is the highest.** \n",
    "- **Plot the confusion matrix of the predictions for both aggregation strategies separately.**"
   ]
  },
  {
   "cell_type": "code",
   "execution_count": null,
   "metadata": {
    "colab": {
     "base_uri": "https://localhost:8080/",
     "height": 559
    },
    "id": "Fu5FuKfU64K-",
    "outputId": "5f822424-9057-493e-a28f-8b807e0c3586"
   },
   "outputs": [],
   "source": []
  },
  {
   "cell_type": "markdown",
   "metadata": {
    "id": "DXrkXG8gw3Vp"
   },
   "source": []
  },
  {
   "cell_type": "markdown",
   "metadata": {
    "id": "WlMQavsWhGO6"
   },
   "source": [
    "# Random Forests"
   ]
  },
  {
   "cell_type": "markdown",
   "metadata": {
    "id": "b1_648UmlJrd"
   },
   "source": [
    "**5) Perform a `RandomizedSearchCV` on a specified grid of hyper-parameters to find the best configuration for a `RandomForestClassifier`. Set the scoring function as the AUROC and limit the number of combinations to try to $10$.**\n",
    "\n",
    "**Fit the best model found in the previous procedure to the training data, and predict on the test set. Report the test AUROC and display the ROC curve.**"
   ]
  },
  {
   "cell_type": "code",
   "execution_count": null,
   "metadata": {
    "id": "QEhFjZm0D5-p"
   },
   "outputs": [],
   "source": []
  },
  {
   "cell_type": "code",
   "execution_count": null,
   "metadata": {
    "colab": {
     "base_uri": "https://localhost:8080/",
     "height": 531
    },
    "id": "L9sL5KzcKVlm",
    "outputId": "f62f8a3f-9f3b-4f88-f3e7-46d6f6777d5f"
   },
   "outputs": [],
   "source": []
  },
  {
   "cell_type": "markdown",
   "metadata": {
    "id": "qpJYcRiqfa0R"
   },
   "source": [
    "# Boosting"
   ]
  },
  {
   "cell_type": "markdown",
   "metadata": {
    "id": "xbLLa_mDmpV2"
   },
   "source": [
    "**7) Fit a `GradientBoostingClassifier` to the training data, and report the training and test AUROCs.**"
   ]
  },
  {
   "cell_type": "code",
   "execution_count": null,
   "metadata": {
    "colab": {
     "base_uri": "https://localhost:8080/"
    },
    "id": "MyLMB01YV-mw",
    "outputId": "19cf3dcd-1a01-430f-aaed-4c812bcb6af4"
   },
   "outputs": [],
   "source": []
  },
  {
   "cell_type": "markdown",
   "metadata": {
    "id": "7iMGufJ8XlEV"
   },
   "source": [
    "**8) For a `DecisionTreeClassifier`, a `BaggingClassifier`, a `RandomForestClassifier`, and a `GradientBoostingClassifier`, perform a `RandomizedSearchCV` on a predefined grid of hyper-parameters (you may modify them as you wish). Amongst all models and hyper-parameters combinations, select the best model and report the best *validation* AUROC. The random search should be performed on the *training* data, and you can set the number of combinations to try per model to $5$.**\n",
    "\n",
    "**For the best model found, report the training and test AUROCs, and display the training and test ROC curves.**"
   ]
  },
  {
   "cell_type": "code",
   "execution_count": null,
   "metadata": {},
   "outputs": [],
   "source": [
    "param_grid_boost = {\n",
    "    'classifier__n_estimators' : [50,100,150,200],\n",
    "    'classifier__learning_rate' : [0.5,0.1,0.05],\n",
    "    'classifier__min_samples_split' : [2,5,10],\n",
    "    'classifier__min_samples_leaf' : [2,5,10]\n",
    "}\n",
    "\n",
    "param_grid_bag = {\n",
    "    'classifier__n_estimators' : [25,50,100,150,200],\n",
    "}\n",
    "\n",
    "param_grid_tree = {\n",
    "    'classifier__criterion' : ['gini', 'entropy'],\n",
    "    'classifier__max_depth' : [None,2,5,10],\n",
    "    'classifier__min_samples_split' : [2,5,10],\n",
    "    'classifier__min_samples_leaf' : [2,5,10]\n",
    "}\n",
    "\n",
    "param_grid_forest = {\n",
    "    'classifier__n_estimators' : [50,100,150,200],\n",
    "    'classifier__criterion' : ['gini', 'entropy'],\n",
    "    'classifier__max_depth' : [5,10,15,20,None],\n",
    "    'classifier__max_features' : ['sqrt', 'log2']\n",
    "}"
   ]
  },
  {
   "cell_type": "code",
   "execution_count": null,
   "metadata": {
    "colab": {
     "base_uri": "https://localhost:8080/"
    },
    "id": "zi0NcaQaeesO",
    "outputId": "18044d39-b1a6-4cfe-c1b9-b98599a03938"
   },
   "outputs": [],
   "source": []
  },
  {
   "cell_type": "code",
   "execution_count": null,
   "metadata": {
    "colab": {
     "base_uri": "https://localhost:8080/"
    },
    "id": "YIihkYc4KgL6",
    "outputId": "702be5e5-e520-4c83-b7b6-e25d797c65eb"
   },
   "outputs": [],
   "source": []
  },
  {
   "cell_type": "code",
   "execution_count": null,
   "metadata": {
    "colab": {
     "base_uri": "https://localhost:8080/",
     "height": 531
    },
    "id": "MsETcYP8KxjO",
    "outputId": "9defb96e-eea6-4506-ba16-ba3b58e5be9d"
   },
   "outputs": [],
   "source": []
  },
  {
   "cell_type": "markdown",
   "metadata": {
    "id": "jEvdTtjsrCEf"
   },
   "source": [
    "# Regression "
   ]
  },
  {
   "attachments": {},
   "cell_type": "markdown",
   "metadata": {
    "id": "--wfsvsUYo3C"
   },
   "source": [
    "**9) Select *bmi* as the target variable and all the remaining columns in the dataframe as the predictors, at the exception of *diabetes*. Split your dataset into a training and test set, fit a `DecisionTreeRegressor` to the training data, and report the MSE on the training and test sets. What do you observe?**"
   ]
  },
  {
   "cell_type": "code",
   "execution_count": null,
   "metadata": {
    "colab": {
     "base_uri": "https://localhost:8080/"
    },
    "id": "cFRzaOwynexC",
    "outputId": "5e10b383-46ea-4843-a861-377d63d8c7e1"
   },
   "outputs": [],
   "source": []
  },
  {
   "cell_type": "markdown",
   "metadata": {
    "id": "wA09_yPrZg8g"
   },
   "source": [
    "As we did not impose any restrictions on the depth that the tree could reach, it grew to the point that each leaf contains a single training observation. The value predicted for a leaf being the mean of the observations contained in it, and as each leaf contains a single observation, the model exactly predicts all training points, and the training MSE is $0$. The behavior obviously does not generalize well, as shown by the test MSE. "
   ]
  },
  {
   "cell_type": "markdown",
   "metadata": {
    "id": "dMUd7Kyqa6S4"
   },
   "source": [
    "**10) For a `DecisionTreeRegressor`, a `BaggingRegressor`, a `RandomForestRegressor`, and a `GradientBoostingRegressor`, perform a `RandomizedSearchCV` on a predefined grid of hyper-parameters. Amongst all models and hyper-parameters combinations, select the best model and report the best *validation* MSE. The random search should be performed on the *training* data, and you can set the number of combinations to try per model to $5$.**\n",
    "\n",
    "**For the best model found, report the training and test MSE.**"
   ]
  },
  {
   "cell_type": "code",
   "execution_count": null,
   "metadata": {},
   "outputs": [],
   "source": [
    "param_grid_boost = {\n",
    "    'regressor__n_estimators' : [50,100,150,200],\n",
    "    'regressor__learning_rate' : [0.5, 0.1, 0.05],\n",
    "    'regressor__min_samples_split' : [2,5,10],\n",
    "    'regressor__min_samples_leaf' : [2,5,10]\n",
    "}\n",
    "\n",
    "param_grid_bag = {\n",
    "    'regressor__n_estimators' : [25,50,100,150,200],\n",
    "}\n",
    "\n",
    "param_grid_tree = {\n",
    "    'regressor__criterion' : ['squared_error', 'friedman_mse', 'absolute_error', 'poisson'],\n",
    "    'regressor__max_depth' : [None, 2,5,10],\n",
    "    'regressor__min_samples_split' : [2,5,10],\n",
    "    'regressor__min_samples_leaf' : [2,5,10]\n",
    "}\n",
    "\n",
    "param_grid_forest = {\n",
    "    'regressor__n_estimators' : [50,100,150,200],\n",
    "    'regressor__criterion' : ['squared_error', 'friedman_mse', 'absolute_error', 'poisson'],\n",
    "    'regressor__max_depth' : [5,10,15,20,None],\n",
    "    'regressor__max_features' : ['sqrt', 'log2']\n",
    "}"
   ]
  },
  {
   "cell_type": "code",
   "execution_count": null,
   "metadata": {
    "colab": {
     "base_uri": "https://localhost:8080/"
    },
    "id": "N3Z7uoKdqef4",
    "outputId": "0b1a7a39-e1b3-4e16-9bfb-f70df5d467ed"
   },
   "outputs": [],
   "source": []
  },
  {
   "cell_type": "code",
   "execution_count": null,
   "metadata": {
    "colab": {
     "base_uri": "https://localhost:8080/"
    },
    "id": "dsT_OM6HsjUJ",
    "outputId": "3d53d243-c399-4ec7-9872-d56401aae787"
   },
   "outputs": [],
   "source": []
  },
  {
   "cell_type": "code",
   "execution_count": null,
   "metadata": {
    "colab": {
     "base_uri": "https://localhost:8080/"
    },
    "id": "eJfCI0tQsoFh",
    "outputId": "9fa3da28-6cde-42eb-9e46-2ce4ca67df62"
   },
   "outputs": [],
   "source": []
  }
 ],
 "metadata": {
  "colab": {
   "name": "Lab11_solutions.ipynb",
   "provenance": []
  },
  "kernelspec": {
   "display_name": "Python 3",
   "name": "python3"
  },
  "language_info": {
   "codemirror_mode": {
    "name": "ipython",
    "version": 3
   },
   "file_extension": ".py",
   "mimetype": "text/x-python",
   "name": "python",
   "nbconvert_exporter": "python",
   "pygments_lexer": "ipython3",
   "version": "3.13.2"
  }
 },
 "nbformat": 4,
 "nbformat_minor": 0
}
