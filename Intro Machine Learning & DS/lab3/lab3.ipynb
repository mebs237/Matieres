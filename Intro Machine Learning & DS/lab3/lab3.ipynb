{
 "cells": [
  {
   "cell_type": "markdown",
   "id": "799d9ddc",
   "metadata": {},
   "source": [
    "# Machine Learning 2024-2025 – UMONS \n",
    "# Lab 3 - Linear and Logistic Regressions"
   ]
  },
  {
   "cell_type": "code",
   "execution_count": 2,
   "id": "47a5a9a6",
   "metadata": {},
   "outputs": [],
   "source": [
    "# A few useful libraries\n",
    "# %matplotlib widget # Try this line, may improve the plots, but does not work\n",
    "                     # on all systems\n",
    "import numpy as np\n",
    "import matplotlib.pyplot as plt\n",
    "from mpl_toolkits.mplot3d import axes3d\n",
    "\n",
    "import random as rd"
   ]
  },
  {
   "cell_type": "markdown",
   "id": "10594c2c",
   "metadata": {},
   "source": [
    "# 1. Linear regression"
   ]
  },
  {
   "cell_type": "markdown",
   "id": "866e8521",
   "metadata": {},
   "source": [
    "## 1.1. Simple linear regression and batch gradient descent"
   ]
  },
  {
   "cell_type": "markdown",
   "id": "e74f119b",
   "metadata": {},
   "source": [
    "We first assume the simple case with a single predictor ($p = 1$).\n",
    "We want to compute a linear regression, so we are looking for the two parameters $\\beta_0$ and $\\beta_1$.\n",
    "We will be working with a very simple dataset, that we generate ourselves: $x$ varies from $-10$ to $10$ with a step of $0.1$, and we take\n",
    "$$\n",
    "    y^{(i)} = 2 - \\frac{x^{(i)}}{2} + \\varepsilon^{(i)},\n",
    "$$\n",
    "where $\\varepsilon^{(i)}$ is a small random noise following a normal law of mean $0$.\n",
    "If everything works according to plan, our algorithm should thus find $\\beta_0 \\approx 2$ and $\\beta_1 \\approx -0.5$."
   ]
  },
  {
   "cell_type": "code",
   "execution_count": 3,
   "id": "c62554ee",
   "metadata": {},
   "outputs": [],
   "source": [
    "X = np.linspace(-10, 10, 101)\n",
    "Y = np.array([2 + -.5*x + np.random.normal(0,1) for x in X])"
   ]
  },
  {
   "cell_type": "code",
   "execution_count": 4,
   "id": "96828217",
   "metadata": {},
   "outputs": [
    {
     "data": {
      "image/png": "[encoded data removed]",
      "text/plain": [
       "<Figure size 640x480 with 1 Axes>"
      ]
     },
     "metadata": {},
     "output_type": "display_data"
    }
   ],
   "source": [
    "# Printing the data\n",
    "plt.clf() # Clear previous plots\n",
    "plt.plot(X, Y, 'o')\n",
    "plt.xlabel(\"$x$\")\n",
    "plt.ylabel(\"$y$\")\n",
    "plt.show()"
   ]
  },
  {
   "cell_type": "markdown",
   "id": "ad27b118",
   "metadata": {},
   "source": [
    "We wish to compute the mean squared error $J(\\beta_0, \\beta_1)$ and the partial derivatives $\\frac{\\partial J}{\\partial \\beta_0}(\\beta_0, \\beta_1)$ and $\\frac{\\partial J}{\\partial \\beta_1}(\\beta_0, \\beta_1)$, then perform gradient descent."
   ]
  },
  {
   "cell_type": "code",
   "execution_count": 5,
   "id": "41d462f6",
   "metadata": {},
   "outputs": [],
   "source": [
    "def squared_error_simple(beta0, beta1, X, Y):\n",
    "    \"\"\"\n",
    "    Returns the mean squared error of beta0, beta1 on training examples (X, Y).\"\"\"\n",
    "\n",
    "    return  np.mean(np.array( [(beta0 + beta1*xi -yi)**2 for xi,yi in zip(X,Y) ]) )\n"
   ]
  },
  {
   "cell_type": "code",
   "execution_count": 6,
   "id": "4683a1d7",
   "metadata": {},
   "outputs": [],
   "source": [
    "def derivative_squared_error_simple(beta0, beta1, X, Y):\n",
    "    \"\"\"\n",
    "    Returns a pair of floats, containing the partial derivatives of the error relatively to beta0 and beta1.\n",
    "    \"\"\"\n",
    "    return np.array( [np.mean(np.array( [2*(beta0 + beta1*xi -yi)   for  xi,yi in zip(X,Y)] )) ,  np.mean(np.array( [2*xi*(beta0 + beta1*xi -yi) for xi,yi in zip(X,Y)] )) ] )\n"
   ]
  },
  {
   "cell_type": "code",
   "execution_count": 7,
   "id": "619c2e11",
   "metadata": {},
   "outputs": [
    {
     "name": "stdout",
     "output_type": "stream",
     "text": [
      "Error: 13.067810412750239\n",
      "Gradient: [-3.88047451 33.67530182]\n"
     ]
    }
   ],
   "source": [
    "print(f\"Error: {squared_error_simple(0, 0, X, Y)}\")\n",
    "print(f\"Gradient: {derivative_squared_error_simple(0, 0, X, Y)}\")"
   ]
  },
  {
   "cell_type": "code",
   "execution_count": 9,
   "id": "f40a97c1",
   "metadata": {},
   "outputs": [],
   "source": [
    "def one_step_simple_linear_regression_gradient_descent(beta0, beta1, X, Y, learning_rate):\n",
    "    \"\"\"\n",
    "    One step of the gradient descent for the simple linear regression. Takes the parameters, the training examples and the learning rate, and returns the new values for the parameters.\n",
    "\n",
    "    Returns:\n",
    "        (_tuple_) : β₀ᵗ⁺¹ , β₁ᵗ⁺¹  for the t+1 th step after step t\n",
    "    \"\"\"\n",
    "    return np.array ( [ beta0 , beta1 ])  - learning_rate*derivative_squared_error_simple(beta0, beta1, X, Y)\n"
   ]
  },
  {
   "cell_type": "code",
   "execution_count": 10,
   "id": "6694b554",
   "metadata": {},
   "outputs": [],
   "source": [
    "def simple_linear_regression_gradient_descent(X, Y, nb_steps, learning_rate = .01):\n",
    "    \"\"\"Simple batch gradient descent algorithm to compute a linear regression.\n",
    "    Takes the training examples and the learning rate (0.01 by default) and returns (beta0, beta1, beta0_hist, beta1_hist) where beta0_hist, beta1_hist are the lists of all values taken by beta0 and beta1.\n",
    "    Halting condition: when the number of steps is reached.\"\"\"\n",
    "    beta  = np.array([rd.random(), rd.random() ]) # Random initialization\n",
    "    beta0_hist , beta1_hist = [ beta[0] ] , [ beta[1] ]\n",
    "\n",
    "    while nb_steps > 0:\n",
    "        beta = one_step_simple_linear_regression_gradient_descent(beta[0], beta[1], X, Y, learning_rate)\n",
    "        beta0_hist.append( beta[0] )\n",
    "        beta1_hist.append( beta[1] )\n",
    "        nb_steps -= 1\n",
    "    return  beta[0], beta[1], beta0_hist, beta1_hist\n"
   ]
  },
  {
   "cell_type": "markdown",
   "id": "3fe8cf2d",
   "metadata": {},
   "source": [
    "We display a plot of the error. As it takes two parameters, this is a 3D plot."
   ]
  },
  {
   "cell_type": "code",
   "execution_count": 11,
   "id": "29bde38e",
   "metadata": {},
   "outputs": [
    {
     "name": "stdout",
     "output_type": "stream",
     "text": [
      "beta0: 1.9402372552479923,\n",
      "beta1: -0.49522502680133895,\n",
      "b0_size: 1001,\n",
      "b1_size: 1001,\n"
     ]
    },
    {
     "data": {
      "image/png": "[encoded data removed]",
      "text/plain": [
       "<Figure size 640x480 with 1 Axes>"
      ]
     },
     "metadata": {},
     "output_type": "display_data"
    }
   ],
   "source": [
    "ax = plt.figure().add_subplot(projection='3d')\n",
    "t0 = np.linspace(-0.5, 4, 81) # Values of beta_0 from -0.5 to 4\n",
    "t1 = np.linspace(-2, 1, 81) # Values of beta_1 from -2 to 1\n",
    "T0, T1 = np.meshgrid(t0, t1) # Grid of values of beta_0 and beta_1\n",
    "\n",
    "squared_error_vect = np.vectorize(squared_error_simple, excluded={2,3})\n",
    "E = squared_error_vect(T0, T1, X, Y) # Error plot\n",
    "\n",
    "# Display the error function\n",
    "ax.plot_surface(T0, T1, E, cmap=plt.cm.coolwarm, alpha=.5)\n",
    "ax.set_xlabel('$\\\\beta_0$')\n",
    "ax.set_ylabel('$\\\\beta_1$')\n",
    "ax.set_zlabel('$J(\\\\beta_0, \\\\beta_1)$')\n",
    "\n",
    "# Display the values of beta0 and beta1 during the gradient descent\n",
    "beta0, beta1, beta0_hist, beta1_hist = simple_linear_regression_gradient_descent(X, Y, 1000, learning_rate = .01)\n",
    "print(f\"beta0: {beta0},\\nbeta1: {beta1},\\nb0_size: {len(beta0_hist)},\\nb1_size: {len(beta1_hist)},\")\n",
    "ax.scatter3D(beta0_hist, beta1_hist, squared_error_vect(beta0_hist, beta1_hist, X, Y), color=\"black\")\n",
    "plt.show()"
   ]
  },
  {
   "cell_type": "markdown",
   "id": "2e5860d8",
   "metadata": {},
   "source": [
    "Repeat the experiences above with different values for the learning rate $\\alpha$. What seem to be good values for $\\alpha$ in this case?\n"
   ]
  },
  {
   "cell_type": "markdown",
   "id": "c3586644",
   "metadata": {},
   "source": [
    "*Answer:*"
   ]
  },
  {
   "cell_type": "markdown",
   "id": "26a88259",
   "metadata": {},
   "source": [
    "### Parenthesis: `np.vectorize`\n",
    "\n",
    "The `vectorize` function allows transforming a function $f$ of type `S -> T` into a function `array[S] -> array[T]` that applies $f$ to each element of the array. The `excluded` argument is useful when the function has multiple parameters and you want to avoid vectorizing the function according to one parameter."
   ]
  },
  {
   "cell_type": "markdown",
   "id": "bb604ada",
   "metadata": {},
   "source": [
    "A small example of usage of `np.vectorize`:"
   ]
  },
  {
   "cell_type": "code",
   "execution_count": 11,
   "id": "24768e38",
   "metadata": {},
   "outputs": [
    {
     "name": "stdout",
     "output_type": "stream",
     "text": [
      "[2 3 4 5 6]\n",
      "[1 3 5 7 9]\n",
      "[ 0  3  6  9 12]\n"
     ]
    }
   ],
   "source": [
    "def f(x, y):\n",
    "    return x + 2*y\n",
    "\n",
    "L = np.array(range(5))\n",
    "f1 = np.vectorize(f, excluded={1})\n",
    "print(f1(L, 1))\n",
    "\n",
    "f2 = np.vectorize(f, excluded={0})\n",
    "print(f1(1, L))\n",
    "\n",
    "f3 = np.vectorize(f)\n",
    "print(f3(L, L))"
   ]
  },
  {
   "cell_type": "markdown",
   "id": "c3cd876f",
   "metadata": {},
   "source": [
    "### Back to linear regression\n",
    "\n",
    "Using `matplotlib.pyplot()`, display the data $(X, Y)$ along with the hypothesis $h_\\beta\\colon x \\mapsto \\beta_0 + \\beta_1 x$ found by gradient descent."
   ]
  },
  {
   "cell_type": "code",
   "execution_count": 13,
   "id": "ae8f7d62",
   "metadata": {},
   "outputs": [
    {
     "data": {
      "image/png": "[encoded data removed]",
      "text/plain": [
       "<Figure size 640x480 with 1 Axes>"
      ]
     },
     "metadata": {},
     "output_type": "display_data"
    }
   ],
   "source": [
    "hb = np.vectorize(lambda x: beta0 + beta1*x )\n",
    "\n",
    "#tracer de x et y\n",
    "plt.clf()\n",
    "plt.plot(X, Y , 'o',label=\"Data\") # nuages de points du data set\n",
    "plt.plot(X,hb(X),color=\"red\",label=\"$h_\\\\beta(X)$\") # droite de regression\n",
    "plt.legend()\n",
    "plt.xlabel(\"$ X $\")\n",
    "plt.ylabel(\"$ Y  $\")\n",
    "plt.title(\"(X,Y) where $ Y = h_\\\\beta (X)$\")\n",
    "plt.show()\n",
    "pass"
   ]
  },
  {
   "cell_type": "markdown",
   "id": "f8ce10cd",
   "metadata": {},
   "source": [
    "Display on the same plot:\n",
    "- how the error evolves over time, and\n",
    "- how the absolute values of the partial derivatives evolve over time.\n",
    "\n",
    "Use a logarithmic scale `plt.yscale('log')` for the vertical axis."
   ]
  },
  {
   "cell_type": "code",
   "execution_count": 20,
   "id": "79851cdd",
   "metadata": {},
   "outputs": [
    {
     "data": {
      "image/png": "[encoded data removed]",
      "text/plain": [
       "<Figure size 640x480 with 1 Axes>"
      ]
     },
     "metadata": {},
     "output_type": "display_data"
    }
   ],
   "source": [
    "\n",
    "derivative_squared_error_vect = np.vectorize( derivative_squared_error_simple, excluded={2,3} )\n",
    "\n",
    "epochs = np.arange(len(beta0_hist))\n",
    "\n",
    "E = squared_error_vect(beta0_hist,beta1_hist,X,Y) # error plot\n",
    "\n",
    "\"\"\"\n",
    "Dj = [derivative_squared_error_simple(b0,b1,X,Y) for b0,b1 in zip(beta0_hist , beta1_hist)]\n",
    "Dj0 = [e[0] for e in Dj]\n",
    "Dj1 = [e[1] for e in Dj]\n",
    "\"\"\"\n",
    "Dj = np.vstack([derivative_squared_error_simple(b0, b1, X, Y) for b0, b1 in zip(beta0_hist, beta1_hist)])\n",
    "Dj0 = Dj[:, 0]  # Première colonne pour ∂J/∂β0\n",
    "Dj1 = Dj[:, 1]  # Deuxième colonne pour ∂J/∂β1\n",
    "\n",
    "plt.clf()\n",
    "plt.plot(epochs , E , label = \"Error\")\n",
    "plt.plot(epochs,Dj0 ,label= \"$ ∂J/∂\\\\beta_0 $\")\n",
    "plt.plot(epochs,Dj1 ,label= \"$ ∂J/∂\\\\beta_1 $\")\n",
    "plt.title(\"Evolution over time of error and partial derivatives \")\n",
    "plt.legend()\n",
    "plt.grid()\n",
    "plt.xlabel('epoch')\n",
    "#plt.xscale('log')\n",
    "#plt.yscale('log')\n",
    "plt.show()\n"
   ]
  },
  {
   "cell_type": "markdown",
   "id": "57283b13",
   "metadata": {},
   "source": [
    "Implement an alternative version of `simple_linear_regression_gradient_descent` which, instead of stopping after a fixed number of steps, stops when the partial derivatives $\\frac{\\partial J}{\\partial \\beta_0}$ et $\\frac{\\partial J}{\\partial \\beta_1}$ are smaller than $\\lambda*J(\\beta_0, \\beta_1)$, where $\\lambda$ is a parameter of the function."
   ]
  },
  {
   "cell_type": "code",
   "execution_count": 21,
   "id": "2e241446",
   "metadata": {},
   "outputs": [],
   "source": [
    "def simple_linear_regression_gradient_descent_alt(X, Y, learning_rate = .01, stop = .01):\n",
    "    \"\"\"Simple batch gradient descent algorithm to compute a linear regression.\n",
    "    Takes the training examples and the learning rate (0.01 by default) and returns (beta0, beta1, beta0_hist, beta1_hist) where beta0_hist, beta1_hist are the lists of all values taken by beta0 and beta1.\n",
    "    Halting condition: when the derivates are smaller than $stop$ * the error, in absolute value.\"\"\"\n",
    "    beta0 , beta1  = rd.random(), rd.random() # Random initialization\n",
    "    beta0_hist , beta1_hist = [beta0] , [beta1]\n",
    "    DJ = abs(derivative_squared_error_simple(beta0,beta1,X,Y))\n",
    "    J = stop*abs(squared_error_simple(beta0,beta1,X,Y))\n",
    "\n",
    "    while DJ[0]>J or DJ[1]>J:\n",
    "        beta0 , beta1 = one_step_simple_linear_regression_gradient_descent(beta0, beta1, X, Y, learning_rate)\n",
    "        beta1_hist.append(beta1)\n",
    "        beta0_hist.append(beta0)\n",
    "        nb_steps -= 1\n",
    "    return beta0, beta1 , beta0_hist, beta1_hist\n"
   ]
  },
  {
   "cell_type": "markdown",
   "id": "e055e746",
   "metadata": {},
   "source": [
    "Check that is gives a similar answer."
   ]
  },
  {
   "cell_type": "code",
   "execution_count": 22,
   "id": "f2c03765",
   "metadata": {},
   "outputs": [],
   "source": [
    "epochs = np.arange(len(beta0_hist))\n",
    "\n",
    "pass"
   ]
  },
  {
   "cell_type": "markdown",
   "id": "ea453437",
   "metadata": {},
   "source": [
    "## 1.2. Some reminders on matrices\n",
    "\n",
    "Functions and operators on matrices, using `numpy`."
   ]
  },
  {
   "cell_type": "code",
   "execution_count": 16,
   "id": "0c2959a5",
   "metadata": {},
   "outputs": [
    {
     "name": "stdout",
     "output_type": "stream",
     "text": [
      "A:\n",
      " [[0 1]\n",
      " [2 3]]\n",
      "B:\n",
      " [[ 2]\n",
      " [-1]]\n"
     ]
    }
   ],
   "source": [
    "A = np.array([[0, 1], [2, 3]])\n",
    "B = np.array([[2], [-1]])\n",
    "print(f\"A:\\n {A}\")\n",
    "print(f\"B:\\n {B}\")"
   ]
  },
  {
   "cell_type": "markdown",
   "id": "6e0dd614",
   "metadata": {},
   "source": [
    "Careful: we could have defined $A$ and $B$ with `np.matrix` instead of `np.array`. However, using `np.matrix` is [discouraged](https://docs.scipy.org/doc/scipy/tutorial/linalg.html). We will call the objects we manipulate *matrices*, even though they are technically multidimensional arrays (`ndarray`)."
   ]
  },
  {
   "cell_type": "code",
   "execution_count": 17,
   "id": "395f8ea6",
   "metadata": {},
   "outputs": [
    {
     "name": "stdout",
     "output_type": "stream",
     "text": [
      "<class 'numpy.ndarray'>\n"
     ]
    }
   ],
   "source": [
    "print(type(A))"
   ]
  },
  {
   "cell_type": "code",
   "execution_count": 18,
   "id": "c762da0d",
   "metadata": {},
   "outputs": [
    {
     "name": "stdout",
     "output_type": "stream",
     "text": [
      "(2, 2)\n",
      "(2, 1)\n"
     ]
    }
   ],
   "source": [
    "# Matrix dimensions\n",
    "print(A.shape)\n",
    "print(B.shape)"
   ]
  },
  {
   "cell_type": "markdown",
   "id": "e3930a75",
   "metadata": {},
   "source": [
    "The product of two matrices $A$ and $B$ can be computed with `A.dot(B)` or `A @ B`."
   ]
  },
  {
   "cell_type": "code",
   "execution_count": 19,
   "id": "caba58cb",
   "metadata": {},
   "outputs": [
    {
     "name": "stdout",
     "output_type": "stream",
     "text": [
      "[[-1]\n",
      " [ 1]]\n"
     ]
    }
   ],
   "source": [
    "print(A @ B)"
   ]
  },
  {
   "cell_type": "markdown",
   "id": "1eb0f1e2",
   "metadata": {},
   "source": [
    "Careful: what does `A * B` compute?\n",
    "\n",
    "*Answer:* the product of each element in matrix ligne per ligne"
   ]
  },
  {
   "cell_type": "code",
   "execution_count": 20,
   "id": "44825257",
   "metadata": {},
   "outputs": [
    {
     "name": "stdout",
     "output_type": "stream",
     "text": [
      "[[ 0  2]\n",
      " [-2 -3]]\n"
     ]
    }
   ],
   "source": [
    "print(A * B)"
   ]
  },
  {
   "cell_type": "markdown",
   "id": "cd841817",
   "metadata": {},
   "source": [
    "Why is the following code showing an error?\n",
    "\n",
    "*Answer:* C first shape is not equal to A second shape "
   ]
  },
  {
   "cell_type": "code",
   "execution_count": 21,
   "id": "43770faf",
   "metadata": {},
   "outputs": [
    {
     "ename": "ValueError",
     "evalue": "matmul: Input operand 1 has a mismatch in its core dimension 0, with gufunc signature (n?,k),(k,m?)->(n?,m?) (size 1 is different from 2)",
     "output_type": "error",
     "traceback": [
      "\u001b[1;31m---------------------------------------------------------------------------\u001b[0m",
      "\u001b[1;31mValueError\u001b[0m                                Traceback (most recent call last)",
      "Cell \u001b[1;32mIn[21], line 2\u001b[0m\n\u001b[0;32m      1\u001b[0m C \u001b[38;5;241m=\u001b[39m np\u001b[38;5;241m.\u001b[39marray([[\u001b[38;5;241m7\u001b[39m, \u001b[38;5;241m0\u001b[39m]])\n\u001b[1;32m----> 2\u001b[0m \u001b[38;5;28mprint\u001b[39m(\u001b[43mA\u001b[49m\u001b[43m \u001b[49m\u001b[38;5;241;43m@\u001b[39;49m\u001b[43m \u001b[49m\u001b[43mC\u001b[49m)\n",
      "\u001b[1;31mValueError\u001b[0m: matmul: Input operand 1 has a mismatch in its core dimension 0, with gufunc signature (n?,k),(k,m?)->(n?,m?) (size 1 is different from 2)"
     ]
    }
   ],
   "source": [
    "C = np.array([[7, 0]])\n",
    "print(A @ C)"
   ]
  },
  {
   "cell_type": "code",
   "execution_count": null,
   "id": "b1faae25",
   "metadata": {},
   "outputs": [
    {
     "name": "stdout",
     "output_type": "stream",
     "text": [
      "A:\n",
      " [[0 1]\n",
      " [2 3]]\n",
      "A transpose:\n",
      " [[0 2]\n",
      " [1 3]]\n"
     ]
    }
   ],
   "source": [
    "print(f\"A:\\n {A}\")\n",
    "print(f\"A transpose:\\n {A.T}\")"
   ]
  },
  {
   "cell_type": "markdown",
   "id": "d431f361",
   "metadata": {},
   "source": [
    "Using [`np.concatenate`](https://numpy.org/doc/stable/reference/generated/numpy.concatenate.html) from matrices $A = \\begin{pmatrix}\n",
    "0 & 1\\\\\n",
    "2 & 3\n",
    "\\end{pmatrix}$, $B = \\begin{pmatrix}\n",
    "2\\\\\n",
    "-1\n",
    "\\end{pmatrix}$, and $C = \\begin{pmatrix}\n",
    "7 & 0\n",
    "\\end{pmatrix}$, build the matrices\n",
    "$\\begin{pmatrix}\n",
    "0 & 1 \\\\\n",
    "2 & 3 \\\\\n",
    "7 & 0 \n",
    "\\end{pmatrix}$ and $\\begin{pmatrix}\n",
    "0 & 1 & 2\\\\\n",
    "2 & 3 & -1\n",
    "\\end{pmatrix}$."
   ]
  },
  {
   "cell_type": "code",
   "execution_count": null,
   "id": "ff85c7d8",
   "metadata": {},
   "outputs": [
    {
     "data": {
      "text/plain": [
       "array([[0, 1],\n",
       "       [2, 3],\n",
       "       [7, 0]])"
      ]
     },
     "execution_count": 57,
     "metadata": {},
     "output_type": "execute_result"
    }
   ],
   "source": [
    "np.concatenate((A, B),axis = 1)\n",
    "np.concatenate((A,C))\n"
   ]
  },
  {
   "cell_type": "markdown",
   "id": "8b65b979",
   "metadata": {},
   "source": [
    "The `np.linalg.inv` can be used to compute the inverse $A^{-1}$ of a matrix $A$."
   ]
  },
  {
   "cell_type": "code",
   "execution_count": null,
   "id": "cf4d02a8",
   "metadata": {},
   "outputs": [
    {
     "name": "stdout",
     "output_type": "stream",
     "text": [
      "[[-1.5  0.5]\n",
      " [ 1.   0. ]]\n"
     ]
    }
   ],
   "source": [
    "A_inv = np.linalg.inv(A)\n",
    "print(A_inv)"
   ]
  },
  {
   "cell_type": "markdown",
   "id": "ee14c996",
   "metadata": {},
   "source": [
    "Check that $A @ A^{-1}$ and $A^{-1} @ A$ are equal to the identity matrix $\\begin{pmatrix} 1 & 0 \\\\ 0 & 1 \\end{pmatrix}$."
   ]
  },
  {
   "cell_type": "code",
   "execution_count": null,
   "id": "513b7fc9",
   "metadata": {},
   "outputs": [
    {
     "name": "stdout",
     "output_type": "stream",
     "text": [
      "[[ True  True]\n",
      " [ True  True]]\n",
      "[[ True  True]\n",
      " [ True  True]]\n"
     ]
    }
   ],
   "source": [
    "#matrice identité\n",
    "identity = np.array([[1,0],[0,1]])\n",
    "print(A@A_inv == A_inv@A)\n",
    "print(A_inv@A == identity)\n",
    "pass"
   ]
  },
  {
   "cell_type": "markdown",
   "id": "c7402a31",
   "metadata": {},
   "source": [
    "Explain the following error.\n",
    "\n",
    "*Answer:* the matrix is not inversible"
   ]
  },
  {
   "cell_type": "code",
   "execution_count": null,
   "id": "40ef20d5",
   "metadata": {},
   "outputs": [],
   "source": [
    "np.linalg.inv(np.array([[1, 1], [2, 2]]))"
   ]
  },
  {
   "cell_type": "markdown",
   "id": "5323bb27",
   "metadata": {},
   "source": [
    "What are the numpy functions to generate a matrix filled with 0s? Filled with 1s? Generate a matrix $D$ filled with 0s of dimension $5 \\times 4$, a matrix $E$ filled with 1s of dimension $5 \\times 4$, and verify that $D + E$ and $D \\cdot E^{T}$ give the expected result."
   ]
  },
  {
   "cell_type": "code",
   "execution_count": null,
   "id": "ef2d395e",
   "metadata": {},
   "outputs": [
    {
     "name": "stdout",
     "output_type": "stream",
     "text": [
      "True\n",
      "True\n"
     ]
    }
   ],
   "source": [
    "D = np.ones((5,4))\n",
    "E = np.zeros((5,4))\n",
    "s = D+E\n",
    "p = D@E.T\n",
    "print(np.array_equal(D+E , D))\n",
    "print(np.array_equal(D@E.T , np.zeros((5,5))))\n",
    "pass"
   ]
  },
  {
   "cell_type": "markdown",
   "id": "e8c4ebe1",
   "metadata": {},
   "source": [
    "Line and column operations:"
   ]
  },
  {
   "cell_type": "code",
   "execution_count": null,
   "id": "03f47f58",
   "metadata": {},
   "outputs": [
    {
     "name": "stdout",
     "output_type": "stream",
     "text": [
      "[[ 0  1  2  3  4]\n",
      " [ 5  6  7  8  9]\n",
      " [10 11 12 13 14]]\n"
     ]
    }
   ],
   "source": [
    "A = np.array([[5*i + j for j in range(5)] for i in range(3)])\n",
    "print(A)"
   ]
  },
  {
   "cell_type": "code",
   "execution_count": null,
   "id": "bff8c5e0",
   "metadata": {},
   "outputs": [
    {
     "name": "stdout",
     "output_type": "stream",
     "text": [
      "[[ 5  6  7  8  9]\n",
      " [10 11 12 13 14]]\n"
     ]
    }
   ],
   "source": [
    "print(A[1:,:])"
   ]
  },
  {
   "cell_type": "code",
   "execution_count": null,
   "id": "24c6e4b2",
   "metadata": {},
   "outputs": [
    {
     "name": "stdout",
     "output_type": "stream",
     "text": [
      "[[ 2  3]\n",
      " [ 7  8]\n",
      " [12 13]]\n"
     ]
    }
   ],
   "source": [
    "print(A[:, 2:4])"
   ]
  },
  {
   "cell_type": "code",
   "execution_count": null,
   "id": "e5fd298d",
   "metadata": {},
   "outputs": [
    {
     "name": "stdout",
     "output_type": "stream",
     "text": [
      "[[ 5  6  7  8]\n",
      " [10 11 12 13]]\n"
     ]
    }
   ],
   "source": [
    "print(A[1:, :4])"
   ]
  },
  {
   "cell_type": "markdown",
   "id": "53d1a5d9",
   "metadata": {},
   "source": [
    "We want to look at the $3\\times 1$ matrix obtained by keeping only the first column of A.\n",
    "What is the difference between `print(A[:, 0])` and `print(A[:, 0:1])`?\n",
    "\n",
    "*Answer:*"
   ]
  },
  {
   "cell_type": "code",
   "execution_count": null,
   "id": "3f0ab9c6",
   "metadata": {},
   "outputs": [
    {
     "name": "stdout",
     "output_type": "stream",
     "text": [
      "[ 0  5 10]\n",
      "[[ 0]\n",
      " [ 5]\n",
      " [10]]\n"
     ]
    }
   ],
   "source": [
    "print(A[:, 0])\n",
    "print(A[:, 0:1])"
   ]
  },
  {
   "cell_type": "markdown",
   "id": "5fd22e4c",
   "metadata": {},
   "source": [
    "## 1.3. Multiple linear regression\n",
    "\n",
    "We now deal with *multiple linear regression*, that is, the case with multiple predictors ($p > 1$)."
   ]
  },
  {
   "cell_type": "code",
   "execution_count": 1,
   "id": "27e37752",
   "metadata": {},
   "outputs": [
    {
     "name": "stdout",
     "output_type": "stream",
     "text": [
      "<class 'numpy.ndarray'>\n",
      "(811626, 5)\n"
     ]
    }
   ],
   "source": [
    "import numpy as np\n",
    "import matplotlib.pyplot as plt\n",
    "from mpl_toolkits.mplot3d import axes3d\n",
    "\n",
    "data = np.load(\"lab3-multiple_linear_regression.npy\")\n",
    "print(type(data))\n",
    "print(data.shape)"
   ]
  },
  {
   "cell_type": "markdown",
   "id": "284ad059",
   "metadata": {},
   "source": [
    "Each row of the `data` matrix contains a training example $((x_1, x_2, x_3, x_4), y)$. There are $p = 4$ predictors and $n = 811626$ data points."
   ]
  },
  {
   "cell_type": "code",
   "execution_count": 2,
   "id": "a3b5208e",
   "metadata": {},
   "outputs": [
    {
     "name": "stdout",
     "output_type": "stream",
     "text": [
      "[-4.          1.          0.          5.4        -7.78488192]\n"
     ]
    }
   ],
   "source": [
    "print(data[0])"
   ]
  },
  {
   "cell_type": "markdown",
   "id": "45bc5362",
   "metadata": {},
   "source": [
    "Separate the `data` matrix into a matrix $X$ of dimension $n \\times p$ and a matrix $Y$ of dimension $n \\times 1$. Add a column of `1`s to the $X$ matrix, so that $X$ now has dimension $n \\times (p+1)$. What is the purpose of this last operation?\n",
    "\n",
    "*Answer:*"
   ]
  },
  {
   "cell_type": "code",
   "execution_count": 3,
   "id": "0d510fb0",
   "metadata": {},
   "outputs": [
    {
     "name": "stdout",
     "output_type": "stream",
     "text": [
      "Avant transformation\n",
      "X_shape =(811626, 4)\n",
      "Y_shape =(811626, 1)\n",
      "Après transformation\n",
      "X_shape ={X.shape}\n",
      "Y_shape ={Y.shape}\n"
     ]
    }
   ],
   "source": [
    "# Charger les données du training set\n",
    "X = data[:,:4] # extraire les 4 première colonnes ,  input du training data set\n",
    "n = X.shape[0]  # taille du data set (nombre d'échantillons)\n",
    "p = X.shape[1]  # taille des échantillons (dimensions de l'échantillon)\n",
    "\n",
    "# Extraire les sorties attendues (sorties du modèle)\n",
    "Y = data[:,4:]  # colonne 5 à la fin des données, qui sont les sorties attendues pour chaque exemple dans le dataset\n",
    "\n",
    "print(f\"Avant transformation\\nX_shape ={X.shape}\\nY_shape ={Y.shape}\")\n",
    "X = np.append(X,np.ones((n,1)) , axis=1)# Ajout d'une colonne de 1 pour le biais\n",
    "\n",
    "print(\"Après transformation\\nX_shape ={X.shape}\\nY_shape ={Y.shape}\")"
   ]
  },
  {
   "cell_type": "code",
   "execution_count": 4,
   "id": "76d04b24",
   "metadata": {},
   "outputs": [
    {
     "name": "stdout",
     "output_type": "stream",
     "text": [
      "forme de X : (811626, 5)\n",
      "forme de Y : (811626, 1)\n",
      "élément de X : (5,)\n",
      "élément de Y :(1,) \n"
     ]
    }
   ],
   "source": [
    "print(f\"forme de X : {X.shape}\")\n",
    "print(f\"forme de Y : {Y.shape}\")\n",
    "print(f\"élément de X : {X[0].shape}\\nélément de Y :{Y[0].shape} \")"
   ]
  },
  {
   "cell_type": "markdown",
   "id": "4076ce9e",
   "metadata": {},
   "source": [
    "Adapt the functions for calculating error, their partial derivatives, and the linear regression algorithm. Your functions should only manipulate matrices. Instead of having parameters $(\\beta_i)$, we will work with a single \"matrix\" $\\beta$. What is its dimension?\n",
    "\n",
    "*Answer:*"
   ]
  },
  {
   "cell_type": "code",
   "execution_count": 5,
   "id": "415a9d5f",
   "metadata": {},
   "outputs": [],
   "source": [
    "def squared_error(Beta, X, Y):\n",
    "\t\"\"\"Returns the square error of Beta on training examples (X, Y).\"\"\"\n",
    "\treturn np.mean( np.array( [ ((xi.T).dot( Beta) - yi)**2 for xi,yi in zip(X,Y) ] ) )\n"
   ]
  },
  {
   "cell_type": "code",
   "execution_count": 6,
   "id": "b3534585",
   "metadata": {},
   "outputs": [
    {
     "name": "stdout",
     "output_type": "stream",
     "text": [
      "forme de Beta_test :(5,) \n",
      "β et les xi ont la meme forme  \n"
     ]
    },
    {
     "data": {
      "text/plain": [
       "np.float64(337.8381511545455)"
      ]
     },
     "execution_count": 6,
     "metadata": {},
     "output_type": "execute_result"
    }
   ],
   "source": [
    "Beta = np.zeros((p+1,))\n",
    "print(f\"forme de Beta_test :{Beta.shape} \")\n",
    "print(\"β et les xi ont la meme forme  \" if Beta.shape==X[0].shape else \"β et les xi n'ont pas la meme forme  \")\n",
    "\n",
    "squared_error(Beta, X, Y)"
   ]
  },
  {
   "cell_type": "code",
   "execution_count": 37,
   "id": "6c10183c",
   "metadata": {},
   "outputs": [],
   "source": [
    "\n",
    "def gradient_squared_error(Beta, X, Y):\n",
    "    \"\"\"\n",
    "    Returns the gradient of the square error on training examples (X, Y). The result is a matrix with the same dimension as Beta.\n",
    "    \"\"\"\n",
    "    X = np.array([ np.reshape(e,(-1,1)) for e in X]) # redimensionement des  éléments  de  X en matrice\n",
    "    Beta = Beta.reshape(X[0].shape) #reformer β en matrice comme les  échantillons dans  X\n",
    "    Y = np.array([ np.reshape(e,(-1,1)) for e in Y]) # redimensionement des  éléments  de  Y en matrice\n",
    "    return (2/(X.shape[0])) * np.array([\n",
    "            np.dot(xi ,  ( (xi.T)@(Beta) -yi ) )  for xi , yi in zip(X,Y)])\n",
    "\n",
    "\n",
    "\n"
   ]
  },
  {
   "cell_type": "code",
   "execution_count": 36,
   "id": "e2f124b9",
   "metadata": {},
   "outputs": [
    {
     "name": "stdout",
     "output_type": "stream",
     "text": [
      "Avant :\n",
      "[[-4.   1.   0.   5.4  1. ]\n",
      " [-4.   1.   0.   5.8  1. ]\n",
      " [-4.   1.   0.   7.6  1. ]]\n",
      "Après  :\n",
      "[[[-4. ]\n",
      "  [ 1. ]\n",
      "  [ 0. ]\n",
      "  [ 5.4]\n",
      "  [ 1. ]]\n",
      "\n",
      " [[-4. ]\n",
      "  [ 1. ]\n",
      "  [ 0. ]\n",
      "  [ 5.8]\n",
      "  [ 1. ]]\n",
      "\n",
      " [[-4. ]\n",
      "  [ 1. ]\n",
      "  [ 0. ]\n",
      "  [ 7.6]\n",
      "  [ 1. ]]]\n"
     ]
    }
   ],
   "source": [
    "B , x,y   = Beta[:100],X[:100],Y[:100]\n",
    "temp = gradient_squared_error(B, x,y)\n",
    "print(f\"Avant :\\n{x[:3]}\")\n",
    "\n",
    "x =  np.array([ e.reshape(-1,1) for e in x ])\n",
    "print(f\"Après  :\\n{x[:3]}\")"
   ]
  },
  {
   "cell_type": "code",
   "execution_count": 39,
   "id": "a17d38c6",
   "metadata": {},
   "outputs": [
    {
     "name": "stdout",
     "output_type": "stream",
     "text": [
      "(100, 5, 1)\n"
     ]
    },
    {
     "data": {
      "text/plain": [
       "array([[0.84076725],\n",
       "       [0.80336625],\n",
       "       [1.21324755]])"
      ]
     },
     "execution_count": 39,
     "metadata": {},
     "output_type": "execute_result"
    }
   ],
   "source": [
    "print(temp.shape)\n",
    "\n",
    "np.max(abs(temp[:3]),axis = 1)"
   ]
  },
  {
   "cell_type": "code",
   "execution_count": 40,
   "id": "426e9b48",
   "metadata": {},
   "outputs": [],
   "source": [
    "def one_step_linear_regression_gradient_descent(Beta, X, Y, learning_rate):\n",
    "    \"\"\"One step of the gradient descent for the multiple linear regression. Takes the parameters, the training examples and the learning rate, and returns the new values for the parameters.\"\"\"\n",
    "    return Beta - learning_rate*gradient_squared_error(Beta,X,Y)"
   ]
  },
  {
   "cell_type": "code",
   "execution_count": 43,
   "id": "332ccd9c",
   "metadata": {},
   "outputs": [],
   "source": [
    "def linear_regression_gradient_descent(X, Y, nb_steps, learning_rate = .01):\n",
    "    \"\"\"Multiple batch gradient descent algorithm to compute a linear regression.\n",
    "    Takes the training examples and the learning rate (0.01 by default) and returns (Beta, Beta_hist) where Beta_hist is the historic of all values taken by Beta.\n",
    "    Halting condition: when the number of steps is reached.\"\"\"\n",
    "    X = np.array([e.reshape(-1,1) for e in X])\n",
    "    Y = np.array([e.reshape(-1,1) for e in Y])\n",
    "    beta = np.zeros(X[0].shape)\n",
    "    beta_hist = [beta]\n",
    "\n",
    "    while nb_steps>0:\n",
    "        beta = one_step_linear_regression_gradient_descent(beta,X,Y,learning_rate)\n",
    "        beta_hist.append(beta)\n",
    "        nb_steps-=1\n",
    "\n",
    "    return beta , beta0_hist"
   ]
  },
  {
   "cell_type": "markdown",
   "id": "1c89eb08",
   "metadata": {},
   "source": [
    "Execute the algorithm on the data, and display how the error and the maximum of the absolute values of the gradients evolve over time."
   ]
  },
  {
   "cell_type": "code",
   "execution_count": null,
   "id": "a300cbe6",
   "metadata": {},
   "outputs": [],
   "source": [
    "pass"
   ]
  },
  {
   "cell_type": "code",
   "execution_count": null,
   "id": "beb3f66b",
   "metadata": {},
   "outputs": [],
   "source": [
    "pass"
   ]
  },
  {
   "cell_type": "code",
   "execution_count": null,
   "id": "73ba32ba",
   "metadata": {},
   "outputs": [],
   "source": [
    "print(E[-1]) # Last error\n",
    "print(Beta)"
   ]
  },
  {
   "cell_type": "markdown",
   "id": "e49f6286",
   "metadata": {},
   "source": [
    "## 1.4. Stochastic gradient descent"
   ]
  },
  {
   "cell_type": "markdown",
   "id": "99b0e043",
   "metadata": {},
   "source": [
    "We want to implement stochastic gradient descent: we will take the version that shuffles the data and uses the $i$-th example (after shuffling) at the $i$-th iteration. Look at the documentation of [`np.random.shuffle`](https://numpy.org/doc/stable/reference/random/generated/numpy.random.shuffle.html), then shuffle the data. ***WARNING:*** you should **never** shuffle $X$ and then shuffle $Y$. Why not?\n",
    "\n",
    "*Answer:* ils sont liés entre eux et les valeurs attendues $Y$ ne seraient plus celles attendus  à partir de $X$"
   ]
  },
  {
   "cell_type": "code",
   "execution_count": null,
   "id": "527357a1",
   "metadata": {},
   "outputs": [],
   "source": [
    "# Shuffle\n",
    "pass"
   ]
  },
  {
   "cell_type": "code",
   "execution_count": 43,
   "id": "e991a465",
   "metadata": {},
   "outputs": [
    {
     "name": "stdout",
     "output_type": "stream",
     "text": [
      "(811626, 5)\n",
      "(811626, 1)\n"
     ]
    }
   ],
   "source": [
    "print(X.shape)\n",
    "print(Y.shape)"
   ]
  },
  {
   "cell_type": "code",
   "execution_count": null,
   "id": "d2b463ee",
   "metadata": {},
   "outputs": [],
   "source": [
    "def squared_error_stoch(Beta, X, Y, i):\n",
    "\t\"\"\"Returns the square error of Beta computed on the $i$-th training example (X, Y).\"\"\"\n",
    "\tpass"
   ]
  },
  {
   "cell_type": "code",
   "execution_count": null,
   "id": "2e540697",
   "metadata": {},
   "outputs": [],
   "source": [
    "Beta = np.zeros((p+1, 1))\n",
    "print(squared_error_stoch(Beta, X, Y, 0))"
   ]
  },
  {
   "cell_type": "code",
   "execution_count": null,
   "id": "f79ce0a2",
   "metadata": {},
   "outputs": [],
   "source": [
    "def gradient_square_error_stoch(Beta, X, Y, i):\n",
    "    \"\"\"Returns the gradient of the square error on $i$-th training example of (X, Y). The result is a matrix with the same dimension as Beta.\"\"\"\n",
    "    pass"
   ]
  },
  {
   "cell_type": "code",
   "execution_count": null,
   "id": "b6a2c054",
   "metadata": {},
   "outputs": [],
   "source": [
    "print(gradient_square_error_stoch(Beta, X, Y, 0))"
   ]
  },
  {
   "cell_type": "markdown",
   "id": "13b1faf4",
   "metadata": {},
   "source": [
    "Implement the functions `one_step_linear_regression_gradient_descent_stoch` and `linear_regression_gradient_descent_stoch`."
   ]
  },
  {
   "cell_type": "code",
   "execution_count": null,
   "id": "c22d53fe",
   "metadata": {},
   "outputs": [],
   "source": [
    "def one_step_linear_regression_stoch(Beta, X, Y, i, learning_rate):\n",
    "    \"\"\"One step of the stochastic gradient descent for the multiple linear regression. Takes the parameters, the training examples, the current number of steps and the learning rate, and returns the new values for the parameters.\"\"\"\n",
    "    pass"
   ]
  },
  {
   "cell_type": "code",
   "execution_count": null,
   "id": "65dbdc7a",
   "metadata": {},
   "outputs": [],
   "source": [
    "def linear_regression_gradient_descent_stoch(X, Y, nb_steps, learning_rate = .01):\n",
    "    \"\"\"Stochastic gradient descent algorithm to compute a linear regression.\n",
    "    Takes the training examples and the learning rate (0.01 by default) and returns (Beta, Beta_hist) where Beta_hist is the history of all values taken by Beta.\n",
    "    Halting condition: when the number of steps is reached.\"\"\"\n",
    "    pass"
   ]
  },
  {
   "cell_type": "markdown",
   "id": "178e4b62",
   "metadata": {},
   "source": [
    "Execute the algorithm on the data and display how the error and the maximum of the absolute values of the gradients evolve over time. What do you observe?"
   ]
  },
  {
   "cell_type": "code",
   "execution_count": null,
   "id": "e3dc4a14",
   "metadata": {},
   "outputs": [],
   "source": [
    "Beta, Beta_hist = linear_regression_gradient_descent_stoch(X, Y, 800000, learning_rate=10**-2)\n",
    "print(Beta)"
   ]
  },
  {
   "cell_type": "code",
   "execution_count": null,
   "id": "e1c1c6cb",
   "metadata": {},
   "outputs": [],
   "source": [
    "pass"
   ]
  },
  {
   "cell_type": "code",
   "execution_count": null,
   "id": "8cfa8391",
   "metadata": {},
   "outputs": [],
   "source": [
    "pass"
   ]
  },
  {
   "cell_type": "markdown",
   "id": "043fe5d5",
   "metadata": {},
   "source": [
    "*Decreasing learning rate:* Instead of multiplying the gradient by the learning rate $\\alpha$, multiply it by $\\frac{\\alpha}{t+1}$ where $t$ is the iteration number. The $+1$ is simply to avoid dividing by 0 at the first step."
   ]
  },
  {
   "cell_type": "code",
   "execution_count": null,
   "id": "9a9b64fb",
   "metadata": {},
   "outputs": [],
   "source": [
    "def linear_regression_gradient_descent_stoch_descreasing_rate(X, Y, nb_steps, learning_rate = .01):\n",
    "    \"\"\"Multiple batch gradient descent algorithm to compute a linear regression.\n",
    "    Takes the training examples and the learning rate (0.01 by default) and returns (Beta, Beta_hist) where Beta_hist is the historic of all values taken by Beta.\n",
    "    Halting condition: when the number of steps is reached.\"\"\"\n",
    "    pass"
   ]
  },
  {
   "cell_type": "code",
   "execution_count": null,
   "id": "8e6f3242",
   "metadata": {},
   "outputs": [],
   "source": [
    "pass"
   ]
  },
  {
   "cell_type": "markdown",
   "id": "c115c5b3",
   "metadata": {},
   "source": [
    "Plot the error. Is the error now (empirically) converging?"
   ]
  },
  {
   "cell_type": "code",
   "execution_count": null,
   "id": "1d478de9",
   "metadata": {},
   "outputs": [],
   "source": [
    "pass"
   ]
  },
  {
   "cell_type": "markdown",
   "id": "a9a55752",
   "metadata": {},
   "source": [
    "## 1.5. Closed-form solution"
   ]
  },
  {
   "cell_type": "markdown",
   "id": "6bca5ac2",
   "metadata": {},
   "source": [
    "Implement the exact method (closed-form solution) to find $\\beta$. What is the error value you find?"
   ]
  },
  {
   "cell_type": "code",
   "execution_count": null,
   "id": "225ce343",
   "metadata": {},
   "outputs": [],
   "source": [
    "def exact_method(X, Y):\n",
    "    \"\"\"Exact method to find the parameters of a linear regression.\"\"\"\n",
    "    pass"
   ]
  },
  {
   "cell_type": "code",
   "execution_count": null,
   "id": "42f74404",
   "metadata": {},
   "outputs": [],
   "source": [
    "Beta_opt = exact_method(X, Y)\n",
    "print(Beta_opt)"
   ]
  },
  {
   "cell_type": "code",
   "execution_count": null,
   "id": "ad4aa270",
   "metadata": {},
   "outputs": [],
   "source": [
    "print(squared_error(Beta_opt, X, Y))\n",
    "print(gradient_squared_error(Beta_opt, X, Y))"
   ]
  },
  {
   "cell_type": "markdown",
   "id": "237997ce",
   "metadata": {},
   "source": [
    "We see that the values for the gradient are negligible (very close to $0$): this shows that we have found a point where the gradient vanishes. "
   ]
  },
  {
   "cell_type": "markdown",
   "id": "41315dba",
   "metadata": {},
   "source": [
    "# 2. Logistic regression"
   ]
  },
  {
   "cell_type": "code",
   "execution_count": null,
   "id": "2e09f3b0",
   "metadata": {},
   "outputs": [],
   "source": [
    "# %matplotlib widget\n",
    "\n",
    "import numpy as np\n",
    "import matplotlib.pyplot as plt\n",
    "from mpl_toolkits.mplot3d import axes3d"
   ]
  },
  {
   "cell_type": "markdown",
   "id": "4cb6925a",
   "metadata": {},
   "source": [
    "## 2.1 Newton's method"
   ]
  },
  {
   "cell_type": "markdown",
   "id": "e432b9ac",
   "metadata": {},
   "source": [
    "Consider the function $$f(x) = x^4 + 3x^3 - 6x^2 + 4x + 12.$$\n",
    "\n",
    "Using the (one-dimensional) Newton's method, compute\n",
    "* its roots,\n",
    "* its global minimum.\n",
    "\n",
    "Use the same method <code>newton_1d</code> (with different arguments) for both tasks.\n",
    "Use the graph of $f$ to guide you."
   ]
  },
  {
   "cell_type": "code",
   "execution_count": null,
   "id": "4636b555",
   "metadata": {},
   "outputs": [],
   "source": [
    "def f(x):\n",
    "    return x**4 + 3 * x**3 - 6 * x**2 + 4 * x + 12\n",
    "\n",
    "def df(x):\n",
    "    \"\"\"Computes the derivative of f at point x.\"\"\"\n",
    "    pass\n",
    "\n",
    "def ddf(x):\n",
    "    \"\"\"Computes the second derivative of f at point x.\"\"\"\n",
    "    pass"
   ]
  },
  {
   "cell_type": "code",
   "execution_count": null,
   "id": "68483e85",
   "metadata": {},
   "outputs": [],
   "source": [
    "# Graph of f from -5 to 5\n",
    "plt.figure()\n",
    "values = np.linspace(-5, 5, 10000)\n",
    "plt.plot(values, [f(x) for x in values], \"-\")\n",
    "plt.grid()\n",
    "plt.show()"
   ]
  },
  {
   "cell_type": "code",
   "execution_count": null,
   "id": "d46082bf",
   "metadata": {},
   "outputs": [],
   "source": [
    "def newton_1d(f, df, x0, max_iter=1000, epsilon=1e-10):\n",
    "    \"\"\"Finds a root of f given its derivative df and an initial guess x0.\n",
    "       Assumes that a value x is a root if abs(f(x)) < epsilon.\n",
    "       Raises an exception if no such value is found within max_iter iterations.\"\"\"\n",
    "    pass"
   ]
  },
  {
   "cell_type": "code",
   "execution_count": null,
   "id": "671cc358",
   "metadata": {},
   "outputs": [],
   "source": [
    "# Find the two roots and the global minimum using newton_1d.\n",
    "\n",
    "pass"
   ]
  },
  {
   "cell_type": "markdown",
   "id": "c678faa1",
   "metadata": {},
   "source": [
    "In this section, we want to predict [the quality of apples](https://www.kaggle.com/datasets/nelgiriyewithana/apple-quality/data) using logistic regression based on two predictors: their size and their sweetness. Both features are real numbers (already normalized) and the quality is an integer in $\\{0, 1\\}$: $1$ for good apples and $0$ for bad apples.\n",
    "The dataset `lab3_apples.npy` is available in the file `lab3.zip` on Moodle and contains $1000$ training data points."
   ]
  },
  {
   "cell_type": "code",
   "execution_count": null,
   "id": "26b8cda0",
   "metadata": {},
   "outputs": [],
   "source": [
    "# 1000 data points, three predictors : size, sweetness, and quality\n",
    "apple_quality = np.load(\"lab3-apples.npy\")\n",
    "print(np.shape(apple_quality))\n",
    "print(apple_quality)\n",
    "\n",
    "size = apple_quality[:,0]\n",
    "sweetness = apple_quality[:,1]\n",
    "quality = apple_quality[:,2]"
   ]
  },
  {
   "cell_type": "markdown",
   "id": "a04ba1b7",
   "metadata": {},
   "source": [
    "Make a 2D graph (one dimension per predictor) to display all the data points; use different symbols to distinguish good and bad apples."
   ]
  },
  {
   "cell_type": "code",
   "execution_count": null,
   "id": "b7abcda4",
   "metadata": {},
   "outputs": [],
   "source": [
    "pass"
   ]
  },
  {
   "cell_type": "markdown",
   "id": "d96d3cae",
   "metadata": {},
   "source": [
    "We have seen in class that the log-likelihood for logistic regression is as follows:\n",
    "$$\\ell(\\beta) = \\sum_{i = 1}^m y^{(i)}\\log h_\\beta(x^{(i)}) + (1 - y^{(i)})\\log(1 - h_\\beta(x^{(i)})),$$\n",
    "où $h_\\beta(x^{(i)}) = \\frac{1}{1 + e^{-\\beta^{T}x^{(i)}}}$.\n",
    "\n",
    "We have also seen that the partial derivatives are\n",
    "$$\\frac{\\partial}{\\partial\\beta_j}\\ell(\\beta) = \\sum_{i=1}^m (y^{(i)} - h_\\beta(x^{(i)}))x_j^{(i)}.$$"
   ]
  },
  {
   "cell_type": "markdown",
   "id": "e0bfba47",
   "metadata": {},
   "source": [
    "You can thus compute the entries of the Hessian matrix: for $0 \\le j, k \\le p$, the element at position $(j, k)$ is given by\n",
    "\n",
    "*Answer:*"
   ]
  },
  {
   "cell_type": "markdown",
   "id": "b36680b3",
   "metadata": {},
   "source": [
    "*Remark*: We have declared in class (without a proof) that $\\ell$ is concave, and thus has a single local maximum, which is also global. This can be shown by analyzing the properties of the Hessian matrix: the Hessian matrix is *negative semi-definite* for all $\\beta$, that is, for all $z\\in\\mathbb{R}^{p+1}$, $z^TH(\\beta)z \\le 0$. This can be checked as an exercise. This property is the multi-dimensional generalization of the property \"for $f\\colon \\mathbb{R} \\to \\mathbb{R}$ twice differentiable, $f$ is concave if $f'' < 0$\"."
   ]
  },
  {
   "cell_type": "markdown",
   "id": "51c6957f",
   "metadata": {},
   "source": [
    "Implement functions that implement $h_\\beta$, the gradient of $\\ell$, and the Hessian matrix of $\\ell$. Note that the Hessian matrix does not depend on $Y$!"
   ]
  },
  {
   "cell_type": "code",
   "execution_count": null,
   "id": "4c18eaf1",
   "metadata": {},
   "outputs": [],
   "source": [
    "def h(xi, beta):\n",
    "    pass\n",
    "\n",
    "def gradient_l(X, Y, beta):\n",
    "    pass\n",
    "\n",
    "def hessian_l(X, beta):\n",
    "    pass"
   ]
  },
  {
   "cell_type": "markdown",
   "id": "cd7225a8",
   "metadata": {},
   "source": [
    "Use the Hessian matrix and the (multi-dimensional) Newton's method to find the values $\\beta = (\\beta_0, \\beta_1, \\beta_2)$ that maximize the likelihood."
   ]
  },
  {
   "cell_type": "code",
   "execution_count": null,
   "id": "fe32b709",
   "metadata": {},
   "outputs": [],
   "source": [
    "def newton_multidim(f, df, beta_0, max_iter=1000, epsilon=1e-6):\n",
    "    \"\"\"Finds a root of multivariate function f given its gradient df and an initial guess beta_0.\n",
    "       Assumes that a value beta is a root if np.linalg.norm(f(beta)) < epsilon.\n",
    "       Raises an exception if no such value is found within max_iter iterations.\"\"\"\n",
    "    pass"
   ]
  },
  {
   "cell_type": "markdown",
   "id": "1d3bb54f",
   "metadata": {},
   "source": [
    "Add to your previous graph the *decision boundary* (which is the line such that $\\beta^Tx = 0$ for the vector $\\beta$ to be found, which corresponds to the line of points $x$ giving the value $\\frac{1}{2}$ to the sigmoid function) given by the logistic regression."
   ]
  },
  {
   "cell_type": "code",
   "execution_count": null,
   "id": "c7e8fcb2",
   "metadata": {},
   "outputs": [],
   "source": [
    "pass"
   ]
  }
 ],
 "metadata": {
  "kernelspec": {
   "display_name": "Python 3",
   "language": "python",
   "name": "python3"
  },
  "language_info": {
   "codemirror_mode": {
    "name": "ipython",
    "version": 3
   },
   "file_extension": ".py",
   "mimetype": "text/x-python",
   "name": "python",
   "nbconvert_exporter": "python",
   "pygments_lexer": "ipython3",
   "version": "3.13.2"
  }
 },
 "nbformat": 4,
 "nbformat_minor": 5
}
