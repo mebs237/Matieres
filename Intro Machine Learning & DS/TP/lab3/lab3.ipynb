{
  "cells": [
    {
      "cell_type": "markdown",
      "id": "799d9ddc",
      "metadata": {
        "id": "799d9ddc"
      },
      "source": [
        "# Machine Learning 2024-2025 – UMONS\n",
        "# Lab 3 - Linear and Logistic Regressions"
      ]
    },
    {
      "cell_type": "code",
      "execution_count": 44,
      "id": "47a5a9a6",
      "metadata": {
        "id": "47a5a9a6"
      },
      "outputs": [],
      "source": [
        "# A few useful libraries\n",
        "# %matplotlib widget # Try this line, may improve the plots, but does not work\n",
        "                     # on all systems\n",
        "import numpy as np\n",
        "import matplotlib.pyplot as plt\n",
        "from mpl_toolkits.mplot3d import axes3d\n",
        "\n",
        "import random as rd"
      ]
    },
    {
      "cell_type": "markdown",
      "id": "10594c2c",
      "metadata": {
        "id": "10594c2c"
      },
      "source": [
        "# 1. Linear regression"
      ]
    },
    {
      "cell_type": "markdown",
      "id": "866e8521",
      "metadata": {
        "id": "866e8521"
      },
      "source": [
        "## 1.1. Simple linear regression and batch gradient descent"
      ]
    },
    {
      "cell_type": "markdown",
      "id": "e74f119b",
      "metadata": {
        "id": "e74f119b"
      },
      "source": [
        "We first assume the simple case with a single predictor ($p = 1$).\n",
        "We want to compute a linear regression, so we are looking for the two parameters $\\beta_0$ and $\\beta_1$.\n",
        "We will be working with a very simple dataset, that we generate ourselves: $x$ varies from $-10$ to $10$ with a step of $0.1$, and we take\n",
        "$$\n",
        "    y^{(i)} = 2 - \\frac{x^{(i)}}{2} + \\varepsilon^{(i)},\n",
        "$$\n",
        "where $\\varepsilon^{(i)}$ is a small random noise following a normal law of mean $0$.\n",
        "If everything works according to plan, our algorithm should thus find $\\beta_0 \\approx 2$ and $\\beta_1 \\approx -0.5$."
      ]
    },
    {
      "cell_type": "code",
      "execution_count": 36,
      "id": "c62554ee",
      "metadata": {
        "id": "c62554ee"
      },
      "outputs": [],
      "source": [
        "X = np.linspace(-10, 10, 101)\n",
        "Y = np.array([2 + -.5*x + np.random.normal(0,1) for x in X])"
      ]
    },
    {
      "cell_type": "code",
      "execution_count": 37,
      "id": "96828217",
      "metadata": {
        "id": "96828217",
        "outputId": "2fee1ad1-6012-410b-bd41-f0929e38adf2",
        "colab": {
          "base_uri": "https://localhost:8080/",
          "height": 449
        }
      },
      "outputs": [
        {
          "output_type": "display_data",
          "data": {
            "text/plain": [
              "<Figure size 640x480 with 1 Axes>"
            ],
            "image/png": "[encoded data removed]"
          },
          "metadata": {}
        }
      ],
      "source": [
        "# Printing the data\n",
        "plt.clf() # Clear previous plots\n",
        "plt.plot(X, Y, 'o')\n",
        "plt.xlabel(\"$x$\")\n",
        "plt.ylabel(\"$y$\")\n",
        "plt.show()"
      ]
    },
    {
      "cell_type": "markdown",
      "id": "ad27b118",
      "metadata": {
        "id": "ad27b118"
      },
      "source": [
        "We wish to compute the mean squared error $J(\\beta_0, \\beta_1)$ and the partial derivatives $\\frac{\\partial J}{\\partial \\beta_0}(\\beta_0, \\beta_1)$ and $\\frac{\\partial J}{\\partial \\beta_1}(\\beta_0, \\beta_1)$, then perform gradient descent."
      ]
    },
    {
      "cell_type": "code",
      "execution_count": 38,
      "id": "41d462f6",
      "metadata": {
        "id": "41d462f6"
      },
      "outputs": [],
      "source": [
        "def squared_error_simple(beta0, beta1, X, Y):\n",
        "    \"\"\"\n",
        "    Returns the mean squared error of beta0, beta1 on training examples (X, Y).\"\"\"\n",
        "\n",
        "    return  np.mean(np.array( [(beta0 + beta1*xi -yi)**2 for xi,yi in zip(X,Y) ]) )\n"
      ]
    },
    {
      "cell_type": "code",
      "execution_count": 39,
      "id": "4683a1d7",
      "metadata": {
        "id": "4683a1d7"
      },
      "outputs": [],
      "source": [
        "def derivative_squared_error_simple(beta0, beta1, X, Y):\n",
        "    \"\"\"\n",
        "    Returns a pair of floats, containing the partial derivatives of the error relatively to beta0 and beta1.\n",
        "    \"\"\"\n",
        "    return np.array( [np.mean(np.array( [2*(beta0 + beta1*xi -yi)   for  xi,yi in zip(X,Y)] )) ,  np.mean(np.array( [2*xi*(beta0 + beta1*xi -yi) for xi,yi in zip(X,Y)] )) ] )\n"
      ]
    },
    {
      "cell_type": "code",
      "execution_count": 40,
      "id": "619c2e11",
      "metadata": {
        "id": "619c2e11",
        "outputId": "3ba8d6fd-2c7a-46af-d47e-20e178236388",
        "colab": {
          "base_uri": "https://localhost:8080/"
        }
      },
      "outputs": [
        {
          "output_type": "stream",
          "name": "stdout",
          "text": [
            "Error: 13.211930260868746\n",
            "Gradient: [-4.06013488 33.35645408]\n"
          ]
        }
      ],
      "source": [
        "print(f\"Error: {squared_error_simple(0, 0, X, Y)}\")\n",
        "print(f\"Gradient: {derivative_squared_error_simple(0, 0, X, Y)}\")"
      ]
    },
    {
      "cell_type": "code",
      "execution_count": 41,
      "id": "f40a97c1",
      "metadata": {
        "id": "f40a97c1"
      },
      "outputs": [],
      "source": [
        "def one_step_simple_linear_regression_gradient_descent(beta0, beta1, X, Y, learning_rate):\n",
        "    \"\"\"\n",
        "    One step of the gradient descent for the simple linear regression. Takes the parameters, the training examples and the learning rate, and returns the new values for the parameters.\n",
        "\n",
        "    Returns:\n",
        "        (_tuple_) : β₀ᵗ⁺¹ , β₁ᵗ⁺¹  for the t+1 th step after step t\n",
        "    \"\"\"\n",
        "    return np.array ( [ beta0 , beta1 ])  - learning_rate*derivative_squared_error_simple(beta0, beta1, X, Y)\n"
      ]
    },
    {
      "cell_type": "code",
      "execution_count": 42,
      "id": "6694b554",
      "metadata": {
        "id": "6694b554"
      },
      "outputs": [],
      "source": [
        "def simple_linear_regression_gradient_descent(X, Y, nb_steps, learning_rate = .01):\n",
        "    \"\"\"Simple batch gradient descent algorithm to compute a linear regression.\n",
        "    Takes the training examples and the learning rate (0.01 by default) and returns (beta0, beta1, beta0_hist, beta1_hist) where beta0_hist, beta1_hist are the lists of all values taken by beta0 and beta1.\n",
        "    Halting condition: when the number of steps is reached.\"\"\"\n",
        "    beta  = np.array([rd.random(), rd.random() ]) # Random initialization\n",
        "    beta0_hist , beta1_hist = [ beta[0] ] , [ beta[1] ]\n",
        "\n",
        "    while nb_steps > 0:\n",
        "        beta = one_step_simple_linear_regression_gradient_descent(beta[0], beta[1], X, Y, learning_rate)\n",
        "        beta0_hist.append( beta[0] )\n",
        "        beta1_hist.append( beta[1] )\n",
        "        nb_steps -= 1\n",
        "    return  beta[0], beta[1], beta0_hist, beta1_hist\n"
      ]
    },
    {
      "cell_type": "markdown",
      "id": "3fe8cf2d",
      "metadata": {
        "id": "3fe8cf2d"
      },
      "source": [
        "We display a plot of the error. As it takes two parameters, this is a 3D plot."
      ]
    },
    {
      "cell_type": "code",
      "execution_count": 45,
      "id": "29bde38e",
      "metadata": {
        "collapsed": true,
        "id": "29bde38e",
        "outputId": "28ab4074-c400-49f4-b97f-8ed3e9ce8d72",
        "colab": {
          "base_uri": "https://localhost:8080/",
          "height": 484
        }
      },
      "outputs": [
        {
          "output_type": "stream",
          "name": "stdout",
          "text": [
            "beta0: 2.0300674371296394,\n",
            "beta1: -0.49053608938166027,\n",
            "b0_size: 1001,\n",
            "b1_size: 1001,\n"
          ]
        },
        {
          "output_type": "display_data",
          "data": {
            "text/plain": [
              "<Figure size 640x480 with 1 Axes>"
            ],
            "image/png": "[encoded data removed]"
          },
          "metadata": {}
        }
      ],
      "source": [
        "ax = plt.figure().add_subplot(projection='3d')\n",
        "t0 = np.linspace(-0.5, 4, 81) # Values of beta_0 from -0.5 to 4\n",
        "t1 = np.linspace(-2, 1, 81) # Values of beta_1 from -2 to 1\n",
        "T0, T1 = np.meshgrid(t0, t1) # Grid of values of beta_0 and beta_1\n",
        "\n",
        "squared_error_vect = np.vectorize(squared_error_simple, excluded={2,3})\n",
        "E = squared_error_vect(T0, T1, X, Y) # Error plot\n",
        "\n",
        "# Display the error function\n",
        "ax.plot_surface(T0, T1, E, cmap=plt.cm.coolwarm, alpha=.5)\n",
        "ax.set_xlabel('$\\\\beta_0$')\n",
        "ax.set_ylabel('$\\\\beta_1$')\n",
        "ax.set_zlabel('$J(\\\\beta_0, \\\\beta_1)$')\n",
        "\n",
        "# Display the values of beta0 and beta1 during the gradient descent\n",
        "beta0, beta1, beta0_hist, beta1_hist = simple_linear_regression_gradient_descent(X, Y, 1000, learning_rate = .01)\n",
        "print(f\"beta0: {beta0},\\nbeta1: {beta1},\\nb0_size: {len(beta0_hist)},\\nb1_size: {len(beta1_hist)},\")\n",
        "ax.scatter3D(beta0_hist, beta1_hist, squared_error_vect(beta0_hist, beta1_hist, X, Y), color=\"black\")\n",
        "plt.show()"
      ]
    },
    {
      "cell_type": "markdown",
      "id": "2e5860d8",
      "metadata": {
        "id": "2e5860d8"
      },
      "source": [
        "Repeat the experiences above with different values for the learning rate $\\alpha$. What seem to be good values for $\\alpha$ in this case?\n"
      ]
    },
    {
      "cell_type": "markdown",
      "id": "c3586644",
      "metadata": {
        "id": "c3586644"
      },
      "source": [
        "*Answer:*"
      ]
    },
    {
      "cell_type": "markdown",
      "id": "26a88259",
      "metadata": {
        "id": "26a88259"
      },
      "source": [
        "### Parenthesis: `np.vectorize`\n",
        "\n",
        "The `vectorize` function allows transforming a function $f$ of type `S -> T` into a function `array[S] -> array[T]` that applies $f$ to each element of the array. The `excluded` argument is useful when the function has multiple parameters and you want to avoid vectorizing the function according to one parameter."
      ]
    },
    {
      "cell_type": "markdown",
      "id": "bb604ada",
      "metadata": {
        "id": "bb604ada"
      },
      "source": [
        "A small example of usage of `np.vectorize`:"
      ]
    },
    {
      "cell_type": "code",
      "execution_count": 46,
      "id": "24768e38",
      "metadata": {
        "id": "24768e38",
        "outputId": "1e0b15d5-12ce-4f82-8f1b-bd2f9e1a8650",
        "colab": {
          "base_uri": "https://localhost:8080/"
        }
      },
      "outputs": [
        {
          "output_type": "stream",
          "name": "stdout",
          "text": [
            "[2 3 4 5 6]\n",
            "[1 3 5 7 9]\n",
            "[ 0  3  6  9 12]\n"
          ]
        }
      ],
      "source": [
        "def f(x, y):\n",
        "    return x + 2*y\n",
        "\n",
        "L = np.array(range(5))\n",
        "f1 = np.vectorize(f, excluded={1})\n",
        "print(f1(L, 1))\n",
        "\n",
        "f2 = np.vectorize(f, excluded={0})\n",
        "print(f1(1, L))\n",
        "\n",
        "f3 = np.vectorize(f)\n",
        "print(f3(L, L))"
      ]
    },
    {
      "cell_type": "markdown",
      "id": "c3cd876f",
      "metadata": {
        "id": "c3cd876f"
      },
      "source": [
        "### Back to linear regression\n",
        "\n",
        "Using `matplotlib.pyplot()`, display the data $(X, Y)$ along with the hypothesis $h_\\beta\\colon x \\mapsto \\beta_0 + \\beta_1 x$ found by gradient descent."
      ]
    },
    {
      "cell_type": "code",
      "execution_count": 62,
      "id": "ae8f7d62",
      "metadata": {
        "collapsed": true,
        "id": "ae8f7d62",
        "outputId": "f1f45b14-6404-4537-d9bf-bae62cfa8091",
        "colab": {
          "base_uri": "https://localhost:8080/",
          "height": 474
        }
      },
      "outputs": [
        {
          "output_type": "display_data",
          "data": {
            "text/plain": [
              "<Figure size 640x480 with 1 Axes>"
            ],
            "image/png": "[encoded data removed]"
          },
          "metadata": {}
        }
      ],
      "source": [
        "hb = np.vectorize(lambda x: beta0 + beta1*x )\n",
        "\n",
        "#tracer de x et y\n",
        "plt.clf()\n",
        "plt.plot(X, Y , 'o',label=\"Data\") # nuages de points du data set\n",
        "plt.plot(X,hb(X),color=\"red\",label=\"$h_\\\\beta(X)$\") # droite de regression\n",
        "plt.legend()\n",
        "plt.xlabel(\"$ X $\")\n",
        "plt.ylabel(\"$ Y  $\")\n",
        "plt.title(\"(X,Y) where $ Y = h_\\\\beta (X)$\")\n",
        "plt.show()"
      ]
    },
    {
      "cell_type": "markdown",
      "id": "f8ce10cd",
      "metadata": {
        "id": "f8ce10cd"
      },
      "source": [
        "Display on the same plot:\n",
        "- how the error evolves over time, and\n",
        "- how the absolute values of the partial derivatives evolve over time.\n",
        "\n",
        "Use a logarithmic scale `plt.yscale('log')` for the vertical axis."
      ]
    },
    {
      "cell_type": "code",
      "execution_count": 52,
      "id": "79851cdd",
      "metadata": {
        "collapsed": true,
        "id": "79851cdd",
        "outputId": "c2889af1-a6d2-415f-b18d-316cdb22f9f8",
        "colab": {
          "base_uri": "https://localhost:8080/",
          "height": 476
        }
      },
      "outputs": [
        {
          "output_type": "display_data",
          "data": {
            "text/plain": [
              "<Figure size 640x480 with 1 Axes>"
            ],
            "image/png": "[encoded data removed]"
          },
          "metadata": {}
        }
      ],
      "source": [
        "\n",
        "\n",
        "epochs = np.arange(len(beta0_hist))\n",
        "\n",
        "E = squared_error_vect(beta0_hist,beta1_hist,X,Y) # error plot\n",
        "\n",
        "\"\"\"\n",
        "Dj = [derivative_squared_error_simple(b0,b1,X,Y) for b0,b1 in zip(beta0_hist , beta1_hist)]\n",
        "Dj0 = [e[0] for e in Dj]\n",
        "Dj1 = [e[1] for e in Dj]\n",
        "\"\"\"\n",
        "Dj = np.vstack([derivative_squared_error_simple(b0, b1, X, Y) for b0, b1 in zip(beta0_hist, beta1_hist)])\n",
        "Dj0 = Dj[:, 0]  # Première colonne pour ∂J/∂β0\n",
        "Dj1 = Dj[:, 1]  # Deuxième colonne pour ∂J/∂β1\n",
        "\n",
        "plt.clf()\n",
        "plt.plot(epochs , E , label = \"Error\")\n",
        "plt.plot(epochs,Dj0 ,label= \"$ ∂J/∂\\\\beta_0 $\")\n",
        "plt.plot(epochs,Dj1 ,label= \"$ ∂J/∂\\\\beta_1 $\")\n",
        "plt.title(\"Evolution over time of error and partial derivatives (xscale ='log')\")\n",
        "plt.legend()\n",
        "plt.grid()\n",
        "plt.xlabel('epoch')\n",
        "plt.xscale('log')\n",
        "#plt.yscale('log')\n",
        "plt.show()\n"
      ]
    },
    {
      "cell_type": "markdown",
      "id": "57283b13",
      "metadata": {
        "id": "57283b13"
      },
      "source": [
        "Implement an alternative version of `simple_linear_regression_gradient_descent` which, instead of stopping after a fixed number of steps, stops when the partial derivatives $\\frac{\\partial J}{\\partial \\beta_0}$ et $\\frac{\\partial J}{\\partial \\beta_1}$ are smaller than $\\lambda*J(\\beta_0, \\beta_1)$, where $\\lambda$ is a parameter of the function."
      ]
    },
    {
      "cell_type": "code",
      "execution_count": 65,
      "id": "2e241446",
      "metadata": {
        "id": "2e241446"
      },
      "outputs": [],
      "source": [
        "def simple_linear_regression_gradient_descent_alt(X, Y, learning_rate = .01, stop = .01):\n",
        "    \"\"\"Simple batch gradient descent algorithm to compute a linear regression.\n",
        "    Takes the training examples and the learning rate (0.01 by default) and returns (beta0, beta1, beta0_hist, beta1_hist) where beta0_hist, beta1_hist are the lists of all values taken by beta0 and beta1.\n",
        "    Halting condition: when the derivates are smaller than $stop$ * the error, in absolute value.\"\"\"\n",
        "    beta0 , beta1  = rd.random(), rd.random() # Random initialization\n",
        "    beta0_hist , beta1_hist = [beta0] , [beta1]\n",
        "    DJ = abs(derivative_squared_error_simple(beta0,beta1,X,Y))\n",
        "    J = stop*squared_error_simple(beta0,beta1,X,Y)\n",
        "\n",
        "    while True:\n",
        "      if DJ[0] + DJ[1] < J:\n",
        "        break\n",
        "      beta0 , beta1 = one_step_simple_linear_regression_gradient_descent(beta0, beta1, X, Y, learning_rate)\n",
        "      beta1_hist.append(beta1)\n",
        "      beta0_hist.append(beta0)\n",
        "\n",
        "    return beta0, beta1 , beta0_hist, beta1_hist\n"
      ]
    },
    {
      "cell_type": "markdown",
      "id": "e055e746",
      "metadata": {
        "id": "e055e746"
      },
      "source": [
        "Check that is gives a similar answer."
      ]
    },
    {
      "cell_type": "code",
      "execution_count": null,
      "id": "f2c03765",
      "metadata": {
        "id": "f2c03765"
      },
      "outputs": [],
      "source": [
        "b0 , b1, b0_hist , b1_hist = simple_linear_regression_gradient_descent_alt(X, Y, stop = .2, learning_rate = .01)\n",
        "\n",
        "print(f\" almost \" if (np.abs(b0-beta0)<1e-12 and np.abs(b1-beta1)<1e-12 ) else \"not equal\")"
      ]
    },
    {
      "cell_type": "code",
      "source": [
        "#les calculs\n",
        "E2 = squared_error_vect(b0_hist,b1_hist,X,Y) # error plot\n",
        "Dj2 = np.vstack([derivative_squared_error_simple(b0, b1, X, Y) for b0, b1 in zip(b0_hist, b1_hist)])\n",
        "Dj02 = Dj2[:, 0]  # Première colonne pour ∂J/∂β0\n",
        "Dj12 = Dj2[:, 1]  # Deuxième colonne pour ∂J/∂β1\n",
        "\n",
        "epochs2 = np.arange(len(b0_hist))\n",
        "plt.clf()\n",
        "# Les erreurs\n",
        "plt.plot(epochs2 , E , label= \"Error_alt\")\n",
        "plt.plot(epochs , E , label = \"Error\")\n",
        "# les dérivées partielles\n",
        "plt.plot(epochs2,Dj02 ,label= \"$ ∂J/∂\\\\b_0 $\")\n",
        "plt.plot(epochs2,Dj12 ,label= \"$ ∂J/∂\\\\b_1 $\")\n",
        "plt.plot(epochs,Dj0 ,label= \"$ ∂J/∂\\\\beta_0 $\")\n",
        "plt.plot(epochs,Dj1 ,label= \"$ ∂J/∂\\\\beta_1 $\")\n",
        "plt.title(\"n_steps vs epsilon over time of error and partial derivatives (xscale ='log')\")\n",
        "plt.legend()\n",
        "plt.grid()\n",
        "plt.xlabel('epoch')\n",
        "plt.xscale('log')\n",
        "\n",
        "plt.show()\n"
      ],
      "metadata": {
        "id": "uIpv2w7PBf-j"
      },
      "id": "uIpv2w7PBf-j",
      "execution_count": null,
      "outputs": []
    },
    {
      "cell_type": "markdown",
      "id": "ea453437",
      "metadata": {
        "id": "ea453437"
      },
      "source": [
        "## 1.2. Some reminders on matrices\n",
        "\n",
        "Functions and operators on matrices, using `numpy`."
      ]
    },
    {
      "cell_type": "code",
      "execution_count": 15,
      "id": "0c2959a5",
      "metadata": {
        "id": "0c2959a5",
        "outputId": "147ea9c1-3e8c-4189-b314-9f0a63a82926",
        "colab": {
          "base_uri": "https://localhost:8080/"
        }
      },
      "outputs": [
        {
          "output_type": "stream",
          "name": "stdout",
          "text": [
            "A:\n",
            " [[0 1]\n",
            " [2 3]]\n",
            "B:\n",
            " [[ 2]\n",
            " [-1]]\n"
          ]
        }
      ],
      "source": [
        "A = np.array([[0, 1], [2, 3]])\n",
        "B = np.array([[2], [-1]])\n",
        "print(f\"A:\\n {A}\")\n",
        "print(f\"B:\\n {B}\")"
      ]
    },
    {
      "cell_type": "markdown",
      "id": "6e0dd614",
      "metadata": {
        "id": "6e0dd614"
      },
      "source": [
        "Careful: we could have defined $A$ and $B$ with `np.matrix` instead of `np.array`. However, using `np.matrix` is [discouraged](https://docs.scipy.org/doc/scipy/tutorial/linalg.html). We will call the objects we manipulate *matrices*, even though they are technically multidimensional arrays (`ndarray`)."
      ]
    },
    {
      "cell_type": "code",
      "execution_count": 16,
      "id": "395f8ea6",
      "metadata": {
        "id": "395f8ea6",
        "outputId": "0298754b-e501-49a5-c07b-fe209c914b2e",
        "colab": {
          "base_uri": "https://localhost:8080/"
        }
      },
      "outputs": [
        {
          "output_type": "stream",
          "name": "stdout",
          "text": [
            "<class 'numpy.ndarray'>\n"
          ]
        }
      ],
      "source": [
        "print(type(A))"
      ]
    },
    {
      "cell_type": "code",
      "execution_count": 17,
      "id": "c762da0d",
      "metadata": {
        "id": "c762da0d",
        "outputId": "3770eddb-9ed4-44e1-fad3-8a38ae653a6c",
        "colab": {
          "base_uri": "https://localhost:8080/"
        }
      },
      "outputs": [
        {
          "output_type": "stream",
          "name": "stdout",
          "text": [
            "(2, 2)\n",
            "(2, 1)\n"
          ]
        }
      ],
      "source": [
        "# Matrix dimensions\n",
        "print(A.shape)\n",
        "print(B.shape)"
      ]
    },
    {
      "cell_type": "markdown",
      "id": "e3930a75",
      "metadata": {
        "id": "e3930a75"
      },
      "source": [
        "The product of two matrices $A$ and $B$ can be computed with `A.dot(B)` or `A @ B`."
      ]
    },
    {
      "cell_type": "code",
      "execution_count": 18,
      "id": "caba58cb",
      "metadata": {
        "id": "caba58cb",
        "outputId": "659f87c2-6cb5-44bb-df83-4898e07be71a",
        "colab": {
          "base_uri": "https://localhost:8080/"
        }
      },
      "outputs": [
        {
          "output_type": "stream",
          "name": "stdout",
          "text": [
            "[[-1]\n",
            " [ 1]]\n"
          ]
        }
      ],
      "source": [
        "print(A @ B)"
      ]
    },
    {
      "cell_type": "markdown",
      "id": "1eb0f1e2",
      "metadata": {
        "id": "1eb0f1e2"
      },
      "source": [
        "Careful: what does `A * B` compute?\n",
        "\n",
        "*Answer:* the product of each element in matrix ligne per ligne"
      ]
    },
    {
      "cell_type": "code",
      "execution_count": 19,
      "id": "44825257",
      "metadata": {
        "id": "44825257",
        "outputId": "2e646b4d-29d8-4f5f-fc50-48c0774e6764",
        "colab": {
          "base_uri": "https://localhost:8080/"
        }
      },
      "outputs": [
        {
          "output_type": "stream",
          "name": "stdout",
          "text": [
            "[[ 0  2]\n",
            " [-2 -3]]\n"
          ]
        }
      ],
      "source": [
        "print(A * B)"
      ]
    },
    {
      "cell_type": "markdown",
      "id": "cd841817",
      "metadata": {
        "id": "cd841817"
      },
      "source": [
        "Why is the following code showing an error?\n",
        "\n",
        "*Answer:* C first shape is not equal to A second shape"
      ]
    },
    {
      "cell_type": "code",
      "execution_count": 23,
      "id": "43770faf",
      "metadata": {
        "id": "43770faf"
      },
      "outputs": [],
      "source": [
        "C = np.array([[7, 0]])\n",
        "#print(A @ C)"
      ]
    },
    {
      "cell_type": "code",
      "execution_count": 21,
      "id": "b1faae25",
      "metadata": {
        "id": "b1faae25",
        "outputId": "009c4cf2-1626-4ed1-b7ff-d79484ca999a",
        "colab": {
          "base_uri": "https://localhost:8080/"
        }
      },
      "outputs": [
        {
          "output_type": "stream",
          "name": "stdout",
          "text": [
            "A:\n",
            " [[0 1]\n",
            " [2 3]]\n",
            "A transpose:\n",
            " [[0 2]\n",
            " [1 3]]\n"
          ]
        }
      ],
      "source": [
        "print(f\"A:\\n {A}\")\n",
        "print(f\"A transpose:\\n {A.T}\")"
      ]
    },
    {
      "cell_type": "markdown",
      "id": "d431f361",
      "metadata": {
        "id": "d431f361"
      },
      "source": [
        "Using [`np.concatenate`](https://numpy.org/doc/stable/reference/generated/numpy.concatenate.html) from matrices $A = \\begin{pmatrix}\n",
        "0 & 1\\\\\n",
        "2 & 3\n",
        "\\end{pmatrix}$, $B = \\begin{pmatrix}\n",
        "2\\\\\n",
        "-1\n",
        "\\end{pmatrix}$, and $C = \\begin{pmatrix}\n",
        "7 & 0\n",
        "\\end{pmatrix}$, build the matrices\n",
        "$\\begin{pmatrix}\n",
        "0 & 1 \\\\\n",
        "2 & 3 \\\\\n",
        "7 & 0\n",
        "\\end{pmatrix}$ and $\\begin{pmatrix}\n",
        "0 & 1 & 2\\\\\n",
        "2 & 3 & -1\n",
        "\\end{pmatrix}$."
      ]
    },
    {
      "cell_type": "code",
      "execution_count": 24,
      "id": "ff85c7d8",
      "metadata": {
        "id": "ff85c7d8",
        "outputId": "480f9647-85fb-4bb5-a98f-6d7221eeea44",
        "colab": {
          "base_uri": "https://localhost:8080/"
        }
      },
      "outputs": [
        {
          "output_type": "execute_result",
          "data": {
            "text/plain": [
              "array([[0, 1],\n",
              "       [2, 3],\n",
              "       [7, 0]])"
            ]
          },
          "metadata": {},
          "execution_count": 24
        }
      ],
      "source": [
        "np.concatenate((A, B),axis = 1)\n",
        "np.concatenate((A,C))\n"
      ]
    },
    {
      "cell_type": "markdown",
      "id": "8b65b979",
      "metadata": {
        "id": "8b65b979"
      },
      "source": [
        "The `np.linalg.inv` can be used to compute the inverse $A^{-1}$ of a matrix $A$."
      ]
    },
    {
      "cell_type": "code",
      "execution_count": 25,
      "id": "cf4d02a8",
      "metadata": {
        "id": "cf4d02a8",
        "outputId": "0b0fb4e8-e1de-4ef8-ba8e-788f31b49249",
        "colab": {
          "base_uri": "https://localhost:8080/"
        }
      },
      "outputs": [
        {
          "output_type": "stream",
          "name": "stdout",
          "text": [
            "[[-1.5  0.5]\n",
            " [ 1.   0. ]]\n"
          ]
        }
      ],
      "source": [
        "A_inv = np.linalg.inv(A)\n",
        "print(A_inv)"
      ]
    },
    {
      "cell_type": "markdown",
      "id": "ee14c996",
      "metadata": {
        "id": "ee14c996"
      },
      "source": [
        "Check that $A @ A^{-1}$ and $A^{-1} @ A$ are equal to the identity matrix $\\begin{pmatrix} 1 & 0 \\\\ 0 & 1 \\end{pmatrix}$."
      ]
    },
    {
      "cell_type": "code",
      "execution_count": 26,
      "id": "513b7fc9",
      "metadata": {
        "id": "513b7fc9",
        "outputId": "cd858481-5237-4391-ee62-d67250cd8196",
        "colab": {
          "base_uri": "https://localhost:8080/"
        }
      },
      "outputs": [
        {
          "output_type": "stream",
          "name": "stdout",
          "text": [
            "[[ True  True]\n",
            " [ True  True]]\n",
            "[[ True  True]\n",
            " [ True  True]]\n"
          ]
        }
      ],
      "source": [
        "#matrice identité\n",
        "identity = np.array([[1,0],[0,1]])\n",
        "print(A@A_inv == A_inv@A)\n",
        "print(A_inv@A == identity)\n",
        "pass"
      ]
    },
    {
      "cell_type": "markdown",
      "id": "c7402a31",
      "metadata": {
        "id": "c7402a31"
      },
      "source": [
        "Explain the following error.\n",
        "\n",
        "*Answer:* the matrix is not inversible"
      ]
    },
    {
      "cell_type": "code",
      "execution_count": 27,
      "id": "40ef20d5",
      "metadata": {
        "id": "40ef20d5"
      },
      "outputs": [],
      "source": [
        "#np.linalg.inv(np.array([[1, 1], [2, 2]]))"
      ]
    },
    {
      "cell_type": "markdown",
      "id": "5323bb27",
      "metadata": {
        "id": "5323bb27"
      },
      "source": [
        "What are the numpy functions to generate a matrix filled with 0s? Filled with 1s? Generate a matrix $D$ filled with 0s of dimension $5 \\times 4$, a matrix $E$ filled with 1s of dimension $5 \\times 4$, and verify that $D + E$ and $D \\cdot E^{T}$ give the expected result."
      ]
    },
    {
      "cell_type": "code",
      "execution_count": 28,
      "id": "ef2d395e",
      "metadata": {
        "id": "ef2d395e",
        "outputId": "8bcc3168-7ecf-44a9-e54a-95ce7df17aed",
        "colab": {
          "base_uri": "https://localhost:8080/"
        }
      },
      "outputs": [
        {
          "output_type": "stream",
          "name": "stdout",
          "text": [
            "True\n",
            "True\n"
          ]
        }
      ],
      "source": [
        "D = np.ones((5,4))\n",
        "E = np.zeros((5,4))\n",
        "s = D+E\n",
        "p = D@E.T\n",
        "print(np.array_equal(D+E , D))\n",
        "print(np.array_equal(D@E.T , np.zeros((5,5))))\n",
        "pass"
      ]
    },
    {
      "cell_type": "markdown",
      "id": "e8c4ebe1",
      "metadata": {
        "id": "e8c4ebe1"
      },
      "source": [
        "Line and column operations:"
      ]
    },
    {
      "cell_type": "code",
      "execution_count": 29,
      "id": "03f47f58",
      "metadata": {
        "id": "03f47f58",
        "outputId": "fe61fe44-cb82-4433-92a6-812e95a96d39",
        "colab": {
          "base_uri": "https://localhost:8080/"
        }
      },
      "outputs": [
        {
          "output_type": "stream",
          "name": "stdout",
          "text": [
            "[[ 0  1  2  3  4]\n",
            " [ 5  6  7  8  9]\n",
            " [10 11 12 13 14]]\n"
          ]
        }
      ],
      "source": [
        "A = np.array([[5*i + j for j in range(5)] for i in range(3)])\n",
        "print(A)"
      ]
    },
    {
      "cell_type": "code",
      "execution_count": 30,
      "id": "bff8c5e0",
      "metadata": {
        "id": "bff8c5e0",
        "outputId": "89c4ff20-7ecd-4be2-d351-fd1bc4215a5a",
        "colab": {
          "base_uri": "https://localhost:8080/"
        }
      },
      "outputs": [
        {
          "output_type": "stream",
          "name": "stdout",
          "text": [
            "[[ 5  6  7  8  9]\n",
            " [10 11 12 13 14]]\n"
          ]
        }
      ],
      "source": [
        "print(A[1:,:])"
      ]
    },
    {
      "cell_type": "code",
      "execution_count": 31,
      "id": "24c6e4b2",
      "metadata": {
        "id": "24c6e4b2",
        "outputId": "f91eaa0d-1b61-4b05-8bc6-dcdb8832bafc",
        "colab": {
          "base_uri": "https://localhost:8080/"
        }
      },
      "outputs": [
        {
          "output_type": "stream",
          "name": "stdout",
          "text": [
            "[[ 2  3]\n",
            " [ 7  8]\n",
            " [12 13]]\n"
          ]
        }
      ],
      "source": [
        "print(A[:, 2:4])"
      ]
    },
    {
      "cell_type": "code",
      "execution_count": 32,
      "id": "e5fd298d",
      "metadata": {
        "id": "e5fd298d",
        "outputId": "b3f490c1-143b-4bf8-ac7a-7a2db33d0f60",
        "colab": {
          "base_uri": "https://localhost:8080/"
        }
      },
      "outputs": [
        {
          "output_type": "stream",
          "name": "stdout",
          "text": [
            "[[ 5  6  7  8]\n",
            " [10 11 12 13]]\n"
          ]
        }
      ],
      "source": [
        "print(A[1:, :4])"
      ]
    },
    {
      "cell_type": "markdown",
      "id": "53d1a5d9",
      "metadata": {
        "id": "53d1a5d9"
      },
      "source": [
        "We want to look at the $3\\times 1$ matrix obtained by keeping only the first column of A.\n",
        "What is the difference between `print(A[:, 0])` and `print(A[:, 0:1])`?\n",
        "\n",
        "*Answer:*"
      ]
    },
    {
      "cell_type": "code",
      "execution_count": 33,
      "id": "3f0ab9c6",
      "metadata": {
        "id": "3f0ab9c6",
        "outputId": "a811d128-b32c-44c4-c2ba-683c7f88b514",
        "colab": {
          "base_uri": "https://localhost:8080/"
        }
      },
      "outputs": [
        {
          "output_type": "stream",
          "name": "stdout",
          "text": [
            "[ 0  5 10]\n",
            "[[ 0]\n",
            " [ 5]\n",
            " [10]]\n"
          ]
        }
      ],
      "source": [
        "print(A[:, 0])\n",
        "print(A[:, 0:1])"
      ]
    },
    {
      "cell_type": "markdown",
      "id": "5fd22e4c",
      "metadata": {
        "id": "5fd22e4c"
      },
      "source": [
        "## 1.3. Multiple linear regression\n",
        "\n",
        "We now deal with *multiple linear regression*, that is, the case with multiple predictors ($p > 1$)."
      ]
    },
    {
      "cell_type": "code",
      "execution_count": 7,
      "id": "27e37752",
      "metadata": {
        "id": "27e37752",
        "outputId": "ffcd3656-ece2-4da9-d920-487c07620482",
        "colab": {
          "base_uri": "https://localhost:8080/"
        }
      },
      "outputs": [
        {
          "output_type": "stream",
          "name": "stdout",
          "text": [
            "<class 'numpy.ndarray'>\n",
            "(811626, 5)\n"
          ]
        }
      ],
      "source": [
        "import numpy as np\n",
        "import matplotlib.pyplot as plt\n",
        "from mpl_toolkits.mplot3d import axes3d\n",
        "\n",
        "data = np.load(\"/content/lab3-multiple_linear_regression.npy\")\n",
        "print(type(data))\n",
        "print(data.shape)"
      ]
    },
    {
      "cell_type": "markdown",
      "id": "284ad059",
      "metadata": {
        "id": "284ad059"
      },
      "source": [
        "Each row of the `data` matrix contains a training example $((x_1, x_2, x_3, x_4), y)$. There are $p = 4$ predictors and $n = 811626$ data points."
      ]
    },
    {
      "cell_type": "code",
      "execution_count": 8,
      "id": "a3b5208e",
      "metadata": {
        "id": "a3b5208e",
        "outputId": "2801ad98-7ac7-43b7-d404-93f901f9a912",
        "colab": {
          "base_uri": "https://localhost:8080/"
        }
      },
      "outputs": [
        {
          "output_type": "stream",
          "name": "stdout",
          "text": [
            "[-4.          1.          0.          5.4        -7.78488192]\n"
          ]
        }
      ],
      "source": [
        "print(data[0])"
      ]
    },
    {
      "cell_type": "markdown",
      "id": "45bc5362",
      "metadata": {
        "id": "45bc5362"
      },
      "source": [
        "Separate the `data` matrix into a matrix $X$ of dimension $n \\times p$ and a matrix $Y$ of dimension $n \\times 1$. Add a column of `1`s to the $X$ matrix, so that $X$ now has dimension $n \\times (p+1)$. What is the purpose of this last operation?\n",
        "\n",
        "*Answer:*"
      ]
    },
    {
      "cell_type": "code",
      "execution_count": 9,
      "id": "0d510fb0",
      "metadata": {
        "id": "0d510fb0",
        "outputId": "c675ec8f-2878-4500-a74f-e2c6aa8eb800",
        "colab": {
          "base_uri": "https://localhost:8080/"
        }
      },
      "outputs": [
        {
          "output_type": "stream",
          "name": "stdout",
          "text": [
            "Avant transformation\n",
            "X_shape =(811626, 4)\n",
            "Y_shape =(811626, 1)\n",
            "Après transformation\n",
            "X_shape =(811626, 5)\n",
            "Y_shape =(811626, 1)\n"
          ]
        }
      ],
      "source": [
        "# Charger les données du training set\n",
        "X = data[:,:4] # extraire les 4 première colonnes ,  input du training data set\n",
        "n = X.shape[0]  # taille du data set (nombre d'échantillons)\n",
        "p = X.shape[1]  # taille des échantillons (dimensions de l'échantillon)\n",
        "\n",
        "# Extraire les sorties attendues (sorties du modèle)\n",
        "Y = data[:,4:]  # colonne 5 à la fin des données, qui sont les sorties attendues pour chaque exemple dans le dataset\n",
        "\n",
        "print(f\"Avant transformation\\nX_shape ={X.shape}\\nY_shape ={Y.shape}\")\n",
        "X = np.append(X,np.ones((n,1)) , axis=1)# Ajout d'une colonne de 1 pour le biais\n",
        "\n",
        "print(f\"Après transformation\\nX_shape ={X.shape}\\nY_shape ={Y.shape}\")"
      ]
    },
    {
      "cell_type": "code",
      "execution_count": 10,
      "id": "76d04b24",
      "metadata": {
        "id": "76d04b24",
        "outputId": "7bc6b8d0-5dc7-4100-e3bf-9226e4328963",
        "colab": {
          "base_uri": "https://localhost:8080/"
        }
      },
      "outputs": [
        {
          "output_type": "stream",
          "name": "stdout",
          "text": [
            "forme de X : (811626, 5)\n",
            "forme de Y : (811626, 1)\n",
            "élément de X : (5,)\n",
            "élément de Y :(1,) \n"
          ]
        }
      ],
      "source": [
        "print(f\"forme de X : {X.shape}\")\n",
        "print(f\"forme de Y : {Y.shape}\")\n",
        "print(f\"élément de X : {X[0].shape}\\nélément de Y :{Y[0].shape} \")"
      ]
    },
    {
      "cell_type": "markdown",
      "id": "4076ce9e",
      "metadata": {
        "id": "4076ce9e"
      },
      "source": [
        "Adapt the functions for calculating error, their partial derivatives, and the linear regression algorithm. Your functions should only manipulate matrices. Instead of having parameters $(\\beta_i)$, we will work with a single \"matrix\" $\\beta$. What is its dimension?\n",
        "\n",
        "*Answer:*"
      ]
    },
    {
      "cell_type": "code",
      "execution_count": 11,
      "id": "415a9d5f",
      "metadata": {
        "id": "415a9d5f"
      },
      "outputs": [],
      "source": [
        "def squared_error(Beta, X, Y):\n",
        "\t\"\"\"Returns the square error of Beta on training examples (X, Y).\"\"\"\n",
        "\treturn np.mean( np.array( [ ((xi.T).dot( Beta) - yi)**2 for xi,yi in zip(X,Y) ] ) )\n"
      ]
    },
    {
      "cell_type": "code",
      "execution_count": 12,
      "id": "b3534585",
      "metadata": {
        "collapsed": true,
        "id": "b3534585",
        "outputId": "42112bf2-0fbf-4671-e53c-79029be3a936",
        "colab": {
          "base_uri": "https://localhost:8080/"
        }
      },
      "outputs": [
        {
          "output_type": "stream",
          "name": "stdout",
          "text": [
            "forme de Beta_test :(5,) \n",
            "β et les xi ont la meme forme  \n"
          ]
        },
        {
          "output_type": "execute_result",
          "data": {
            "text/plain": [
              "337.8381511545455"
            ]
          },
          "metadata": {},
          "execution_count": 12
        }
      ],
      "source": [
        "Beta = np.zeros((p+1,))\n",
        "print(f\"forme de Beta_test :{Beta.shape} \")\n",
        "print(\"β et les xi ont la meme forme  \" if Beta.shape==X[0].shape else \"β et les xi n'ont pas la meme forme  \")\n",
        "\n",
        "squared_error(Beta, X, Y)"
      ]
    },
    {
      "cell_type": "code",
      "execution_count": 13,
      "id": "6c10183c",
      "metadata": {
        "id": "6c10183c"
      },
      "outputs": [],
      "source": [
        "\n",
        "def gradient_squared_error(Beta, X, Y):\n",
        "    \"\"\"\n",
        "    Returns the gradient of the square error on training examples (X, Y). The result is a matrix with the same dimension as Beta.\n",
        "    \"\"\"\n",
        "    n =  X.shape[0] #nombre d'échantillon\n",
        "    Beta = Beta.reshape(-1,1) #reformer β en vecteur (matrice colonne)\n",
        "    return  (2/n)*(X.T@(X@Beta - Y))\n",
        "\n"
      ]
    },
    {
      "cell_type": "code",
      "execution_count": 14,
      "id": "e2f124b9",
      "metadata": {
        "collapsed": true,
        "id": "e2f124b9",
        "outputId": "28a8a740-7ba3-4607-e149-30dd887f4ebb",
        "colab": {
          "base_uri": "https://localhost:8080/"
        }
      },
      "outputs": [
        {
          "output_type": "stream",
          "name": "stdout",
          "text": [
            "Avant :\n",
            "[[-4.   1.   0.   5.4  1. ]\n",
            " [-4.   1.   0.   5.8  1. ]\n",
            " [-4.   1.   0.   7.6  1. ]]\n",
            "Après  :\n",
            "[[[-4. ]\n",
            "  [ 1. ]\n",
            "  [ 0. ]\n",
            "  [ 5.4]\n",
            "  [ 1. ]]\n",
            "\n",
            " [[-4. ]\n",
            "  [ 1. ]\n",
            "  [ 0. ]\n",
            "  [ 5.8]\n",
            "  [ 1. ]]\n",
            "\n",
            " [[-4. ]\n",
            "  [ 1. ]\n",
            "  [ 0. ]\n",
            "  [ 7.6]\n",
            "  [ 1. ]]]\n"
          ]
        }
      ],
      "source": [
        "B , x,y   = Beta[:100],X[:100],Y[:100]\n",
        "temp = gradient_squared_error(B, x,y)\n",
        "print(f\"Avant :\\n{x[:3]}\")\n",
        "\n",
        "x =  np.array([ e.reshape(-1,1) for e in x ])\n",
        "print(f\"Après  :\\n{x[:3]}\")"
      ]
    },
    {
      "cell_type": "code",
      "execution_count": 17,
      "id": "a17d38c6",
      "metadata": {
        "collapsed": true,
        "id": "a17d38c6",
        "outputId": "d51ca8d4-ab20-424c-bdda-f0d29107f5bd",
        "colab": {
          "base_uri": "https://localhost:8080/"
        }
      },
      "outputs": [
        {
          "output_type": "stream",
          "name": "stdout",
          "text": [
            "(5, 1)\n"
          ]
        },
        {
          "output_type": "execute_result",
          "data": {
            "text/plain": [
              "array([24.24949402,  6.06237351,  0.77185737, 28.37710316,  6.06237351])"
            ]
          },
          "metadata": {},
          "execution_count": 17
        }
      ],
      "source": [
        "print(temp.shape)\n",
        "\n",
        "np.max(abs(temp),axis = 1)"
      ]
    },
    {
      "cell_type": "code",
      "execution_count": 18,
      "id": "426e9b48",
      "metadata": {
        "id": "426e9b48"
      },
      "outputs": [],
      "source": [
        "def one_step_linear_regression_gradient_descent(Beta, X, Y, learning_rate):\n",
        "    \"\"\"One step of the gradient descent for the multiple linear regression. Takes the parameters, the training examples and the learning rate, and returns the new values for the parameters.\"\"\"\n",
        "    return Beta - learning_rate*gradient_squared_error(Beta,X,Y)\n",
        ""
      ]
    },
    {
      "cell_type": "code",
      "execution_count": 19,
      "id": "332ccd9c",
      "metadata": {
        "id": "332ccd9c"
      },
      "outputs": [],
      "source": [
        "def linear_regression_gradient_descent(X, Y, nb_steps, learning_rate = .01):\n",
        "    \"\"\"Multiple batch gradient descent algorithm to compute a linear regression.\n",
        "    Takes the training examples and the learning rate (0.01 by default) and returns (Beta, Beta_hist) where Beta_hist is the historic of all values taken by Beta.\n",
        "    Halting condition: when the number of steps is reached.\"\"\"\n",
        "    n,p = X.shape   # nombre d'échantillon et de caractéristiques\n",
        "    beta = np.zeros((p,1)) #initialiser beta avec la bonne forme\n",
        "    beta_hist = [beta]\n",
        "\n",
        "    while nb_steps>0:\n",
        "        beta = one_step_linear_regression_gradient_descent(beta,X,Y,learning_rate)\n",
        "        beta_hist.append(beta)\n",
        "        nb_steps-=1\n",
        "\n",
        "    return beta , beta_hist\n"
      ]
    },
    {
      "cell_type": "markdown",
      "id": "1c89eb08",
      "metadata": {
        "id": "1c89eb08"
      },
      "source": [
        "Execute the algorithm on the data, and display how the error and the maximum of the absolute values of the gradients evolve over time."
      ]
    },
    {
      "cell_type": "code",
      "execution_count": 20,
      "id": "a300cbe6",
      "metadata": {
        "id": "a300cbe6"
      },
      "outputs": [],
      "source": [
        "beta , beta_hist = linear_regression_gradient_descent(X,Y,1000,learning_rate = .01)\n",
        "\n",
        "Ev = [squared_error(e,X,Y) for e in beta_hist]"
      ]
    },
    {
      "cell_type": "code",
      "execution_count": 23,
      "id": "beb3f66b",
      "metadata": {
        "id": "beb3f66b"
      },
      "outputs": [],
      "source": [
        "max_gd = [np.max(abs(gradient_squared_error(e,X,Y))) for e in beta_hist]\n",
        "epochs = np.arange(len(beta_hist))"
      ]
    },
    {
      "cell_type": "code",
      "source": [
        "plt.plot(epochs , Ev , label = \"Error\")\n",
        "plt.plot(epochs,max_gd ,label= \"$ max abs grad $\")\n",
        "plt.title(\"Error and Gradient over time (with log scale on x)\")\n",
        "plt.legend()\n",
        "plt.grid()\n",
        "plt.xlabel('epoch')\n",
        "plt.xscale('log')\n",
        "plt.show()\n"
      ],
      "metadata": {
        "colab": {
          "base_uri": "https://localhost:8080/",
          "height": 476
        },
        "id": "b0dd1MXO3A3U",
        "outputId": "4a161ac5-b62e-458c-bd64-36fdecf7cc63"
      },
      "id": "b0dd1MXO3A3U",
      "execution_count": 28,
      "outputs": [
        {
          "output_type": "display_data",
          "data": {
            "text/plain": [
              "<Figure size 640x480 with 1 Axes>"
            ],
            "image/png": "[encoded data removed]"
          },
          "metadata": {}
        }
      ]
    },
    {
      "cell_type": "code",
      "source": [
        "plt.plot(epochs , Ev , label = \"Error\")\n",
        "plt.plot(epochs,max_gd ,label= \"$ max abs grad $\")\n",
        "plt.title(\"Error and Gradient over time (without log scale on x) \")\n",
        "plt.legend()\n",
        "plt.grid()\n",
        "plt.xlabel('epoch')\n",
        "plt.show()\n"
      ],
      "metadata": {
        "id": "kBsQ7GIf5zRd",
        "outputId": "6a7e9f74-fafb-4e48-c6df-3a23addf8f49",
        "colab": {
          "base_uri": "https://localhost:8080/",
          "height": 472
        }
      },
      "id": "kBsQ7GIf5zRd",
      "execution_count": 27,
      "outputs": [
        {
          "output_type": "display_data",
          "data": {
            "text/plain": [
              "<Figure size 640x480 with 1 Axes>"
            ],
            "image/png": "[encoded data removed]"
          },
          "metadata": {}
        }
      ]
    },
    {
      "cell_type": "code",
      "execution_count": 31,
      "id": "73ba32ba",
      "metadata": {
        "id": "73ba32ba",
        "outputId": "064bf9a3-faec-4e93-84fc-2ca08412997f",
        "colab": {
          "base_uri": "https://localhost:8080/"
        }
      },
      "outputs": [
        {
          "output_type": "stream",
          "name": "stdout",
          "text": [
            "1.912196168974562\n",
            "[[ 3.15140148]\n",
            " [ 2.48388062]\n",
            " [14.97848259]\n",
            " [ 0.07580259]\n",
            " [ 3.84551953]]\n"
          ]
        }
      ],
      "source": [
        "print(Ev[-1]) # Last error\n",
        "print(beta)"
      ]
    },
    {
      "cell_type": "markdown",
      "id": "e49f6286",
      "metadata": {
        "id": "e49f6286"
      },
      "source": [
        "## 1.4. Stochastic gradient descent"
      ]
    },
    {
      "cell_type": "markdown",
      "id": "99b0e043",
      "metadata": {
        "id": "99b0e043"
      },
      "source": [
        "We want to implement stochastic gradient descent: we will take the version that shuffles the data and uses the $i$-th example (after shuffling) at the $i$-th iteration. Look at the documentation of [`np.random.shuffle`](https://numpy.org/doc/stable/reference/random/generated/numpy.random.shuffle.html), then shuffle the data. ***WARNING:*** you should **never** shuffle $X$ and then shuffle $Y$. Why not?\n",
        "\n",
        "*Answer:* ils sont liés entre eux et les valeurs attendues $Y$ ne seraient plus celles attendus  à partir de $X$"
      ]
    },
    {
      "cell_type": "code",
      "execution_count": 32,
      "id": "527357a1",
      "metadata": {
        "id": "527357a1"
      },
      "outputs": [],
      "source": [
        "# Shuffle\n",
        "xc , yc = X.copy() , Y.copy()\n",
        "np.random.shuffle(xc)\n",
        "np.random.shuffle(yc)\n"
      ]
    },
    {
      "cell_type": "code",
      "execution_count": 33,
      "id": "e991a465",
      "metadata": {
        "collapsed": true,
        "id": "e991a465",
        "outputId": "312b0dd7-fa1e-4349-d1e7-b08d019c9af1",
        "colab": {
          "base_uri": "https://localhost:8080/"
        }
      },
      "outputs": [
        {
          "output_type": "stream",
          "name": "stdout",
          "text": [
            "(811626, 5)\n",
            "(811626, 1)\n",
            "(811626, 5)\n",
            "(811626, 1)\n"
          ]
        }
      ],
      "source": [
        "print(xc.shape)\n",
        "print(yc.shape)\n",
        "print(X.shape)\n",
        "print(Y.shape)"
      ]
    },
    {
      "cell_type": "code",
      "execution_count": 34,
      "id": "d2b463ee",
      "metadata": {
        "id": "d2b463ee"
      },
      "outputs": [],
      "source": [
        "def squared_error_stoch(Beta, X, Y, i):\n",
        "\t\"\"\"Returns the square error of Beta computed on the $i$-th training example (X, Y).\"\"\"\n",
        "\treturn ((X[i].T).dot(Beta) - Y[i])**2"
      ]
    },
    {
      "cell_type": "code",
      "execution_count": 35,
      "id": "2e540697",
      "metadata": {
        "id": "2e540697",
        "outputId": "879e03de-959c-4d5b-e5df-9eb19f7ec2dc",
        "colab": {
          "base_uri": "https://localhost:8080/"
        }
      },
      "outputs": [
        {
          "output_type": "stream",
          "name": "stdout",
          "text": [
            "[60.60438652]\n"
          ]
        }
      ],
      "source": [
        "Beta = np.zeros((p+1, 1))\n",
        "print(squared_error_stoch(Beta, X, Y, 0))"
      ]
    },
    {
      "cell_type": "code",
      "execution_count": 71,
      "id": "f79ce0a2",
      "metadata": {
        "id": "f79ce0a2"
      },
      "outputs": [],
      "source": [
        "def gradient_square_error_stoch(Beta, X, Y, i):\n",
        "    \"\"\"Returns the gradient of the square error on $i$-th training example of (X, Y). The result is a matrix with the same dimension as Beta.\"\"\"\n",
        "    X[i] = X[i].reshape(-1,1) # reformer X[i] en matrice\n",
        "    Beta = Beta.reshape(-1,1) # reformer β en matrice\n",
        "    Y[i] = Y[i].reshape(-1,1) # reformer Y[i] en matrice\n",
        "    return 2 * X[i]@( ((X[i].T)@(Beta) - Y[i]))"
      ]
    },
    {
      "cell_type": "code",
      "execution_count": 72,
      "id": "b6a2c054",
      "metadata": {
        "collapsed": true,
        "id": "b6a2c054",
        "outputId": "571f6a2c-9b4d-4f5b-9125-e8f52fa6b726",
        "colab": {
          "base_uri": "https://localhost:8080/"
        }
      },
      "outputs": [
        {
          "output_type": "stream",
          "name": "stdout",
          "text": [
            "[[-62.27905537]\n",
            " [ 15.56976384]\n",
            " [  0.        ]\n",
            " [ 84.07672475]\n",
            " [ 15.56976384]]\n"
          ]
        }
      ],
      "source": [
        "print(gradient_square_error_stoch(Beta, X, Y, 0))"
      ]
    },
    {
      "cell_type": "markdown",
      "id": "13b1faf4",
      "metadata": {
        "id": "13b1faf4"
      },
      "source": [
        "Implement the functions `one_step_linear_regression_gradient_descent_stoch` and `linear_regression_gradient_descent_stoch`."
      ]
    },
    {
      "cell_type": "code",
      "execution_count": 73,
      "id": "c22d53fe",
      "metadata": {
        "id": "c22d53fe"
      },
      "outputs": [],
      "source": [
        "def one_step_linear_regression_stoch(Beta, X, Y, i, learning_rate):\n",
        "    \"\"\"One step of the stochastic gradient descent for the multiple linear regression. Takes the parameters, the training examples, the current number of steps and the learning rate, and returns the new values for the parameters.\"\"\"\n",
        "    return Beta - learning_rate*gradient_square_error_stoch(Beta,X,Y,i)"
      ]
    },
    {
      "cell_type": "code",
      "execution_count": 74,
      "id": "65dbdc7a",
      "metadata": {
        "id": "65dbdc7a"
      },
      "outputs": [],
      "source": [
        "def linear_regression_gradient_descent_stoch(X, Y, nb_steps, learning_rate = .01):\n",
        "    \"\"\"Stochastic gradient descent algorithm to compute a linear regression.\n",
        "    Takes the training examples and the learning rate (0.01 by default) and returns (Beta, Beta_hist) where Beta_hist is the history of all values taken by Beta.\n",
        "    Halting condition: when the number of steps is reached.\"\"\"\n",
        "    X = np.array([ e.reshape(-1,1) for e in X])\n",
        "    Y = np.array([ e.reshape(-1,1) for e in Y])\n",
        "    beta = np.zeros(X[0].shape)\n",
        "    beta_hist = [beta]\n",
        "\n",
        "    while nb_steps>0:\n",
        "        for i in range(X.shape[0]):\n",
        "            beta = one_step_linear_regression_stoch(beta,X,Y,i,learning_rate)\n",
        "            beta_hist.append(beta)\n",
        "        nb_steps-=1\n",
        "\n",
        "    return beta , beta_hist"
      ]
    },
    {
      "cell_type": "markdown",
      "id": "178e4b62",
      "metadata": {
        "id": "178e4b62"
      },
      "source": [
        "Execute the algorithm on the data and display how the error and the maximum of the absolute values of the gradients evolve over time. What do you observe?"
      ]
    },
    {
      "cell_type": "code",
      "execution_count": 75,
      "id": "e3dc4a14",
      "metadata": {
        "id": "e3dc4a14",
        "outputId": "0db3dc6f-72b0-45d4-876e-d9b6610d9b2a",
        "colab": {
          "base_uri": "https://localhost:8080/",
          "height": 321
        }
      },
      "outputs": [
        {
          "output_type": "error",
          "ename": "KeyboardInterrupt",
          "evalue": "",
          "traceback": [
            "\u001b[0;31m---------------------------------------------------------------------------\u001b[0m",
            "\u001b[0;31mKeyboardInterrupt\u001b[0m                         Traceback (most recent call last)",
            "\u001b[0;32m<ipython-input-75-4b3e7167b2e7>\u001b[0m in \u001b[0;36m<cell line: 0>\u001b[0;34m()\u001b[0m\n\u001b[0;32m----> 1\u001b[0;31m \u001b[0mBeta\u001b[0m\u001b[0;34m,\u001b[0m \u001b[0mBeta_hist\u001b[0m \u001b[0;34m=\u001b[0m \u001b[0mlinear_regression_gradient_descent_stoch\u001b[0m\u001b[0;34m(\u001b[0m\u001b[0mX\u001b[0m\u001b[0;34m,\u001b[0m \u001b[0mY\u001b[0m\u001b[0;34m,\u001b[0m \u001b[0;36m800000\u001b[0m\u001b[0;34m,\u001b[0m \u001b[0mlearning_rate\u001b[0m\u001b[0;34m=\u001b[0m\u001b[0;36m10\u001b[0m\u001b[0;34m**\u001b[0m\u001b[0;34m-\u001b[0m\u001b[0;36m2\u001b[0m\u001b[0;34m)\u001b[0m\u001b[0;34m\u001b[0m\u001b[0;34m\u001b[0m\u001b[0m\n\u001b[0m\u001b[1;32m      2\u001b[0m \u001b[0mprint\u001b[0m\u001b[0;34m(\u001b[0m\u001b[0mBeta\u001b[0m\u001b[0;34m)\u001b[0m\u001b[0;34m\u001b[0m\u001b[0;34m\u001b[0m\u001b[0m\n",
            "\u001b[0;32m<ipython-input-74-472848a3661e>\u001b[0m in \u001b[0;36mlinear_regression_gradient_descent_stoch\u001b[0;34m(X, Y, nb_steps, learning_rate)\u001b[0m\n\u001b[1;32m     10\u001b[0m     \u001b[0;32mwhile\u001b[0m \u001b[0mnb_steps\u001b[0m\u001b[0;34m>\u001b[0m\u001b[0;36m0\u001b[0m\u001b[0;34m:\u001b[0m\u001b[0;34m\u001b[0m\u001b[0;34m\u001b[0m\u001b[0m\n\u001b[1;32m     11\u001b[0m         \u001b[0;32mfor\u001b[0m \u001b[0mi\u001b[0m \u001b[0;32min\u001b[0m \u001b[0mrange\u001b[0m\u001b[0;34m(\u001b[0m\u001b[0mX\u001b[0m\u001b[0;34m.\u001b[0m\u001b[0mshape\u001b[0m\u001b[0;34m[\u001b[0m\u001b[0;36m0\u001b[0m\u001b[0;34m]\u001b[0m\u001b[0;34m)\u001b[0m\u001b[0;34m:\u001b[0m\u001b[0;34m\u001b[0m\u001b[0;34m\u001b[0m\u001b[0m\n\u001b[0;32m---> 12\u001b[0;31m             \u001b[0mbeta\u001b[0m \u001b[0;34m=\u001b[0m \u001b[0mone_step_linear_regression_stoch\u001b[0m\u001b[0;34m(\u001b[0m\u001b[0mbeta\u001b[0m\u001b[0;34m,\u001b[0m\u001b[0mX\u001b[0m\u001b[0;34m,\u001b[0m\u001b[0mY\u001b[0m\u001b[0;34m,\u001b[0m\u001b[0mi\u001b[0m\u001b[0;34m,\u001b[0m\u001b[0mlearning_rate\u001b[0m\u001b[0;34m)\u001b[0m\u001b[0;34m\u001b[0m\u001b[0;34m\u001b[0m\u001b[0m\n\u001b[0m\u001b[1;32m     13\u001b[0m             \u001b[0mbeta_hist\u001b[0m\u001b[0;34m.\u001b[0m\u001b[0mappend\u001b[0m\u001b[0;34m(\u001b[0m\u001b[0mbeta\u001b[0m\u001b[0;34m)\u001b[0m\u001b[0;34m\u001b[0m\u001b[0;34m\u001b[0m\u001b[0m\n\u001b[1;32m     14\u001b[0m         \u001b[0mnb_steps\u001b[0m\u001b[0;34m-=\u001b[0m\u001b[0;36m1\u001b[0m\u001b[0;34m\u001b[0m\u001b[0;34m\u001b[0m\u001b[0m\n",
            "\u001b[0;32m<ipython-input-73-7d511b5994e4>\u001b[0m in \u001b[0;36mone_step_linear_regression_stoch\u001b[0;34m(Beta, X, Y, i, learning_rate)\u001b[0m\n\u001b[1;32m      1\u001b[0m \u001b[0;32mdef\u001b[0m \u001b[0mone_step_linear_regression_stoch\u001b[0m\u001b[0;34m(\u001b[0m\u001b[0mBeta\u001b[0m\u001b[0;34m,\u001b[0m \u001b[0mX\u001b[0m\u001b[0;34m,\u001b[0m \u001b[0mY\u001b[0m\u001b[0;34m,\u001b[0m \u001b[0mi\u001b[0m\u001b[0;34m,\u001b[0m \u001b[0mlearning_rate\u001b[0m\u001b[0;34m)\u001b[0m\u001b[0;34m:\u001b[0m\u001b[0;34m\u001b[0m\u001b[0;34m\u001b[0m\u001b[0m\n\u001b[1;32m      2\u001b[0m     \u001b[0;34m\"\"\"One step of the stochastic gradient descent for the multiple linear regression. Takes the parameters, the training examples, the current number of steps and the learning rate, and returns the new values for the parameters.\"\"\"\u001b[0m\u001b[0;34m\u001b[0m\u001b[0;34m\u001b[0m\u001b[0m\n\u001b[0;32m----> 3\u001b[0;31m     \u001b[0;32mreturn\u001b[0m \u001b[0mBeta\u001b[0m \u001b[0;34m-\u001b[0m \u001b[0mlearning_rate\u001b[0m\u001b[0;34m*\u001b[0m\u001b[0mgradient_square_error_stoch\u001b[0m\u001b[0;34m(\u001b[0m\u001b[0mBeta\u001b[0m\u001b[0;34m,\u001b[0m\u001b[0mX\u001b[0m\u001b[0;34m,\u001b[0m\u001b[0mY\u001b[0m\u001b[0;34m,\u001b[0m\u001b[0mi\u001b[0m\u001b[0;34m)\u001b[0m\u001b[0;34m\u001b[0m\u001b[0;34m\u001b[0m\u001b[0m\n\u001b[0m",
            "\u001b[0;32m<ipython-input-71-bf9bae5b2a22>\u001b[0m in \u001b[0;36mgradient_square_error_stoch\u001b[0;34m(Beta, X, Y, i)\u001b[0m\n\u001b[1;32m      3\u001b[0m     \u001b[0mX\u001b[0m \u001b[0;34m=\u001b[0m \u001b[0mnp\u001b[0m\u001b[0;34m.\u001b[0m\u001b[0marray\u001b[0m\u001b[0;34m(\u001b[0m\u001b[0;34m[\u001b[0m \u001b[0me\u001b[0m\u001b[0;34m.\u001b[0m\u001b[0mreshape\u001b[0m\u001b[0;34m(\u001b[0m\u001b[0;34m-\u001b[0m\u001b[0;36m1\u001b[0m\u001b[0;34m,\u001b[0m\u001b[0;36m1\u001b[0m\u001b[0;34m)\u001b[0m \u001b[0;32mfor\u001b[0m \u001b[0me\u001b[0m \u001b[0;32min\u001b[0m \u001b[0mX\u001b[0m\u001b[0;34m]\u001b[0m\u001b[0;34m)\u001b[0m \u001b[0;31m# redimensionement des  éléments  de  X en matrice\u001b[0m\u001b[0;34m\u001b[0m\u001b[0;34m\u001b[0m\u001b[0m\n\u001b[1;32m      4\u001b[0m     \u001b[0mBeta\u001b[0m \u001b[0;34m=\u001b[0m \u001b[0mBeta\u001b[0m\u001b[0;34m.\u001b[0m\u001b[0mreshape\u001b[0m\u001b[0;34m(\u001b[0m\u001b[0mX\u001b[0m\u001b[0;34m[\u001b[0m\u001b[0;36m0\u001b[0m\u001b[0;34m]\u001b[0m\u001b[0;34m.\u001b[0m\u001b[0mshape\u001b[0m\u001b[0;34m)\u001b[0m \u001b[0;31m#reformer β en matrice comme les  échantillons dans  X\u001b[0m\u001b[0;34m\u001b[0m\u001b[0;34m\u001b[0m\u001b[0m\n\u001b[0;32m----> 5\u001b[0;31m     \u001b[0mY\u001b[0m \u001b[0;34m=\u001b[0m \u001b[0mnp\u001b[0m\u001b[0;34m.\u001b[0m\u001b[0marray\u001b[0m\u001b[0;34m(\u001b[0m\u001b[0;34m[\u001b[0m \u001b[0me\u001b[0m\u001b[0;34m.\u001b[0m\u001b[0mreshape\u001b[0m\u001b[0;34m(\u001b[0m\u001b[0;34m-\u001b[0m\u001b[0;36m1\u001b[0m\u001b[0;34m,\u001b[0m\u001b[0;36m1\u001b[0m\u001b[0;34m)\u001b[0m \u001b[0;32mfor\u001b[0m \u001b[0me\u001b[0m \u001b[0;32min\u001b[0m \u001b[0mY\u001b[0m\u001b[0;34m]\u001b[0m\u001b[0;34m)\u001b[0m \u001b[0;31m# redimensionement des  éléments  de  Y en matrice\u001b[0m\u001b[0;34m\u001b[0m\u001b[0;34m\u001b[0m\u001b[0m\n\u001b[0m\u001b[1;32m      6\u001b[0m     \u001b[0;32mreturn\u001b[0m \u001b[0;36m2\u001b[0m \u001b[0;34m*\u001b[0m \u001b[0mX\u001b[0m\u001b[0;34m[\u001b[0m\u001b[0mi\u001b[0m\u001b[0;34m]\u001b[0m \u001b[0;34m.\u001b[0m\u001b[0mdot\u001b[0m\u001b[0;34m(\u001b[0m \u001b[0;34m(\u001b[0m\u001b[0;34m(\u001b[0m\u001b[0mX\u001b[0m\u001b[0;34m[\u001b[0m\u001b[0mi\u001b[0m\u001b[0;34m]\u001b[0m\u001b[0;34m.\u001b[0m\u001b[0mT\u001b[0m\u001b[0;34m)\u001b[0m\u001b[0;34m@\u001b[0m\u001b[0;34m(\u001b[0m\u001b[0mBeta\u001b[0m\u001b[0;34m)\u001b[0m \u001b[0;34m-\u001b[0m \u001b[0mY\u001b[0m\u001b[0;34m[\u001b[0m\u001b[0mi\u001b[0m\u001b[0;34m]\u001b[0m\u001b[0;34m)\u001b[0m\u001b[0;34m)\u001b[0m\u001b[0;34m\u001b[0m\u001b[0;34m\u001b[0m\u001b[0m\n",
            "\u001b[0;32m<ipython-input-71-bf9bae5b2a22>\u001b[0m in \u001b[0;36m<listcomp>\u001b[0;34m(.0)\u001b[0m\n\u001b[1;32m      3\u001b[0m     \u001b[0mX\u001b[0m \u001b[0;34m=\u001b[0m \u001b[0mnp\u001b[0m\u001b[0;34m.\u001b[0m\u001b[0marray\u001b[0m\u001b[0;34m(\u001b[0m\u001b[0;34m[\u001b[0m \u001b[0me\u001b[0m\u001b[0;34m.\u001b[0m\u001b[0mreshape\u001b[0m\u001b[0;34m(\u001b[0m\u001b[0;34m-\u001b[0m\u001b[0;36m1\u001b[0m\u001b[0;34m,\u001b[0m\u001b[0;36m1\u001b[0m\u001b[0;34m)\u001b[0m \u001b[0;32mfor\u001b[0m \u001b[0me\u001b[0m \u001b[0;32min\u001b[0m \u001b[0mX\u001b[0m\u001b[0;34m]\u001b[0m\u001b[0;34m)\u001b[0m \u001b[0;31m# redimensionement des  éléments  de  X en matrice\u001b[0m\u001b[0;34m\u001b[0m\u001b[0;34m\u001b[0m\u001b[0m\n\u001b[1;32m      4\u001b[0m     \u001b[0mBeta\u001b[0m \u001b[0;34m=\u001b[0m \u001b[0mBeta\u001b[0m\u001b[0;34m.\u001b[0m\u001b[0mreshape\u001b[0m\u001b[0;34m(\u001b[0m\u001b[0mX\u001b[0m\u001b[0;34m[\u001b[0m\u001b[0;36m0\u001b[0m\u001b[0;34m]\u001b[0m\u001b[0;34m.\u001b[0m\u001b[0mshape\u001b[0m\u001b[0;34m)\u001b[0m \u001b[0;31m#reformer β en matrice comme les  échantillons dans  X\u001b[0m\u001b[0;34m\u001b[0m\u001b[0;34m\u001b[0m\u001b[0m\n\u001b[0;32m----> 5\u001b[0;31m     \u001b[0mY\u001b[0m \u001b[0;34m=\u001b[0m \u001b[0mnp\u001b[0m\u001b[0;34m.\u001b[0m\u001b[0marray\u001b[0m\u001b[0;34m(\u001b[0m\u001b[0;34m[\u001b[0m \u001b[0me\u001b[0m\u001b[0;34m.\u001b[0m\u001b[0mreshape\u001b[0m\u001b[0;34m(\u001b[0m\u001b[0;34m-\u001b[0m\u001b[0;36m1\u001b[0m\u001b[0;34m,\u001b[0m\u001b[0;36m1\u001b[0m\u001b[0;34m)\u001b[0m \u001b[0;32mfor\u001b[0m \u001b[0me\u001b[0m \u001b[0;32min\u001b[0m \u001b[0mY\u001b[0m\u001b[0;34m]\u001b[0m\u001b[0;34m)\u001b[0m \u001b[0;31m# redimensionement des  éléments  de  Y en matrice\u001b[0m\u001b[0;34m\u001b[0m\u001b[0;34m\u001b[0m\u001b[0m\n\u001b[0m\u001b[1;32m      6\u001b[0m     \u001b[0;32mreturn\u001b[0m \u001b[0;36m2\u001b[0m \u001b[0;34m*\u001b[0m \u001b[0mX\u001b[0m\u001b[0;34m[\u001b[0m\u001b[0mi\u001b[0m\u001b[0;34m]\u001b[0m \u001b[0;34m.\u001b[0m\u001b[0mdot\u001b[0m\u001b[0;34m(\u001b[0m \u001b[0;34m(\u001b[0m\u001b[0;34m(\u001b[0m\u001b[0mX\u001b[0m\u001b[0;34m[\u001b[0m\u001b[0mi\u001b[0m\u001b[0;34m]\u001b[0m\u001b[0;34m.\u001b[0m\u001b[0mT\u001b[0m\u001b[0;34m)\u001b[0m\u001b[0;34m@\u001b[0m\u001b[0;34m(\u001b[0m\u001b[0mBeta\u001b[0m\u001b[0;34m)\u001b[0m \u001b[0;34m-\u001b[0m \u001b[0mY\u001b[0m\u001b[0;34m[\u001b[0m\u001b[0mi\u001b[0m\u001b[0;34m]\u001b[0m\u001b[0;34m)\u001b[0m\u001b[0;34m)\u001b[0m\u001b[0;34m\u001b[0m\u001b[0;34m\u001b[0m\u001b[0m\n",
            "\u001b[0;31mKeyboardInterrupt\u001b[0m: "
          ]
        }
      ],
      "source": [
        "Beta, Beta_hist = linear_regression_gradient_descent_stoch(X, Y, 800000, learning_rate=10**-2)\n",
        "print(Beta)"
      ]
    },
    {
      "cell_type": "code",
      "execution_count": null,
      "id": "e1c1c6cb",
      "metadata": {
        "id": "e1c1c6cb"
      },
      "outputs": [],
      "source": [
        "pass"
      ]
    },
    {
      "cell_type": "code",
      "execution_count": null,
      "id": "8cfa8391",
      "metadata": {
        "id": "8cfa8391"
      },
      "outputs": [],
      "source": [
        "pass"
      ]
    },
    {
      "cell_type": "markdown",
      "id": "043fe5d5",
      "metadata": {
        "id": "043fe5d5"
      },
      "source": [
        "*Decreasing learning rate:* Instead of multiplying the gradient by the learning rate $\\alpha$, multiply it by $\\frac{\\alpha}{t+1}$ where $t$ is the iteration number. The $+1$ is simply to avoid dividing by 0 at the first step."
      ]
    },
    {
      "cell_type": "code",
      "execution_count": 76,
      "id": "9a9b64fb",
      "metadata": {
        "id": "9a9b64fb"
      },
      "outputs": [],
      "source": [
        "def linear_regression_gradient_descent_stoch_descreasing_rate(X, Y, nb_steps, learning_rate = .01):\n",
        "    \"\"\"Multiple batch gradient descent algorithm to compute a linear regression.\n",
        "    Takes the training examples and the learning rate (0.01 by default) and returns (Beta, Beta_hist) where Beta_hist is the historic of all values taken by Beta.\n",
        "    Halting condition: when the number of steps is reached.\"\"\"\n",
        "    return linear_regression_gradient_descent_stoch(X, Y, nb_steps, learning_rate/(nb_steps+1))"
      ]
    },
    {
      "cell_type": "code",
      "execution_count": null,
      "id": "8e6f3242",
      "metadata": {
        "id": "8e6f3242"
      },
      "outputs": [],
      "source": [
        "pass"
      ]
    },
    {
      "cell_type": "markdown",
      "id": "c115c5b3",
      "metadata": {
        "id": "c115c5b3"
      },
      "source": [
        "Plot the error. Is the error now (empirically) converging?"
      ]
    },
    {
      "cell_type": "code",
      "execution_count": null,
      "id": "1d478de9",
      "metadata": {
        "id": "1d478de9"
      },
      "outputs": [],
      "source": [
        "pass"
      ]
    },
    {
      "cell_type": "markdown",
      "id": "a9a55752",
      "metadata": {
        "id": "a9a55752"
      },
      "source": [
        "## 1.5. Closed-form solution"
      ]
    },
    {
      "cell_type": "markdown",
      "id": "6bca5ac2",
      "metadata": {
        "id": "6bca5ac2"
      },
      "source": [
        "Implement the exact method (closed-form solution) to find $\\beta$. What is the error value you find?"
      ]
    },
    {
      "cell_type": "code",
      "execution_count": 86,
      "id": "225ce343",
      "metadata": {
        "id": "225ce343"
      },
      "outputs": [],
      "source": [
        "def exact_method(X, Y):\n",
        "    \"\"\"Exact method to find the parameters of a linear regression.\"\"\"\n",
        "    pass"
      ]
    },
    {
      "cell_type": "code",
      "execution_count": 87,
      "id": "42f74404",
      "metadata": {
        "id": "42f74404",
        "outputId": "01ee4c81-32dd-476f-ce73-6b3349522c08",
        "colab": {
          "base_uri": "https://localhost:8080/"
        }
      },
      "outputs": [
        {
          "output_type": "stream",
          "name": "stdout",
          "text": [
            "None\n"
          ]
        }
      ],
      "source": [
        "Beta_opt = exact_method(X, Y)\n",
        "print(Beta_opt)"
      ]
    },
    {
      "cell_type": "code",
      "execution_count": null,
      "id": "ad4aa270",
      "metadata": {
        "id": "ad4aa270"
      },
      "outputs": [],
      "source": [
        "print(squared_error(Beta_opt, X, Y))\n",
        "print(gradient_squared_error(Beta_opt, X, Y))"
      ]
    },
    {
      "cell_type": "markdown",
      "id": "237997ce",
      "metadata": {
        "id": "237997ce"
      },
      "source": [
        "We see that the values for the gradient are negligible (very close to $0$): this shows that we have found a point where the gradient vanishes."
      ]
    },
    {
      "cell_type": "markdown",
      "id": "41315dba",
      "metadata": {
        "id": "41315dba"
      },
      "source": [
        "# 2. Logistic regression"
      ]
    },
    {
      "cell_type": "code",
      "execution_count": 77,
      "id": "2e09f3b0",
      "metadata": {
        "id": "2e09f3b0"
      },
      "outputs": [],
      "source": [
        "# %matplotlib widget\n",
        "\n",
        "import numpy as np\n",
        "import matplotlib.pyplot as plt\n",
        "from mpl_toolkits.mplot3d import axes3d"
      ]
    },
    {
      "cell_type": "markdown",
      "id": "4cb6925a",
      "metadata": {
        "id": "4cb6925a"
      },
      "source": [
        "## 2.1 Newton's method"
      ]
    },
    {
      "cell_type": "markdown",
      "id": "e432b9ac",
      "metadata": {
        "id": "e432b9ac"
      },
      "source": [
        "Consider the function $$f(x) = x^4 + 3x^3 - 6x^2 + 4x + 12.$$\n",
        "\n",
        "Using the (one-dimensional) Newton's method, compute\n",
        "* its roots,\n",
        "* its global minimum.\n",
        "\n",
        "Use the same method <code>newton_1d</code> (with different arguments) for both tasks.\n",
        "Use the graph of $f$ to guide you."
      ]
    },
    {
      "cell_type": "code",
      "execution_count": 78,
      "id": "4636b555",
      "metadata": {
        "id": "4636b555"
      },
      "outputs": [],
      "source": [
        "def f(x):\n",
        "    return x**4 + 3 * x**3 - 6 * x**2 + 4 * x + 12\n",
        "\n",
        "def df(x):\n",
        "    \"\"\"Computes the derivative of f at point x.\"\"\"\n",
        "    return 4 * x**3 + 9 * x**2 - 12 * x + 4\n",
        "\n",
        "def ddf(x):\n",
        "    \"\"\"Computes the second derivative of f at point x.\"\"\"\n",
        "    return 12 * x**2 + 18 * x - 12"
      ]
    },
    {
      "cell_type": "code",
      "execution_count": 79,
      "id": "68483e85",
      "metadata": {
        "id": "68483e85",
        "outputId": "589edfee-26bf-4a7a-e0b8-a37a46e6c74e",
        "colab": {
          "base_uri": "https://localhost:8080/",
          "height": 430
        }
      },
      "outputs": [
        {
          "output_type": "display_data",
          "data": {
            "text/plain": [
              "<Figure size 640x480 with 1 Axes>"
            ],
            "image/png": "[encoded data removed]"
          },
          "metadata": {}
        }
      ],
      "source": [
        "# Graph of f from -5 to 5\n",
        "plt.figure()\n",
        "values = np.linspace(-5, 5, 10000)\n",
        "plt.plot(values, [f(x) for x in values], \"-\")\n",
        "plt.grid()\n",
        "plt.show()"
      ]
    },
    {
      "cell_type": "code",
      "execution_count": 80,
      "id": "d46082bf",
      "metadata": {
        "id": "d46082bf"
      },
      "outputs": [],
      "source": [
        "def newton_1d(f, df, x0, max_iter=1000, epsilon=1e-10):\n",
        "    \"\"\"Finds a root of f given its derivative df and an initial guess x0.\n",
        "       Assumes that a value x is a root if abs(f(x)) < epsilon.\n",
        "       Raises an exception if no such value is found within max_iter iterations.\"\"\"\n",
        "    x = x0\n",
        "    for i in range(max_iter):\n",
        "        x-= f(x) / df(x)\n",
        "        if abs(f(x)) < epsilon:\n",
        "            return x\n",
        "    return x"
      ]
    },
    {
      "cell_type": "code",
      "execution_count": 84,
      "id": "671cc358",
      "metadata": {
        "id": "671cc358",
        "outputId": "e1a26174-3101-45c7-9eaf-eb8c7faa87b0",
        "colab": {
          "base_uri": "https://localhost:8080/"
        }
      },
      "outputs": [
        {
          "output_type": "stream",
          "name": "stdout",
          "text": [
            "global_min = -3.2632396807558406\n",
            "root1 = -1.000000000001768\n",
            "root2 = -4.4224854059283265\n"
          ]
        }
      ],
      "source": [
        "from logging import root\n",
        "# Find the two roots and the global minimum using newton_1d.\n",
        "\n",
        "global_min = newton_1d(df, ddf, 0)\n",
        "root1 = newton_1d(f, df, 0)\n",
        "root2 = newton_1d(f, df, -4)\n",
        "print(f\"global_min = {global_min}\")\n",
        "print(f\"root1 = {root1}\")\n",
        "print(f\"root2 = {root2}\")"
      ]
    },
    {
      "cell_type": "markdown",
      "id": "c678faa1",
      "metadata": {
        "id": "c678faa1"
      },
      "source": [
        "In this section, we want to predict [the quality of apples](https://www.kaggle.com/datasets/nelgiriyewithana/apple-quality/data) using logistic regression based on two predictors: their size and their sweetness. Both features are real numbers (already normalized) and the quality is an integer in $\\{0, 1\\}$: $1$ for good apples and $0$ for bad apples.\n",
        "The dataset `lab3_apples.npy` is available in the file `lab3.zip` on Moodle and contains $1000$ training data points."
      ]
    },
    {
      "cell_type": "code",
      "execution_count": 89,
      "id": "26b8cda0",
      "metadata": {
        "id": "26b8cda0",
        "outputId": "a137b111-3765-4ce7-dabd-ce9a3981b36e",
        "colab": {
          "base_uri": "https://localhost:8080/"
        }
      },
      "outputs": [
        {
          "output_type": "stream",
          "name": "stdout",
          "text": [
            "(1000, 3)\n",
            "[[ 3.2992967  -4.91897402  0.        ]\n",
            " [ 2.5391104  -0.46449015  1.        ]\n",
            " [-0.42264019  0.40608949  0.        ]\n",
            " ...\n",
            " [ 0.20454261 -1.85574585  1.        ]\n",
            " [ 2.35504706 -4.04686924  0.        ]\n",
            " [-2.48678751  1.37740695  0.        ]]\n"
          ]
        }
      ],
      "source": [
        "# 1000 data points, three predictors : size, sweetness, and quality\n",
        "apple_quality = np.load(\"lab3-apples.npy\")\n",
        "print(np.shape(apple_quality))\n",
        "print(apple_quality)\n",
        "\n",
        "size = apple_quality[:,0]\n",
        "sweetness = apple_quality[:,1]\n",
        "quality = apple_quality[:,2]"
      ]
    },
    {
      "cell_type": "markdown",
      "id": "a04ba1b7",
      "metadata": {
        "id": "a04ba1b7"
      },
      "source": [
        "Make a 2D graph (one dimension per predictor) to display all the data points; use different symbols to distinguish good and bad apples."
      ]
    },
    {
      "cell_type": "code",
      "execution_count": 93,
      "id": "b7abcda4",
      "metadata": {
        "id": "b7abcda4",
        "outputId": "238b31bc-5f39-4cb2-f9cd-5ea6e8d908ba",
        "colab": {
          "base_uri": "https://localhost:8080/",
          "height": 472
        }
      },
      "outputs": [
        {
          "output_type": "display_data",
          "data": {
            "text/plain": [
              "<Figure size 640x480 with 1 Axes>"
            ],
            "image/png": "[encoded data removed]"
          },
          "metadata": {}
        }
      ],
      "source": [
        "# prompt: Make a 2D graph (one dimension per predictor) to display all the data points; use different symbols to distinguish good and bad apples\n",
        "\n",
        "plt.figure()\n",
        "plt.scatter(size[quality == 0], sweetness[quality == 0], marker='o', label='Bad apples')\n",
        "plt.scatter(size[quality == 1], sweetness[quality == 1], marker='x', label='Good apples')\n",
        "plt.xlabel('Size')\n",
        "plt.ylabel('Sweetness')\n",
        "plt.legend()\n",
        "plt.title('Apple Quality based on Size and Sweetness')\n",
        "plt.show()\n"
      ]
    },
    {
      "cell_type": "markdown",
      "id": "d96d3cae",
      "metadata": {
        "id": "d96d3cae"
      },
      "source": [
        "We have seen in class that the log-likelihood for logistic regression is as follows:\n",
        "$$\\ell(\\beta) = \\sum_{i = 1}^m y^{(i)}\\log h_\\beta(x^{(i)}) + (1 - y^{(i)})\\log(1 - h_\\beta(x^{(i)})),$$\n",
        "where $h_\\beta(x^{(i)}) = \\frac{1}{1 + e^{-\\beta^{T}x^{(i)}}}$.\n",
        "\n",
        "We have also seen that the partial derivatives are\n",
        "$$\\frac{\\partial}{\\partial\\beta_j}\\ell(\\beta) = \\sum_{i=1}^m (y^{(i)} - h_\\beta(x^{(i)}))x_j^{(i)}.$$"
      ]
    },
    {
      "cell_type": "markdown",
      "id": "e0bfba47",
      "metadata": {
        "id": "e0bfba47"
      },
      "source": [
        "You can thus compute the entries of the Hessian matrix: for $0 \\le j, k \\le p$, the element at position $(j, k)$ is given by\n",
        "\n",
        "*Answer:* $$\\frac{\\partial^2}{\\partial\\beta_j \\beta_k}\\ell(\\beta) = \\frac{\\partial}{\\partial_{\\beta_j}}\\left( \\sum_{i=1}^m (y^{(i)} - h_\\beta(x^{(i)}))x_k^{(i)} \\right) = -\\sum_{i=1}^m x^{(i)}_k.\\frac{\\partial}{\\partial \\beta_j} \\left( h_\\beta(x^{(i)}) \\right) .$$"
      ]
    },
    {
      "cell_type": "markdown",
      "id": "b36680b3",
      "metadata": {
        "id": "b36680b3"
      },
      "source": [
        "*Remark*: We have declared in class (without a proof) that $\\ell$ is concave, and thus has a single local maximum, which is also global. This can be shown by analyzing the properties of the Hessian matrix: the Hessian matrix is *negative semi-definite* for all $\\beta$, that is, for all $z\\in\\mathbb{R}^{p+1}$, $z^TH(\\beta)z \\le 0$. This can be checked as an exercise. This property is the multi-dimensional generalization of the property \"for $f\\colon \\mathbb{R} \\to \\mathbb{R}$ twice differentiable, $f$ is concave if $f'' < 0$\"."
      ]
    },
    {
      "cell_type": "markdown",
      "id": "51c6957f",
      "metadata": {
        "id": "51c6957f"
      },
      "source": [
        "Implement functions that implement $h_\\beta$, the gradient of $\\ell$, and the Hessian matrix of $\\ell$. Note that the Hessian matrix does not depend on $Y$!"
      ]
    },
    {
      "cell_type": "code",
      "execution_count": null,
      "id": "4c18eaf1",
      "metadata": {
        "id": "4c18eaf1"
      },
      "outputs": [],
      "source": [
        "def h(xi, beta):\n",
        "    return 1/(1+np.exp(-beta.T@xi))\n",
        "\n",
        "def gradient_l(X, Y, beta):\n",
        "    return X.T@(Y-h(X,beta))\n",
        "\n",
        "def hessian_l(X, beta):\n",
        "    pass"
      ]
    },
    {
      "cell_type": "markdown",
      "id": "cd7225a8",
      "metadata": {
        "id": "cd7225a8"
      },
      "source": [
        "Use the Hessian matrix and the (multi-dimensional) Newton's method to find the values $\\beta = (\\beta_0, \\beta_1, \\beta_2)$ that maximize the likelihood."
      ]
    },
    {
      "cell_type": "code",
      "execution_count": null,
      "id": "fe32b709",
      "metadata": {
        "id": "fe32b709"
      },
      "outputs": [],
      "source": [
        "def newton_multidim(f, df, beta_0, max_iter=1000, epsilon=1e-6):\n",
        "    \"\"\"Finds a root of multivariate function f given its gradient df and an initial guess beta_0.\n",
        "       Assumes that a value beta is a root if np.linalg.norm(f(beta)) < epsilon.\n",
        "       Raises an exception if no such value is found within max_iter iterations.\"\"\"\n",
        "    pass"
      ]
    },
    {
      "cell_type": "markdown",
      "id": "1d3bb54f",
      "metadata": {
        "id": "1d3bb54f"
      },
      "source": [
        "Add to your previous graph the *decision boundary* (which is the line such that $\\beta^Tx = 0$ for the vector $\\beta$ to be found, which corresponds to the line of points $x$ giving the value $\\frac{1}{2}$ to the sigmoid function) given by the logistic regression."
      ]
    },
    {
      "cell_type": "code",
      "execution_count": null,
      "id": "c7e8fcb2",
      "metadata": {
        "id": "c7e8fcb2"
      },
      "outputs": [],
      "source": [
        "pass"
      ]
    }
  ],
  "metadata": {
    "kernelspec": {
      "display_name": "Python 3",
      "name": "python3"
    },
    "language_info": {
      "codemirror_mode": {
        "name": "ipython",
        "version": 3
      },
      "file_extension": ".py",
      "mimetype": "text/x-python",
      "name": "python",
      "nbconvert_exporter": "python",
      "pygments_lexer": "ipython3",
      "version": "3.13.2"
    },
    "colab": {
      "provenance": [],
      "toc_visible": true,
      "gpuType": "V28"
    },
    "accelerator": "TPU"
  },
  "nbformat": 4,
  "nbformat_minor": 5
}