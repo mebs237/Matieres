{
 "cells": [
  {
   "attachments": {},
   "cell_type": "markdown",
   "metadata": {
    "id": "dzNng6vCL9eP"
   },
   "source": [
    "# Machine Learning 2024-2025 – UMONS \n",
    "# Exploratory Data Analysis of the Pokémon dataset"
   ]
  },
  {
   "attachments": {},
   "cell_type": "markdown",
   "metadata": {},
   "source": [
    "The goal of the lab is to get more familiar with the `pandas` library in Python, which will allow you to manipulate dataframes, compute the statistics of its variables, and visualize them. Data exploration is an important step before using any of the machine learning models that you will discover throughout the course. It will grant you a deeper understanding of the content of the dataset, which will ease any a posteriori manipulation.   \n",
    "\n",
    "In this lab, we will work with the 'Pokémon' dataset, which contains the attributes of several Pokémons across various generations:\n",
    "- `#`: ID for each Pokémon\n",
    "- `Name`: name of each Pokémon\n",
    "- `Type 1`: each Pokémon has a type; this determines weakness/resistance to attacks\n",
    "- `Type 2`: second type for Pokémons that have two types\n",
    "- `Total`: sum of all stats that come after this; a general guide to how strong a Pokémon is\n",
    "- `HP`: hit points, or health, defines how much damage a Pokémon can withstand before fainting\n",
    "- `Attack`: the base modifier for normal attacks (e.g., Scratch, Punch)\n",
    "- `Defense`: the base damage resistance against normal attacks\n",
    "- `SP Atk`: special attack, the base modifier for special attacks (e.g., Fire Blast, Bubble Beam)\n",
    "- `SP Def`: the base damage resistance against special attacks\n",
    "- `Speed`: a higher value determines which Pokémon attacks first each round"
   ]
  },
  {
   "attachments": {},
   "cell_type": "markdown",
   "metadata": {},
   "source": [
    "**1. Import all necessary libraries.**"
   ]
  },
  {
   "cell_type": "code",
   "execution_count": null,
   "metadata": {
    "editable": true,
    "id": "dU4S-rek_gQe",
    "slideshow": {
     "slide_type": ""
    }
   },
   "outputs": [],
   "source": [
    "import matplotlib.pyplot as plt\n",
    "import numpy as np\n",
    "import pandas as pd\n",
    "import seaborn as sns\n",
    "\n",
    "plt.style.use('fivethirtyeight') # Custom plot style"
   ]
  },
  {
   "attachments": {},
   "cell_type": "markdown",
   "metadata": {},
   "source": [
    "**2. Read the csv file 'Pokemon.csv' and load it into a Dataframe. Print the 10 first rows.** "
   ]
  },
  {
   "cell_type": "code",
   "execution_count": null,
   "metadata": {
    "colab": {
     "base_uri": "https://localhost:8080/",
     "height": 363
    },
    "editable": true,
    "id": "hsFUdKmC_gQf",
    "outputId": "05723cd3-5387-44f9-d7ae-c10b97d3491d",
    "slideshow": {
     "slide_type": ""
    }
   },
   "outputs": [],
   "source": []
  },
  {
   "attachments": {},
   "cell_type": "markdown",
   "metadata": {
    "id": "eLriTZtKBDTP"
   },
   "source": [
    "**3. Print technical informations of the Pokemon dataset using `.info()`.** "
   ]
  },
  {
   "cell_type": "code",
   "execution_count": null,
   "metadata": {
    "colab": {
     "base_uri": "https://localhost:8080/"
    },
    "editable": true,
    "id": "yv1vhgCkAepn",
    "outputId": "50fb7dfd-8b26-4566-cd2d-723730fc1cf3",
    "slideshow": {
     "slide_type": ""
    }
   },
   "outputs": [],
   "source": []
  },
  {
   "attachments": {},
   "cell_type": "markdown",
   "metadata": {
    "id": "s1pHx3oR6w5G"
   },
   "source": [
    "**4. Print the shape of the dataframe.** "
   ]
  },
  {
   "cell_type": "code",
   "execution_count": null,
   "metadata": {
    "colab": {
     "base_uri": "https://localhost:8080/"
    },
    "editable": true,
    "id": "XVRlqBq2_gQh",
    "outputId": "85424ccb-868e-4f46-b4f7-f762a5a73c13",
    "slideshow": {
     "slide_type": ""
    }
   },
   "outputs": [],
   "source": []
  },
  {
   "attachments": {},
   "cell_type": "markdown",
   "metadata": {
    "id": "VuqDhanYR0v4"
   },
   "source": [
    "**5. Drop the \"#' column and set the dataframe index to the 'Name' column.**"
   ]
  },
  {
   "cell_type": "code",
   "execution_count": null,
   "metadata": {
    "colab": {
     "base_uri": "https://localhost:8080/",
     "height": 238
    },
    "editable": true,
    "id": "nr5scIgK_gQi",
    "outputId": "ad876841-fc3f-430d-f3a7-6c2a11eff76c",
    "slideshow": {
     "slide_type": ""
    }
   },
   "outputs": [],
   "source": []
  },
  {
   "attachments": {},
   "cell_type": "markdown",
   "metadata": {
    "id": "DmeOC9UQaEo1"
   },
   "source": [
    "**6. Check if there are any missing values in the dataframe, and count them per column. For non numerical variables, replace the missing values by 'Unknown'. Check that the dataframe does not contain missing values anymore.**"
   ]
  },
  {
   "cell_type": "code",
   "execution_count": null,
   "metadata": {
    "colab": {
     "base_uri": "https://localhost:8080/"
    },
    "editable": true,
    "id": "8V7lioYdaNf9",
    "outputId": "58b810aa-a87a-4209-e3c7-03eb3360e3ce",
    "slideshow": {
     "slide_type": ""
    }
   },
   "outputs": [],
   "source": []
  },
  {
   "cell_type": "code",
   "execution_count": null,
   "metadata": {
    "colab": {
     "base_uri": "https://localhost:8080/"
    },
    "editable": true,
    "id": "1N41x3Lu8nAR",
    "outputId": "8269f452-2535-413c-c0a3-99b4a15d2718",
    "slideshow": {
     "slide_type": ""
    }
   },
   "outputs": [],
   "source": []
  },
  {
   "attachments": {},
   "cell_type": "markdown",
   "metadata": {
    "id": "hJiIx80ZFODG"
   },
   "source": [
    "**7. Change the data types of the variables 'Type 1' and 'Type 2' and 'Generation' to categorical data.**"
   ]
  },
  {
   "cell_type": "code",
   "execution_count": null,
   "metadata": {
    "colab": {
     "base_uri": "https://localhost:8080/"
    },
    "editable": true,
    "id": "N3QXeTJOEWp6",
    "outputId": "259240ad-95d5-485c-f110-6d9a061dde5f",
    "slideshow": {
     "slide_type": ""
    }
   },
   "outputs": [],
   "source": []
  },
  {
   "attachments": {},
   "cell_type": "markdown",
   "metadata": {
    "id": "sfk3xosFZr3p"
   },
   "source": [
    "**8. Get general statistics (mean, standard deviation...) for the numerical variables of the dataset. Check that the standard deviation for a column of your choice is correct by computing it using the definition.** "
   ]
  },
  {
   "cell_type": "code",
   "execution_count": null,
   "metadata": {
    "colab": {
     "base_uri": "https://localhost:8080/",
     "height": 300
    },
    "editable": true,
    "id": "ovW_8SlcZ1Q6",
    "outputId": "aa1d60e7-2fb7-48c8-87ef-324b8f4ca775",
    "slideshow": {
     "slide_type": ""
    }
   },
   "outputs": [],
   "source": []
  },
  {
   "attachments": {},
   "cell_type": "markdown",
   "metadata": {
    "id": "wTEEsbxsatcg"
   },
   "source": [
    "**9. For the categorical variables, count the number of values per category, as well as the count of co-occurences, i.e., the times categorical variables occur simultaneously.**"
   ]
  },
  {
   "cell_type": "code",
   "execution_count": null,
   "metadata": {
    "colab": {
     "base_uri": "https://localhost:8080/"
    },
    "editable": true,
    "id": "tLqsNREPa9rP",
    "outputId": "d792c370-2bde-4a63-ee65-99f8a55d7de6",
    "slideshow": {
     "slide_type": ""
    }
   },
   "outputs": [],
   "source": []
  },
  {
   "cell_type": "code",
   "execution_count": null,
   "metadata": {
    "editable": true,
    "slideshow": {
     "slide_type": ""
    }
   },
   "outputs": [],
   "source": []
  },
  {
   "cell_type": "code",
   "execution_count": null,
   "metadata": {
    "editable": true,
    "slideshow": {
     "slide_type": ""
    }
   },
   "outputs": [],
   "source": []
  },
  {
   "cell_type": "code",
   "execution_count": null,
   "metadata": {
    "editable": true,
    "slideshow": {
     "slide_type": ""
    }
   },
   "outputs": [],
   "source": []
  },
  {
   "attachments": {},
   "cell_type": "markdown",
   "metadata": {},
   "source": [
    "**10. Get all the attributes of 'Bulbasaur'.**"
   ]
  },
  {
   "cell_type": "code",
   "execution_count": null,
   "metadata": {
    "colab": {
     "base_uri": "https://localhost:8080/"
    },
    "editable": true,
    "id": "IHcc1OnP_gQj",
    "outputId": "5d5ec6ae-13e6-4270-82a5-f0035fc3a005",
    "slideshow": {
     "slide_type": ""
    }
   },
   "outputs": [],
   "source": []
  },
  {
   "attachments": {},
   "cell_type": "markdown",
   "metadata": {
    "id": "rnP-WJCAueWI"
   },
   "source": [
    "**11. Sort the dataframe by increasing values of 'Attack' and decreasing values of 'Defense' (i.e., if two Pokémons have the same value for 'Attack', the one with higher 'Defense' should appear first).** "
   ]
  },
  {
   "cell_type": "code",
   "execution_count": null,
   "metadata": {
    "colab": {
     "base_uri": "https://localhost:8080/",
     "height": 238
    },
    "editable": true,
    "id": "21AqqLSNulmH",
    "outputId": "e15ed048-91d4-40b2-ec71-0b2a32b3afdf",
    "slideshow": {
     "slide_type": ""
    }
   },
   "outputs": [],
   "source": []
  },
  {
   "attachments": {},
   "cell_type": "markdown",
   "metadata": {
    "id": "qxOAc1B_mDUr"
   },
   "source": [
    "**12. Create a dataframe containing all Pokémons of type 1 'Psychic' having more than 100 in 'Attack', less than 40 in 'Defense' and more than 45 in Speed.**"
   ]
  },
  {
   "cell_type": "code",
   "execution_count": null,
   "metadata": {
    "colab": {
     "base_uri": "https://localhost:8080/",
     "height": 238
    },
    "editable": true,
    "id": "vOT7IlvPmk9L",
    "outputId": "07df5887-1887-4931-8934-c4c0a29a90e0",
    "slideshow": {
     "slide_type": ""
    }
   },
   "outputs": [],
   "source": []
  },
  {
   "attachments": {},
   "cell_type": "markdown",
   "metadata": {
    "id": "OI07YycPoP9u"
   },
   "source": [
    "**13. Create two new columns, 'AttackAll' and 'DefenseAll', which correspond to the sum of 'Attack' and 'Sp. Attack' and the sum of 'Defense' and 'Sp. Defense', respectively.** "
   ]
  },
  {
   "cell_type": "code",
   "execution_count": null,
   "metadata": {
    "colab": {
     "base_uri": "https://localhost:8080/",
     "height": 238
    },
    "editable": true,
    "id": "6Mur9aCQp0o9",
    "outputId": "a5aa4596-07be-4a3a-d1d2-3f5b1f0f07ce",
    "slideshow": {
     "slide_type": ""
    }
   },
   "outputs": [],
   "source": []
  },
  {
   "attachments": {},
   "cell_type": "markdown",
   "metadata": {
    "id": "ZCNx4IaIq3o-"
   },
   "source": [
    "**14. Create a new column 'AtkOverDef' corresponding to the ratio of 'AttackAll' over 'DefenseAll' for each Pokemon.** "
   ]
  },
  {
   "cell_type": "code",
   "execution_count": null,
   "metadata": {
    "colab": {
     "base_uri": "https://localhost:8080/",
     "height": 238
    },
    "editable": true,
    "id": "Gp9fpMMIsD_n",
    "outputId": "4f7ed15f-769d-46ab-8c37-98652e29f3b0",
    "slideshow": {
     "slide_type": ""
    }
   },
   "outputs": [],
   "source": []
  },
  {
   "attachments": {},
   "cell_type": "markdown",
   "metadata": {
    "id": "YJfaI8VKv64S"
   },
   "source": [
    "**15. Change the column names to upper cases, and remove the '.' in the column names, as well as blanks.** "
   ]
  },
  {
   "cell_type": "code",
   "execution_count": null,
   "metadata": {
    "colab": {
     "base_uri": "https://localhost:8080/",
     "height": 292
    },
    "editable": true,
    "id": "I89576fk_gQk",
    "outputId": "a5460673-406d-47d8-e376-e1e6d3220c77",
    "slideshow": {
     "slide_type": ""
    }
   },
   "outputs": [],
   "source": []
  },
  {
   "attachments": {},
   "cell_type": "markdown",
   "metadata": {
    "id": "oemote1Dwiil"
   },
   "source": [
    "**16. Plot a histogram of the different 'TYPE1' categories. The figure must be 16 inches wide and 4 inches high. \n",
    "Use the matplotlib.pyplot library and the countplot method from the seaborn librabry. The counts should appear in increasing order.**"
   ]
  },
  {
   "cell_type": "code",
   "execution_count": null,
   "metadata": {
    "colab": {
     "base_uri": "https://localhost:8080/",
     "height": 304
    },
    "editable": true,
    "id": "Ykf0mI1J_gQk",
    "outputId": "4da7416a-c3de-49d2-db86-95a03e3df593",
    "slideshow": {
     "slide_type": ""
    }
   },
   "outputs": [],
   "source": []
  },
  {
   "attachments": {},
   "cell_type": "markdown",
   "metadata": {
    "id": "Sd7rlq5RxgNa"
   },
   "source": [
    "**17. Do the same as above, but for the 'TYPE2' categories.** "
   ]
  },
  {
   "cell_type": "code",
   "execution_count": null,
   "metadata": {
    "colab": {
     "base_uri": "https://localhost:8080/",
     "height": 306
    },
    "editable": true,
    "id": "PcWnQOBh_gQk",
    "outputId": "4928077c-9051-42db-e2a2-8dc86e96f21e",
    "slideshow": {
     "slide_type": ""
    }
   },
   "outputs": [],
   "source": []
  },
  {
   "attachments": {},
   "cell_type": "markdown",
   "metadata": {
    "id": "HJQnPxOy0Cr0"
   },
   "source": [
    "**18. Plot the densities of the variables 'ATTACK', 'DEFENSE' and 'SPEED' onto three separates plots. Use the `displot()` method of the library seaborn.**"
   ]
  },
  {
   "cell_type": "code",
   "execution_count": null,
   "metadata": {
    "colab": {
     "base_uri": "https://localhost:8080/",
     "height": 1000
    },
    "editable": true,
    "id": "57Gmsp9x_gQm",
    "outputId": "38abfdbf-81ea-43be-b7ba-56735d7f002b",
    "slideshow": {
     "slide_type": ""
    }
   },
   "outputs": [],
   "source": []
  },
  {
   "attachments": {},
   "cell_type": "markdown",
   "metadata": {
    "id": "8fZ4qb_N1QCH"
   },
   "source": [
    "**19. Plot the density of the variable 'ATTACK' for Legendary and non-Legendary Pokémons. The two densities should appear on different facets of the same plot.**"
   ]
  },
  {
   "cell_type": "code",
   "execution_count": null,
   "metadata": {
    "colab": {
     "base_uri": "https://localhost:8080/",
     "height": 378
    },
    "editable": true,
    "id": "BV6m-Z380uDl",
    "outputId": "c147bd2e-c7fa-4ba4-c593-a049f7064fa2",
    "slideshow": {
     "slide_type": ""
    }
   },
   "outputs": [],
   "source": []
  },
  {
   "attachments": {},
   "cell_type": "markdown",
   "metadata": {
    "id": "IwSqLytJ12_K"
   },
   "source": [
    "**20. Generate a scatter plot of the variable 'DEFENSE' on the y-axis, and the variable 'ATTACK' on the x-axis. Legendary and non-Legendary Pokémons should be indicated using different colors.**"
   ]
  },
  {
   "cell_type": "code",
   "execution_count": null,
   "metadata": {
    "colab": {
     "base_uri": "https://localhost:8080/",
     "height": 1000
    },
    "editable": true,
    "id": "ubOms2Hk_gQm",
    "outputId": "d32debc7-e03e-4540-b384-071a02b6cceb",
    "slideshow": {
     "slide_type": ""
    }
   },
   "outputs": [],
   "source": []
  },
  {
   "attachments": {},
   "cell_type": "markdown",
   "metadata": {},
   "source": [
    "**21. Filter the dataframe to contain only Pokémons of generations 1 and 4. Using the filtered dataframe, generate a scatter plot of the variable 'TOTAL' on the y-axis, and the variable 'ATTACK' on the x-axis, by separating the two filtered generations. Note that, after filtering the dataframe, you can use the method `Series.cat.remove_unused_categories` to remove unused categories from the plot. The figure shoud be 8 inches high, and 8 inches wide.**"
   ]
  },
  {
   "cell_type": "code",
   "execution_count": null,
   "metadata": {
    "editable": true,
    "slideshow": {
     "slide_type": ""
    }
   },
   "outputs": [],
   "source": []
  },
  {
   "attachments": {},
   "cell_type": "markdown",
   "metadata": {
    "id": "Ufr2rxpd2xgh"
   },
   "source": [
    "**22. Create a histogram of the variable 'GENERATION'. Separate Legendary and non-Legendary Pokémons. The counts should appear on the same figure in decreasing order.**"
   ]
  },
  {
   "cell_type": "code",
   "execution_count": null,
   "metadata": {
    "colab": {
     "base_uri": "https://localhost:8080/",
     "height": 304
    },
    "editable": true,
    "id": "Qk7RrmFt_gQm",
    "outputId": "c905a67a-6c74-444c-95fe-474f3b639af2",
    "slideshow": {
     "slide_type": ""
    }
   },
   "outputs": [],
   "source": []
  },
  {
   "attachments": {},
   "cell_type": "markdown",
   "metadata": {
    "id": "YszwDTeJ3HyN"
   },
   "source": [
    "**23. Generate a boxplot of the variable 'TOTAL' with the method `boxplot()` from the library seaborn. How to interpret it?** "
   ]
  },
  {
   "cell_type": "code",
   "execution_count": null,
   "metadata": {
    "colab": {
     "base_uri": "https://localhost:8080/",
     "height": 283
    },
    "editable": true,
    "id": "lCREREg7_gQn",
    "outputId": "375ecf14-716f-40d3-8c13-1e1b319deb8b",
    "slideshow": {
     "slide_type": ""
    }
   },
   "outputs": [],
   "source": []
  },
  {
   "attachments": {},
   "cell_type": "markdown",
   "metadata": {
    "editable": true,
    "slideshow": {
     "slide_type": ""
    }
   },
   "source": []
  },
  {
   "cell_type": "code",
   "execution_count": null,
   "metadata": {
    "editable": true,
    "slideshow": {
     "slide_type": ""
    }
   },
   "outputs": [],
   "source": []
  },
  {
   "attachments": {},
   "cell_type": "markdown",
   "metadata": {
    "editable": true,
    "id": "PZeGkhZu3Y8i",
    "slideshow": {
     "slide_type": ""
    }
   },
   "source": [
    "**24. Generate one boxplot of the variable 'TOTAL' per category of the variable 'GENERATION'. Separate Legendary and non-Legendary Pokémons. All boxplots must appear on the same plot.**"
   ]
  },
  {
   "cell_type": "code",
   "execution_count": null,
   "metadata": {
    "colab": {
     "base_uri": "https://localhost:8080/",
     "height": 323
    },
    "editable": true,
    "id": "_kQ2saC6_gQn",
    "outputId": "253874dc-2728-4c40-88a1-f4c58e984ebd",
    "slideshow": {
     "slide_type": ""
    }
   },
   "outputs": [],
   "source": []
  }
 ],
 "metadata": {
  "colab": {
   "collapsed_sections": [],
   "name": "eda_pokemon_sol_22.ipynb",
   "provenance": []
  },
  "kernelspec": {
   "display_name": "Python 3 (ipykernel)",
   "language": "python",
   "name": "python3"
  },
  "language_info": {
   "codemirror_mode": {
    "name": "ipython",
    "version": 3
   },
   "file_extension": ".py",
   "mimetype": "text/x-python",
   "name": "python",
   "nbconvert_exporter": "python",
   "pygments_lexer": "ipython3",
   "version": "3.10.12"
  },
  "vscode": {
   "interpreter": {
    "hash": "bfe0e2b9b67a2fcef00021a1d2a516837bff30cf713e434b27f739f4afd30381"
   }
  }
 },
 "nbformat": 4,
 "nbformat_minor": 4
}
