{
 "cells": [
  {
   "cell_type": "markdown",
   "metadata": {},
   "source": [
    "# Introduction\n",
    "---\n",
    "\n",
    "A la question de :  [Pourquoi étudier la Génération de nombre Aléatoire ?](https://fr.wikipedia.org/wiki/G%C3%A9n%C3%A9rateur_de_nombres_pseudo-al%C3%A9atoires)\n",
    "\n",
    "On peut juste repondre que la génération de nombre aléatoire joue un rôle critque dans des domaines comme la recherche et la sécurité(cryptographie) :\n",
    "\n",
    "- Dans la recherche (scientifique) : pour des études  sur des populations ayant un certain comportement , il n'est pas toujours aisé d'aller collecter les information dont on a besoin sur le terrain (question de coût financiers , de temps ....) , mais en connaissant le **_comportement_** (hypothèses de lois statistiques ) de ces popoulations , on peut les simuler (populations) par des points , vecteurs ... Cela qui permet d'eviter toutes les contraintes physiques liées à la collecte dur le terrain cité plus haut\n",
    "\n",
    "- En sécurite : La sécurité aujourd'hui passe principalement par la génération de code , clé , mot de passe , qui sont basiquement des suites de nombres doivent être le plus aléatoire possibles. Une approche (notre intuition naive ) aurait été de demander chaque **_code_**  à un individu **_pris au hasard_** à chaque fois qu'on en aurait besoin , afin que l'anoymat du code reste intact . Bien évidenment c'est impossible ! vu les milliers d'opérations qui necessite la génération d'un **_code_** sûr de nos jours.\n",
    "\n",
    "C'est deux exemples ne sont pas exhaustifs et encore moins complets , mais ils mettent en quelque sorte l'évidence du besoin de pouvoir générer des nombres automatiquement , mais surtout le fait qu'ils soient **_aléatoires_** ."
   ]
  },
  {
   "cell_type": "markdown",
   "metadata": {},
   "source": [
    "# 1. Etudes du caractère pseudo-aléatoires des 2 millions décimales de _e_\n",
    "---\n",
    "\n",
    "Devoir étudier ce carctère c'est vérifier si **_\" Les 2 millions de décimales de e sont uniformément et aléatoirement reparties \"_**  pour nous cela revient à faire des tes d'hypothèse avec comme hypothèse nulle $H_0$ : _\" Les 2 millions de décimales de e suivent une loi uniforme \"_  contre l'hypothèse alternative $H_1$ : _\" Les 2 millions de décimales de e ne suivent pas une loi uniforme \"_. \n"
   ]
  },
  {
   "cell_type": "markdown",
   "metadata": {},
   "source": [
    "## 1.1 Exploration et observation par des graphiques\n",
    "\n",
    "\n",
    "\n",
    "Avant d'étudier le caractère pseudo-aléatoire des décimales de e avec des outils plus rigoureux (tests statistiques et formules mathématiques). Nous essayerons premièrement de voir ci l'hypothèse $H_0$ peut être cohérente  juste par observation. \n"
   ]
  },
  {
   "cell_type": "markdown",
   "metadata": {},
   "source": [
    "### Exploration\n",
    "Pour cela on on compte le nombre d'occurences de chaque chiffres $c \\in \\{ 0, 1, \\dots, 9  \\}$ dans les décimales et on traces les histogramme du nombre occurences  sachant que sous $H_0$  ce devrait être toujours égale à $\\frac{N}{10} $ ($n_. = 200.000$ ) puisque chaque chiffre devrait avoir la même probabilité d'apparition $p = \\frac{1}{10} = 0.1 $ dans la séquence\n"
   ]
  },
  {
   "cell_type": "code",
   "execution_count": 20,
   "metadata": {},
   "outputs": [],
   "source": [
    "#import des moules neccessaires\n",
    "import numpy as np\n",
    "import matplotlib.pyplot as plt\n"
   ]
  },
  {
   "cell_type": "code",
   "execution_count": null,
   "metadata": {},
   "outputs": [
    {
     "name": "stdout",
     "output_type": "stream",
     "text": [
      "data = [7 1 8 ... 0 2 3]\n"
     ]
    }
   ],
   "source": [
    "# Import des données : data\n",
    "# ouvrir le fichier\n",
    "with open(\"../src/e2M.txt\", 'r', encoding='utf-8') as file :\n",
    "    content = file.read()\n",
    "\n",
    "# Supprimer les espaces et les sauts de lignes\n",
    "content = content.replace(\" \", \"\")\n",
    "content = content.replace(\"\\n\", \"\")\n",
    "#trouver le point\n",
    "point = content.find(\".\")\n",
    "# Ne garder que les chiffres après le point\n",
    "content = content[point+1:]\n",
    "content = filter(str.isdigit, content)\n",
    "data = np.array([int(c) for c in content])\n",
    "\n",
    "print(f\"data = {data}\")"
   ]
  },
  {
   "cell_type": "code",
   "execution_count": 61,
   "metadata": {},
   "outputs": [
    {
     "data": {
      "image/png": "[encoded data removed]",
      "text/plain": [
       "<Figure size 640x480 with 1 Axes>"
      ]
     },
     "metadata": {},
     "output_type": "display_data"
    }
   ],
   "source": [
    "N = len(data)\n",
    "p = N / 10\n",
    "\n",
    "# Calcul des histogrammes\n",
    "observed = np.bincount(data)\n",
    "bins = np.arange(11)\n",
    "bin_width = bins[1] - bins[0]\n",
    "\n",
    "expected = np.full(len(observed),p)\n",
    "\n",
    "# Positions des barres\n",
    "obs_pos = bins[:-1] + bin_width * 0.2\n",
    "exp_pos = bins[:-1] + bin_width * 0.55\n",
    "bar_width = bin_width * 0.35\n",
    "\n",
    "# Tracé des barres\n",
    "plt.bar(obs_pos, observed, width=bar_width,\n",
    "        color='tomato', edgecolor='darkred',\n",
    "        label='Observé', alpha=0.9)\n",
    "\n",
    "plt.bar(exp_pos, expected,\n",
    "        width=bar_width, color='limegreen',\n",
    "        edgecolor='darkgreen', label='Théorique',\n",
    "        alpha=0.9)\n",
    "plt.axhline(N/10, color='darkgreen', linestyle='--', alpha=0.9)\n",
    "\n",
    "# Personnalisation\n",
    "plt.title(f'observés vs attendus', pad=12)\n",
    "#plt.xlabel('Intervalles')\n",
    "plt.ylabel('Effectifs en log10')\n",
    "plt.grid(axis='y', linestyle='--', alpha=0.6)\n",
    "plt.yscale('log')\n",
    "plt.legend()\n",
    "plt.show()"
   ]
  },
  {
   "cell_type": "code",
   "execution_count": null,
   "metadata": {},
   "outputs": [
    {
     "name": "stdout",
     "output_type": "stream",
     "text": [
      "chiffre | observed | expected | error | % error\n",
      "--------------------------------------------------\n",
      "0       | 199093   | 200000   | 907   | 0.45 %\n",
      "1       | 200171   | 200000   | 171   | 0.09 %\n",
      "2       | 199471   | 200000   | 529   | 0.26 %\n",
      "3       | 200361   | 200000   | 361   | 0.18 %\n",
      "4       | 199923   | 200000   |  77   | 0.04 %\n",
      "5       | 200285   | 200000   | 285   | 0.14 %\n",
      "6       | 200395   | 200000   | 395   | 0.20 %\n",
      "7       | 199789   | 200000   | 211   | 0.11 %\n",
      "8       | 200098   | 200000   |  98   | 0.05 %\n",
      "9       | 200414   | 200000   | 414   | 0.21 %\n",
      "--------------------------------------------------\n"
     ]
    }
   ],
   "source": [
    "# Calcul des erreurs\n",
    "error = np.abs(observed - expected)\n",
    "percent_error = (error / p)*100\n",
    "#Affichage des erreurs des\n",
    "print(\"-\"*50)\n",
    "print(f\"| observed | expected | error | % error\")\n",
    "print(\"-\"*50)\n",
    "for i in range(len(observed)):\n",
    "    print(f\"| {observed[i]}   | {int(expected[i])}   | {int(error[i]):3d}   | {percent_error[i]:.2f} %\")\n",
    "print(\"-\"*50)"
   ]
  },
  {
   "cell_type": "markdown",
   "metadata": {},
   "source": [
    "|Digits | observé | Attendu| erreur abs| % erreur|\n",
    "|:------:|:-------:|:------:|:---------:|:--------:|\n",
    "|0|199093|200000|907|0.45%|\n",
    "|1|200171|200000|171|0.09%|\n",
    "|2|199471|200000|529|0.26%|\n",
    "|3|200361|200000|361|0.18%|\n",
    "|4|199923|200000|77|0.04%|\n",
    "|5|200285|200000|285|0.14%|\n",
    "|6|200395|200000|395|0.20%|\n",
    "|7|199789|200000|211|0.11%|\n",
    "|8|200098|200000|98|0.05%|\n",
    "|9||200000|414|0.21%|\n"
   ]
  },
  {
   "cell_type": "markdown",
   "metadata": {},
   "source": [
    "### Observations\n",
    "\n",
    "On constate que : \n",
    "- On remarque d'abord que la repartition des effectifs de chaque classe n'est pas toujours uniforme  et égale effectifs attendus\n",
    "- lorsqu'on reparti les nombres sur moins de 10 classes , les effectifs ne sont pas unifrome\n",
    "\n",
    "on constates que pour chaque cas , "
   ]
  },
  {
   "cell_type": "markdown",
   "metadata": {},
   "source": [
    "## 1.2 Etude rigoureruse des décimales par les tests\n",
    "\n",
    "pour cette étude comme pour la suite (compraison des performances des générateurs )"
   ]
  },
  {
   "cell_type": "markdown",
   "metadata": {},
   "source": [
    "# 2. Notre Générateur\n",
    "---\n",
    "\n",
    "\n",
    "Après quelques petites recherches , sur différents algorithmes de nombres pseudo-aléatoires ( Von Neumann , RSA , XOTshift , Congruence linéaire ...). Nous avons optez pour l'utilisation d'une congruence linéaire ( plus accessibble pour nous parce que c'est une notion vu en cours ) combiné à un XORshift opération qui permettrait d'ajouter plus d'aléa\n"
   ]
  },
  {
   "cell_type": "markdown",
   "metadata": {},
   "source": [
    "# 2.1 Fonctionnement du Générateur\n",
    "\n",
    "un truc"
   ]
  },
  {
   "cell_type": "markdown",
   "metadata": {},
   "source": [
    "# 2.2 choix des paramètres "
   ]
  },
  {
   "cell_type": "markdown",
   "metadata": {},
   "source": []
  },
  {
   "cell_type": "markdown",
   "metadata": {},
   "source": [
    "# 2.3 Algorithme python (voir fichier ``Generators.py``)"
   ]
  },
  {
   "cell_type": "markdown",
   "metadata": {},
   "source": []
  }
 ],
 "metadata": {
  "kernelspec": {
   "display_name": "Python 3",
   "language": "python",
   "name": "python3"
  },
  "language_info": {
   "codemirror_mode": {
    "name": "ipython",
    "version": 3
   },
   "file_extension": ".py",
   "mimetype": "text/x-python",
   "name": "python",
   "nbconvert_exporter": "python",
   "pygments_lexer": "ipython3",
   "version": "3.13.2"
  }
 },
 "nbformat": 4,
 "nbformat_minor": 2
}
