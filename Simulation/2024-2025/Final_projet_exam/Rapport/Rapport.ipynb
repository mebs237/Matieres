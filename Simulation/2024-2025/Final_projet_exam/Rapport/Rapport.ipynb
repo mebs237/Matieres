{
 "cells": [
  {
   "cell_type": "markdown",
   "metadata": {},
   "source": [
    "# Introduction\n",
    "---\n",
    "\n",
    "A la question de :  [Pourquoi étudier la Génération de nombre Aléatoire ?](https://fr.wikipedia.org/wiki/G%C3%A9n%C3%A9rateur_de_nombres_pseudo-al%C3%A9atoires)\n",
    "\n",
    "On peut juste repondre que la génération de nombre aléatoire joue un rôle critque dans des domaines comme la recherche et la sécurité(cryptographie) :\n",
    "\n",
    "- Dans la recherche (scientifique) : pour des études  sur des populations ayant un certain comportement , il n'est pas toujours aisé d'aller collecter les information dont on a besoin sur le terrain (question de coût financiers , de temps ....) , mais en connaissant le **_comportement_** (hypothèses de lois statistiques ) de ces popoulations , on peut les simuler (populations) par des points , vecteurs ... Cela qui permet d'eviter toutes les contraintes physiques liées à la collecte dur le terrain cité plus haut\n",
    "\n",
    "- En sécurite : La sécurité aujourd'hui passe principalement par la génération de code , clé , mot de passe , qui sont basiquement des suites de nombres doivent être le plus aléatoire possibles. Une approche (notre intuition naive ) aurait été de demander chaque **_code_**  à un individu **_pris au hasard_** à chaque fois qu'on en aurait besoin , afin que l'anoymat du code reste intact . Bien évidenment c'est impossible ! vu les milliers d'opérations qui necessite la génération d'un **_code_** sûr de nos jours.\n",
    "\n",
    "C'est deux exemples ne sont pas exhaustifs et encore moins complets , mais ils mettent en quelque sorte l'évidence du besoin de pouvoir générer des nombres automatiquement , mais surtout le fait qu'ils soient **_aléatoires_** ."
   ]
  },
  {
   "cell_type": "markdown",
   "metadata": {},
   "source": [
    "# 1 Etudes du caractère pseudo-aléatoires des 2 millions décimales de _e_\n",
    "---\n",
    "\n",
    "Devoir étudier ce carctère c'est vérifier si _\" Les 2 millions de décimales de e sont uniformément et aléatoirement reparties \"_  pour nous cela revient à faire des tes d'hypothèse avec comme hypothèse nulle $H_0$ : _\" Les 2 millions de décimales de e suivent une loi uniforme \"_  contre l'hypothèse alternative $H_1$ : _\" Les 2 millions de décimales de e ne suivent pas une loi uniforme \"_. \n"
   ]
  },
  {
   "cell_type": "markdown",
   "metadata": {},
   "source": [
    "## 1.2 Exploration ou observation graphiques\n",
    "\n",
    "Premièrement on génère des histogragramme des fréquances d'apparition des chiffres de ces décimales \n",
    "Avant d'étudier le caractère pseudo-aléatoire des décimales de e avec des outils plus rigoureux (tests statistiques et formules mathématiques). Nous essayons premièrement de voir ci cela peut être juste par observation. Pour cela on génère plusieurs histogrammes de comparaison\n",
    "\n",
    "- un histogramme des fréquences d'apparition de chaque chiffres de la sequence contre celui dans les cas où $H_0$ serait vrai\n",
    "- plusieurs histogrames des effectifs de ``k`` $k \\in \\{ 10 , 4 , 6 , 9 \\} $ classes contre ceux correspondats au cas $H_0$ vraie où  chaque classes devrait avoir un effectif N/k avec N = 2 millions\n",
    "\n"
   ]
  },
  {
   "cell_type": "code",
   "execution_count": 9,
   "metadata": {},
   "outputs": [],
   "source": [
    "#import des moules neccessaires\n",
    "import numpy as np\n",
    "import matplotlib.pyplot as plt\n",
    "\n"
   ]
  },
  {
   "cell_type": "code",
   "execution_count": 10,
   "metadata": {},
   "outputs": [
    {
     "name": "stdout",
     "output_type": "stream",
     "text": [
      "[7 1 8 ... 0 2 3]\n"
     ]
    }
   ],
   "source": [
    "# programme prend quipourunfichier texte en entrée et retourne un tableau numpy contenant les chiffres après le point\n",
    "# dans le fichier texte. Le fichier texte est encodé en utf-8 et contient des chiffres et des lettres.\n",
    "# Les chiffres sont séparés par des espaces et des sauts de lignes. Le point est le premier point dans le fichier.\n",
    "\n",
    "# ouvrir le fichier\n",
    "with open(\"../src/e2M.txt\", 'r', encoding='utf-8') as file :\n",
    "    content = file.read()\n",
    "\n",
    "# Supprimer les espaces et les sauts de lignes\n",
    "content = content.replace(\" \", \"\")\n",
    "content = content.replace(\"\\n\", \"\")\n",
    "#trouver le point\n",
    "point = content.find(\".\")\n",
    "# Ne garder que les chiffres après le point\n",
    "content = content[point+1:]\n",
    "content = filter(str.isdigit, content)\n",
    "\n",
    "data = np.array([int(c) for c in content])\n",
    "\n",
    "print(data)\n",
    "#         path_file : str : chemin du fichier texte\n",
    "#         decimals : np.ndarray : sequence de chiffres\n"
   ]
  },
  {
   "cell_type": "markdown",
   "metadata": {},
   "source": []
  },
  {
   "cell_type": "markdown",
   "metadata": {},
   "source": [
    "# 2. Notre Générateur \n",
    "\n",
    "\n",
    "Après quelques petites recherches , sur différents algorithmes de nombres pseudo-aléatoires ( Von Neumann , RSA , XOTshift , Congruence linéaire ...). Nous avons optez pour l'utilisation d'une congruence linéaire ( parceque notion vu en cours ) combinée à un XORshift opération qui permettrait d'ajouter plus d'aléa\n"
   ]
  },
  {
   "cell_type": "markdown",
   "metadata": {},
   "source": []
  },
  {
   "cell_type": "markdown",
   "metadata": {},
   "source": [
    "# 2.1 Fonctionnement du Générateur"
   ]
  },
  {
   "cell_type": "markdown",
   "metadata": {},
   "source": []
  },
  {
   "cell_type": "markdown",
   "metadata": {},
   "source": [
    "# 2.2 choix des paramètres"
   ]
  },
  {
   "cell_type": "markdown",
   "metadata": {},
   "source": []
  },
  {
   "cell_type": "markdown",
   "metadata": {},
   "source": [
    "# 2.3 Algorithme (en python) (voir fichier ````)"
   ]
  },
  {
   "cell_type": "markdown",
   "metadata": {},
   "source": []
  }
 ],
 "metadata": {
  "kernelspec": {
   "display_name": "Python 3",
   "language": "python",
   "name": "python3"
  },
  "language_info": {
   "codemirror_mode": {
    "name": "ipython",
    "version": 3
   },
   "file_extension": ".py",
   "mimetype": "text/x-python",
   "name": "python",
   "nbconvert_exporter": "python",
   "pygments_lexer": "ipython3",
   "version": "3.13.2"
  }
 },
 "nbformat": 4,
 "nbformat_minor": 2
}
