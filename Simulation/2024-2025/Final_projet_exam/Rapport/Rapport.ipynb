{
 "cells": [
  {
   "cell_type": "markdown",
   "metadata": {},
   "source": [
    "  \n",
    "---\n",
    "## <div style = \"text-align: center;\">  PROJET DE SIMULATION </div>\n",
    "---\n",
    "\n",
    "\n",
    "<div style = \"text-align: center;\"> réalisé par  </div>\n",
    "<div style = \"text-align: center;\">   MEBOU KOAGNE PRESTONNE &  NJANJA MBACOP WILFRIED </div>\n",
    "\n",
    "**Supervisés par : _Alain Bayes_**"
   ]
  },
  {
   "cell_type": "markdown",
   "metadata": {},
   "source": [
    "# Table des Matières\n",
    "---\n",
    "\n",
    "1. [Introduction](#introduction)\n",
    "1. [ Etudes du caractère pseudo-aléatoire des déimales de e](#1-etudes-du-caractère-pseudo-aléatoires-des-2-millions-décimales-de-e)\n",
    "    1. [Exploration et Observation par graphique](#11-exploration-et-observation-par-des-graphiques)\n",
    "    1. [Test d'hypothèse](#12-etude-rigoureruse-des-décimales-par-les-tests)\n",
    "1. [ Notre Généreateur](#2-notre-generateur)\n",
    "    1. [Idée](#21-fonctionnement-du-générateur)\n",
    "1. [ Comparaison Des générateurs ](#3-comparaison-notre-generateur-vs-generateur-de-python)\n",
    "   1. [Test sur les Series Générées](#31-tests-sur-les-séries-générées)\n",
    "   2. [Observations et interprétations des résultats](#32-observations-et-interprétation-des-résultats)\n",
    "   3. [Conclusion de la comparaison](#conculsion-de-la-comparaison)\n",
    "2. [Conclusion générale](#conclusion-générale)\n",
    "\n",
    "\n",
    "<div style=\"page-break-after:always;\"></div>"
   ]
  },
  {
   "cell_type": "markdown",
   "metadata": {},
   "source": [
    "# Introduction\n",
    "---\n",
    "\n",
    "\n",
    "A la question de :  [Pourquoi étudier la Génération de nombre Aléatoire ?](https://fr.wikipedia.org/wiki/G%C3%A9n%C3%A9rateur_de_nombres_pseudo-al%C3%A9atoires)\n",
    "\n",
    "On peut juste repondre que la génération de nombre aléatoire joue un rôle critque dans des domaines comme la recherche et la sécurité(cryptographie) : \n",
    "\n",
    "- Dans la recherche (scientifique) : pour des études  sur des populations ayant un certain comportement , il n'est pas toujours aisé d'aller collecter les information dont on a besoin sur le terrain (question de coût financiers , de temps ....) , mais en connaissant le **_comportement_** (hypothèses de lois statistiques ) de ces popoulations , on peut les simuler (populations) par des points , vecteurs ... Cela qui permet d'eviter toutes les contraintes physiques liées à la collecte dur le terrain cité plus haut\n",
    "\n",
    "- En sécurite : La sécurité aujourd'hui passe principalement par la génération de code , clé , mot de passe , qui sont basiquement des suites de nombres doivent être le plus aléatoire possibles. Une approche (notre intuition naive ) aurait été de demander chaque **_code_**  à un individu **_pris au hasard_** à chaque fois qu'on en aurait besoin , afin que l'anoymat du code reste intact . Bien évidenment c'est impossible ! vu les milliers d'opérations qui necessite la génération d'un **_code_** sûr de nos jours.\n",
    "\n",
    "C'est deux exemples ne sont pas exhaustifs et encore moins complets , mais ils mettent en quelque sorte l'évidence du besoin de pouvoir générer des nombres automatiquement , mais surtout le fait qu'ils soient **_aléatoires_** .\n",
    "\n",
    "\n",
    "\n",
    "<div style=\"page-break-after:always;\"></div>"
   ]
  },
  {
   "cell_type": "markdown",
   "metadata": {},
   "source": [
    "# 1. Etudes du caractère pseudo-aléatoires des décimales de _e_\n",
    "---\n",
    "\n",
    "Devoir étudier ce carctère c'est vérifier si **_\" Les 2 millions de décimales de e sont uniformément et aléatoirement reparties \"_**  pour nous cela revient à faire des tes d'hypothèse avec comme hypothèse nulle $H_0$ : _\" Les 2 millions de décimales de e suivent une loi uniforme \"_  contre l'hypothèse alternative $H_1$ : _\" Les 2 millions de décimales de e ne suivent pas une loi uniforme \"_. \n",
    "\n"
   ]
  },
  {
   "cell_type": "markdown",
   "metadata": {},
   "source": [
    "## 1.1 Exploration et observation par des graphiques\n",
    "\n",
    "\n",
    "Avant d'étudier le caractère pseudo-aléatoire des décimales de e avec des outils plus rigoureux (tests statistiques et formules mathématiques). Nous essayerons premièrement de voir ci l'hypothèse $H_0$ peut être cohérente  juste par observation. \n"
   ]
  },
  {
   "cell_type": "markdown",
   "metadata": {},
   "source": [
    "### Exploration\n",
    "Pour cela on on compte le nombre d'occurences de chaque chiffres $c \\in \\{ 0, 1, \\dots, 9  \\}$ dans les décimales et on traces les histogramme du nombre occurences  sachant que sous $H_0$  ce devrait être toujours égale à $\\frac{N}{10} $ ($n_. = 200.000$ ) puisque chaque chiffre devrait avoir la même probabilité d'apparition $p = \\frac{1}{10} = 0.1 $ dans la séquence\n",
    "\n",
    "![Histogrammes](observed_vs_expected.png)"
   ]
  },
  {
   "cell_type": "code",
   "execution_count": 80,
   "metadata": {},
   "outputs": [],
   "source": [
    "#import des moules neccessaires\n",
    "import numpy as np\n",
    "import matplotlib.pyplot as plt\n"
   ]
  },
  {
   "cell_type": "code",
   "execution_count": 81,
   "metadata": {},
   "outputs": [
    {
     "name": "stdout",
     "output_type": "stream",
     "text": [
      "data = [7 1 8 ... 0 2 3]\n"
     ]
    }
   ],
   "source": [
    "# Import des données : data\n",
    "# ouvrir le fichier\n",
    "with open(\"../src/e2M.txt\", 'r', encoding='utf-8') as file :\n",
    "    content = file.read()\n",
    "\n",
    "# Supprimer les espaces et les sauts de lignes\n",
    "content = content.replace(\" \", \"\")\n",
    "content = content.replace(\"\\n\", \"\")\n",
    "#trouver le point\n",
    "point = content.find(\".\")\n",
    "# Ne garder que les chiffres après le point\n",
    "content = content[point+1:]\n",
    "content = filter(str.isdigit, content)\n",
    "data = np.array([int(c) for c in content])\n",
    "\n",
    "print(f\"data = {data}\")"
   ]
  },
  {
   "cell_type": "code",
   "execution_count": 89,
   "metadata": {},
   "outputs": [
    {
     "ename": "ValueError",
     "evalue": "'log10' is not a valid value for scale; supported values are 'linear', 'log', 'symlog', 'asinh', 'logit', 'function', 'functionlog'",
     "output_type": "error",
     "traceback": [
      "\u001b[1;31m---------------------------------------------------------------------------\u001b[0m",
      "\u001b[1;31mValueError\u001b[0m                                Traceback (most recent call last)",
      "Cell \u001b[1;32mIn[89], line 32\u001b[0m\n\u001b[0;32m     29\u001b[0m \u001b[38;5;66;03m#plt.xlabel('Intervalles')\u001b[39;00m\n\u001b[0;32m     30\u001b[0m \u001b[38;5;66;03m#plt.xscale('linear')\u001b[39;00m\n\u001b[0;32m     31\u001b[0m plt\u001b[38;5;241m.\u001b[39mxticks(bins)\n\u001b[1;32m---> 32\u001b[0m \u001b[43mplt\u001b[49m\u001b[38;5;241;43m.\u001b[39;49m\u001b[43myscale\u001b[49m\u001b[43m(\u001b[49m\u001b[38;5;124;43m'\u001b[39;49m\u001b[38;5;124;43mlog10\u001b[39;49m\u001b[38;5;124;43m'\u001b[39;49m\u001b[43m)\u001b[49m\n\u001b[0;32m     33\u001b[0m \u001b[38;5;66;03m#plt.yticks([10**i for i in range(6)])\u001b[39;00m\n\u001b[0;32m     34\u001b[0m plt\u001b[38;5;241m.\u001b[39mylabel(\u001b[38;5;124m'\u001b[39m\u001b[38;5;124mEffectifs\u001b[39m\u001b[38;5;124m'\u001b[39m)\n",
      "File \u001b[1;32mc:\\Users\\lance\\AppData\\Local\\Programs\\Python\\Python313\\Lib\\site-packages\\matplotlib\\pyplot.py:4427\u001b[0m, in \u001b[0;36myscale\u001b[1;34m(value, **kwargs)\u001b[0m\n\u001b[0;32m   4425\u001b[0m \u001b[38;5;129m@_copy_docstring_and_deprecators\u001b[39m(Axes\u001b[38;5;241m.\u001b[39mset_yscale)\n\u001b[0;32m   4426\u001b[0m \u001b[38;5;28;01mdef\u001b[39;00m\u001b[38;5;250m \u001b[39m\u001b[38;5;21myscale\u001b[39m(value: \u001b[38;5;28mstr\u001b[39m \u001b[38;5;241m|\u001b[39m ScaleBase, \u001b[38;5;241m*\u001b[39m\u001b[38;5;241m*\u001b[39mkwargs) \u001b[38;5;241m-\u001b[39m\u001b[38;5;241m>\u001b[39m \u001b[38;5;28;01mNone\u001b[39;00m:\n\u001b[1;32m-> 4427\u001b[0m     \u001b[43mgca\u001b[49m\u001b[43m(\u001b[49m\u001b[43m)\u001b[49m\u001b[38;5;241;43m.\u001b[39;49m\u001b[43mset_yscale\u001b[49m\u001b[43m(\u001b[49m\u001b[43mvalue\u001b[49m\u001b[43m,\u001b[49m\u001b[43m \u001b[49m\u001b[38;5;241;43m*\u001b[39;49m\u001b[38;5;241;43m*\u001b[39;49m\u001b[43mkwargs\u001b[49m\u001b[43m)\u001b[49m\n",
      "File \u001b[1;32mc:\\Users\\lance\\AppData\\Local\\Programs\\Python\\Python313\\Lib\\site-packages\\matplotlib\\axes\\_base.py:74\u001b[0m, in \u001b[0;36m_axis_method_wrapper.__set_name__.<locals>.wrapper\u001b[1;34m(self, *args, **kwargs)\u001b[0m\n\u001b[0;32m     73\u001b[0m \u001b[38;5;28;01mdef\u001b[39;00m\u001b[38;5;250m \u001b[39m\u001b[38;5;21mwrapper\u001b[39m(\u001b[38;5;28mself\u001b[39m, \u001b[38;5;241m*\u001b[39margs, \u001b[38;5;241m*\u001b[39m\u001b[38;5;241m*\u001b[39mkwargs):\n\u001b[1;32m---> 74\u001b[0m     \u001b[38;5;28;01mreturn\u001b[39;00m \u001b[43mget_method\u001b[49m\u001b[43m(\u001b[49m\u001b[38;5;28;43mself\u001b[39;49m\u001b[43m)\u001b[49m\u001b[43m(\u001b[49m\u001b[38;5;241;43m*\u001b[39;49m\u001b[43margs\u001b[49m\u001b[43m,\u001b[49m\u001b[43m \u001b[49m\u001b[38;5;241;43m*\u001b[39;49m\u001b[38;5;241;43m*\u001b[39;49m\u001b[43mkwargs\u001b[49m\u001b[43m)\u001b[49m\n",
      "File \u001b[1;32mc:\\Users\\lance\\AppData\\Local\\Programs\\Python\\Python313\\Lib\\site-packages\\matplotlib\\axis.py:805\u001b[0m, in \u001b[0;36mAxis._set_axes_scale\u001b[1;34m(self, value, **kwargs)\u001b[0m\n\u001b[0;32m    802\u001b[0m old_default_lims \u001b[38;5;241m=\u001b[39m (\u001b[38;5;28mself\u001b[39m\u001b[38;5;241m.\u001b[39mget_major_locator()\n\u001b[0;32m    803\u001b[0m                     \u001b[38;5;241m.\u001b[39mnonsingular(\u001b[38;5;241m-\u001b[39mnp\u001b[38;5;241m.\u001b[39minf, np\u001b[38;5;241m.\u001b[39minf))\n\u001b[0;32m    804\u001b[0m \u001b[38;5;28;01mfor\u001b[39;00m ax \u001b[38;5;129;01min\u001b[39;00m \u001b[38;5;28mself\u001b[39m\u001b[38;5;241m.\u001b[39m_get_shared_axes():\n\u001b[1;32m--> 805\u001b[0m     \u001b[43max\u001b[49m\u001b[38;5;241;43m.\u001b[39;49m\u001b[43m_axis_map\u001b[49m\u001b[43m[\u001b[49m\u001b[43mname\u001b[49m\u001b[43m]\u001b[49m\u001b[38;5;241;43m.\u001b[39;49m\u001b[43m_set_scale\u001b[49m\u001b[43m(\u001b[49m\u001b[43mvalue\u001b[49m\u001b[43m,\u001b[49m\u001b[43m \u001b[49m\u001b[38;5;241;43m*\u001b[39;49m\u001b[38;5;241;43m*\u001b[39;49m\u001b[43mkwargs\u001b[49m\u001b[43m)\u001b[49m\n\u001b[0;32m    806\u001b[0m     ax\u001b[38;5;241m.\u001b[39m_update_transScale()\n\u001b[0;32m    807\u001b[0m     ax\u001b[38;5;241m.\u001b[39mstale \u001b[38;5;241m=\u001b[39m \u001b[38;5;28;01mTrue\u001b[39;00m\n",
      "File \u001b[1;32mc:\\Users\\lance\\AppData\\Local\\Programs\\Python\\Python313\\Lib\\site-packages\\matplotlib\\axis.py:763\u001b[0m, in \u001b[0;36mAxis._set_scale\u001b[1;34m(self, value, **kwargs)\u001b[0m\n\u001b[0;32m    761\u001b[0m \u001b[38;5;28;01mdef\u001b[39;00m\u001b[38;5;250m \u001b[39m\u001b[38;5;21m_set_scale\u001b[39m(\u001b[38;5;28mself\u001b[39m, value, \u001b[38;5;241m*\u001b[39m\u001b[38;5;241m*\u001b[39mkwargs):\n\u001b[0;32m    762\u001b[0m     \u001b[38;5;28;01mif\u001b[39;00m \u001b[38;5;129;01mnot\u001b[39;00m \u001b[38;5;28misinstance\u001b[39m(value, mscale\u001b[38;5;241m.\u001b[39mScaleBase):\n\u001b[1;32m--> 763\u001b[0m         \u001b[38;5;28mself\u001b[39m\u001b[38;5;241m.\u001b[39m_scale \u001b[38;5;241m=\u001b[39m \u001b[43mmscale\u001b[49m\u001b[38;5;241;43m.\u001b[39;49m\u001b[43mscale_factory\u001b[49m\u001b[43m(\u001b[49m\u001b[43mvalue\u001b[49m\u001b[43m,\u001b[49m\u001b[43m \u001b[49m\u001b[38;5;28;43mself\u001b[39;49m\u001b[43m,\u001b[49m\u001b[43m \u001b[49m\u001b[38;5;241;43m*\u001b[39;49m\u001b[38;5;241;43m*\u001b[39;49m\u001b[43mkwargs\u001b[49m\u001b[43m)\u001b[49m\n\u001b[0;32m    764\u001b[0m     \u001b[38;5;28;01melse\u001b[39;00m:\n\u001b[0;32m    765\u001b[0m         \u001b[38;5;28mself\u001b[39m\u001b[38;5;241m.\u001b[39m_scale \u001b[38;5;241m=\u001b[39m value\n",
      "File \u001b[1;32mc:\\Users\\lance\\AppData\\Local\\Programs\\Python\\Python313\\Lib\\site-packages\\matplotlib\\scale.py:708\u001b[0m, in \u001b[0;36mscale_factory\u001b[1;34m(scale, axis, **kwargs)\u001b[0m\n\u001b[0;32m    699\u001b[0m \u001b[38;5;28;01mdef\u001b[39;00m\u001b[38;5;250m \u001b[39m\u001b[38;5;21mscale_factory\u001b[39m(scale, axis, \u001b[38;5;241m*\u001b[39m\u001b[38;5;241m*\u001b[39mkwargs):\n\u001b[0;32m    700\u001b[0m \u001b[38;5;250m    \u001b[39m\u001b[38;5;124;03m\"\"\"\u001b[39;00m\n\u001b[0;32m    701\u001b[0m \u001b[38;5;124;03m    Return a scale class by name.\u001b[39;00m\n\u001b[0;32m    702\u001b[0m \n\u001b[1;32m   (...)\u001b[0m\n\u001b[0;32m    706\u001b[0m \u001b[38;5;124;03m    axis : `~matplotlib.axis.Axis`\u001b[39;00m\n\u001b[0;32m    707\u001b[0m \u001b[38;5;124;03m    \"\"\"\u001b[39;00m\n\u001b[1;32m--> 708\u001b[0m     scale_cls \u001b[38;5;241m=\u001b[39m \u001b[43m_api\u001b[49m\u001b[38;5;241;43m.\u001b[39;49m\u001b[43mcheck_getitem\u001b[49m\u001b[43m(\u001b[49m\u001b[43m_scale_mapping\u001b[49m\u001b[43m,\u001b[49m\u001b[43m \u001b[49m\u001b[43mscale\u001b[49m\u001b[38;5;241;43m=\u001b[39;49m\u001b[43mscale\u001b[49m\u001b[43m)\u001b[49m\n\u001b[0;32m    709\u001b[0m     \u001b[38;5;28;01mreturn\u001b[39;00m scale_cls(axis, \u001b[38;5;241m*\u001b[39m\u001b[38;5;241m*\u001b[39mkwargs)\n",
      "File \u001b[1;32mc:\\Users\\lance\\AppData\\Local\\Programs\\Python\\Python313\\Lib\\site-packages\\matplotlib\\_api\\__init__.py:184\u001b[0m, in \u001b[0;36mcheck_getitem\u001b[1;34m(mapping, **kwargs)\u001b[0m\n\u001b[0;32m    182\u001b[0m     \u001b[38;5;28;01mreturn\u001b[39;00m mapping[v]\n\u001b[0;32m    183\u001b[0m \u001b[38;5;28;01mexcept\u001b[39;00m \u001b[38;5;167;01mKeyError\u001b[39;00m:\n\u001b[1;32m--> 184\u001b[0m     \u001b[38;5;28;01mraise\u001b[39;00m \u001b[38;5;167;01mValueError\u001b[39;00m(\n\u001b[0;32m    185\u001b[0m         \u001b[38;5;124mf\u001b[39m\u001b[38;5;124m\"\u001b[39m\u001b[38;5;132;01m{\u001b[39;00mv\u001b[38;5;132;01m!r}\u001b[39;00m\u001b[38;5;124m is not a valid value for \u001b[39m\u001b[38;5;132;01m{\u001b[39;00mk\u001b[38;5;132;01m}\u001b[39;00m\u001b[38;5;124m; supported values are \u001b[39m\u001b[38;5;124m\"\u001b[39m\n\u001b[0;32m    186\u001b[0m         \u001b[38;5;124mf\u001b[39m\u001b[38;5;124m\"\u001b[39m\u001b[38;5;132;01m{\u001b[39;00m\u001b[38;5;124m'\u001b[39m\u001b[38;5;124m, \u001b[39m\u001b[38;5;124m'\u001b[39m\u001b[38;5;241m.\u001b[39mjoin(\u001b[38;5;28mmap\u001b[39m(\u001b[38;5;28mrepr\u001b[39m,\u001b[38;5;250m \u001b[39mmapping))\u001b[38;5;132;01m}\u001b[39;00m\u001b[38;5;124m\"\u001b[39m) \u001b[38;5;28;01mfrom\u001b[39;00m\u001b[38;5;250m \u001b[39m\u001b[38;5;28;01mNone\u001b[39;00m\n",
      "\u001b[1;31mValueError\u001b[0m: 'log10' is not a valid value for scale; supported values are 'linear', 'log', 'symlog', 'asinh', 'logit', 'function', 'functionlog'"
     ]
    },
    {
     "data": {
      "image/png": "[encoded data removed]",
      "text/plain": [
       "<Figure size 640x480 with 1 Axes>"
      ]
     },
     "metadata": {},
     "output_type": "display_data"
    }
   ],
   "source": [
    "N = len(data)\n",
    "p = N / 10\n",
    "\n",
    "# Calcul des histogrammes\n",
    "observed = np.bincount(data)\n",
    "bins = np.arange(11)\n",
    "bin_width = bins[1] - bins[0]\n",
    "\n",
    "expected = np.full(len(observed),p)\n",
    "\n",
    "# Positions des barres\n",
    "obs_pos = bins[:-1] + bin_width * 0.2\n",
    "exp_pos = bins[:-1] + bin_width * 0.55\n",
    "bar_width = bin_width * 0.35\n",
    "\n",
    "# Tracé des barres\n",
    "plt.bar(obs_pos, observed, width=bar_width,\n",
    "        color='tomato', edgecolor='darkred',\n",
    "        label='Observé', alpha=0.9)\n",
    "\n",
    "plt.bar(exp_pos, expected,\n",
    "        width=bar_width, color='limegreen',\n",
    "        edgecolor='darkgreen', label='Théorique',\n",
    "        alpha=0.9)\n",
    "plt.axhline(N/10, color='darkgreen', linestyle='--', alpha=0.9 , label = f'effectif attendu : {p :.2f} ')\n",
    "\n",
    "# Personnalisation\n",
    "plt.title(f'observés vs attendus', pad=12)\n",
    "#plt.xlabel('Intervalles')\n",
    "plt.xticks(bins)\n",
    "#plt.yticks([10**i for i in range(6)])\n",
    "plt.ylabel('Effectifs')\n",
    "plt.grid(axis='y', linestyle='--', alpha=0.6)\n",
    "plt.legend()\n",
    "plt.show()"
   ]
  },
  {
   "cell_type": "code",
   "execution_count": null,
   "metadata": {},
   "outputs": [],
   "source": [
    "# Calcul des erreurs\n",
    "error = np.abs(observed - expected)\n",
    "percent_error = (error / p)*100\n",
    "#Affichage des erreurs des\n",
    "header = f\"|{'observed':^10} | {'expected':^10} | {'error':^10} | {'% error':^10} |\"\n",
    "separator = \"-\"*(len(header))\n",
    "print(separator)\n",
    "print(header)\n",
    "print(separator)\n",
    "for i in range(len(observed)):\n",
    "    print(f\"|{observed[i]:^10} | {int(expected[i]):^10} | {int(error[i]):^8}   | {percent_error[i]:^7.2f} %  |\")\n",
    "print(separator)"
   ]
  },
  {
   "cell_type": "markdown",
   "metadata": {},
   "source": [
    "on obtient le \n",
    "| effectifs observés | effectifs Attendus| erreur abs| % erreur|\n",
    "|:-------:|:------:|:---------:|:--------:|\n",
    "|||||\n",
    "|199093|200000|907|0.45%|\n",
    "|200171|200000|171|0.09%|\n",
    "|199471|200000|529|0.26%|\n",
    "|200361|200000|361|0.18%|\n",
    "|199923|200000|77|0.04%|\n",
    "|200285|200000|285|0.14%|\n",
    "|200395|200000|395|0.20%|\n",
    "|199789|200000|211|0.11%|\n",
    "|200098|200000|98|0.05%|\n",
    "|200414|200000|414|0.21%|\n"
   ]
  },
  {
   "cell_type": "markdown",
   "metadata": {},
   "source": [
    "### Observations\n",
    "\n",
    "On constate que : \n",
    "- On remarque d'abord que la repartition des effectifs de chaque classe n'est pas toujours uniforme  et égale effectifs attendus\n",
    "- lorsqu'on reparti les nombres sur moins de 10 classes , les effectifs ne sont pas unifrome\n",
    "\n",
    "on constates que pour chaque cas , "
   ]
  },
  {
   "cell_type": "markdown",
   "metadata": {},
   "source": [
    "## 1.2 Etude rigoureruse des décimales par les tests\n",
    "\n",
    "pour cette étude comme pour la suite (compraison des performances des générateurs )"
   ]
  },
  {
   "cell_type": "markdown",
   "metadata": {},
   "source": [
    "# 2. NOTRE GENERATEUR\n",
    "---\n",
    "\n",
    "\n",
    "Après quelques petites recherches , sur différents algorithmes de nombres pseudo-aléatoires ( Von Neumann , RSA , XOTshift , Congruence linéaire ...). Nous avons optez pour l'utilisation d'une congruence linéaire ( plus accessibble pour nous parce que c'est une notion vu en cours ) combiné à un XORshift opération qui permettrait d'ajouter plus d'aléa\n",
    "\n"
   ]
  },
  {
   "cell_type": "markdown",
   "metadata": {},
   "source": [
    "## 2.1 Fonctionnement du Générateur\n",
    "\n"
   ]
  },
  {
   "cell_type": "markdown",
   "metadata": {},
   "source": [
    "## 2.2 choix des paramètres "
   ]
  },
  {
   "cell_type": "markdown",
   "metadata": {},
   "source": [
    "## 2.3 Algorithme python (voir fichier [``Generators.py``]()"
   ]
  },
  {
   "cell_type": "markdown",
   "metadata": {},
   "source": [
    "# 3. COMPARAISON NOTRE GENERATEUR VS GENERATEUR DE PYTHON\n",
    "---"
   ]
  },
  {
   "cell_type": "markdown",
   "metadata": {},
   "source": [
    "## 3.1 Tests sur les séries générées"
   ]
  },
  {
   "cell_type": "markdown",
   "metadata": {},
   "source": [
    "## 3.2 Observations et Interprétation des résultats"
   ]
  },
  {
   "cell_type": "markdown",
   "metadata": {},
   "source": [
    "## Conculsion de la comparaison"
   ]
  },
  {
   "cell_type": "markdown",
   "metadata": {},
   "source": [
    "# Conclusion Générale"
   ]
  }
 ],
 "metadata": {
  "kernelspec": {
   "display_name": "Python 3",
   "language": "python",
   "name": "python3"
  },
  "language_info": {
   "codemirror_mode": {
    "name": "ipython",
    "version": 3
   },
   "file_extension": ".py",
   "mimetype": "text/x-python",
   "name": "python",
   "nbconvert_exporter": "python",
   "pygments_lexer": "ipython3",
   "version": "3.13.2"
  }
 },
 "nbformat": 4,
 "nbformat_minor": 2
}
