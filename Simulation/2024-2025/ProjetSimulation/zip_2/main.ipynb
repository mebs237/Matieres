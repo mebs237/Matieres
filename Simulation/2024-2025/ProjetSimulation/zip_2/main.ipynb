{
 "cells": [
  {
   "cell_type": "code",
   "execution_count": 1,
   "metadata": {},
   "outputs": [],
   "source": [
    "# -*- coding: utf-8 -*-\n",
    "from IPython.display import display , Markdown\n",
    "from modules.Utils import (read_decimal_file , group_digits)\n",
    "from modules.Generators import (PythonGenerator, OurGenerator)\n",
    "from modules.Tests import (Chi2Test, KSTest, CouponCollectorTest , GapTest,PokerTest,MaximumTest)\n",
    "from modules.Analysing import ( SequenceAnalyzer, GeneratorAnalyzer)\n",
    "from numpy import asarray , clip\n"
   ]
  },
  {
   "cell_type": "markdown",
   "metadata": {},
   "source": [
    "# Analyse des décimales de e"
   ]
  },
  {
   "cell_type": "markdown",
   "metadata": {},
   "source": [
    "Pour Dans le but d'approfondir notre étude , nous testerons la séquence sous plusieurs sous 3 formes\n",
    "- la séquence initiale de décimales constituée de chiffre\n",
    "- les séquences des nombres qui sont le regroupement de 2 (puis 3) chiffres  consécutifs de la séquence initiale\n",
    "- les sous séquences des 1000 , 7000 , 10000 , et 100_000 premiers décimaux\n",
    "\n",
    "on prendra les seuils `` α  = [0.01 , 0.05 , 0.1 ]``\n",
    "\n",
    "les tests utilisées seront :\n",
    "- Kolmogorov smirnov : avec la fonction de repartition de la loi uniforme entre : \n",
    "  - [0,9] pour la séquences initiales et ses sous séquences (sinon le test serait biaisé)\n",
    "  - [0,99] pour la séquence de chiffres regroupées par 2 \n",
    "- $\\chi^2$ : prennant ``n_bins = 10 `` , car on suppose que la séquences contient tous les chiffres {0 à 10}\n",
    "- le test du Gap : avec comme borne ``a = 0.1 , b = 0.4``\n",
    "- le Collectionneur de coupons : avec les paramètres :\n",
    "  - nb_coupon = 10 pour la séquence initiale et ses sous séquences\n",
    "  - nb_coupon = 100 pour "
   ]
  },
  {
   "cell_type": "code",
   "execution_count": 2,
   "metadata": {},
   "outputs": [],
   "source": [
    "seuils = [0.01 , 0.05 , 0.1]\n",
    "gran = [0.000023, 0.00034, 0.0045, 0.035, 0.4, 1.0]"
   ]
  },
  {
   "cell_type": "code",
   "execution_count": 11,
   "metadata": {},
   "outputs": [],
   "source": [
    "def cdf_ab(x,a=0,b=1):\n",
    "    \"\"\"fonction de répartition de la loi uniforme sur [a,b]\"\"\"\n",
    "    x = asarray(x)\n",
    "    return clip((x-a)/(b-a), 0, 1)\n",
    "\n",
    "# tests pour l'analyse des décimales de e\n",
    "tests_for_decimals = [Chi2Test() ,\n",
    "                      KSTest(cdf=lambda x :cdf_ab(x,0,9)) ,\n",
    "                      CouponCollectorTest(nb_coupons=10),\n",
    "                      GapTest(max_gap=1000),\n",
    "                      MaximumTest(),PokerTest()]\n",
    "# Lecture et stockage des décimales dans une liste\n",
    "decimals = read_decimal_file(\"data/e2M.txt\")\n"
   ]
  },
  {
   "cell_type": "code",
   "execution_count": 27,
   "metadata": {},
   "outputs": [
    {
     "name": "stdout",
     "output_type": "stream",
     "text": [
      "start computing SequenceAnalyzer_decimals(alpha=5.0%)\n",
      "compute for Chi2Test(nbbins=10)...100.0%...\n",
      "end computing\n"
     ]
    },
    {
     "data": {
      "text/markdown": [
       "# Pour  test : Chi2Test(nbbins=10)"
      ],
      "text/plain": [
       "<IPython.core.display.Markdown object>"
      ]
     },
     "metadata": {},
     "output_type": "display_data"
    },
    {
     "data": {
      "text/markdown": [
       "## Rapport Analyse decimals(alpha=5.0%)\n",
       "### synthèse Global\n",
       "\n",
       "- P-value moyenne : 0.470 (attendu 0.5 , IC à 95% : [0.000, 1.000])\n",
       "- P-value conforme aux attentes\n",
       "- Taux d'accept moyen : 100.0% (attendu 95% IC à 95% : [0.0%, 100.0%])\n",
       "- Taux d'acceptation conforme aux attentes\n",
       "- Conclusion : On accepte l'uniformité"
      ],
      "text/plain": [
       "<IPython.core.display.Markdown object>"
      ]
     },
     "metadata": {},
     "output_type": "display_data"
    },
    {
     "name": "stdout",
     "output_type": "stream",
     "text": [
      "--------------------------------------------------\n",
      "start computing SequenceAnalyzer_decimals(alpha=5.0%)\n",
      "compute for KSTest(customed)...100.0%...\n",
      "end computing\n"
     ]
    },
    {
     "data": {
      "text/markdown": [
       "# Pour  test : KSTest(customed)"
      ],
      "text/plain": [
       "<IPython.core.display.Markdown object>"
      ]
     },
     "metadata": {},
     "output_type": "display_data"
    },
    {
     "data": {
      "text/markdown": [
       "## Rapport Analyse decimals(alpha=5.0%)\n",
       "### synthèse Global\n",
       "\n",
       "- P-value moyenne : 0.000 (attendu 0.5 , IC à 95% : [0.000, 1.000])\n",
       "- P-value conforme aux attentes\n",
       "- Taux d'accept moyen : 0.0% (attendu 95% IC à 95% : [0.0%, 100.0%])\n",
       "- Taux d'acceptation conforme aux attentes\n",
       "- Conclusion : On accepte l'uniformité"
      ],
      "text/plain": [
       "<IPython.core.display.Markdown object>"
      ]
     },
     "metadata": {},
     "output_type": "display_data"
    },
    {
     "name": "stdout",
     "output_type": "stream",
     "text": [
      "--------------------------------------------------\n",
      "start computing SequenceAnalyzer_decimals(alpha=5.0%)\n",
      "compute for CouponCollectorTest(nbcoupon=10)...100.0%...\n",
      "end computing\n"
     ]
    },
    {
     "data": {
      "text/markdown": [
       "# Pour  test : CouponCollectorTest(nbcoupon=10)"
      ],
      "text/plain": [
       "<IPython.core.display.Markdown object>"
      ]
     },
     "metadata": {},
     "output_type": "display_data"
    },
    {
     "data": {
      "text/markdown": [
       "## Rapport Analyse decimals(alpha=5.0%)\n",
       "### synthèse Global\n",
       "\n",
       "- P-value moyenne : 0.485 (attendu 0.5 , IC à 95% : [0.000, 1.000])\n",
       "- P-value conforme aux attentes\n",
       "- Taux d'accept moyen : 100.0% (attendu 95% IC à 95% : [0.0%, 100.0%])\n",
       "- Taux d'acceptation conforme aux attentes\n",
       "- Conclusion : On accepte l'uniformité"
      ],
      "text/plain": [
       "<IPython.core.display.Markdown object>"
      ]
     },
     "metadata": {},
     "output_type": "display_data"
    },
    {
     "name": "stdout",
     "output_type": "stream",
     "text": [
      "--------------------------------------------------\n",
      "start computing SequenceAnalyzer_decimals(alpha=5.0%)\n",
      "compute for GapTest([ 0.1 , 0.4 ])...100.0%...\n",
      "end computing\n"
     ]
    },
    {
     "data": {
      "text/markdown": [
       "# Pour  test : GapTest([ 0.1 , 0.4 ])"
      ],
      "text/plain": [
       "<IPython.core.display.Markdown object>"
      ]
     },
     "metadata": {},
     "output_type": "display_data"
    },
    {
     "data": {
      "text/markdown": [
       "## Rapport Analyse decimals(alpha=5.0%)\n",
       "### synthèse Global\n",
       "\n",
       "- P-value moyenne : 0.321 (attendu 0.5 , IC à 95% : [0.000, 1.000])\n",
       "- P-value conforme aux attentes\n",
       "- Taux d'accept moyen : 100.0% (attendu 95% IC à 95% : [0.0%, 100.0%])\n",
       "- Taux d'acceptation conforme aux attentes\n",
       "- Conclusion : On accepte l'uniformité"
      ],
      "text/plain": [
       "<IPython.core.display.Markdown object>"
      ]
     },
     "metadata": {},
     "output_type": "display_data"
    },
    {
     "name": "stdout",
     "output_type": "stream",
     "text": [
      "--------------------------------------------------\n",
      "start computing SequenceAnalyzer_decimals(alpha=5.0%)\n",
      "compute for MaximumTest(groupsize=5)...100.0%...\n",
      "end computing\n"
     ]
    },
    {
     "data": {
      "text/markdown": [
       "# Pour  test : MaximumTest(groupsize=5)"
      ],
      "text/plain": [
       "<IPython.core.display.Markdown object>"
      ]
     },
     "metadata": {},
     "output_type": "display_data"
    },
    {
     "data": {
      "text/markdown": [
       "## Rapport Analyse decimals(alpha=5.0%)\n",
       "### synthèse Global\n",
       "\n",
       "- P-value moyenne : 0.000 (attendu 0.5 , IC à 95% : [0.000, 1.000])\n",
       "- P-value conforme aux attentes\n",
       "- Taux d'accept moyen : 0.0% (attendu 95% IC à 95% : [0.0%, 100.0%])\n",
       "- Taux d'acceptation conforme aux attentes\n",
       "- Conclusion : On accepte l'uniformité"
      ],
      "text/plain": [
       "<IPython.core.display.Markdown object>"
      ]
     },
     "metadata": {},
     "output_type": "display_data"
    },
    {
     "name": "stdout",
     "output_type": "stream",
     "text": [
      "--------------------------------------------------\n",
      "start computing SequenceAnalyzer_decimals(alpha=5.0%)\n",
      "compute for PokerTest(groupsize=5,nbbins=6)...100.0%...\n",
      "end computing\n"
     ]
    },
    {
     "data": {
      "text/markdown": [
       "# Pour  test : PokerTest(groupsize=5,nbbins=6)"
      ],
      "text/plain": [
       "<IPython.core.display.Markdown object>"
      ]
     },
     "metadata": {},
     "output_type": "display_data"
    },
    {
     "data": {
      "text/markdown": [
       "## Rapport Analyse decimals(alpha=5.0%)\n",
       "### synthèse Global\n",
       "\n",
       "- P-value moyenne : 0.576 (attendu 0.5 , IC à 95% : [0.000, 1.000])\n",
       "- P-value conforme aux attentes\n",
       "- Taux d'accept moyen : 100.0% (attendu 95% IC à 95% : [0.0%, 100.0%])\n",
       "- Taux d'acceptation conforme aux attentes\n",
       "- Conclusion : On accepte l'uniformité"
      ],
      "text/plain": [
       "<IPython.core.display.Markdown object>"
      ]
     },
     "metadata": {},
     "output_type": "display_data"
    },
    {
     "name": "stdout",
     "output_type": "stream",
     "text": [
      "--------------------------------------------------\n"
     ]
    }
   ],
   "source": [
    "Analysers1 = [SequenceAnalyzer(decimals,tests=[tes],name=\"decimals\") for tes in tests_for_decimals]\n",
    "\n",
    "for ana in Analysers1:\n",
    "    ana.run()\n",
    "    display(Markdown(f\"# Pour  test : {ana.tests[0]}\"))\n",
    "    display(Markdown(ana.report(detail=True)))\n",
    "    print(\"-\"*50)"
   ]
  },
  {
   "cell_type": "code",
   "execution_count": 29,
   "metadata": {},
   "outputs": [
    {
     "name": "stdout",
     "output_type": "stream",
     "text": [
      "start computing SequenceAnalyzer_decimals(alpha=5.0%)\n",
      "compute for Chi2Test(nbbins=10)...100.0%...\n",
      "end computing\n"
     ]
    },
    {
     "data": {
      "text/markdown": [
       "# Pour  test : Chi2Test(nbbins=10)"
      ],
      "text/plain": [
       "<IPython.core.display.Markdown object>"
      ]
     },
     "metadata": {},
     "output_type": "display_data"
    },
    {
     "data": {
      "text/markdown": [
       "## Rapport Analyse decimals(alpha=5.0%)\n",
       "### synthèse Global\n",
       "\n",
       "- P-value moyenne : nan (attendu 0.5 , IC à 95% : [0.000, 1.000])\n",
       "- P-value conforme aux attentes\n",
       "- Taux d'accept moyen : nan% (attendu 95% IC à 95% : [0.0%, 100.0%])\n",
       "- Taux d'acceptation conforme aux attentes\n",
       "- Conclusion : On accepte l'uniformité"
      ],
      "text/plain": [
       "<IPython.core.display.Markdown object>"
      ]
     },
     "metadata": {},
     "output_type": "display_data"
    },
    {
     "name": "stdout",
     "output_type": "stream",
     "text": [
      "--------------------------------------------------\n",
      "start computing SequenceAnalyzer_decimals(alpha=5.0%)\n",
      "compute for KSTest(customed)...100.0%...\n",
      "end computing\n"
     ]
    },
    {
     "data": {
      "text/markdown": [
       "# Pour  test : KSTest(customed)"
      ],
      "text/plain": [
       "<IPython.core.display.Markdown object>"
      ]
     },
     "metadata": {},
     "output_type": "display_data"
    },
    {
     "data": {
      "text/markdown": [
       "## Rapport Analyse decimals(alpha=5.0%)\n",
       "### synthèse Global\n",
       "\n",
       "- P-value moyenne : 0.546 (attendu 0.5 , IC à 95% : [0.545, 0.547])\n",
       "- P-value élevée : sur-ajustement probable ou tests biaisés (trop permissifs)\n",
       "- Taux d'accept moyen : 97.8% (attendu 95% IC à 95% : [97.8%, 97.9%])\n",
       "- Taux d'accept moyen élevé : sur-ajustement probable ou test(s) biaisé(s) (trop permissifs)\n",
       "- Conclusion : Sur-ajustement probable ou le/l'un des test(s) est(sont) biaisé(s)"
      ],
      "text/plain": [
       "<IPython.core.display.Markdown object>"
      ]
     },
     "metadata": {},
     "output_type": "display_data"
    },
    {
     "name": "stdout",
     "output_type": "stream",
     "text": [
      "--------------------------------------------------\n",
      "start computing SequenceAnalyzer_decimals(alpha=5.0%)\n",
      "compute for CouponCollectorTest(nbcoupon=10)...100.0%...\n",
      "end computing\n"
     ]
    },
    {
     "data": {
      "text/markdown": [
       "# Pour  test : CouponCollectorTest(nbcoupon=10)"
      ],
      "text/plain": [
       "<IPython.core.display.Markdown object>"
      ]
     },
     "metadata": {},
     "output_type": "display_data"
    },
    {
     "data": {
      "text/markdown": [
       "## Rapport Analyse decimals(alpha=5.0%)\n",
       "### synthèse Global\n",
       "\n",
       "- P-value moyenne : nan (attendu 0.5 , IC à 95% : [0.000, 1.000])\n",
       "- P-value conforme aux attentes\n",
       "- Taux d'accept moyen : nan% (attendu 95% IC à 95% : [0.0%, 100.0%])\n",
       "- Taux d'acceptation conforme aux attentes\n",
       "- Conclusion : On accepte l'uniformité"
      ],
      "text/plain": [
       "<IPython.core.display.Markdown object>"
      ]
     },
     "metadata": {},
     "output_type": "display_data"
    },
    {
     "name": "stdout",
     "output_type": "stream",
     "text": [
      "--------------------------------------------------\n",
      "start computing SequenceAnalyzer_decimals(alpha=5.0%)\n",
      "compute for GapTest([ 0.1 , 0.4 ])...100.0%...\n"
     ]
    },
    {
     "name": "stderr",
     "output_type": "stream",
     "text": [
      "c:\\Users\\lance\\OneDrive\\Documents\\Cours\\Simulation\\2024-2025\\ProjetSimulation\\src\\modules\\Tests.py:496: RuntimeWarning: invalid value encountered in divide\n",
      "  data = (data-min_data)/(max_data-min_data)\n"
     ]
    },
    {
     "name": "stdout",
     "output_type": "stream",
     "text": [
      "end computing\n"
     ]
    },
    {
     "data": {
      "text/markdown": [
       "# Pour  test : GapTest([ 0.1 , 0.4 ])"
      ],
      "text/plain": [
       "<IPython.core.display.Markdown object>"
      ]
     },
     "metadata": {},
     "output_type": "display_data"
    },
    {
     "data": {
      "text/markdown": [
       "## Rapport Analyse decimals(alpha=5.0%)\n",
       "### synthèse Global\n",
       "\n",
       "- P-value moyenne : nan (attendu 0.5 , IC à 95% : [0.000, 1.000])\n",
       "- P-value conforme aux attentes\n",
       "- Taux d'accept moyen : nan% (attendu 95% IC à 95% : [0.0%, 100.0%])\n",
       "- Taux d'acceptation conforme aux attentes\n",
       "- Conclusion : On accepte l'uniformité"
      ],
      "text/plain": [
       "<IPython.core.display.Markdown object>"
      ]
     },
     "metadata": {},
     "output_type": "display_data"
    },
    {
     "name": "stdout",
     "output_type": "stream",
     "text": [
      "--------------------------------------------------\n",
      "start computing SequenceAnalyzer_decimals(alpha=5.0%)\n",
      "compute for MaximumTest(groupsize=5)...100.0%...\n"
     ]
    },
    {
     "ename": "ValueError",
     "evalue": "La taille de l'échantillon (4) doit être au moins égale à group_size (5)",
     "output_type": "error",
     "traceback": [
      "\u001b[1;31m---------------------------------------------------------------------------\u001b[0m",
      "\u001b[1;31mValueError\u001b[0m                                Traceback (most recent call last)",
      "Cell \u001b[1;32mIn[29], line 7\u001b[0m\n\u001b[0;32m      1\u001b[0m Analysers2 \u001b[38;5;241m=\u001b[39m [SequenceAnalyzer(decimals,\n\u001b[0;32m      2\u001b[0m                                granularities\u001b[38;5;241m=\u001b[39m[\u001b[38;5;241m0.0000023\u001b[39m],\n\u001b[0;32m      3\u001b[0m                                tests\u001b[38;5;241m=\u001b[39m[tes],\n\u001b[0;32m      4\u001b[0m                                name\u001b[38;5;241m=\u001b[39m\u001b[38;5;124m\"\u001b[39m\u001b[38;5;124mdecimals\u001b[39m\u001b[38;5;124m\"\u001b[39m) \u001b[38;5;28;01mfor\u001b[39;00m tes \u001b[38;5;129;01min\u001b[39;00m tests_for_decimals]\n\u001b[0;32m      6\u001b[0m \u001b[38;5;28;01mfor\u001b[39;00m ana \u001b[38;5;129;01min\u001b[39;00m Analysers2:\n\u001b[1;32m----> 7\u001b[0m     \u001b[43mana\u001b[49m\u001b[38;5;241;43m.\u001b[39;49m\u001b[43mrun\u001b[49m\u001b[43m(\u001b[49m\u001b[43m)\u001b[49m\n\u001b[0;32m      8\u001b[0m     display(Markdown(\u001b[38;5;124mf\u001b[39m\u001b[38;5;124m\"\u001b[39m\u001b[38;5;124m# Pour  test : \u001b[39m\u001b[38;5;132;01m{\u001b[39;00mana\u001b[38;5;241m.\u001b[39mtests[\u001b[38;5;241m0\u001b[39m]\u001b[38;5;132;01m}\u001b[39;00m\u001b[38;5;124m\"\u001b[39m))\n\u001b[0;32m      9\u001b[0m     display(Markdown(ana\u001b[38;5;241m.\u001b[39mreport(detail\u001b[38;5;241m=\u001b[39m\u001b[38;5;28;01mTrue\u001b[39;00m)))\n",
      "File \u001b[1;32mc:\\Users\\lance\\OneDrive\\Documents\\Cours\\Simulation\\2024-2025\\ProjetSimulation\\src\\modules\\Analysing.py:532\u001b[0m, in \u001b[0;36mSequenceAnalyzer.run\u001b[1;34m(self)\u001b[0m\n\u001b[0;32m    530\u001b[0m     \u001b[38;5;28;01mraise\u001b[39;00m \u001b[38;5;167;01mRuntimeError\u001b[39;00m(\u001b[38;5;124m\"\u001b[39m\u001b[38;5;124mles calculs sont déjà excécutés , créer une autre instance\u001b[39m\u001b[38;5;124m\"\u001b[39m)\n\u001b[0;32m    531\u001b[0m \u001b[38;5;28mprint\u001b[39m(\u001b[38;5;124mf\u001b[39m\u001b[38;5;124m\"\u001b[39m\u001b[38;5;124mstart computing \u001b[39m\u001b[38;5;132;01m{\u001b[39;00m\u001b[38;5;28mself\u001b[39m\u001b[38;5;132;01m}\u001b[39;00m\u001b[38;5;124m\"\u001b[39m)\n\u001b[1;32m--> 532\u001b[0m res \u001b[38;5;241m=\u001b[39m \u001b[43manalyse_sequence\u001b[49m\u001b[43m(\u001b[49m\n\u001b[0;32m    533\u001b[0m \u001b[43m\u001b[49m\u001b[43msequence\u001b[49m\u001b[38;5;241;43m=\u001b[39;49m\u001b[38;5;28;43mself\u001b[39;49m\u001b[38;5;241;43m.\u001b[39;49m\u001b[43msequence\u001b[49m\u001b[43m,\u001b[49m\n\u001b[0;32m    534\u001b[0m \u001b[43m\u001b[49m\u001b[43mtests\u001b[49m\u001b[38;5;241;43m=\u001b[39;49m\u001b[38;5;28;43mself\u001b[39;49m\u001b[38;5;241;43m.\u001b[39;49m\u001b[43mtests\u001b[49m\u001b[43m,\u001b[49m\n\u001b[0;32m    535\u001b[0m \u001b[43m\u001b[49m\u001b[43malpha\u001b[49m\u001b[38;5;241;43m=\u001b[39;49m\u001b[38;5;28;43mself\u001b[39;49m\u001b[38;5;241;43m.\u001b[39;49m\u001b[43malpha\u001b[49m\u001b[43m,\u001b[49m\n\u001b[0;32m    536\u001b[0m \u001b[43m\u001b[49m\u001b[43mgranularities\u001b[49m\u001b[38;5;241;43m=\u001b[39;49m\u001b[38;5;28;43mself\u001b[39;49m\u001b[38;5;241;43m.\u001b[39;49m\u001b[43mgranularities\u001b[49m\u001b[43m,\u001b[49m\n\u001b[0;32m    537\u001b[0m \u001b[43m\u001b[49m\u001b[43mlog\u001b[49m\u001b[38;5;241;43m=\u001b[39;49m\u001b[38;5;28;43;01mTrue\u001b[39;49;00m\n\u001b[0;32m    538\u001b[0m \u001b[43m\u001b[49m\u001b[43m)\u001b[49m\n\u001b[0;32m    539\u001b[0m \u001b[38;5;28mprint\u001b[39m(\u001b[38;5;124m\"\u001b[39m\u001b[38;5;124mend computing\u001b[39m\u001b[38;5;124m\"\u001b[39m)\n\u001b[0;32m    540\u001b[0m \u001b[38;5;28mself\u001b[39m\u001b[38;5;241m.\u001b[39mruned \u001b[38;5;241m=\u001b[39m \u001b[38;5;28;01mTrue\u001b[39;00m\n",
      "File \u001b[1;32mc:\\Users\\lance\\OneDrive\\Documents\\Cours\\Simulation\\2024-2025\\ProjetSimulation\\src\\modules\\Analysing.py:64\u001b[0m, in \u001b[0;36manalyse_sequence\u001b[1;34m(sequence, tests, alpha, granularities, log)\u001b[0m\n\u001b[0;32m     62\u001b[0m \u001b[38;5;28;01mfor\u001b[39;00m i \u001b[38;5;129;01min\u001b[39;00m \u001b[38;5;28mrange\u001b[39m(\u001b[38;5;241m0\u001b[39m,n\u001b[38;5;241m-\u001b[39mw \u001b[38;5;241m+\u001b[39m\u001b[38;5;241m1\u001b[39m , w):\n\u001b[0;32m     63\u001b[0m     sub_seq \u001b[38;5;241m=\u001b[39m sequence[i:i\u001b[38;5;241m+\u001b[39mw]\n\u001b[1;32m---> 64\u001b[0m     test_result \u001b[38;5;241m=\u001b[39m \u001b[43mtest\u001b[49m\u001b[38;5;241;43m.\u001b[39;49m\u001b[43mrun_test\u001b[49m\u001b[43m(\u001b[49m\u001b[43msub_seq\u001b[49m\u001b[43m,\u001b[49m\u001b[43m \u001b[49m\u001b[43malpha\u001b[49m\u001b[43m)\u001b[49m\n\u001b[0;32m     65\u001b[0m     res \u001b[38;5;241m=\u001b[39m {\n\u001b[0;32m     66\u001b[0m     \u001b[38;5;124m\"\u001b[39m\u001b[38;5;124mTest\u001b[39m\u001b[38;5;124m\"\u001b[39m : \u001b[38;5;28mstr\u001b[39m(test),\n\u001b[0;32m     67\u001b[0m     \u001b[38;5;124m\"\u001b[39m\u001b[38;5;124mStart\u001b[39m\u001b[38;5;124m\"\u001b[39m : i,\n\u001b[1;32m   (...)\u001b[0m\n\u001b[0;32m     72\u001b[0m     \u001b[38;5;124m\"\u001b[39m\u001b[38;5;124maccept\u001b[39m\u001b[38;5;124m\"\u001b[39m : test_result\u001b[38;5;241m.\u001b[39maccept\n\u001b[0;32m     73\u001b[0m     }\n\u001b[0;32m     74\u001b[0m     results\u001b[38;5;241m.\u001b[39mappend(res)\n",
      "File \u001b[1;32mc:\\Users\\lance\\OneDrive\\Documents\\Cours\\Simulation\\2024-2025\\ProjetSimulation\\src\\modules\\Tests.py:812\u001b[0m, in \u001b[0;36mMaximumTest.run_test\u001b[1;34m(self, data, alpha, info)\u001b[0m\n\u001b[0;32m    810\u001b[0m n \u001b[38;5;241m=\u001b[39m \u001b[38;5;28mlen\u001b[39m(data)\n\u001b[0;32m    811\u001b[0m \u001b[38;5;28;01mif\u001b[39;00m n \u001b[38;5;241m<\u001b[39m \u001b[38;5;28mself\u001b[39m\u001b[38;5;241m.\u001b[39mgroup_size:\n\u001b[1;32m--> 812\u001b[0m     \u001b[38;5;28;01mraise\u001b[39;00m \u001b[38;5;167;01mValueError\u001b[39;00m(\u001b[38;5;124mf\u001b[39m\u001b[38;5;124m\"\u001b[39m\u001b[38;5;124mLa taille de l\u001b[39m\u001b[38;5;124m'\u001b[39m\u001b[38;5;124méchantillon (\u001b[39m\u001b[38;5;132;01m{\u001b[39;00mn\u001b[38;5;132;01m}\u001b[39;00m\u001b[38;5;124m) doit être au moins égale à group_size (\u001b[39m\u001b[38;5;132;01m{\u001b[39;00m\u001b[38;5;28mself\u001b[39m\u001b[38;5;241m.\u001b[39mgroup_size\u001b[38;5;132;01m}\u001b[39;00m\u001b[38;5;124m)\u001b[39m\u001b[38;5;124m\"\u001b[39m)\n\u001b[0;32m    814\u001b[0m \u001b[38;5;66;03m# Diviser les données en groupes de taille group_size\u001b[39;00m\n\u001b[0;32m    816\u001b[0m groups \u001b[38;5;241m=\u001b[39m [data[i:i \u001b[38;5;241m+\u001b[39m \u001b[38;5;28mself\u001b[39m\u001b[38;5;241m.\u001b[39mgroup_size] \u001b[38;5;28;01mfor\u001b[39;00m i \u001b[38;5;129;01min\u001b[39;00m \u001b[38;5;28mrange\u001b[39m(\u001b[38;5;241m0\u001b[39m , n \u001b[38;5;241m-\u001b[39m \u001b[38;5;28mself\u001b[39m\u001b[38;5;241m.\u001b[39mgroup_size \u001b[38;5;241m+\u001b[39m \u001b[38;5;241m1\u001b[39m , \u001b[38;5;28mself\u001b[39m\u001b[38;5;241m.\u001b[39mgroup_size)]\n",
      "\u001b[1;31mValueError\u001b[0m: La taille de l'échantillon (4) doit être au moins égale à group_size (5)"
     ]
    }
   ],
   "source": [
    "Analysers2 = [SequenceAnalyzer(decimals,\n",
    "                               granularities=[0.0000023],\n",
    "                               tests=[tes],\n",
    "                               name=\"decimals\") for tes in tests_for_decimals]\n",
    "\n",
    "for ana in Analysers2:\n",
    "    ana.run()\n",
    "    display(Markdown(f\"# Pour  test : {ana.tests[0]}\"))\n",
    "    display(Markdown(ana.report(detail=True)))\n",
    "    print(\"-\"*50)"
   ]
  },
  {
   "cell_type": "markdown",
   "metadata": {},
   "source": [
    "# Evaluation et comparaison des Générateurs"
   ]
  },
  {
   "cell_type": "markdown",
   "metadata": {},
   "source": [
    "Le but ici c'est d'évaluer nos générateurs contre celui de python puis comparer les résultats obtenus , cela via des des instances de comprarateurs impléméntés pour cela et selon plusieurs seuil"
   ]
  },
  {
   "cell_type": "code",
   "execution_count": null,
   "metadata": {},
   "outputs": [],
   "source": [
    "# tests pour l'évaluation et la comparaison de  générateurs\n",
    "test_for_gen = [Chi2Test(), KSTest(),CouponCollectorTest(),GapTest()]"
   ]
  }
 ],
 "metadata": {
  "kernelspec": {
   "display_name": "Python 3",
   "language": "python",
   "name": "python3"
  },
  "language_info": {
   "codemirror_mode": {
    "name": "ipython",
    "version": 3
   },
   "file_extension": ".py",
   "mimetype": "text/x-python",
   "name": "python",
   "nbconvert_exporter": "python",
   "pygments_lexer": "ipython3",
   "version": "3.13.3"
  }
 },
 "nbformat": 4,
 "nbformat_minor": 2
}
