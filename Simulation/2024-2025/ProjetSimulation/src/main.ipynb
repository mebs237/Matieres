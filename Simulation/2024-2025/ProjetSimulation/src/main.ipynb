{
 "cells": [
  {
   "cell_type": "code",
   "execution_count": 1,
   "metadata": {},
   "outputs": [],
   "source": [
    "from IPython.display import display , Markdown"
   ]
  },
  {
   "cell_type": "code",
   "execution_count": 2,
   "metadata": {},
   "outputs": [],
   "source": [
    "from utils_main import *"
   ]
  },
  {
   "cell_type": "code",
   "execution_count": 3,
   "metadata": {},
   "outputs": [],
   "source": [
    "from Generators import PythonGenerator, OurGenerator\n",
    "from Tests import (Chi2Test , GapTest , KSTest  , MaximumTest , PokerTest , CouponCollectorTest)\n"
   ]
  },
  {
   "cell_type": "code",
   "execution_count": 4,
   "metadata": {},
   "outputs": [],
   "source": [
    "from Analysing import ( analyse_sequence , evaluate_generator)\n"
   ]
  },
  {
   "cell_type": "code",
   "execution_count": 5,
   "metadata": {},
   "outputs": [],
   "source": [
    "tes = [Chi2Test(), GapTest(), KSTest(), MaximumTest(), PokerTest(), CouponCollectorTest()]"
   ]
  },
  {
   "cell_type": "code",
   "execution_count": 6,
   "metadata": {},
   "outputs": [],
   "source": [
    "ogen = OurGenerator(decimals=decimals)\n",
    "pgen = PythonGenerator()"
   ]
  },
  {
   "cell_type": "markdown",
   "metadata": {},
   "source": [
    "# Test des  fonctions"
   ]
  },
  {
   "cell_type": "code",
   "execution_count": 7,
   "metadata": {},
   "outputs": [],
   "source": [
    "uniform_seq = np.random.uniform(0,1,1000)\n",
    "non_uniform = np.random.normal(0,1,1000)\n",
    "\n",
    "res_uniform = analyse_sequence(uniform_seq ,tests=tes , name='uniform_sequence')\n",
    "res_non_uniform = analyse_sequence(non_uniform ,tests=tes , name='non_uniform_sequence')\n",
    "\n",
    "res_uniform.save_all('Analyse')\n",
    "res_non_uniform.save_all('Analyse')"
   ]
  },
  {
   "cell_type": "code",
   "execution_count": 9,
   "metadata": {},
   "outputs": [
    {
     "data": {
      "text/markdown": [
       "# Rapport d'analyse : non_uniform_sequence\n",
       "\n",
       "## Statistiques globales\n",
       "\n",
       "\n",
       "{\n",
       "  \"mean_p_value\": 0.1465,\n",
       "  \"median_p_value\": 0.0,\n",
       "  \"accept_ratio\": 0.1667,\n",
       "  \"rejection_ratio\": 0.8333,\n",
       "  \"std_p_value\": 0.3589,\n",
       "  \"alpha\": 0.05\n",
       "}\n",
       "## \n",
       "Interprétation:\n",
       "\n",
       "- Conformité faible (p-value moyenne: 0.147)\n",
       "- Taux d'acceptation trop bas (16.7% vs 95.0% attendu)\n"
      ],
      "text/plain": [
       "<IPython.core.display.Markdown object>"
      ]
     },
     "metadata": {},
     "output_type": "display_data"
    }
   ],
   "source": [
    "display(Markdown(res_non_uniform.generate_report()))"
   ]
  },
  {
   "cell_type": "code",
   "execution_count": 10,
   "metadata": {},
   "outputs": [
    {
     "data": {
      "text/markdown": [
       "# Rapport d'analyse : uniform_sequence\n",
       "\n",
       "## Statistiques globales\n",
       "\n",
       "\n",
       "{\n",
       "  \"mean_p_value\": 0.7078,\n",
       "  \"median_p_value\": 0.8889,\n",
       "  \"accept_ratio\": 0.8333,\n",
       "  \"rejection_ratio\": 0.1667,\n",
       "  \"std_p_value\": 0.39,\n",
       "  \"alpha\": 0.05\n",
       "}\n",
       "## \n",
       "Interprétation:\n",
       "\n",
       "- Excellente conformité (p-value moyenne: 0.708)\n",
       "- Taux d'acceptation trop bas (83.3% vs 95.0% attendu)\n"
      ],
      "text/plain": [
       "<IPython.core.display.Markdown object>"
      ]
     },
     "metadata": {},
     "output_type": "display_data"
    }
   ],
   "source": [
    "display(Markdown(res_uniform.generate_report()))"
   ]
  },
  {
   "cell_type": "markdown",
   "metadata": {},
   "source": [
    "# Analyse des générateurs\n"
   ]
  },
  {
   "cell_type": "code",
   "execution_count": 11,
   "metadata": {},
   "outputs": [
    {
     "ename": "KeyError",
     "evalue": "'accept'",
     "output_type": "error",
     "traceback": [
      "\u001b[1;31m---------------------------------------------------------------------------\u001b[0m",
      "\u001b[1;31mKeyError\u001b[0m                                  Traceback (most recent call last)",
      "File \u001b[1;32mc:\\Users\\lance\\AppData\\Local\\Programs\\Python\\Python313\\Lib\\site-packages\\pandas\\core\\indexes\\base.py:3805\u001b[0m, in \u001b[0;36mIndex.get_loc\u001b[1;34m(self, key)\u001b[0m\n\u001b[0;32m   3804\u001b[0m \u001b[38;5;28;01mtry\u001b[39;00m:\n\u001b[1;32m-> 3805\u001b[0m     \u001b[38;5;28;01mreturn\u001b[39;00m \u001b[38;5;28;43mself\u001b[39;49m\u001b[38;5;241;43m.\u001b[39;49m\u001b[43m_engine\u001b[49m\u001b[38;5;241;43m.\u001b[39;49m\u001b[43mget_loc\u001b[49m\u001b[43m(\u001b[49m\u001b[43mcasted_key\u001b[49m\u001b[43m)\u001b[49m\n\u001b[0;32m   3806\u001b[0m \u001b[38;5;28;01mexcept\u001b[39;00m \u001b[38;5;167;01mKeyError\u001b[39;00m \u001b[38;5;28;01mas\u001b[39;00m err:\n",
      "File \u001b[1;32mindex.pyx:167\u001b[0m, in \u001b[0;36mpandas._libs.index.IndexEngine.get_loc\u001b[1;34m()\u001b[0m\n",
      "File \u001b[1;32mindex.pyx:196\u001b[0m, in \u001b[0;36mpandas._libs.index.IndexEngine.get_loc\u001b[1;34m()\u001b[0m\n",
      "File \u001b[1;32mpandas\\\\_libs\\\\hashtable_class_helper.pxi:7081\u001b[0m, in \u001b[0;36mpandas._libs.hashtable.PyObjectHashTable.get_item\u001b[1;34m()\u001b[0m\n",
      "File \u001b[1;32mpandas\\\\_libs\\\\hashtable_class_helper.pxi:7089\u001b[0m, in \u001b[0;36mpandas._libs.hashtable.PyObjectHashTable.get_item\u001b[1;34m()\u001b[0m\n",
      "\u001b[1;31mKeyError\u001b[0m: 'accept'",
      "\nThe above exception was the direct cause of the following exception:\n",
      "\u001b[1;31mKeyError\u001b[0m                                  Traceback (most recent call last)",
      "Cell \u001b[1;32mIn[11], line 1\u001b[0m\n\u001b[1;32m----> 1\u001b[0m res_ogen \u001b[38;5;241m=\u001b[39m \u001b[43mevaluate_generator\u001b[49m\u001b[43m(\u001b[49m\u001b[43mogen\u001b[49m\u001b[43m)\u001b[49m\n",
      "File \u001b[1;32mc:\\Users\\lance\\OneDrive\\Documents\\Cours\\Simulation\\2024-2025\\ProjetSimulation\\src\\Analysing.py:444\u001b[0m, in \u001b[0;36mevaluate_generator\u001b[1;34m(generator, tests, alpha, n_repeat, seq_len)\u001b[0m\n\u001b[0;32m    437\u001b[0m     all_results\u001b[38;5;241m.\u001b[39mappend(res\u001b[38;5;241m.\u001b[39mstats)\n\u001b[0;32m    439\u001b[0m df \u001b[38;5;241m=\u001b[39m DataFrame(all_results)\n\u001b[0;32m    441\u001b[0m stats \u001b[38;5;241m=\u001b[39m {\n\u001b[0;32m    442\u001b[0m     \u001b[38;5;124m\"\u001b[39m\u001b[38;5;124mmean_p_value\u001b[39m\u001b[38;5;124m\"\u001b[39m:df[\u001b[38;5;124m\"\u001b[39m\u001b[38;5;124mmean_p_value\u001b[39m\u001b[38;5;124m\"\u001b[39m]\u001b[38;5;241m.\u001b[39mmean(),\n\u001b[0;32m    443\u001b[0m     \u001b[38;5;124m\"\u001b[39m\u001b[38;5;124mstd_p_value\u001b[39m\u001b[38;5;124m\"\u001b[39m:df[\u001b[38;5;124m\"\u001b[39m\u001b[38;5;124mmean_p_value\u001b[39m\u001b[38;5;124m\"\u001b[39m]\u001b[38;5;241m.\u001b[39mstd(),\n\u001b[1;32m--> 444\u001b[0m     \u001b[38;5;124m\"\u001b[39m\u001b[38;5;124maccept_ratio\u001b[39m\u001b[38;5;124m\"\u001b[39m:\u001b[43mdf\u001b[49m\u001b[43m[\u001b[49m\u001b[38;5;124;43m\"\u001b[39;49m\u001b[38;5;124;43maccept\u001b[39;49m\u001b[38;5;124;43m\"\u001b[39;49m\u001b[43m]\u001b[49m\u001b[38;5;241m.\u001b[39mmean(),\n\u001b[0;32m    445\u001b[0m     \u001b[38;5;124m\"\u001b[39m\u001b[38;5;124mrejection_ratio\u001b[39m\u001b[38;5;124m\"\u001b[39m: \u001b[38;5;241m1\u001b[39m \u001b[38;5;241m-\u001b[39m df[\u001b[38;5;124m\"\u001b[39m\u001b[38;5;124maccept\u001b[39m\u001b[38;5;124m\"\u001b[39m]\u001b[38;5;241m.\u001b[39mmean(),\n\u001b[0;32m    446\u001b[0m     }\n\u001b[0;32m    448\u001b[0m \u001b[38;5;28;01mreturn\u001b[39;00m EvaluationResult(hist_df\u001b[38;5;241m=\u001b[39mdf ,\n\u001b[0;32m    449\u001b[0m                         generator_name\u001b[38;5;241m=\u001b[39m\u001b[38;5;28mstr\u001b[39m(generator),\n\u001b[0;32m    450\u001b[0m                         stats\u001b[38;5;241m=\u001b[39mstats,\n\u001b[0;32m    451\u001b[0m                         window_sizes\u001b[38;5;241m=\u001b[39mwindow_sizes\n\u001b[0;32m    452\u001b[0m         )\n",
      "File \u001b[1;32mc:\\Users\\lance\\AppData\\Local\\Programs\\Python\\Python313\\Lib\\site-packages\\pandas\\core\\frame.py:4102\u001b[0m, in \u001b[0;36mDataFrame.__getitem__\u001b[1;34m(self, key)\u001b[0m\n\u001b[0;32m   4100\u001b[0m \u001b[38;5;28;01mif\u001b[39;00m \u001b[38;5;28mself\u001b[39m\u001b[38;5;241m.\u001b[39mcolumns\u001b[38;5;241m.\u001b[39mnlevels \u001b[38;5;241m>\u001b[39m \u001b[38;5;241m1\u001b[39m:\n\u001b[0;32m   4101\u001b[0m     \u001b[38;5;28;01mreturn\u001b[39;00m \u001b[38;5;28mself\u001b[39m\u001b[38;5;241m.\u001b[39m_getitem_multilevel(key)\n\u001b[1;32m-> 4102\u001b[0m indexer \u001b[38;5;241m=\u001b[39m \u001b[38;5;28;43mself\u001b[39;49m\u001b[38;5;241;43m.\u001b[39;49m\u001b[43mcolumns\u001b[49m\u001b[38;5;241;43m.\u001b[39;49m\u001b[43mget_loc\u001b[49m\u001b[43m(\u001b[49m\u001b[43mkey\u001b[49m\u001b[43m)\u001b[49m\n\u001b[0;32m   4103\u001b[0m \u001b[38;5;28;01mif\u001b[39;00m is_integer(indexer):\n\u001b[0;32m   4104\u001b[0m     indexer \u001b[38;5;241m=\u001b[39m [indexer]\n",
      "File \u001b[1;32mc:\\Users\\lance\\AppData\\Local\\Programs\\Python\\Python313\\Lib\\site-packages\\pandas\\core\\indexes\\base.py:3812\u001b[0m, in \u001b[0;36mIndex.get_loc\u001b[1;34m(self, key)\u001b[0m\n\u001b[0;32m   3807\u001b[0m     \u001b[38;5;28;01mif\u001b[39;00m \u001b[38;5;28misinstance\u001b[39m(casted_key, \u001b[38;5;28mslice\u001b[39m) \u001b[38;5;129;01mor\u001b[39;00m (\n\u001b[0;32m   3808\u001b[0m         \u001b[38;5;28misinstance\u001b[39m(casted_key, abc\u001b[38;5;241m.\u001b[39mIterable)\n\u001b[0;32m   3809\u001b[0m         \u001b[38;5;129;01mand\u001b[39;00m \u001b[38;5;28many\u001b[39m(\u001b[38;5;28misinstance\u001b[39m(x, \u001b[38;5;28mslice\u001b[39m) \u001b[38;5;28;01mfor\u001b[39;00m x \u001b[38;5;129;01min\u001b[39;00m casted_key)\n\u001b[0;32m   3810\u001b[0m     ):\n\u001b[0;32m   3811\u001b[0m         \u001b[38;5;28;01mraise\u001b[39;00m InvalidIndexError(key)\n\u001b[1;32m-> 3812\u001b[0m     \u001b[38;5;28;01mraise\u001b[39;00m \u001b[38;5;167;01mKeyError\u001b[39;00m(key) \u001b[38;5;28;01mfrom\u001b[39;00m\u001b[38;5;250m \u001b[39m\u001b[38;5;21;01merr\u001b[39;00m\n\u001b[0;32m   3813\u001b[0m \u001b[38;5;28;01mexcept\u001b[39;00m \u001b[38;5;167;01mTypeError\u001b[39;00m:\n\u001b[0;32m   3814\u001b[0m     \u001b[38;5;66;03m# If we have a listlike key, _check_indexing_error will raise\u001b[39;00m\n\u001b[0;32m   3815\u001b[0m     \u001b[38;5;66;03m#  InvalidIndexError. Otherwise we fall through and re-raise\u001b[39;00m\n\u001b[0;32m   3816\u001b[0m     \u001b[38;5;66;03m#  the TypeError.\u001b[39;00m\n\u001b[0;32m   3817\u001b[0m     \u001b[38;5;28mself\u001b[39m\u001b[38;5;241m.\u001b[39m_check_indexing_error(key)\n",
      "\u001b[1;31mKeyError\u001b[0m: 'accept'"
     ]
    }
   ],
   "source": [
    "res_ogen = evaluate_generator(ogen)\n"
   ]
  },
  {
   "cell_type": "code",
   "execution_count": null,
   "metadata": {},
   "outputs": [],
   "source": []
  },
  {
   "cell_type": "markdown",
   "metadata": {},
   "source": [
    "#"
   ]
  }
 ],
 "metadata": {
  "kernelspec": {
   "display_name": "Python 3",
   "language": "python",
   "name": "python3"
  },
  "language_info": {
   "codemirror_mode": {
    "name": "ipython",
    "version": 3
   },
   "file_extension": ".py",
   "mimetype": "text/x-python",
   "name": "python",
   "nbconvert_exporter": "python",
   "pygments_lexer": "ipython3",
   "version": "3.13.3"
  }
 },
 "nbformat": 4,
 "nbformat_minor": 2
}
