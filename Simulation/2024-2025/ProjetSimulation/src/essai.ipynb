{
 "cells": [
  {
   "cell_type": "code",
   "execution_count": 1,
   "metadata": {},
   "outputs": [],
   "source": [
    "# -*- coding: utf-8 -*-\n",
    "# 📌 1️⃣ IMPORTS\n",
    "\n",
    "from modules.Utils import read_decimal_file\n",
    "from modules.Analysing import analyse_sequence , evaluate_generator\n",
    "from modules.Generators import PythonGenerator, OurGenerator\n",
    "from modules.Tests import Chi2Test, GapTest, MaximumTest, KSTest, PokerTest, CouponCollectorTest\n",
    "import numpy as np\n",
    "import pandas as pd\n",
    "import seaborn as sns\n",
    "import matplotlib.pyplot as plt\n"
   ]
  },
  {
   "cell_type": "code",
   "execution_count": 2,
   "metadata": {},
   "outputs": [],
   "source": [
    "# ===============================================\n",
    "# 📌 2️⃣ PARAMÈTRES\n",
    "# ===============================================\n",
    "DECIMAL_FILE = \"data/e2M.txt\"\n",
    "GRANULARITIES = [1000, 10000, 50000 , 100000]  # tailles des portions pour analyse locale\n",
    "ALPHA = 0.05\n",
    "TESTS = [Chi2Test(), GapTest(), MaximumTest(), KSTest(), PokerTest(), CouponCollectorTest()]\n",
    "\n",
    "N_GEN = 100000  # taille d'une séquence générée\n",
    "K_ITER = 100    # nombre de répétitions pour évaluer les générateurs\n",
    "\n"
   ]
  },
  {
   "cell_type": "code",
   "execution_count": 3,
   "metadata": {},
   "outputs": [
    {
     "name": "stdout",
     "output_type": "stream",
     "text": [
      "Longueur totale des décimales de e : 2000000\n"
     ]
    }
   ],
   "source": [
    "# =================================================\n",
    "# 📌 3️⃣ LECTURE ET PRÉPARATION DES DÉCIMALES DE e\n",
    "# =================================================\n",
    "# => Récupération des 2M décimales en entiers (0-9)\n",
    "decimals_e = read_decimal_file(DECIMAL_FILE)\n",
    "print(f\"Longueur totale des décimales de e : {len(decimals_e)}\")\n"
   ]
  },
  {
   "cell_type": "code",
   "execution_count": 6,
   "metadata": {},
   "outputs": [
    {
     "name": "stdout",
     "output_type": "stream",
     "text": [
      "\n",
      "✅ Analyse globale et par granularités des décimales de e terminée !\n"
     ]
    }
   ],
   "source": [
    "# ===============================================\n",
    "# 📌 4️⃣ ANALYSE DE LA SÉQUENCE COMPLÈTE DES DÉCIMALES\n",
    "# ===============================================\n",
    "# => Séquence globale\n",
    "global_res = analyse_sequence(\n",
    "    sequence=decimals_e,\n",
    "    tests=TESTS,\n",
    "    alpha=ALPHA,\n",
    "    granularities=None\n",
    ")\n",
    "\n",
    "# => Séquence par portions de granularités\n",
    "granular_res = analyse_sequence(\n",
    "    sequence=decimals_e,\n",
    "    tests=TESTS,\n",
    "    alpha=ALPHA,\n",
    "    granularities=GRANULARITIES\n",
    ")\n",
    "\n",
    "print(\"\\n✅ Analyse globale et par granularités des décimales de e terminée !\")\n",
    "\n"
   ]
  },
  {
   "cell_type": "code",
   "execution_count": 7,
   "metadata": {},
   "outputs": [
    {
     "name": "stdout",
     "output_type": "stream",
     "text": [
      "✅ Évaluation Python Generator terminée.\n",
      "✅ Évaluation Our Generator terminée.\n"
     ]
    }
   ],
   "source": [
    "# ===============================================\n",
    "# 📌 6️⃣ ÉVALUATION DES GÉNÉRATEURS\n",
    "# ===============================================\n",
    "\n",
    "# Création des générateurs\n",
    "gen_python = PythonGenerator()\n",
    "gen_our = OurGenerator(decimals=decimals_e)\n",
    "\n",
    "# Évaluation Python Generator\n",
    "df_python = evaluate_generator(gen_python,\n",
    "                            granularities=GRANULARITIES,\n",
    "                            seq_len=N_GEN,\n",
    "                            n_repeat=K_ITER,\n",
    "                            tests=TESTS,\n",
    "                            alpha=ALPHA)\n",
    "print(\"✅ Évaluation Python Generator terminée.\")\n",
    "\n",
    "# Évaluation Our Generator\n",
    "df_our = evaluate_generator(gen_our,\n",
    "                            granularities=GRANULARITIES,\n",
    "                            seq_len=N_GEN,\n",
    "                            n_repeat=K_ITER,\n",
    "                            tests=TESTS,\n",
    "                            alpha=ALPHA)\n",
    "print(\"✅ Évaluation Our Generator terminée.\")\n"
   ]
  },
  {
   "cell_type": "code",
   "execution_count": null,
   "metadata": {},
   "outputs": [
    {
     "name": "stdout",
     "output_type": "stream",
     "text": [
      "\n",
      "📁 Résultats sauvegardés dans 'comparison_results.csv'\n"
     ]
    }
   ],
   "source": [
    "\n",
    "# Fusion des résultats\n",
    "df_comparison = pd.concat([df_python.hist_df, df_our.hist_df], ignore_index=True)\n",
    "\n",
    "# Sauvegarde\n",
    "df_comparison.to_csv(\"comparison_results.csv\", index=False)\n",
    "\n",
    "print(\"\\n Résultats sauvegardés dans 'comparison_results.csv'\")\n"
   ]
  },
  {
   "cell_type": "code",
   "execution_count": null,
   "metadata": {},
   "outputs": [],
   "source": [
    "# ===============================================\n",
    "# 📌 7️⃣ VISUALISATION : Taux de rejet par test et par générateur\n",
    "# ===============================================\n",
    "summary = df_comparison.groupby([\"Generator\", \"Test\"])[\"Reject_H0\"].mean().reset_index()\n",
    "summary[\"Rejection_Rate (%)\"] = summary[\"Reject_H0\"] * 100\n",
    "\n",
    "plt.figure(figsize=(12, 6))\n",
    "sns.barplot(data=summary, x=\"Test\", y=\"Rejection_Rate (%)\", hue=\"Generator\")\n",
    "plt.title(\"📊 Taux de rejet H0 par test statistique et par générateur\")\n",
    "plt.xticks(rotation=45)\n",
    "plt.tight_layout()\n",
    "plt.show()\n",
    "\n",
    "print(\"\\n✅ Pipeline complet terminé ! Tu peux inclure le CSV et le graphique dans ton rapport.\")\n"
   ]
  }
 ],
 "metadata": {
  "kernelspec": {
   "display_name": "Python 3",
   "language": "python",
   "name": "python3"
  },
  "language_info": {
   "codemirror_mode": {
    "name": "ipython",
    "version": 3
   },
   "file_extension": ".py",
   "mimetype": "text/x-python",
   "name": "python",
   "nbconvert_exporter": "python",
   "pygments_lexer": "ipython3",
   "version": "3.13.3"
  }
 },
 "nbformat": 4,
 "nbformat_minor": 2
}
